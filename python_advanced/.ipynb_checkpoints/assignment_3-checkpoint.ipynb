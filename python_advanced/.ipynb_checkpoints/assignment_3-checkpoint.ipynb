{
 "cells": [
  {
   "cell_type": "markdown",
   "id": "1544f356",
   "metadata": {},
   "source": [
    "# Question 1\n",
    "    What is the concept of an abstract superclass?"
   ]
  },
  {
   "cell_type": "markdown",
   "id": "9731dd76",
   "metadata": {},
   "source": [
    "     Abstract superclasses are used to provide a common interface for different implementations of a component. The subclass which inherits the abstract superclass should have the method with same name as abstract method in superclass. This method in subclass should overwrite the method in superclass\n",
    "     \n",
    "     abc module is imported to define custom abstract classes. @abstractmethod decorator is used to define abstract methods.If a class one or more abstract methods it is called as abstract class\n",
    "     \n",
    "     The abc.ABCMeta class is necessary to actually enforce the abstractmethod behaviour."
   ]
  },
  {
   "cell_type": "code",
   "execution_count": 7,
   "id": "7702b035",
   "metadata": {},
   "outputs": [],
   "source": [
    "from abc import abstractmethod,ABCMeta\n",
    "\n",
    "class Shape(metaclass=ABCMeta):\n",
    "    @abstractmethod\n",
    "    def area(self):\n",
    "        pass\n",
    "\n",
    "class Rectangle(Shape):\n",
    "    def __init__(self,length,breadth):\n",
    "        self.length=length\n",
    "        self.breadth=breadth"
   ]
  },
  {
   "cell_type": "code",
   "execution_count": 8,
   "id": "3f093cb9",
   "metadata": {},
   "outputs": [
    {
     "ename": "TypeError",
     "evalue": "Can't instantiate abstract class Rectangle with abstract method area",
     "output_type": "error",
     "traceback": [
      "\u001b[1;31m---------------------------------------------------------------------------\u001b[0m",
      "\u001b[1;31mTypeError\u001b[0m                                 Traceback (most recent call last)",
      "Input \u001b[1;32mIn [8]\u001b[0m, in \u001b[0;36m<cell line: 1>\u001b[1;34m()\u001b[0m\n\u001b[1;32m----> 1\u001b[0m r\u001b[38;5;241m=\u001b[39m\u001b[43mRectangle\u001b[49m\u001b[43m(\u001b[49m\u001b[38;5;241;43m10\u001b[39;49m\u001b[43m,\u001b[49m\u001b[38;5;241;43m20\u001b[39;49m\u001b[43m)\u001b[49m\n",
      "\u001b[1;31mTypeError\u001b[0m: Can't instantiate abstract class Rectangle with abstract method area"
     ]
    }
   ],
   "source": [
    "r=Rectangle(10,20)"
   ]
  },
  {
   "cell_type": "markdown",
   "id": "9bda1ab6",
   "metadata": {},
   "source": [
    "    Error as Rectangle class in not implementing abstract method of it superclass"
   ]
  },
  {
   "cell_type": "code",
   "execution_count": 13,
   "id": "ed842f3e",
   "metadata": {},
   "outputs": [],
   "source": [
    "class Rectangle(Shape):\n",
    "    def __init__(self,length,breadth):\n",
    "        self.length=length\n",
    "        self.breadth=breadth\n",
    "        \n",
    "    def area(self):\n",
    "        return self.length*self.breadth"
   ]
  },
  {
   "cell_type": "code",
   "execution_count": 14,
   "id": "208e47a0",
   "metadata": {},
   "outputs": [
    {
     "data": {
      "text/plain": [
       "200"
      ]
     },
     "execution_count": 14,
     "metadata": {},
     "output_type": "execute_result"
    }
   ],
   "source": [
    "r=Rectangle(10,20)\n",
    "r.area()"
   ]
  },
  {
   "cell_type": "markdown",
   "id": "abbd033e",
   "metadata": {},
   "source": [
    "# Question 2\n",
    "    What happens when a class statement's top level contains a basic assignment statement?"
   ]
  },
  {
   "cell_type": "markdown",
   "id": "dea8b868",
   "metadata": {},
   "source": [
    "    If top level class statement's contains a basic assignment statement they are considered as class attributes and will be shared by all the instances when they are created"
   ]
  },
  {
   "cell_type": "code",
   "execution_count": 16,
   "id": "837d749b",
   "metadata": {},
   "outputs": [],
   "source": [
    "class Rectangle():\n",
    "    length=10\n",
    "    \n",
    "    def __init__(self,breadth):\n",
    "        self.breadth=breadth"
   ]
  },
  {
   "cell_type": "code",
   "execution_count": 18,
   "id": "24e7213b",
   "metadata": {},
   "outputs": [
    {
     "name": "stdout",
     "output_type": "stream",
     "text": [
      "10\n",
      "20\n"
     ]
    }
   ],
   "source": [
    "r1=Rectangle(20)\n",
    "print(r1.length)\n",
    "print(r1.breadth)"
   ]
  },
  {
   "cell_type": "code",
   "execution_count": 19,
   "id": "e9404e6a",
   "metadata": {},
   "outputs": [
    {
     "name": "stdout",
     "output_type": "stream",
     "text": [
      "10\n",
      "30\n"
     ]
    }
   ],
   "source": [
    "r2=Rectangle(30)\n",
    "print(r2.length)\n",
    "print(r2.breadth)"
   ]
  },
  {
   "cell_type": "markdown",
   "id": "423d88f0",
   "metadata": {},
   "source": [
    "# Question 3\n",
    "    Why does a class need to manually call a superclass's __init__ method?"
   ]
  },
  {
   "cell_type": "markdown",
   "id": "7ffa312b",
   "metadata": {},
   "source": [
    "        to initialize the superclass's __init__ method so the subclass can start using superclasses instance attributes as\n",
    "        some methods of super class can depend on the instance attributes"
   ]
  },
  {
   "cell_type": "code",
   "execution_count": 38,
   "id": "c19a0c31",
   "metadata": {},
   "outputs": [],
   "source": [
    "class Shape():\n",
    "    \n",
    "    def __init__(self,breadth):\n",
    "        self.length=10\n",
    "        self.breadth=breadth\n",
    "        \n",
    "    def getArea(self):\n",
    "        return self.length*self.breadth\n",
    "    \n",
    "class Square(Shape):\n",
    "    def __init__(self,length):\n",
    "        super().__init__(length)\n",
    "        \n",
    "class Rectangle(Shape):\n",
    "    def __init__(self,breadth):\n",
    "        self.breadth=breadth\n"
   ]
  },
  {
   "cell_type": "code",
   "execution_count": 40,
   "id": "29a4ff86",
   "metadata": {},
   "outputs": [
    {
     "data": {
      "text/plain": [
       "100"
      ]
     },
     "execution_count": 40,
     "metadata": {},
     "output_type": "execute_result"
    }
   ],
   "source": [
    "s=Square(10)\n",
    "s.getArea()  #if we didnt manually call a superclass's __init__ getArea function would not have worked"
   ]
  },
  {
   "cell_type": "code",
   "execution_count": 41,
   "id": "52c2b345",
   "metadata": {},
   "outputs": [
    {
     "ename": "AttributeError",
     "evalue": "'Rectangle' object has no attribute 'length'",
     "output_type": "error",
     "traceback": [
      "\u001b[1;31m---------------------------------------------------------------------------\u001b[0m",
      "\u001b[1;31mAttributeError\u001b[0m                            Traceback (most recent call last)",
      "Input \u001b[1;32mIn [41]\u001b[0m, in \u001b[0;36m<cell line: 2>\u001b[1;34m()\u001b[0m\n\u001b[0;32m      1\u001b[0m r\u001b[38;5;241m=\u001b[39mRectangle(\u001b[38;5;241m20\u001b[39m)\n\u001b[1;32m----> 2\u001b[0m \u001b[43mr\u001b[49m\u001b[38;5;241;43m.\u001b[39;49m\u001b[43mgetArea\u001b[49m\u001b[43m(\u001b[49m\u001b[43m)\u001b[49m\n",
      "Input \u001b[1;32mIn [38]\u001b[0m, in \u001b[0;36mShape.getArea\u001b[1;34m(self)\u001b[0m\n\u001b[0;32m      7\u001b[0m \u001b[38;5;28;01mdef\u001b[39;00m \u001b[38;5;21mgetArea\u001b[39m(\u001b[38;5;28mself\u001b[39m):\n\u001b[1;32m----> 8\u001b[0m     \u001b[38;5;28;01mreturn\u001b[39;00m \u001b[38;5;28;43mself\u001b[39;49m\u001b[38;5;241;43m.\u001b[39;49m\u001b[43mlength\u001b[49m\u001b[38;5;241m*\u001b[39m\u001b[38;5;28mself\u001b[39m\u001b[38;5;241m.\u001b[39mbreadth\n",
      "\u001b[1;31mAttributeError\u001b[0m: 'Rectangle' object has no attribute 'length'"
     ]
    }
   ],
   "source": [
    "r=Rectangle(20)\n",
    "r.getArea()"
   ]
  },
  {
   "cell_type": "markdown",
   "id": "21242914",
   "metadata": {},
   "source": [
    "# Question 4\n",
    "    How can you augment, instead of completely replacing, an inherited method?"
   ]
  },
  {
   "cell_type": "markdown",
   "id": "fcd4638b",
   "metadata": {},
   "source": [
    "    Storing the function into another variable during the initializing process of the class might work."
   ]
  },
  {
   "cell_type": "code",
   "execution_count": 58,
   "id": "5fca8b23",
   "metadata": {},
   "outputs": [],
   "source": [
    "class Shape():\n",
    "    def info(self):\n",
    "        print('I dont know what i am specifically but for sure i am a shape')\n",
    "        \n",
    "class Rectangle(Shape):\n",
    "    def __init__(self):\n",
    "        self.temp=Shape.info\n",
    "        \n",
    "    def info(self):\n",
    "        print('I am a Rectangle')\n",
    "        "
   ]
  },
  {
   "cell_type": "code",
   "execution_count": 59,
   "id": "b6e22b65",
   "metadata": {},
   "outputs": [],
   "source": [
    "r=Rectangle()"
   ]
  },
  {
   "cell_type": "code",
   "execution_count": 60,
   "id": "89050aa4",
   "metadata": {},
   "outputs": [
    {
     "name": "stdout",
     "output_type": "stream",
     "text": [
      "I am a Rectangle\n"
     ]
    }
   ],
   "source": [
    "r.info()"
   ]
  },
  {
   "cell_type": "code",
   "execution_count": 63,
   "id": "381b3a40",
   "metadata": {},
   "outputs": [
    {
     "name": "stdout",
     "output_type": "stream",
     "text": [
      "I dont know what i am specifically but for sure i am a shape\n"
     ]
    }
   ],
   "source": [
    "r.temp(r)"
   ]
  },
  {
   "cell_type": "markdown",
   "id": "abb7c167",
   "metadata": {},
   "source": [
    "# Question 5\n",
    "    How is the local scope of a class different from that of a function?"
   ]
  },
  {
   "cell_type": "markdown",
   "id": "a364bdf5",
   "metadata": {},
   "source": [
    "    class attributes can be accessed by class name or with the instance if one is created they act as if they have global scope, their value will not change.Where as instance variable are restricted to their specific instance"
   ]
  },
  {
   "cell_type": "code",
   "execution_count": 1,
   "id": "dc4286de",
   "metadata": {},
   "outputs": [],
   "source": [
    "class Shape():\n",
    "    length=10 #class attribute\n",
    "    def __init__(self,breadth):\n",
    "        self.breadth=breadth  #instance variable"
   ]
  },
  {
   "cell_type": "code",
   "execution_count": 6,
   "id": "250e5cf8",
   "metadata": {},
   "outputs": [
    {
     "data": {
      "text/plain": [
       "10"
      ]
     },
     "execution_count": 6,
     "metadata": {},
     "output_type": "execute_result"
    }
   ],
   "source": [
    "Shape.length #accessing class attribute without instance variable"
   ]
  },
  {
   "cell_type": "code",
   "execution_count": 10,
   "id": "13b1f500",
   "metadata": {},
   "outputs": [
    {
     "name": "stdout",
     "output_type": "stream",
     "text": [
      "10\n"
     ]
    },
    {
     "data": {
      "text/plain": [
       "15"
      ]
     },
     "execution_count": 10,
     "metadata": {},
     "output_type": "execute_result"
    }
   ],
   "source": [
    "s1=Shape(15)\n",
    "print(s1.length) #can be accessed with instance but value is same\n",
    "s1.breadth"
   ]
  },
  {
   "cell_type": "code",
   "execution_count": 11,
   "id": "c2745391",
   "metadata": {},
   "outputs": [
    {
     "name": "stdout",
     "output_type": "stream",
     "text": [
      "10\n"
     ]
    },
    {
     "data": {
      "text/plain": [
       "30"
      ]
     },
     "execution_count": 11,
     "metadata": {},
     "output_type": "execute_result"
    }
   ],
   "source": [
    "s2=Shape(30)\n",
    "print(s2.length) #can be accessed with instance but value is same\n",
    "s2.breadth"
   ]
  }
 ],
 "metadata": {
  "kernelspec": {
   "display_name": "Python 3 (ipykernel)",
   "language": "python",
   "name": "python3"
  },
  "language_info": {
   "codemirror_mode": {
    "name": "ipython",
    "version": 3
   },
   "file_extension": ".py",
   "mimetype": "text/x-python",
   "name": "python",
   "nbconvert_exporter": "python",
   "pygments_lexer": "ipython3",
   "version": "3.9.12"
  }
 },
 "nbformat": 4,
 "nbformat_minor": 5
}
