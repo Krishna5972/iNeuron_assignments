{
 "cells": [
  {
   "cell_type": "markdown",
   "id": "f80e2f99",
   "metadata": {},
   "source": [
    "# Question 1\n",
    "    What is the meaning of multiple inheritance?"
   ]
  },
  {
   "cell_type": "markdown",
   "id": "19cd7a1f",
   "metadata": {},
   "source": [
    "    When a class inherits from more than one class it is called as muliple inheritance"
   ]
  },
  {
   "cell_type": "code",
   "execution_count": 2,
   "id": "da0082ef",
   "metadata": {},
   "outputs": [],
   "source": [
    "class Father:\n",
    "    fathername='father'\n",
    "    def __init__(self,name=fathername):\n",
    "        self.fathername=name\n",
    "    \n",
    "class Mother:\n",
    "    mothername='mother'\n",
    "    def __init__(self,name=mothername):\n",
    "        self.mothername=name\n",
    "\n",
    "class offspring(Father,Mother):  #multiple inheritence\n",
    "    def parents(self):\n",
    "        print(f'The name of the father : {self.fathername}')\n",
    "        print(f'The name of the mother :{self.mothername}')\n",
    "        \n",
    "    \n",
    "    "
   ]
  },
  {
   "cell_type": "code",
   "execution_count": 5,
   "id": "15698ba0",
   "metadata": {},
   "outputs": [
    {
     "name": "stdout",
     "output_type": "stream",
     "text": [
      "The name of the father : father\n",
      "The name of the mother :mother\n"
     ]
    }
   ],
   "source": [
    "o=offspring()\n",
    "o.parents()"
   ]
  },
  {
   "cell_type": "markdown",
   "id": "a85dd5c1",
   "metadata": {},
   "source": [
    "# Question 2\n",
    "    What is the concept of delegation?\n",
    "    "
   ]
  },
  {
   "cell_type": "markdown",
   "id": "e39ea931",
   "metadata": {},
   "source": [
    " Delegation is a design pattern where __getattr__ returns the object of another class. __getattr__ is called when an attribute lookup has not found the attribute in the usual places"
   ]
  },
  {
   "cell_type": "code",
   "execution_count": 53,
   "id": "33e6a157",
   "metadata": {},
   "outputs": [
    {
     "data": {
      "text/plain": [
       "'parent'"
      ]
     },
     "execution_count": 53,
     "metadata": {},
     "output_type": "execute_result"
    }
   ],
   "source": [
    "class DelegatorParent():\n",
    "\n",
    "    def myMethod(self):\n",
    "        return 'parent'    \n",
    "\n",
    "\n",
    "\n",
    "\n",
    "class Delegator():\n",
    "\n",
    "    def __init__(self):\n",
    "        self.delegatee = DelegatorParent()\n",
    "\n",
    "    def __getattr__(self, attrname):\n",
    "        return getattr(self.delegatee, attrname)\n",
    "\n",
    "a = Delegator()\n",
    "a.myMethod()"
   ]
  },
  {
   "cell_type": "markdown",
   "id": "adcb26ee",
   "metadata": {},
   "source": [
    "# Question 3\n",
    "    What is the concept of composition?"
   ]
  },
  {
   "cell_type": "markdown",
   "id": "cb754b47",
   "metadata": {},
   "source": [
    "        Delegating the functionality of one class to another class is called as compositon"
   ]
  },
  {
   "cell_type": "code",
   "execution_count": 39,
   "id": "1a8ebb1b",
   "metadata": {},
   "outputs": [],
   "source": [
    "class MainClass:\n",
    "    def sayHi(self):\n",
    "        print('Hi from main class')\n",
    "        \n",
    "class AnotherClass:\n",
    "    def __init__(self):\n",
    "        \n",
    "        self.var=MainClass()\n",
    "    \n",
    "    def composition(self):\n",
    "        return self.var.sayHi()\n",
    "    \n",
    "    def sayHi(self):\n",
    "        print('Hi from another class')\n"
   ]
  },
  {
   "cell_type": "code",
   "execution_count": 40,
   "id": "0e5c7fb0",
   "metadata": {},
   "outputs": [],
   "source": [
    "a=AnotherClass()"
   ]
  },
  {
   "cell_type": "code",
   "execution_count": 41,
   "id": "853b1726",
   "metadata": {},
   "outputs": [
    {
     "name": "stdout",
     "output_type": "stream",
     "text": [
      "Hi from main class\n"
     ]
    }
   ],
   "source": [
    "a.sayHi()"
   ]
  },
  {
   "cell_type": "code",
   "execution_count": 43,
   "id": "9872582a",
   "metadata": {},
   "outputs": [
    {
     "name": "stdout",
     "output_type": "stream",
     "text": [
      "Hi from main class\n"
     ]
    }
   ],
   "source": [
    "a.composition()"
   ]
  },
  {
   "cell_type": "markdown",
   "id": "0e4af2b1",
   "metadata": {},
   "source": [
    "# Question 4\n",
    "    What are bound methods and how do we use them?"
   ]
  },
  {
   "cell_type": "markdown",
   "id": "37d89f16",
   "metadata": {},
   "source": [
    "    A bound method is the one which is dependent on the instance of the class as the first argument. It passes the instance as the first argument which is used to access the variables and functions. All functions in the class are by default bound methods.The instance obj is automatically passed as the first argument to the function called and hence the first parameter of the function will be used to access the variables/functions of the object."
   ]
  },
  {
   "cell_type": "code",
   "execution_count": 55,
   "id": "68fc4d0d",
   "metadata": {},
   "outputs": [],
   "source": [
    "class Square():\n",
    "    def area(self,length):\n",
    "        return length**2"
   ]
  },
  {
   "cell_type": "code",
   "execution_count": 56,
   "id": "b4c231f7",
   "metadata": {},
   "outputs": [],
   "source": [
    "s=Square()"
   ]
  },
  {
   "cell_type": "code",
   "execution_count": 57,
   "id": "2cec170f",
   "metadata": {},
   "outputs": [
    {
     "data": {
      "text/plain": [
       "<bound method Square.area of <__main__.Square object at 0x0000021FDC1EE670>>"
      ]
     },
     "execution_count": 57,
     "metadata": {},
     "output_type": "execute_result"
    }
   ],
   "source": [
    "s.area"
   ]
  },
  {
   "cell_type": "code",
   "execution_count": 60,
   "id": "cb98ebff",
   "metadata": {},
   "outputs": [
    {
     "data": {
      "text/plain": [
       "100"
      ]
     },
     "execution_count": 60,
     "metadata": {},
     "output_type": "execute_result"
    }
   ],
   "source": [
    "s.area(10)  # this will be converted to Square.area(s,10)"
   ]
  },
  {
   "cell_type": "markdown",
   "id": "34222ddf",
   "metadata": {},
   "source": [
    "# Question 5\n",
    "    What is the purpose of pseudoprivate attributes?"
   ]
  },
  {
   "cell_type": "markdown",
   "id": "a9c9f7d1",
   "metadata": {},
   "source": [
    "    Python's pseudo-private attributes actually implement variable name localization through variable name compression, __a indicate the variable is pseudo-private attribute"
   ]
  },
  {
   "cell_type": "code",
   "execution_count": 79,
   "id": "36b0d771",
   "metadata": {},
   "outputs": [],
   "source": [
    "class Rectangle():\n",
    "    def __init__(self,length):\n",
    "        self.__length=length\n",
    "        \n",
    "    def getLength(self):\n",
    "        return self.__length"
   ]
  },
  {
   "cell_type": "code",
   "execution_count": 80,
   "id": "48216e5c",
   "metadata": {},
   "outputs": [
    {
     "data": {
      "text/plain": [
       "<__main__.Rectangle at 0x21fdb82f040>"
      ]
     },
     "execution_count": 80,
     "metadata": {},
     "output_type": "execute_result"
    }
   ],
   "source": [
    "r=Rectangle(10)\n",
    "r"
   ]
  },
  {
   "cell_type": "code",
   "execution_count": 81,
   "id": "82f90f61",
   "metadata": {},
   "outputs": [
    {
     "ename": "AttributeError",
     "evalue": "'Rectangle' object has no attribute '__length'",
     "output_type": "error",
     "traceback": [
      "\u001b[1;31m---------------------------------------------------------------------------\u001b[0m",
      "\u001b[1;31mAttributeError\u001b[0m                            Traceback (most recent call last)",
      "Input \u001b[1;32mIn [81]\u001b[0m, in \u001b[0;36m<cell line: 1>\u001b[1;34m()\u001b[0m\n\u001b[1;32m----> 1\u001b[0m \u001b[43mr\u001b[49m\u001b[38;5;241;43m.\u001b[39;49m\u001b[43m__length\u001b[49m\n",
      "\u001b[1;31mAttributeError\u001b[0m: 'Rectangle' object has no attribute '__length'"
     ]
    }
   ],
   "source": [
    "r.__length"
   ]
  },
  {
   "cell_type": "code",
   "execution_count": 83,
   "id": "ce3eac71",
   "metadata": {},
   "outputs": [
    {
     "data": {
      "text/plain": [
       "10"
      ]
     },
     "execution_count": 83,
     "metadata": {},
     "output_type": "execute_result"
    }
   ],
   "source": [
    "r.getLength()"
   ]
  },
  {
   "cell_type": "code",
   "execution_count": 84,
   "id": "678af2fd",
   "metadata": {},
   "outputs": [
    {
     "data": {
      "text/plain": [
       "10"
      ]
     },
     "execution_count": 84,
     "metadata": {},
     "output_type": "execute_result"
    }
   ],
   "source": [
    "r._Rectangle__length  "
   ]
  }
 ],
 "metadata": {
  "kernelspec": {
   "display_name": "Python 3 (ipykernel)",
   "language": "python",
   "name": "python3"
  },
  "language_info": {
   "codemirror_mode": {
    "name": "ipython",
    "version": 3
   },
   "file_extension": ".py",
   "mimetype": "text/x-python",
   "name": "python",
   "nbconvert_exporter": "python",
   "pygments_lexer": "ipython3",
   "version": "3.9.12"
  }
 },
 "nbformat": 4,
 "nbformat_minor": 5
}
