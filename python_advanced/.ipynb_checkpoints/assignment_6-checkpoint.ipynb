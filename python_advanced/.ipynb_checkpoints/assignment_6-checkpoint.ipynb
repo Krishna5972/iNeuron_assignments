{
 "cells": [
  {
   "cell_type": "markdown",
   "id": "aa7d9258",
   "metadata": {},
   "source": [
    "# Question 1\n",
    "    Describe three applications for exception processing."
   ]
  },
  {
   "cell_type": "markdown",
   "id": "6123d905",
   "metadata": {},
   "source": [
    "        Logical errors are called as exceptions and can be handled. syntax errors should not be handled as it is better to         terminate the program\n",
    "    Exceptions are handled to preserve the flow of code.\n",
    "    They are also handled to log them in a file to check back later on\n",
    "    In some situations custom exceptions can be raised according to the need by inheriting 'Exception' class."
   ]
  },
  {
   "cell_type": "code",
   "execution_count": 7,
   "id": "a4f9787e",
   "metadata": {},
   "outputs": [
    {
     "ename": "ZeroDivisionError",
     "evalue": "division by zero",
     "output_type": "error",
     "traceback": [
      "\u001b[1;31m---------------------------------------------------------------------------\u001b[0m",
      "\u001b[1;31mZeroDivisionError\u001b[0m                         Traceback (most recent call last)",
      "Input \u001b[1;32mIn [7]\u001b[0m, in \u001b[0;36m<cell line: 3>\u001b[1;34m()\u001b[0m\n\u001b[0;32m      1\u001b[0m a\u001b[38;5;241m=\u001b[39m\u001b[38;5;241m10\u001b[39m\n\u001b[0;32m      2\u001b[0m b\u001b[38;5;241m=\u001b[39m\u001b[38;5;241m0\u001b[39m\n\u001b[1;32m----> 3\u001b[0m c\u001b[38;5;241m=\u001b[39m\u001b[43ma\u001b[49m\u001b[38;5;241;43m/\u001b[39;49m\u001b[43mb\u001b[49m\n\u001b[0;32m      4\u001b[0m \u001b[38;5;28mprint\u001b[39m(\u001b[38;5;124m'\u001b[39m\u001b[38;5;124mCode executed successfully\u001b[39m\u001b[38;5;124m'\u001b[39m)\n\u001b[0;32m      5\u001b[0m \u001b[38;5;28mprint\u001b[39m(a)\n",
      "\u001b[1;31mZeroDivisionError\u001b[0m: division by zero"
     ]
    }
   ],
   "source": [
    "a=10\n",
    "b=0\n",
    "c=a/b\n",
    "print('Code executed successfully')\n",
    "print(a)"
   ]
  },
  {
   "cell_type": "code",
   "execution_count": 5,
   "id": "79784d7a",
   "metadata": {},
   "outputs": [
    {
     "name": "stdout",
     "output_type": "stream",
     "text": [
      "Exception caught, rest of the code can be executed\n"
     ]
    }
   ],
   "source": [
    "a=10\n",
    "b=0\n",
    "try:\n",
    "    c=a/0\n",
    "except ZeroDivisionError as e:\n",
    "    print('Exception caught, rest of the code can be executed')\n",
    "else:\n",
    "    print('Code executed successfully')"
   ]
  },
  {
   "cell_type": "markdown",
   "id": "6fcdc27b",
   "metadata": {},
   "source": [
    "# Question 2\n",
    "    What happens if you don't do something extra to treat an exception?"
   ]
  },
  {
   "cell_type": "markdown",
   "id": "d676882b",
   "metadata": {},
   "source": [
    "If we dont try to do something extra the the program will be terminated"
   ]
  },
  {
   "cell_type": "code",
   "execution_count": 8,
   "id": "c5864dcb",
   "metadata": {},
   "outputs": [
    {
     "ename": "ZeroDivisionError",
     "evalue": "division by zero",
     "output_type": "error",
     "traceback": [
      "\u001b[1;31m---------------------------------------------------------------------------\u001b[0m",
      "\u001b[1;31mZeroDivisionError\u001b[0m                         Traceback (most recent call last)",
      "Input \u001b[1;32mIn [8]\u001b[0m, in \u001b[0;36m<cell line: 3>\u001b[1;34m()\u001b[0m\n\u001b[0;32m      1\u001b[0m a\u001b[38;5;241m=\u001b[39m\u001b[38;5;241m10\u001b[39m\n\u001b[0;32m      2\u001b[0m b\u001b[38;5;241m=\u001b[39m\u001b[38;5;241m0\u001b[39m\n\u001b[1;32m----> 3\u001b[0m c\u001b[38;5;241m=\u001b[39m\u001b[43ma\u001b[49m\u001b[38;5;241;43m/\u001b[39;49m\u001b[43mb\u001b[49m\n\u001b[0;32m      4\u001b[0m \u001b[38;5;28mprint\u001b[39m(\u001b[38;5;124m'\u001b[39m\u001b[38;5;124mCode executed successfully\u001b[39m\u001b[38;5;124m'\u001b[39m)\n\u001b[0;32m      5\u001b[0m \u001b[38;5;28mprint\u001b[39m(a)\n",
      "\u001b[1;31mZeroDivisionError\u001b[0m: division by zero"
     ]
    }
   ],
   "source": [
    "a=10\n",
    "b=0\n",
    "c=a/b\n",
    "print('Code executed successfully')\n",
    "print(a)"
   ]
  },
  {
   "cell_type": "markdown",
   "id": "eedba5e3",
   "metadata": {},
   "source": [
    "    print(a) statement is not executed properly"
   ]
  },
  {
   "cell_type": "markdown",
   "id": "7633deb6",
   "metadata": {},
   "source": [
    "# Question 3\n",
    "    What are your options for recovering from an exception in your script?"
   ]
  },
  {
   "cell_type": "markdown",
   "id": "fe11ee94",
   "metadata": {},
   "source": [
    "    try: except: blocks can be used to recover from an exception"
   ]
  },
  {
   "cell_type": "code",
   "execution_count": 10,
   "id": "902efc30",
   "metadata": {},
   "outputs": [
    {
     "name": "stdout",
     "output_type": "stream",
     "text": [
      "Exception caught, rest of the code can be executed\n"
     ]
    }
   ],
   "source": [
    "a=10\n",
    "b=0\n",
    "try:\n",
    "    c=a/0\n",
    "except ZeroDivisionError as e:\n",
    "    print('Exception caught, rest of the code can be executed')\n",
    "else:\n",
    "    print('Code executed successfully')"
   ]
  },
  {
   "cell_type": "markdown",
   "id": "2d64db3b",
   "metadata": {},
   "source": [
    "# Question 4\n",
    "    Describe two methods for triggering exceptions in your script.\n",
    "    \n"
   ]
  },
  {
   "cell_type": "markdown",
   "id": "4a384486",
   "metadata": {},
   "source": [
    "    try: except: blocks or raise keyword can be used to trigger exceptions"
   ]
  },
  {
   "cell_type": "code",
   "execution_count": 18,
   "id": "7ceb6233",
   "metadata": {},
   "outputs": [
    {
     "name": "stdout",
     "output_type": "stream",
     "text": [
      "ZeroDivisionError('division by zero')\n"
     ]
    }
   ],
   "source": [
    "try:\n",
    "    a=10\n",
    "    b=0\n",
    "    c=a/b\n",
    "except Exception as e:\n",
    "    print(repr(e))"
   ]
  },
  {
   "cell_type": "code",
   "execution_count": 19,
   "id": "a5bc5af2",
   "metadata": {},
   "outputs": [
    {
     "name": "stdout",
     "output_type": "stream",
     "text": [
      "ValueError()\n"
     ]
    }
   ],
   "source": [
    "try:\n",
    "    raise ValueError\n",
    "except Exception as e:\n",
    "    print(repr(e))"
   ]
  },
  {
   "cell_type": "markdown",
   "id": "8bbc6547",
   "metadata": {},
   "source": [
    "# Question 5\n",
    "    Identify two methods for specifying actions to be executed at termination time, regardless of whether or not an \n",
    "    exception exists."
   ]
  },
  {
   "cell_type": "markdown",
   "id": "cd502ca7",
   "metadata": {},
   "source": [
    "    finally block can be used to perfrom actions that are specified even if an exception exists or not."
   ]
  },
  {
   "cell_type": "code",
   "execution_count": 22,
   "id": "21da0db1",
   "metadata": {},
   "outputs": [
    {
     "name": "stdout",
     "output_type": "stream",
     "text": [
      "ZeroDivisionError('division by zero')\n",
      "Executing anyway\n"
     ]
    }
   ],
   "source": [
    "try:\n",
    "    a=10\n",
    "    b=0\n",
    "    c=a/b\n",
    "except Exception as e:\n",
    "    print(repr(e))\n",
    "finally:\n",
    "    print('Executing anyway')"
   ]
  },
  {
   "cell_type": "code",
   "execution_count": 23,
   "id": "8fbb2c92",
   "metadata": {},
   "outputs": [
    {
     "name": "stdout",
     "output_type": "stream",
     "text": [
      "Executing anyway\n"
     ]
    }
   ],
   "source": [
    "try:\n",
    "    a=10\n",
    "    b=1\n",
    "    c=a/b\n",
    "except Exception as e:\n",
    "    print(repr(e))\n",
    "finally:\n",
    "    print('Executing anyway')"
   ]
  }
 ],
 "metadata": {
  "kernelspec": {
   "display_name": "Python 3 (ipykernel)",
   "language": "python",
   "name": "python3"
  },
  "language_info": {
   "codemirror_mode": {
    "name": "ipython",
    "version": 3
   },
   "file_extension": ".py",
   "mimetype": "text/x-python",
   "name": "python",
   "nbconvert_exporter": "python",
   "pygments_lexer": "ipython3",
   "version": "3.9.12"
  }
 },
 "nbformat": 4,
 "nbformat_minor": 5
}
