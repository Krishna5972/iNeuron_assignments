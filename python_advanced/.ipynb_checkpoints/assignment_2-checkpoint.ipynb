{
 "cells": [
  {
   "cell_type": "markdown",
   "id": "6aced043",
   "metadata": {},
   "source": [
    "# Question 1\n",
    "    What is the relationship between classes and modules?"
   ]
  },
  {
   "cell_type": "markdown",
   "id": "749bc820",
   "metadata": {},
   "source": [
    "     Modules are collections of methods and constants. They cannot generate instances. Instances can be generated from\n",
    "     classes.Modules are imported for reusability using import statement. There are many predefiend modules in python like              math,os,time etc..\n"
   ]
  },
  {
   "cell_type": "code",
   "execution_count": 2,
   "id": "6a41cd8d",
   "metadata": {},
   "outputs": [
    {
     "data": {
      "text/plain": [
       "3.141592653589793"
      ]
     },
     "execution_count": 2,
     "metadata": {},
     "output_type": "execute_result"
    }
   ],
   "source": [
    "import math\n",
    "math.pi"
   ]
  },
  {
   "cell_type": "markdown",
   "id": "daa7a823",
   "metadata": {},
   "source": [
    "    we are able to use the constant variable with out initilizing a instance of math.Inorder to use the attributes of a class we need to initialize them."
   ]
  },
  {
   "cell_type": "markdown",
   "id": "25417340",
   "metadata": {},
   "source": [
    "# Question 2\n",
    "    How do you make instances and classes?"
   ]
  },
  {
   "cell_type": "markdown",
   "id": "515a5839",
   "metadata": {},
   "source": [
    "    Instances are made by using the class name and passing the required paraments the __init__ accepts. Classes are made by using class keyword and defining data members inside."
   ]
  },
  {
   "cell_type": "code",
   "execution_count": 3,
   "id": "c869b407",
   "metadata": {},
   "outputs": [],
   "source": [
    "class Circle(): #class using 'class' keyword\n",
    "    def __init__(self,radius):\n",
    "        self.radius=radius"
   ]
  },
  {
   "cell_type": "code",
   "execution_count": 5,
   "id": "0928ff3d",
   "metadata": {},
   "outputs": [
    {
     "data": {
      "text/plain": [
       "10"
      ]
     },
     "execution_count": 5,
     "metadata": {},
     "output_type": "execute_result"
    }
   ],
   "source": [
    "c=Circle(10) #c is the instance , created using the class name 'Circle'\n",
    "c.radius"
   ]
  },
  {
   "cell_type": "markdown",
   "id": "ff30edff",
   "metadata": {},
   "source": [
    "# Question 3\n",
    "     Where and how should be class attributes created?"
   ]
  },
  {
   "cell_type": "markdown",
   "id": "de8d9394",
   "metadata": {},
   "source": [
    "    Class attributes are created in the body of the class. Class attributes are shared by all the objects created using the respective class"
   ]
  },
  {
   "cell_type": "code",
   "execution_count": 17,
   "id": "7ecd89ae",
   "metadata": {},
   "outputs": [],
   "source": [
    "class Rectangle():\n",
    "    length=10 # every instance of this class will have the length value as 10, created outside the __init_ function #class attribute\n",
    "    def __init__(self,breadth):\n",
    "        self.breadth=breadth #will be created when creating the instance of the class #instance attribute\n",
    "    \n",
    "    def getArea(self):\n",
    "        return self.length*self.breadth\n",
    "    "
   ]
  },
  {
   "cell_type": "code",
   "execution_count": 18,
   "id": "8aa0441b",
   "metadata": {},
   "outputs": [
    {
     "name": "stdout",
     "output_type": "stream",
     "text": [
      "10\n",
      "5\n"
     ]
    },
    {
     "data": {
      "text/plain": [
       "50"
      ]
     },
     "execution_count": 18,
     "metadata": {},
     "output_type": "execute_result"
    }
   ],
   "source": [
    "r=Rectangle(5)\n",
    "print(r.length)\n",
    "print(r.breadth)\n",
    "r.getArea()"
   ]
  },
  {
   "cell_type": "markdown",
   "id": "b6c10246",
   "metadata": {},
   "source": [
    "# Question 4\n",
    "    Where and how are instance attributes created?"
   ]
  },
  {
   "cell_type": "markdown",
   "id": "e5323fa6",
   "metadata": {},
   "source": [
    "    Instance attributes are created when the object is created by passing the values as parameters.They are generally \n",
    "    created in the __init__ method."
   ]
  },
  {
   "cell_type": "code",
   "execution_count": 20,
   "id": "9889476a",
   "metadata": {},
   "outputs": [],
   "source": [
    "class Rectangle():\n",
    "    \n",
    "    def __init__(self,length,breadth):\n",
    "        self.length=10   #class attribute in previous example is now a instance attribute\n",
    "        self.breadth=breadth #will be created when creating the instance of the class #instance attribute\n",
    "    \n",
    "    def getArea(self):\n",
    "        return self.length*self.breadth"
   ]
  },
  {
   "cell_type": "code",
   "execution_count": 23,
   "id": "29e94f5e",
   "metadata": {},
   "outputs": [
    {
     "data": {
      "text/plain": [
       "50"
      ]
     },
     "execution_count": 23,
     "metadata": {},
     "output_type": "execute_result"
    }
   ],
   "source": [
    "r=Rectangle(10,5)\n",
    "r.getArea()"
   ]
  },
  {
   "cell_type": "markdown",
   "id": "ea65992e",
   "metadata": {},
   "source": [
    "# Question 5\n",
    "    What does the term 'self' in a Python class mean?"
   ]
  },
  {
   "cell_type": "markdown",
   "id": "03175c0d",
   "metadata": {},
   "source": [
    "     The first positional argument refers to instance of that class. Generally it is named as 'self' but it can be anything."
   ]
  },
  {
   "cell_type": "code",
   "execution_count": 24,
   "id": "0fe56a0e",
   "metadata": {},
   "outputs": [],
   "source": [
    "class Rectangle():\n",
    "    \n",
    "    def __init__(self,length,breadth):\n",
    "        self.length=10   \n",
    "        self.breadth=breadth \n",
    "    \n",
    "    def getArea(self):\n",
    "        return self.length*self.breadth"
   ]
  },
  {
   "cell_type": "code",
   "execution_count": 25,
   "id": "1b904d5e",
   "metadata": {},
   "outputs": [],
   "source": [
    "r=Rectangle(10,5)"
   ]
  },
  {
   "cell_type": "code",
   "execution_count": 26,
   "id": "a7967339",
   "metadata": {},
   "outputs": [
    {
     "data": {
      "text/plain": [
       "50"
      ]
     },
     "execution_count": 26,
     "metadata": {},
     "output_type": "execute_result"
    }
   ],
   "source": [
    "r.getArea()"
   ]
  },
  {
   "cell_type": "markdown",
   "id": "eebb8fc1",
   "metadata": {},
   "source": [
    "    python will convert 'r.getArea()' to 'Rectangle.getArea(r)' as the instance r has the values for length and breadth, while calculating r.length*r.breadth will be replaced by 10,5 which were the values passed for that instance."
   ]
  },
  {
   "cell_type": "markdown",
   "id": "c4ba31f7",
   "metadata": {},
   "source": [
    "# Question 6\n",
    "    How does a Python class handle operator overloading?"
   ]
  },
  {
   "cell_type": "code",
   "execution_count": null,
   "id": "d3e971b1",
   "metadata": {},
   "outputs": [],
   "source": []
  },
  {
   "cell_type": "code",
   "execution_count": null,
   "id": "6b6ebdb4",
   "metadata": {},
   "outputs": [],
   "source": []
  },
  {
   "cell_type": "markdown",
   "id": "3cf69169",
   "metadata": {},
   "source": [
    "# Question 7\n",
    "    When do you consider allowing operator overloading of your classes?"
   ]
  },
  {
   "cell_type": "markdown",
   "id": "80c29da4",
   "metadata": {},
   "source": [
    "     by redefing the magic operator functions like __add__,__sub__,__mul__ etc.,"
   ]
  },
  {
   "cell_type": "code",
   "execution_count": 69,
   "id": "56f60f90",
   "metadata": {},
   "outputs": [],
   "source": [
    "class Integer():\n",
    "    def __init__(self,number):\n",
    "        self.number=number\n",
    "        \n",
    "    def __add__(self,other):\n",
    "        return self.number*other.number"
   ]
  },
  {
   "cell_type": "code",
   "execution_count": 70,
   "id": "0aa13f2e",
   "metadata": {},
   "outputs": [],
   "source": [
    "a=Integer(5)"
   ]
  },
  {
   "cell_type": "code",
   "execution_count": 71,
   "id": "e718451b",
   "metadata": {},
   "outputs": [],
   "source": [
    "b=Integer(7)"
   ]
  },
  {
   "cell_type": "code",
   "execution_count": 72,
   "id": "adc9db08",
   "metadata": {},
   "outputs": [
    {
     "data": {
      "text/plain": [
       "35"
      ]
     },
     "execution_count": 72,
     "metadata": {},
     "output_type": "execute_result"
    }
   ],
   "source": [
    "a+b   #instead of giving 12 as output due to overloading it is multiplying"
   ]
  },
  {
   "cell_type": "markdown",
   "id": "918a0472",
   "metadata": {},
   "source": []
  },
  {
   "cell_type": "code",
   "execution_count": null,
   "id": "ee336fa1",
   "metadata": {},
   "outputs": [],
   "source": []
  }
 ],
 "metadata": {
  "kernelspec": {
   "display_name": "Python 3 (ipykernel)",
   "language": "python",
   "name": "python3"
  },
  "language_info": {
   "codemirror_mode": {
    "name": "ipython",
    "version": 3
   },
   "file_extension": ".py",
   "mimetype": "text/x-python",
   "name": "python",
   "nbconvert_exporter": "python",
   "pygments_lexer": "ipython3",
   "version": "3.9.12"
  }
 },
 "nbformat": 4,
 "nbformat_minor": 5
}
