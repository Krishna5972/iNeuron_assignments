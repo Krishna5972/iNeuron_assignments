{
 "cells": [
  {
   "cell_type": "markdown",
   "id": "a97cc652",
   "metadata": {},
   "source": [
    "# Qusetion 1"
   ]
  },
  {
   "cell_type": "markdown",
   "id": "1df02ec8",
   "metadata": {},
   "source": [
    "    What is the difference between __getattr__ and __getattribute__?"
   ]
  },
  {
   "cell_type": "markdown",
   "id": "b8d59fb0",
   "metadata": {},
   "source": [
    "     __getattr__ is invoked if the the attribute we are trying to access is not present in the instance. __getattribute__ is invoked in both the scenarios by defualt, that is even if the attribute is present."
   ]
  },
  {
   "cell_type": "code",
   "execution_count": 1,
   "id": "0c721487",
   "metadata": {},
   "outputs": [],
   "source": [
    "class Square():\n",
    "    def __init__(self,length):\n",
    "        self.length=length\n",
    "    \n",
    "    def __getattr__(self,name):\n",
    "        print('A Square will not have a breadth')"
   ]
  },
  {
   "cell_type": "code",
   "execution_count": 2,
   "id": "561905b5",
   "metadata": {},
   "outputs": [],
   "source": [
    "s1=Square(5)"
   ]
  },
  {
   "cell_type": "code",
   "execution_count": 3,
   "id": "67d5840f",
   "metadata": {},
   "outputs": [
    {
     "data": {
      "text/plain": [
       "5"
      ]
     },
     "execution_count": 3,
     "metadata": {},
     "output_type": "execute_result"
    }
   ],
   "source": [
    "s1.length"
   ]
  },
  {
   "cell_type": "code",
   "execution_count": 4,
   "id": "de1316f4",
   "metadata": {},
   "outputs": [
    {
     "name": "stdout",
     "output_type": "stream",
     "text": [
      "A Square will not have a breadth\n"
     ]
    }
   ],
   "source": [
    "s1.breadth   #custom output without throwing a AttributeError"
   ]
  },
  {
   "cell_type": "code",
   "execution_count": 5,
   "id": "c31f4629",
   "metadata": {},
   "outputs": [],
   "source": [
    "class Square():\n",
    "    def __init__(self,length):\n",
    "        self.length=length\n",
    "    \n",
    "    def __getattribute__(self,name):\n",
    "        print('A Square will not have a breadth')"
   ]
  },
  {
   "cell_type": "code",
   "execution_count": 6,
   "id": "f6c52384",
   "metadata": {},
   "outputs": [],
   "source": [
    "s2=Square(5)"
   ]
  },
  {
   "cell_type": "code",
   "execution_count": 7,
   "id": "deefb45b",
   "metadata": {},
   "outputs": [
    {
     "name": "stdout",
     "output_type": "stream",
     "text": [
      "A Square will not have a breadth\n"
     ]
    }
   ],
   "source": [
    "s2.length   #even if the lenght attribute is present, __getattribute__ is being invoked"
   ]
  },
  {
   "cell_type": "code",
   "execution_count": 8,
   "id": "ef3b9037",
   "metadata": {},
   "outputs": [
    {
     "name": "stdout",
     "output_type": "stream",
     "text": [
      "A Square will not have a breadth\n"
     ]
    }
   ],
   "source": [
    "s2.breadth"
   ]
  },
  {
   "cell_type": "code",
   "execution_count": 28,
   "id": "1920aacc",
   "metadata": {},
   "outputs": [],
   "source": [
    "## small changes to the above code\n",
    "class Square(object):\n",
    "    def __init__(self,length):\n",
    "        self.length=length\n",
    "    \n",
    "    def __getattribute__(self,name):\n",
    "        if name == 'length':\n",
    "            print(super(Square, self).__getattribute__(name))\n",
    "            return 0\n",
    "\n",
    "        elif name == 'breadth':\n",
    "            print(f'In a square length are breadth are equal, so breadth : {super(Square, self).__getattribute__(\"length\")}')\n",
    "            return 0\n",
    "        else:\n",
    "            print('This attribute is not present for a square')\n",
    "            return object.__getattribute__(self,name)\n",
    "\n"
   ]
  },
  {
   "cell_type": "code",
   "execution_count": 29,
   "id": "addde94a",
   "metadata": {},
   "outputs": [
    {
     "name": "stdout",
     "output_type": "stream",
     "text": [
      "10\n",
      "0\n",
      "In a square length are breadth are equal, so breadth : 10\n",
      "0\n"
     ]
    }
   ],
   "source": [
    "s3=Square(10)\n",
    "print(s3.length)\n",
    "print(s3.breadth)"
   ]
  },
  {
   "cell_type": "code",
   "execution_count": 30,
   "id": "20c4e89b",
   "metadata": {},
   "outputs": [
    {
     "name": "stdout",
     "output_type": "stream",
     "text": [
      "This attribute is not present for a square\n"
     ]
    },
    {
     "ename": "AttributeError",
     "evalue": "'Square' object has no attribute 'height'",
     "output_type": "error",
     "traceback": [
      "\u001b[1;31m---------------------------------------------------------------------------\u001b[0m",
      "\u001b[1;31mAttributeError\u001b[0m                            Traceback (most recent call last)",
      "Input \u001b[1;32mIn [30]\u001b[0m, in \u001b[0;36m<cell line: 1>\u001b[1;34m()\u001b[0m\n\u001b[1;32m----> 1\u001b[0m \u001b[43ms3\u001b[49m\u001b[38;5;241;43m.\u001b[39;49m\u001b[43mheight\u001b[49m\n",
      "Input \u001b[1;32mIn [28]\u001b[0m, in \u001b[0;36mSquare.__getattribute__\u001b[1;34m(self, name)\u001b[0m\n\u001b[0;32m     14\u001b[0m \u001b[38;5;28;01melse\u001b[39;00m:\n\u001b[0;32m     15\u001b[0m     \u001b[38;5;28mprint\u001b[39m(\u001b[38;5;124m'\u001b[39m\u001b[38;5;124mThis attribute is not present for a square\u001b[39m\u001b[38;5;124m'\u001b[39m)\n\u001b[1;32m---> 16\u001b[0m     \u001b[38;5;28;01mreturn\u001b[39;00m \u001b[38;5;28;43mobject\u001b[39;49m\u001b[38;5;241;43m.\u001b[39;49m\u001b[38;5;21;43m__getattribute__\u001b[39;49m\u001b[43m(\u001b[49m\u001b[38;5;28;43mself\u001b[39;49m\u001b[43m,\u001b[49m\u001b[43mname\u001b[49m\u001b[43m)\u001b[49m\n",
      "\u001b[1;31mAttributeError\u001b[0m: 'Square' object has no attribute 'height'"
     ]
    }
   ],
   "source": [
    "s3.height"
   ]
  },
  {
   "cell_type": "markdown",
   "id": "532c0ded",
   "metadata": {},
   "source": [
    "Reference : https://youtu.be/svWKZSWl_F4"
   ]
  },
  {
   "cell_type": "markdown",
   "id": "33f0edcb",
   "metadata": {},
   "source": [
    "# Question 2\n",
    "    What is the difference between properties and descriptors?"
   ]
  },
  {
   "cell_type": "markdown",
   "id": "c733f9ae",
   "metadata": {},
   "source": [
    "### Properties"
   ]
  },
  {
   "cell_type": "markdown",
   "id": "d1446f58",
   "metadata": {},
   "source": [
    "    In properties the functions are treated as attributes if @property is used above the method. . We can use @functionname.setter to override the way python sets the values.This process is called binding getter,setter functions with attribute name using @property which is a built in function."
   ]
  },
  {
   "cell_type": "code",
   "execution_count": 5,
   "id": "e4819f6e",
   "metadata": {},
   "outputs": [],
   "source": [
    "class Square():\n",
    "    def __init__(self,length):\n",
    "        self.length =length\n",
    "    def area(self):\n",
    "        return self.length**2"
   ]
  },
  {
   "cell_type": "code",
   "execution_count": 6,
   "id": "a7770c73",
   "metadata": {},
   "outputs": [
    {
     "data": {
      "text/plain": [
       "25"
      ]
     },
     "execution_count": 6,
     "metadata": {},
     "output_type": "execute_result"
    }
   ],
   "source": [
    "s1 = Square(5)\n",
    "s1.area()"
   ]
  },
  {
   "cell_type": "code",
   "execution_count": 7,
   "id": "6db48371",
   "metadata": {},
   "outputs": [],
   "source": [
    "class Square():\n",
    "    \n",
    "    def __init__(self,length):\n",
    "        self.length =length\n",
    "        \n",
    "    @property\n",
    "    def area(self):\n",
    "        return self.length**2"
   ]
  },
  {
   "cell_type": "code",
   "execution_count": 8,
   "id": "b3aed47e",
   "metadata": {},
   "outputs": [
    {
     "data": {
      "text/plain": [
       "25"
      ]
     },
     "execution_count": 8,
     "metadata": {},
     "output_type": "execute_result"
    }
   ],
   "source": [
    "s2 = Square(5)\n",
    "s2.area #can access area method as if it is an attribure"
   ]
  },
  {
   "cell_type": "code",
   "execution_count": 9,
   "id": "fc161bb1",
   "metadata": {},
   "outputs": [],
   "source": [
    "import math\n",
    "class Square():\n",
    "    \n",
    "    def __init__(self,length):\n",
    "        self.length =length\n",
    "        \n",
    "    @property\n",
    "    def area(self):\n",
    "        return f'The area of this square is {self.length ** 2} units'\n",
    "    \n",
    "    @area.setter\n",
    "    def area(self,area):\n",
    "        self.length = math.sqrt(area)\n",
    "\n"
   ]
  },
  {
   "cell_type": "code",
   "execution_count": 10,
   "id": "0bbb4394",
   "metadata": {},
   "outputs": [
    {
     "name": "stdout",
     "output_type": "stream",
     "text": [
      "5\n",
      "The area of this square is 25 units\n"
     ]
    }
   ],
   "source": [
    "s2 = Square(5)\n",
    "print(s2.length)  #initial length\n",
    "print(s2.area)  #initial area"
   ]
  },
  {
   "cell_type": "code",
   "execution_count": 11,
   "id": "43cf85d0",
   "metadata": {},
   "outputs": [
    {
     "data": {
      "text/plain": [
       "12.0"
      ]
     },
     "execution_count": 11,
     "metadata": {},
     "output_type": "execute_result"
    }
   ],
   "source": [
    "s2.area = 144\n",
    "s2.length   #after using setter"
   ]
  },
  {
   "cell_type": "code",
   "execution_count": 12,
   "id": "658eae8a",
   "metadata": {},
   "outputs": [
    {
     "data": {
      "text/plain": [
       "'The area of this square is 144.0 units'"
      ]
     },
     "execution_count": 12,
     "metadata": {},
     "output_type": "execute_result"
    }
   ],
   "source": [
    "s2.area"
   ]
  },
  {
   "cell_type": "markdown",
   "id": "0f6a74e6",
   "metadata": {},
   "source": [
    "    Reference : https://www.youtube.com/watch?v=jCzT9XFZ5bw&t=497s"
   ]
  },
  {
   "cell_type": "markdown",
   "id": "1af1980e",
   "metadata": {},
   "source": [
    "### Descriptors"
   ]
  },
  {
   "cell_type": "markdown",
   "id": "bd521df0",
   "metadata": {},
   "source": [
    "    In Descriptor we bind get and set with a seperate and class. The the class attributes are assigned with the object of that seperate class."
   ]
  },
  {
   "cell_type": "code",
   "execution_count": 37,
   "id": "34303f17",
   "metadata": {},
   "outputs": [],
   "source": [
    "class DescriptorClass():\n",
    "    \n",
    "    def __init__(self,initial_values=None,name='name'):\n",
    "        self.val=initial_values\n",
    "        self.name=name\n",
    "        \n",
    "    def __get__(self,obj,objtype):\n",
    "        print(f'Retreving {self.name}')\n",
    "        return self.val\n",
    "    \n",
    "    def __set__(self,obj,val):\n",
    "        print('Setting value')\n",
    "        self.val=val\n",
    "    \n",
    "    "
   ]
  },
  {
   "cell_type": "code",
   "execution_count": 38,
   "id": "e911661b",
   "metadata": {},
   "outputs": [],
   "source": [
    "class SimpleClass():\n",
    "    x=DescriptorClass(5,'Variable x')"
   ]
  },
  {
   "cell_type": "code",
   "execution_count": 39,
   "id": "1fbcccc8",
   "metadata": {},
   "outputs": [],
   "source": [
    "s=SimpleClass()"
   ]
  },
  {
   "cell_type": "code",
   "execution_count": 40,
   "id": "5583ad68",
   "metadata": {},
   "outputs": [
    {
     "name": "stdout",
     "output_type": "stream",
     "text": [
      "Retreving Variable x\n"
     ]
    },
    {
     "data": {
      "text/plain": [
       "5"
      ]
     },
     "execution_count": 40,
     "metadata": {},
     "output_type": "execute_result"
    }
   ],
   "source": [
    "s.x"
   ]
  },
  {
   "cell_type": "code",
   "execution_count": 41,
   "id": "5c2ad38f",
   "metadata": {},
   "outputs": [
    {
     "name": "stdout",
     "output_type": "stream",
     "text": [
      "Setting value\n"
     ]
    }
   ],
   "source": [
    "s.x=10"
   ]
  },
  {
   "cell_type": "markdown",
   "id": "678ae7db",
   "metadata": {},
   "source": [
    "    Reference : https://www.youtube.com/watch?v=ovsvGtWD90Y&t=72s"
   ]
  },
  {
   "cell_type": "markdown",
   "id": "c3312aa4",
   "metadata": {},
   "source": [
    "# Question 3\n",
    "    What are the key differences in functionality between __getattr__ and __getattribute__, as well as properties \n",
    "    and   descriptors? "
   ]
  },
  {
   "cell_type": "markdown",
   "id": "ef3bbf27",
   "metadata": {},
   "source": [
    "    __getattr__() method gets invoked when the attribute we are trying to access in class is not present in the class.\n",
    "    __getattribute__() will get invoked even if the attribute is present or not\n",
    "\n",
    "    In Properties, We bind getter, setter functions with an attribute name, using the built-in property function. \n",
    "    In descriptor, We bind get, set functions into a separate class. While assigning the values to the attributes we \n",
    "    create a object of that descripot class."
   ]
  }
 ],
 "metadata": {
  "kernelspec": {
   "display_name": "Python 3 (ipykernel)",
   "language": "python",
   "name": "python3"
  },
  "language_info": {
   "codemirror_mode": {
    "name": "ipython",
    "version": 3
   },
   "file_extension": ".py",
   "mimetype": "text/x-python",
   "name": "python",
   "nbconvert_exporter": "python",
   "pygments_lexer": "ipython3",
   "version": "3.9.12"
  }
 },
 "nbformat": 4,
 "nbformat_minor": 5
}
