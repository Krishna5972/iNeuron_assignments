{
 "cells": [
  {
   "cell_type": "markdown",
   "id": "722d1fde",
   "metadata": {},
   "source": [
    "# Quesiton 1\n",
    "    Which two operator overloading methods can you use in your classes to support iteration?"
   ]
  },
  {
   "cell_type": "markdown",
   "id": "b9bca853",
   "metadata": {},
   "source": [
    "    Operator overloading is the process of using an operator in different ways depending on the operands.+ and * operator overloading methods can be used in class in support iteration over string"
   ]
  },
  {
   "cell_type": "code",
   "execution_count": 5,
   "id": "f696b93c",
   "metadata": {},
   "outputs": [],
   "source": [
    "class String:\n",
    "    def __init__(self,string):\n",
    "        self.string=string\n",
    "        \n",
    "    def __add__(self,other):\n",
    "        return self.string*other.string\n",
    "    \n",
    "    def __mul__(self,other):\n",
    "        return self.string+other.string\n",
    "    \n",
    "    "
   ]
  },
  {
   "cell_type": "code",
   "execution_count": 6,
   "id": "40e2a060",
   "metadata": {},
   "outputs": [],
   "source": [
    "a=String('Hello')"
   ]
  },
  {
   "cell_type": "code",
   "execution_count": 7,
   "id": "2480fcba",
   "metadata": {},
   "outputs": [],
   "source": [
    "b=String('Hi')"
   ]
  },
  {
   "cell_type": "code",
   "execution_count": 10,
   "id": "a167f8bd",
   "metadata": {},
   "outputs": [
    {
     "data": {
      "text/plain": [
       "'HelloHi'"
      ]
     },
     "execution_count": 10,
     "metadata": {},
     "output_type": "execute_result"
    }
   ],
   "source": [
    "a*b  #Hi is iterated over concatenated to the Hello"
   ]
  },
  {
   "cell_type": "markdown",
   "id": "43226963",
   "metadata": {},
   "source": [
    "# Question 2\n",
    "    In what contexts do the two operator overloading methods manage printing?"
   ]
  },
  {
   "cell_type": "markdown",
   "id": "e48c0bdd",
   "metadata": {},
   "source": [
    "    Depeneding on the data types of operands the overloading methods manage prinitng"
   ]
  },
  {
   "cell_type": "markdown",
   "id": "08a3f98a",
   "metadata": {},
   "source": [
    "# Question 3\n",
    "    In a class, how do you intercept slice operations?"
   ]
  },
  {
   "cell_type": "code",
   "execution_count": 18,
   "id": "67c2bee3",
   "metadata": {},
   "outputs": [],
   "source": [
    "class Demo:\n",
    "    def __getitem__(self, key):          \n",
    "        return key*2\n",
    "a = Demo()"
   ]
  },
  {
   "cell_type": "code",
   "execution_count": 25,
   "id": "1875fd2f",
   "metadata": {},
   "outputs": [
    {
     "data": {
      "text/plain": [
       "4"
      ]
     },
     "execution_count": 25,
     "metadata": {},
     "output_type": "execute_result"
    }
   ],
   "source": [
    "a[2]"
   ]
  },
  {
   "cell_type": "markdown",
   "id": "d14bf143",
   "metadata": {},
   "source": [
    "# Quesiton 4\n",
    "    In a class, how do you capture in-place addition?"
   ]
  },
  {
   "cell_type": "code",
   "execution_count": 27,
   "id": "947e1381",
   "metadata": {},
   "outputs": [
    {
     "name": "stdout",
     "output_type": "stream",
     "text": [
      "5\n"
     ]
    }
   ],
   "source": [
    "import operator\n",
    "\n",
    "x = 2\n",
    "y = 3\n",
    "\n",
    "x = operator.iadd(x,y)\n",
    "\n",
    "print(x) "
   ]
  },
  {
   "cell_type": "code",
   "execution_count": 28,
   "id": "8ddaaca0",
   "metadata": {},
   "outputs": [
    {
     "name": "stdout",
     "output_type": "stream",
     "text": [
      "HelloHi\n"
     ]
    }
   ],
   "source": [
    "x = 'Hello'\n",
    "y = 'Hi'\n",
    "\n",
    "x = operator.iadd(x,y)\n",
    "\n",
    "print(x) "
   ]
  },
  {
   "cell_type": "markdown",
   "id": "2cc10990",
   "metadata": {},
   "source": [
    "# Question 5\n",
    "    When is it appropriate to use operator overloading?"
   ]
  },
  {
   "cell_type": "markdown",
   "id": "02e64752",
   "metadata": {},
   "source": [
    "     When we have a specific need how we want objects to behave when adding them or multiplying them together we perform operator overloading"
   ]
  },
  {
   "cell_type": "code",
   "execution_count": 29,
   "id": "d4ff8746",
   "metadata": {},
   "outputs": [],
   "source": [
    "class Square():\n",
    "    def __init__(self,length):\n",
    "        self.length=length\n",
    "        \n",
    "    def __add__(self,other):\n",
    "        return self.length+other.length"
   ]
  },
  {
   "cell_type": "code",
   "execution_count": 31,
   "id": "61becfad",
   "metadata": {},
   "outputs": [],
   "source": [
    "a=Square(5)\n",
    "b=Square(10)"
   ]
  },
  {
   "cell_type": "code",
   "execution_count": 32,
   "id": "f642b826",
   "metadata": {},
   "outputs": [
    {
     "data": {
      "text/plain": [
       "15"
      ]
     },
     "execution_count": 32,
     "metadata": {},
     "output_type": "execute_result"
    }
   ],
   "source": [
    "a+b"
   ]
  },
  {
   "cell_type": "code",
   "execution_count": 33,
   "id": "2c3e8c9c",
   "metadata": {},
   "outputs": [],
   "source": [
    "class Circle():\n",
    "    def __init__(self,radius):\n",
    "        self.radius=radius"
   ]
  },
  {
   "cell_type": "code",
   "execution_count": 34,
   "id": "ea618fc4",
   "metadata": {},
   "outputs": [],
   "source": [
    "c1=Circle(5)\n",
    "c2=Circle(10)\n"
   ]
  },
  {
   "cell_type": "code",
   "execution_count": 35,
   "id": "633fff06",
   "metadata": {},
   "outputs": [
    {
     "ename": "TypeError",
     "evalue": "unsupported operand type(s) for +: 'Circle' and 'Circle'",
     "output_type": "error",
     "traceback": [
      "\u001b[1;31m---------------------------------------------------------------------------\u001b[0m",
      "\u001b[1;31mTypeError\u001b[0m                                 Traceback (most recent call last)",
      "Input \u001b[1;32mIn [35]\u001b[0m, in \u001b[0;36m<cell line: 1>\u001b[1;34m()\u001b[0m\n\u001b[1;32m----> 1\u001b[0m \u001b[43mc1\u001b[49m\u001b[38;5;241;43m+\u001b[39;49m\u001b[43mc2\u001b[49m\n",
      "\u001b[1;31mTypeError\u001b[0m: unsupported operand type(s) for +: 'Circle' and 'Circle'"
     ]
    }
   ],
   "source": [
    "c1+c2"
   ]
  }
 ],
 "metadata": {
  "kernelspec": {
   "display_name": "Python 3 (ipykernel)",
   "language": "python",
   "name": "python3"
  },
  "language_info": {
   "codemirror_mode": {
    "name": "ipython",
    "version": 3
   },
   "file_extension": ".py",
   "mimetype": "text/x-python",
   "name": "python",
   "nbconvert_exporter": "python",
   "pygments_lexer": "ipython3",
   "version": "3.9.12"
  }
 },
 "nbformat": 4,
 "nbformat_minor": 5
}
