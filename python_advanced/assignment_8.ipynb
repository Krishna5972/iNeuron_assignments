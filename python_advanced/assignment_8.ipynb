{
 "cells": [
  {
   "cell_type": "markdown",
   "id": "107a01f6",
   "metadata": {},
   "source": [
    "# Question 1\n",
    "    What are the two latest user-defined exception constraints in Python 3.X?"
   ]
  },
  {
   "cell_type": "markdown",
   "id": "05d08b15",
   "metadata": {},
   "source": [
    "     raise and assert the the two user-defined exception constraints."
   ]
  },
  {
   "cell_type": "code",
   "execution_count": 3,
   "id": "3d193774",
   "metadata": {},
   "outputs": [
    {
     "ename": "ValueError",
     "evalue": "",
     "output_type": "error",
     "traceback": [
      "\u001b[1;31m---------------------------------------------------------------------------\u001b[0m",
      "\u001b[1;31mValueError\u001b[0m                                Traceback (most recent call last)",
      "Input \u001b[1;32mIn [3]\u001b[0m, in \u001b[0;36m<cell line: 1>\u001b[1;34m()\u001b[0m\n\u001b[1;32m----> 1\u001b[0m \u001b[38;5;28;01mraise\u001b[39;00m \u001b[38;5;167;01mValueError\u001b[39;00m\n",
      "\u001b[1;31mValueError\u001b[0m: "
     ]
    }
   ],
   "source": [
    "raise ValueError"
   ]
  },
  {
   "cell_type": "code",
   "execution_count": 5,
   "id": "97c013a6",
   "metadata": {},
   "outputs": [
    {
     "ename": "AssertionError",
     "evalue": "Not equal",
     "output_type": "error",
     "traceback": [
      "\u001b[1;31m---------------------------------------------------------------------------\u001b[0m",
      "\u001b[1;31mAssertionError\u001b[0m                            Traceback (most recent call last)",
      "Input \u001b[1;32mIn [5]\u001b[0m, in \u001b[0;36m<cell line: 1>\u001b[1;34m()\u001b[0m\n\u001b[1;32m----> 1\u001b[0m \u001b[38;5;28;01massert\u001b[39;00m \u001b[38;5;241m-\u001b[39m\u001b[38;5;241m1\u001b[39m \u001b[38;5;241m==\u001b[39m \u001b[38;5;241m1\u001b[39m,\u001b[38;5;124m'\u001b[39m\u001b[38;5;124mNot equal\u001b[39m\u001b[38;5;124m'\u001b[39m\n",
      "\u001b[1;31mAssertionError\u001b[0m: Not equal"
     ]
    }
   ],
   "source": [
    "assert -1 == 1,'Not equal'"
   ]
  },
  {
   "cell_type": "markdown",
   "id": "d726c590",
   "metadata": {},
   "source": [
    "# Question 2\n",
    "    How are class-based exceptions that have been raised matched to handlers?"
   ]
  },
  {
   "cell_type": "markdown",
   "id": "2131b04f",
   "metadata": {},
   "source": [
    "    The exception raised are matched to the the exception mentioned in the except block, if exact exception class is not mentioned the base class of all the exceptions 'Exception' class handles it"
   ]
  },
  {
   "cell_type": "markdown",
   "id": "d1c9decf",
   "metadata": {},
   "source": [
    "# Question 3\n",
    "    Describe two methods for attaching context information to exception artefacts."
   ]
  },
  {
   "cell_type": "markdown",
   "id": "2109932f",
   "metadata": {},
   "source": [
    "    using the exception object (generally renamed to redable name by using 'as') and printing it with the contect information we want to attach and then using raise keyword\n",
    "    or just by print the object name along with the new context , as printing the object would invoke '__str__' of the object which hold the name of the exception"
   ]
  },
  {
   "cell_type": "code",
   "execution_count": 8,
   "id": "1783bfc1",
   "metadata": {},
   "outputs": [
    {
     "ename": "ZeroDivisionError",
     "evalue": "('Some failure state', 'division by zero')",
     "output_type": "error",
     "traceback": [
      "\u001b[1;31m---------------------------------------------------------------------------\u001b[0m",
      "\u001b[1;31mZeroDivisionError\u001b[0m                         Traceback (most recent call last)",
      "Input \u001b[1;32mIn [8]\u001b[0m, in \u001b[0;36m<cell line: 1>\u001b[1;34m()\u001b[0m\n\u001b[0;32m      2\u001b[0m     a\u001b[38;5;241m=\u001b[39m\u001b[38;5;241m10\u001b[39m\n\u001b[0;32m      3\u001b[0m     b\u001b[38;5;241m=\u001b[39m\u001b[38;5;241m0\u001b[39m\n\u001b[1;32m----> 4\u001b[0m     c\u001b[38;5;241m=\u001b[39m\u001b[43ma\u001b[49m\u001b[38;5;241;43m/\u001b[39;49m\u001b[43mb\u001b[49m\n\u001b[0;32m      6\u001b[0m \u001b[38;5;28;01mexcept\u001b[39;00m \u001b[38;5;167;01mException\u001b[39;00m \u001b[38;5;28;01mas\u001b[39;00m e:\n\u001b[0;32m      7\u001b[0m     e\u001b[38;5;241m.\u001b[39margs \u001b[38;5;241m=\u001b[39m (\u001b[38;5;124m\"\u001b[39m\u001b[38;5;124mSome failure state\u001b[39m\u001b[38;5;124m\"\u001b[39m, \u001b[38;5;241m*\u001b[39me\u001b[38;5;241m.\u001b[39margs)\n",
      "\u001b[1;31mZeroDivisionError\u001b[0m: ('Some failure state', 'division by zero')"
     ]
    }
   ],
   "source": [
    "try:\n",
    "    a=10\n",
    "    b=0\n",
    "    c=a/b\n",
    "\n",
    "except Exception as e:\n",
    "    e.args = (\"Some failure state\", *e.args)\n",
    "    raise\n",
    "    "
   ]
  },
  {
   "cell_type": "code",
   "execution_count": 10,
   "id": "83fd25e2",
   "metadata": {},
   "outputs": [
    {
     "name": "stdout",
     "output_type": "stream",
     "text": [
      "The name of the caught error : division by zero\n"
     ]
    }
   ],
   "source": [
    "try:\n",
    "    a=10\n",
    "    b=0\n",
    "    c=a/b\n",
    "\n",
    "except Exception as e:\n",
    "    print(f'The name of the caught error : {e}')"
   ]
  },
  {
   "cell_type": "markdown",
   "id": "0e165615",
   "metadata": {},
   "source": [
    "# Question 4\n",
    "    Describe two methods for specifying the text of an exception object's error message."
   ]
  },
  {
   "cell_type": "markdown",
   "id": "3440efc2",
   "metadata": {},
   "source": [
    "    just printing the object would do or using logging.error() method"
   ]
  },
  {
   "cell_type": "code",
   "execution_count": 11,
   "id": "5bcd8f96",
   "metadata": {},
   "outputs": [
    {
     "name": "stdout",
     "output_type": "stream",
     "text": [
      "division by zero\n"
     ]
    }
   ],
   "source": [
    "try:\n",
    "    a=10\n",
    "    b=0\n",
    "    c=a/b\n",
    "\n",
    "except Exception as e:\n",
    "    print(e)"
   ]
  },
  {
   "cell_type": "code",
   "execution_count": 12,
   "id": "5a3a0cc5",
   "metadata": {},
   "outputs": [
    {
     "name": "stderr",
     "output_type": "stream",
     "text": [
      "ERROR:root:division by zero\n"
     ]
    }
   ],
   "source": [
    "import logging\n",
    "try:\n",
    "    a=10\n",
    "    b=0\n",
    "    c=a/b\n",
    "\n",
    "except Exception as e:\n",
    "    logging.error(e)"
   ]
  },
  {
   "cell_type": "markdown",
   "id": "e5a0f92a",
   "metadata": {},
   "source": [
    "# Question 5\n",
    "    Why do you no longer use string-based exceptions?"
   ]
  },
  {
   "cell_type": "markdown",
   "id": "644638aa",
   "metadata": {},
   "source": [
    "    User-defined Python exceptions can be either strings or Python classes. Since classes have many nice properties when \n",
    "    used as exceptions, it is desirable to migrate to a situation where classes are used exclusively\n",
    "    References\n",
    "    https://www.python.org/doc/essays/stdexceptions/"
   ]
  }
 ],
 "metadata": {
  "kernelspec": {
   "display_name": "Python 3 (ipykernel)",
   "language": "python",
   "name": "python3"
  },
  "language_info": {
   "codemirror_mode": {
    "name": "ipython",
    "version": 3
   },
   "file_extension": ".py",
   "mimetype": "text/x-python",
   "name": "python",
   "nbconvert_exporter": "python",
   "pygments_lexer": "ipython3",
   "version": "3.9.12"
  }
 },
 "nbformat": 4,
 "nbformat_minor": 5
}
