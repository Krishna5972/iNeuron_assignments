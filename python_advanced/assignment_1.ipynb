{
 "cells": [
  {
   "cell_type": "markdown",
   "id": "db712f69",
   "metadata": {},
   "source": [
    "# Question 1\n",
    "## What is the purpose of Python's OOP?"
   ]
  },
  {
   "cell_type": "markdown",
   "id": "8c0bd88e",
   "metadata": {},
   "source": [
    "    Object-oriented programming (OOP) is a method of structuring a program by bundling related properties and behaviors into individual objects. \n",
    "\n",
    "    Purpose:\n",
    "    1) Makes the code efficient\n",
    "    2) Readability,easy to understand\n",
    "    3) Resuability, packages can be reused by importing\n",
    "    4) data is safe because of abstraction\n",
    "    5) Polymorphism allows the same interface for different objects,which can be used for efficiency "
   ]
  },
  {
   "cell_type": "markdown",
   "id": "1ed667cb",
   "metadata": {},
   "source": [
    "# Question 2\n",
    "## Where does an inheritance search look for an attribute?"
   ]
  },
  {
   "cell_type": "markdown",
   "id": "31cc441c",
   "metadata": {},
   "source": [
    "    Every time the expression of the form object.attr is used where object is an instance or class object, Python searches the namespace tree at and above object, for the first attr it can find. Because lower definitions in the tree override higher ones, inheritance forms the basis of specialization.Python ensures that subclasses come before superclasses and classes earlier in a list of base classes come before classes later in a list of base classes"
   ]
  },
  {
   "cell_type": "code",
   "execution_count": 16,
   "id": "0d035fa8",
   "metadata": {},
   "outputs": [],
   "source": [
    "class A :\n",
    "    hi='A'\n",
    "class B :\n",
    "    pass \n",
    "class C(A,object):\n",
    "    pass\n",
    "class D:\n",
    "    pass\n",
    "class E(D,B):\n",
    "    pass\n",
    "class F(B,C):\n",
    "    pass\n",
    "class G(E,F):\n",
    "    pass\n",
    "\n",
    "g = G()"
   ]
  },
  {
   "cell_type": "code",
   "execution_count": 17,
   "id": "1daf7737",
   "metadata": {},
   "outputs": [
    {
     "data": {
      "text/plain": [
       "'A'"
      ]
     },
     "execution_count": 17,
     "metadata": {},
     "output_type": "execute_result"
    }
   ],
   "source": [
    "g.hi"
   ]
  },
  {
   "cell_type": "markdown",
   "id": "e7a28e27",
   "metadata": {},
   "source": [
    "The search order :-G,E,D,F,B,C,A,object"
   ]
  },
  {
   "cell_type": "markdown",
   "id": "9d713db4",
   "metadata": {},
   "source": [
    "# Question 3\n",
    "## How do you distinguish between a class object and an instance object?"
   ]
  },
  {
   "cell_type": "markdown",
   "id": "74b32a8f",
   "metadata": {},
   "source": [
    "    Object : physical presence of the class in memory\n",
    "    Instance : an unique copy of the object (same structure, different data)\n",
    "    \n",
    "    Object - An instance of a class that has its own state and access to all of the behaviour defined by its class.\n",
    "\n",
    "    Instance - Reference to an memory area for that particular class.\n",
    "\n"
   ]
  },
  {
   "cell_type": "code",
   "execution_count": 21,
   "id": "5fe4c707",
   "metadata": {},
   "outputs": [],
   "source": [
    "a=A()  #'A() creates a instance of class in memoery  and a is the instance refering to the memory location'"
   ]
  },
  {
   "cell_type": "markdown",
   "id": "b173b132",
   "metadata": {},
   "source": [
    "# Question 4\n",
    "## What makes the first argument in a class’s method function special?"
   ]
  },
  {
   "cell_type": "markdown",
   "id": "0311a885",
   "metadata": {},
   "source": [
    "    'Self' represents the instance of the class. 'Self' is used to access the attributes and methods of the class in python and to binds the attributes that are passed. 'Self' is not a keyword, it can be any custom word, its just that the first positional argument is used to refer to the instance of the class."
   ]
  },
  {
   "cell_type": "code",
   "execution_count": 26,
   "id": "3b417fb5",
   "metadata": {},
   "outputs": [],
   "source": [
    "class Circle():\n",
    "    def __init__(self,radius):\n",
    "        self.radius=radius\n",
    "        \n",
    "class Square():\n",
    "    def __init__(anything,length):  #self is not used\n",
    "        anything.length=length"
   ]
  },
  {
   "cell_type": "code",
   "execution_count": 27,
   "id": "11b1b201",
   "metadata": {},
   "outputs": [
    {
     "name": "stdout",
     "output_type": "stream",
     "text": [
      "10\n",
      "5\n"
     ]
    }
   ],
   "source": [
    "c=Circle(10)\n",
    "print(c.radius)\n",
    "s=Square(5)\n",
    "print(s.length)"
   ]
  },
  {
   "cell_type": "markdown",
   "id": "7df5c2dc",
   "metadata": {},
   "source": [
    "# Question 5\n",
    "## What is the purpose of the __init__ method?"
   ]
  },
  {
   "cell_type": "markdown",
   "id": "fe27f7a2",
   "metadata": {},
   "source": [
    "    __init__ is a magic method that act's a constructor while initiating the object.It is used to bind the arguments passed to the respective data members of the class.It is runs by defualt when an object of a class is instantiated."
   ]
  },
  {
   "cell_type": "code",
   "execution_count": 28,
   "id": "cf576922",
   "metadata": {},
   "outputs": [
    {
     "name": "stdout",
     "output_type": "stream",
     "text": [
      "10\n"
     ]
    }
   ],
   "source": [
    "class Circle():\n",
    "    def __init__(self,radius):\n",
    "        self.radius=radius\n",
    "c=Circle(10)\n",
    "print(c.radius)   "
   ]
  },
  {
   "cell_type": "markdown",
   "id": "8f27379d",
   "metadata": {},
   "source": [
    "# Question 6\n",
    "## What is the process for creating a class instance?"
   ]
  },
  {
   "cell_type": "markdown",
   "id": "c295dac7",
   "metadata": {},
   "source": [
    "    class instance (object )of a class can be created by invoking the class using 'classname' with paranthesis by passing the arguments __init__ method accepts."
   ]
  },
  {
   "cell_type": "code",
   "execution_count": 29,
   "id": "7193747e",
   "metadata": {},
   "outputs": [],
   "source": [
    "c=Circle(10)"
   ]
  },
  {
   "cell_type": "markdown",
   "id": "9316f6d8",
   "metadata": {},
   "source": [
    "# Question 7\n",
    "## What is the process for creating a class?"
   ]
  },
  {
   "cell_type": "markdown",
   "id": "d9b17917",
   "metadata": {},
   "source": [
    "    class keyword is used to create a class, __init__ method is generally used to bind the values to class data memebers"
   ]
  },
  {
   "cell_type": "code",
   "execution_count": 30,
   "id": "14c48c8f",
   "metadata": {},
   "outputs": [],
   "source": [
    "class Test():\n",
    "    def __init__(self,string):\n",
    "        self.string=string"
   ]
  },
  {
   "cell_type": "code",
   "execution_count": 31,
   "id": "7cb2ea4d",
   "metadata": {},
   "outputs": [
    {
     "data": {
      "text/plain": [
       "'This is a sample class'"
      ]
     },
     "execution_count": 31,
     "metadata": {},
     "output_type": "execute_result"
    }
   ],
   "source": [
    "t=Test('This is a sample class')\n",
    "t.string"
   ]
  },
  {
   "cell_type": "markdown",
   "id": "e41a4179",
   "metadata": {},
   "source": [
    "# Question 8\n",
    "## How would you define the superclasses of a class?"
   ]
  },
  {
   "cell_type": "markdown",
   "id": "83806a33",
   "metadata": {},
   "source": [
    " Superclass is the base class from which other classses inherit methods and data members."
   ]
  },
  {
   "cell_type": "code",
   "execution_count": 38,
   "id": "0fd91687",
   "metadata": {},
   "outputs": [],
   "source": [
    "class Vechicle():\n",
    "    def __init__(self,weight):\n",
    "        self.weight=weight\n",
    "    \n",
    "    def move(self):\n",
    "        print('Moving...')\n",
    "    \n",
    "    def getWeight(self):\n",
    "        print(f'The weight is {self.weight}')\n",
    "        \n",
    "class Car(Vechicle):\n",
    "    def __init__(self,weight):\n",
    "        super().__init__(weight)\n",
    "\n",
    "class Bike(Vechicle):\n",
    "    def __init__(self,weight):\n",
    "        super().__init__(weight)\n",
    "        "
   ]
  },
  {
   "cell_type": "code",
   "execution_count": 39,
   "id": "ee60070a",
   "metadata": {},
   "outputs": [
    {
     "name": "stdout",
     "output_type": "stream",
     "text": [
      "Moving...\n",
      "The weight is 230\n"
     ]
    }
   ],
   "source": [
    "c=Car(230)\n",
    "c.move()\n",
    "c.getWeight()"
   ]
  },
  {
   "cell_type": "code",
   "execution_count": 40,
   "id": "d84bd534",
   "metadata": {},
   "outputs": [
    {
     "name": "stdout",
     "output_type": "stream",
     "text": [
      "Moving...\n",
      "The weight is 97\n"
     ]
    }
   ],
   "source": [
    "b=Bike(97)\n",
    "b.move()\n",
    "b.getWeight()"
   ]
  }
 ],
 "metadata": {
  "kernelspec": {
   "display_name": "Python 3 (ipykernel)",
   "language": "python",
   "name": "python3"
  },
  "language_info": {
   "codemirror_mode": {
    "name": "ipython",
    "version": 3
   },
   "file_extension": ".py",
   "mimetype": "text/x-python",
   "name": "python",
   "nbconvert_exporter": "python",
   "pygments_lexer": "ipython3",
   "version": "3.9.12"
  }
 },
 "nbformat": 4,
 "nbformat_minor": 5
}
