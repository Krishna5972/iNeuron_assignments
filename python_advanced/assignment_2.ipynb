{
 "cells": [
  {
   "cell_type": "markdown",
   "id": "8530a61b",
   "metadata": {},
   "source": [
    "# Question 1\n",
    "    What is the relationship between classes and modules?"
   ]
  },
  {
   "cell_type": "markdown",
   "id": "1de3333b",
   "metadata": {},
   "source": [
    "     Modules are collections of methods and constants. They cannot generate instances. Instances can be generated from\n",
    "     classes.Modules are imported for reusability using import statement. There are many predefiend modules in python like              math,os,time etc..\n"
   ]
  },
  {
   "cell_type": "code",
   "execution_count": 2,
   "id": "dc381e9f",
   "metadata": {},
   "outputs": [
    {
     "data": {
      "text/plain": [
       "3.141592653589793"
      ]
     },
     "execution_count": 2,
     "metadata": {},
     "output_type": "execute_result"
    }
   ],
   "source": [
    "import math\n",
    "math.pi"
   ]
  },
  {
   "cell_type": "markdown",
   "id": "f8582784",
   "metadata": {},
   "source": [
    "    we are able to use the constant variable with out initilizing a instance of math.Inorder to use the attributes of a class we need to initialize them."
   ]
  },
  {
   "cell_type": "markdown",
   "id": "fa2e7510",
   "metadata": {},
   "source": [
    "# Question 2\n",
    "    How do you make instances and classes?"
   ]
  },
  {
   "cell_type": "markdown",
   "id": "b8623939",
   "metadata": {},
   "source": [
    "    Instances are made by using the class name and passing the required paraments the __init__ accepts. Classes are made by using class keyword and defining data members inside."
   ]
  },
  {
   "cell_type": "code",
   "execution_count": 3,
   "id": "cb35da0e",
   "metadata": {},
   "outputs": [],
   "source": [
    "class Circle(): #class using 'class' keyword\n",
    "    def __init__(self,radius):\n",
    "        self.radius=radius"
   ]
  },
  {
   "cell_type": "code",
   "execution_count": 5,
   "id": "2e1ce29e",
   "metadata": {},
   "outputs": [
    {
     "data": {
      "text/plain": [
       "10"
      ]
     },
     "execution_count": 5,
     "metadata": {},
     "output_type": "execute_result"
    }
   ],
   "source": [
    "c=Circle(10) #c is the instance , created using the class name 'Circle'\n",
    "c.radius"
   ]
  },
  {
   "cell_type": "markdown",
   "id": "14d3acb3",
   "metadata": {},
   "source": [
    "# Question 3\n",
    "     Where and how should be class attributes created?"
   ]
  },
  {
   "cell_type": "markdown",
   "id": "db71cdd5",
   "metadata": {},
   "source": [
    "    Class attributes are created in the body of the class. Class attributes are shared by all the objects created using the respective class"
   ]
  },
  {
   "cell_type": "code",
   "execution_count": 17,
   "id": "43796d1e",
   "metadata": {},
   "outputs": [],
   "source": [
    "class Rectangle():\n",
    "    length=10 # every instance of this class will have the length value as 10, created outside the __init_ function #class attribute\n",
    "    def __init__(self,breadth):\n",
    "        self.breadth=breadth #will be created when creating the instance of the class #instance attribute\n",
    "    \n",
    "    def getArea(self):\n",
    "        return self.length*self.breadth\n",
    "    "
   ]
  },
  {
   "cell_type": "code",
   "execution_count": 18,
   "id": "1d9a152a",
   "metadata": {},
   "outputs": [
    {
     "name": "stdout",
     "output_type": "stream",
     "text": [
      "10\n",
      "5\n"
     ]
    },
    {
     "data": {
      "text/plain": [
       "50"
      ]
     },
     "execution_count": 18,
     "metadata": {},
     "output_type": "execute_result"
    }
   ],
   "source": [
    "r=Rectangle(5)\n",
    "print(r.length)\n",
    "print(r.breadth)\n",
    "r.getArea()"
   ]
  },
  {
   "cell_type": "markdown",
   "id": "1f01308e",
   "metadata": {},
   "source": [
    "# Question 4\n",
    "    Where and how are instance attributes created?"
   ]
  },
  {
   "cell_type": "markdown",
   "id": "a78a5a8c",
   "metadata": {},
   "source": [
    "    Instance attributes are created when the object is created by passing the values as parameters.They are generally \n",
    "    created in the __init__ method."
   ]
  },
  {
   "cell_type": "code",
   "execution_count": 20,
   "id": "1ce12b8a",
   "metadata": {},
   "outputs": [],
   "source": [
    "class Rectangle():\n",
    "    \n",
    "    def __init__(self,length,breadth):\n",
    "        self.length=10   #class attribute in previous example is now a instance attribute\n",
    "        self.breadth=breadth #will be created when creating the instance of the class #instance attribute\n",
    "    \n",
    "    def getArea(self):\n",
    "        return self.length*self.breadth"
   ]
  },
  {
   "cell_type": "code",
   "execution_count": 23,
   "id": "8f463279",
   "metadata": {},
   "outputs": [
    {
     "data": {
      "text/plain": [
       "50"
      ]
     },
     "execution_count": 23,
     "metadata": {},
     "output_type": "execute_result"
    }
   ],
   "source": [
    "r=Rectangle(10,5)\n",
    "r.getArea()"
   ]
  },
  {
   "cell_type": "markdown",
   "id": "8e1dc03f",
   "metadata": {},
   "source": [
    "# Question 5\n",
    "    What does the term 'self' in a Python class mean?"
   ]
  },
  {
   "cell_type": "markdown",
   "id": "f920cab0",
   "metadata": {},
   "source": [
    "     The first positional argument refers to instance of that class. Generally it is named as 'self' but it can be anything."
   ]
  },
  {
   "cell_type": "code",
   "execution_count": 24,
   "id": "d7f2969d",
   "metadata": {},
   "outputs": [],
   "source": [
    "class Rectangle():\n",
    "    \n",
    "    def __init__(self,length,breadth):\n",
    "        self.length=10   \n",
    "        self.breadth=breadth \n",
    "    \n",
    "    def getArea(self):\n",
    "        return self.length*self.breadth"
   ]
  },
  {
   "cell_type": "code",
   "execution_count": 25,
   "id": "2a8e807e",
   "metadata": {},
   "outputs": [],
   "source": [
    "r=Rectangle(10,5)"
   ]
  },
  {
   "cell_type": "code",
   "execution_count": 26,
   "id": "4fbd67dc",
   "metadata": {},
   "outputs": [
    {
     "data": {
      "text/plain": [
       "50"
      ]
     },
     "execution_count": 26,
     "metadata": {},
     "output_type": "execute_result"
    }
   ],
   "source": [
    "r.getArea()"
   ]
  },
  {
   "cell_type": "markdown",
   "id": "55e3a555",
   "metadata": {},
   "source": [
    "    python will convert 'r.getArea()' to 'Rectangle.getArea(r)' as the instance r has the values for length and breadth, while calculating r.length*r.breadth will be replaced by 10,5 which were the values passed for that instance."
   ]
  },
  {
   "cell_type": "markdown",
   "id": "cae994af",
   "metadata": {},
   "source": [
    "# Question 6\n",
    "    How does a Python class handle operator overloading?"
   ]
  },
  {
   "cell_type": "markdown",
   "id": "802e3ea7",
   "metadata": {},
   "source": [
    "    The operator overloading in Python means provide extended meaning beyond their predefined operational meaning. Such as, we use the \"+\" operator for adding two integers as well as joining two strings or merging two lists. We can achieve this as the \"+\" operator is overloaded by the \"int\" class and \"str\" class.\n",
    "    \n",
    "    # + and * operators acts differently based on the data type"
   ]
  },
  {
   "cell_type": "code",
   "execution_count": 75,
   "id": "be315dfc",
   "metadata": {},
   "outputs": [
    {
     "data": {
      "text/plain": [
       "'QuestionQuestionQuestion'"
      ]
     },
     "execution_count": 75,
     "metadata": {},
     "output_type": "execute_result"
    }
   ],
   "source": [
    "'Question' * 3"
   ]
  },
  {
   "cell_type": "code",
   "execution_count": 76,
   "id": "77089f6d",
   "metadata": {},
   "outputs": [
    {
     "data": {
      "text/plain": [
       "9"
      ]
     },
     "execution_count": 76,
     "metadata": {},
     "output_type": "execute_result"
    }
   ],
   "source": [
    "3 * 3"
   ]
  },
  {
   "cell_type": "code",
   "execution_count": 77,
   "id": "d7f10bc3",
   "metadata": {},
   "outputs": [
    {
     "data": {
      "text/plain": [
       "'Question3'"
      ]
     },
     "execution_count": 77,
     "metadata": {},
     "output_type": "execute_result"
    }
   ],
   "source": [
    "'Question' + '3'"
   ]
  },
  {
   "cell_type": "code",
   "execution_count": 78,
   "id": "685585fa",
   "metadata": {},
   "outputs": [
    {
     "data": {
      "text/plain": [
       "6"
      ]
     },
     "execution_count": 78,
     "metadata": {},
     "output_type": "execute_result"
    }
   ],
   "source": [
    "3 + 3 "
   ]
  },
  {
   "cell_type": "markdown",
   "id": "1ea4152d",
   "metadata": {},
   "source": [
    "# Question 7\n",
    "    When do you consider allowing operator overloading of your classes?"
   ]
  },
  {
   "cell_type": "markdown",
   "id": "aec21d75",
   "metadata": {},
   "source": [
    "     by redefing the magic operator functions like __add__,__sub__,__mul__ etc.,"
   ]
  },
  {
   "cell_type": "code",
   "execution_count": 69,
   "id": "cea16ec9",
   "metadata": {},
   "outputs": [],
   "source": [
    "class Integer():\n",
    "    def __init__(self,number):\n",
    "        self.number=number\n",
    "        \n",
    "    def __add__(self,other):\n",
    "        return self.number*other.number"
   ]
  },
  {
   "cell_type": "code",
   "execution_count": 70,
   "id": "7e4fb1e6",
   "metadata": {},
   "outputs": [],
   "source": [
    "a=Integer(5)"
   ]
  },
  {
   "cell_type": "code",
   "execution_count": 71,
   "id": "a5b74ecd",
   "metadata": {},
   "outputs": [],
   "source": [
    "b=Integer(7)"
   ]
  },
  {
   "cell_type": "code",
   "execution_count": 72,
   "id": "b415afe2",
   "metadata": {},
   "outputs": [
    {
     "data": {
      "text/plain": [
       "35"
      ]
     },
     "execution_count": 72,
     "metadata": {},
     "output_type": "execute_result"
    }
   ],
   "source": [
    "a+b   #instead of giving 12 as output due to overloading it is multiplying"
   ]
  },
  {
   "cell_type": "markdown",
   "id": "a5913800",
   "metadata": {},
   "source": [
    "# Question 8\n",
    "    What is the most popular form of operator overloading?"
   ]
  },
  {
   "cell_type": "markdown",
   "id": "8a81ccd7",
   "metadata": {},
   "source": [
    "    '+' addition operator is the most popular form of operator overloading. It is used to add integers and concatinate strings"
   ]
  },
  {
   "cell_type": "markdown",
   "id": "aaa9bcd8",
   "metadata": {},
   "source": [
    "# Question 9\n",
    "    What are the two most important concepts to grasp in order to comprehend Python OOP code?"
   ]
  },
  {
   "cell_type": "markdown",
   "id": "544657de",
   "metadata": {},
   "source": [
    "    Inheritance and Polymorphism are the most important concept."
   ]
  }
 ],
 "metadata": {
  "kernelspec": {
   "display_name": "Python 3 (ipykernel)",
   "language": "python",
   "name": "python3"
  },
  "language_info": {
   "codemirror_mode": {
    "name": "ipython",
    "version": 3
   },
   "file_extension": ".py",
   "mimetype": "text/x-python",
   "name": "python",
   "nbconvert_exporter": "python",
   "pygments_lexer": "ipython3",
   "version": "3.9.12"
  }
 },
 "nbformat": 4,
 "nbformat_minor": 5
}
