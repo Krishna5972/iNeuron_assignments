{
 "cells": [
  {
   "cell_type": "markdown",
   "id": "6e1f90fd",
   "metadata": {},
   "source": [
    "# Question 1\n",
    "    What is the purpose of the try statement?"
   ]
  },
  {
   "cell_type": "markdown",
   "id": "8c6dfdeb",
   "metadata": {},
   "source": [
    "    The try block lets you test a block of code for possible exceptions. If there is a chance for piece of code to throw an exception it is generally written inside the try block.Which is followed by except block"
   ]
  },
  {
   "cell_type": "code",
   "execution_count": 2,
   "id": "ec24b578",
   "metadata": {},
   "outputs": [
    {
     "name": "stdout",
     "output_type": "stream",
     "text": [
      "IndexError('list index out of range')\n"
     ]
    }
   ],
   "source": [
    "try:\n",
    "    a=[4,6]\n",
    "    print(a[5])\n",
    "except Exception as e:\n",
    "    print(repr(e))"
   ]
  },
  {
   "cell_type": "markdown",
   "id": "f8951c9f",
   "metadata": {},
   "source": [
    "# Question 2\n",
    "    What are the two most popular try statement variations?"
   ]
  },
  {
   "cell_type": "markdown",
   "id": "fb65e389",
   "metadata": {},
   "source": [
    "    try with except,else and try with except,finally "
   ]
  },
  {
   "cell_type": "code",
   "execution_count": 8,
   "id": "6bbf6cec",
   "metadata": {},
   "outputs": [
    {
     "name": "stdout",
     "output_type": "stream",
     "text": [
      "6\n",
      "no exception found\n"
     ]
    }
   ],
   "source": [
    "try:\n",
    "    a=[4,6]\n",
    "    print(a[1])\n",
    "except Exception as e:\n",
    "    print(repr(e))\n",
    "else:\n",
    "    print('no exception found')"
   ]
  },
  {
   "cell_type": "code",
   "execution_count": 10,
   "id": "f859563e",
   "metadata": {},
   "outputs": [
    {
     "name": "stdout",
     "output_type": "stream",
     "text": [
      "IndexError('list index out of range')\n",
      "from finally block\n",
      "[4, 6]\n"
     ]
    }
   ],
   "source": [
    "try:\n",
    "    a=[4,6]\n",
    "    print(a[5])\n",
    "except Exception as e:\n",
    "    print(repr(e))\n",
    "finally:\n",
    "    print('from finally block')\n",
    "    print(a)"
   ]
  },
  {
   "cell_type": "markdown",
   "id": "140db430",
   "metadata": {},
   "source": [
    "# Question 3\n",
    "    What is the purpose of the raise statement?"
   ]
  },
  {
   "cell_type": "markdown",
   "id": "214daa80",
   "metadata": {},
   "source": [
    "    raise is used to throw custom exceptions or build in exception, its user controlled"
   ]
  },
  {
   "cell_type": "code",
   "execution_count": 11,
   "id": "143aa789",
   "metadata": {},
   "outputs": [
    {
     "ename": "ValueError",
     "evalue": "",
     "output_type": "error",
     "traceback": [
      "\u001b[1;31m---------------------------------------------------------------------------\u001b[0m",
      "\u001b[1;31mValueError\u001b[0m                                Traceback (most recent call last)",
      "Input \u001b[1;32mIn [11]\u001b[0m, in \u001b[0;36m<cell line: 1>\u001b[1;34m()\u001b[0m\n\u001b[1;32m----> 1\u001b[0m \u001b[38;5;28;01mraise\u001b[39;00m \u001b[38;5;167;01mValueError\u001b[39;00m\n",
      "\u001b[1;31mValueError\u001b[0m: "
     ]
    }
   ],
   "source": [
    "raise ValueError"
   ]
  },
  {
   "cell_type": "code",
   "execution_count": 23,
   "id": "baddeb49",
   "metadata": {},
   "outputs": [],
   "source": [
    "class CustomError(Exception):\n",
    "    def __str__(self):      \n",
    "        return repr(\"Custom Error\")\n",
    "    def __repr__(self):      \n",
    "        return repr(\"Custom Error\")"
   ]
  },
  {
   "cell_type": "code",
   "execution_count": 25,
   "id": "2a8967c0",
   "metadata": {},
   "outputs": [
    {
     "ename": "CustomError",
     "evalue": "'Custom Error'",
     "output_type": "error",
     "traceback": [
      "\u001b[1;31m---------------------------------------------------------------------------\u001b[0m",
      "\u001b[1;31mCustomError\u001b[0m                               Traceback (most recent call last)",
      "Input \u001b[1;32mIn [25]\u001b[0m, in \u001b[0;36m<cell line: 1>\u001b[1;34m()\u001b[0m\n\u001b[1;32m----> 1\u001b[0m \u001b[38;5;28;01mraise\u001b[39;00m CustomError\n",
      "\u001b[1;31mCustomError\u001b[0m: 'Custom Error'"
     ]
    }
   ],
   "source": [
    "raise CustomError"
   ]
  },
  {
   "cell_type": "markdown",
   "id": "e848dcfb",
   "metadata": {},
   "source": [
    "# Question 4\n",
    "    What does the assert statement do, and what other statement is it like?"
   ]
  },
  {
   "cell_type": "markdown",
   "id": "288e01dd",
   "metadata": {},
   "source": [
    "assert is like a raise statement where user can raise the exception, in assert a custom message can be printe based on the condtion"
   ]
  },
  {
   "cell_type": "code",
   "execution_count": 30,
   "id": "dda894e8",
   "metadata": {},
   "outputs": [
    {
     "ename": "AssertionError",
     "evalue": "Not equal",
     "output_type": "error",
     "traceback": [
      "\u001b[1;31m---------------------------------------------------------------------------\u001b[0m",
      "\u001b[1;31mAssertionError\u001b[0m                            Traceback (most recent call last)",
      "Input \u001b[1;32mIn [30]\u001b[0m, in \u001b[0;36m<cell line: 2>\u001b[1;34m()\u001b[0m\n\u001b[0;32m      1\u001b[0m a\u001b[38;5;241m=\u001b[39m\u001b[38;5;241m45\u001b[39m\n\u001b[1;32m----> 2\u001b[0m \u001b[38;5;28;01massert\u001b[39;00m a \u001b[38;5;241m==\u001b[39m \u001b[38;5;241m5\u001b[39m , \u001b[38;5;124m'\u001b[39m\u001b[38;5;124mNot equal\u001b[39m\u001b[38;5;124m'\u001b[39m\n",
      "\u001b[1;31mAssertionError\u001b[0m: Not equal"
     ]
    }
   ],
   "source": [
    "a=45\n",
    "assert a == 5 , 'Not equal'"
   ]
  },
  {
   "cell_type": "code",
   "execution_count": 36,
   "id": "638d1d22",
   "metadata": {},
   "outputs": [],
   "source": [
    "assert a == 45 ,'Not equal'  #if assert True, nothing will happen"
   ]
  },
  {
   "cell_type": "markdown",
   "id": "f2759920",
   "metadata": {},
   "source": [
    "# Question 5\n",
    "    What is the purpose of the with/as argument, and what other statement is it like?"
   ]
  },
  {
   "cell_type": "markdown",
   "id": "4351809b",
   "metadata": {},
   "source": [
    " when dealing with files, with argument is used as it handles closing of the file once the with block is exited. as is used to rename the object open() is returning to a readable userfriendly name"
   ]
  },
  {
   "cell_type": "code",
   "execution_count": 37,
   "id": "c7a0ac1f",
   "metadata": {},
   "outputs": [],
   "source": [
    "with open('Demo.txt','w+') as f:\n",
    "    f.write('Hello,creating this file with \"with\" statement\\n')\n",
    "    "
   ]
  },
  {
   "cell_type": "code",
   "execution_count": 38,
   "id": "6fd79978",
   "metadata": {},
   "outputs": [
    {
     "data": {
      "text/plain": [
       "True"
      ]
     },
     "execution_count": 38,
     "metadata": {},
     "output_type": "execute_result"
    }
   ],
   "source": [
    "f.closed"
   ]
  }
 ],
 "metadata": {
  "kernelspec": {
   "display_name": "Python 3 (ipykernel)",
   "language": "python",
   "name": "python3"
  },
  "language_info": {
   "codemirror_mode": {
    "name": "ipython",
    "version": 3
   },
   "file_extension": ".py",
   "mimetype": "text/x-python",
   "name": "python",
   "nbconvert_exporter": "python",
   "pygments_lexer": "ipython3",
   "version": "3.9.12"
  }
 },
 "nbformat": 4,
 "nbformat_minor": 5
}
