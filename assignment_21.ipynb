{
 "cells": [
  {
   "cell_type": "markdown",
   "id": "22e18792",
   "metadata": {},
   "source": [
    "# Question 1\n",
    "## Add the current date to the text file today.txt as a string."
   ]
  },
  {
   "cell_type": "code",
   "execution_count": 10,
   "id": "9f80869e",
   "metadata": {},
   "outputs": [],
   "source": [
    "from datetime import datetime\n",
    "today=datetime.now().strftime('%d, %b %Y')\n",
    "with open('data/today.txt','w+') as f:\n",
    "    f.write(today)"
   ]
  },
  {
   "cell_type": "markdown",
   "id": "00a3545e",
   "metadata": {},
   "source": [
    "# Question 2\n",
    "## Read the text file today.txt into the string today_string"
   ]
  },
  {
   "cell_type": "code",
   "execution_count": 13,
   "id": "c944317d",
   "metadata": {},
   "outputs": [
    {
     "data": {
      "text/plain": [
       "'19, May 2022'"
      ]
     },
     "execution_count": 13,
     "metadata": {},
     "output_type": "execute_result"
    }
   ],
   "source": [
    "with open('data/today.txt','r') as f:\n",
    "    today_string=f.read()\n",
    "today_string"
   ]
  },
  {
   "cell_type": "markdown",
   "id": "5b5527ee",
   "metadata": {},
   "source": [
    "# Question 3\n",
    "## Parse the date from today_string."
   ]
  },
  {
   "cell_type": "code",
   "execution_count": 22,
   "id": "624643ec",
   "metadata": {},
   "outputs": [
    {
     "data": {
      "text/plain": [
       "datetime.datetime(2022, 5, 19, 0, 0)"
      ]
     },
     "execution_count": 22,
     "metadata": {},
     "output_type": "execute_result"
    }
   ],
   "source": [
    "datetime.strptime(today_string, '%d, %b %Y')"
   ]
  },
  {
   "cell_type": "markdown",
   "id": "3b87b6b0",
   "metadata": {},
   "source": [
    "# Question 4\n",
    "## List the files in your current directory"
   ]
  },
  {
   "cell_type": "code",
   "execution_count": 23,
   "id": "331873b9",
   "metadata": {},
   "outputs": [
    {
     "name": "stdout",
     "output_type": "stream",
     "text": [
      " Volume in drive C has no label.\n",
      " Volume Serial Number is 009C-E6C9\n",
      "\n",
      " Directory of C:\\Users\\krishna\\Assignments_iNeuron\\Python_Basic\n",
      "\n",
      "19-05-2022  16:40    <DIR>          .\n",
      "19-05-2022  16:40    <DIR>          ..\n",
      "19-05-2022  16:34    <DIR>          .ipynb_checkpoints\n",
      "16-05-2022  21:49    <DIR>          __pycache__\n",
      "13-05-2022  22:26            11,064 Assignment_1.ipynb\n",
      "16-05-2022  18:23             6,385 assignment_10.ipynb\n",
      "16-05-2022  19:05             9,240 assignment_11.ipynb\n",
      "16-05-2022  19:10             3,000 assignment_12.ipynb\n",
      "16-05-2022  20:10             9,435 assignment_15.ipynb\n",
      "16-05-2022  20:29            10,835 assignment_16.ipynb\n",
      "16-05-2022  20:51            10,077 assignment_17.ipynb\n",
      "16-05-2022  22:06             5,010 assignment_18.ipynb\n",
      "16-05-2022  22:39            13,844 assignment_19.ipynb\n",
      "19-05-2022  16:31            10,264 assignment_20.ipynb\n",
      "19-05-2022  16:40             3,810 assignment_21.ipynb\n",
      "14-05-2022  15:51             9,828 Assignment_3.ipynb\n",
      "14-05-2022  22:13            15,291 Assignment_4.ipynb\n",
      "15-05-2022  18:43             6,961 Assignment_5.ipynb\n",
      "15-05-2022  19:44            13,819 assignment_6.ipynb\n",
      "16-05-2022  08:46            38,463 assignment_7.ipynb\n",
      "16-05-2022  14:34            20,576 assignment_8.ipynb\n",
      "16-05-2022  14:58             6,074 assignment_9.ipynb\n",
      "14-05-2022  14:22            20,078 Asssignment_2.ipynb\n",
      "19-05-2022  16:39    <DIR>          data\n",
      "16-05-2022  14:56                34 test.bak\n",
      "16-05-2022  14:56               517 test.dat\n",
      "16-05-2022  14:56                34 test.dir\n",
      "16-05-2022  14:53                61 test.txt\n",
      "16-05-2022  21:49                40 zoo.py\n",
      "              24 File(s)        224,740 bytes\n",
      "               5 Dir(s)  212,852,842,496 bytes free\n"
     ]
    }
   ],
   "source": [
    "ls"
   ]
  },
  {
   "cell_type": "markdown",
   "id": "66192221",
   "metadata": {},
   "source": [
    "# Question 5\n",
    "## Create a list of all of the files in your parent directory (minimum five files should be available)."
   ]
  },
  {
   "cell_type": "code",
   "execution_count": 46,
   "id": "8cbebd46",
   "metadata": {},
   "outputs": [
    {
     "data": {
      "text/plain": [
       "('C:\\\\Users\\\\krishna\\\\Assignments_iNeuron\\\\Python_Basic',\n",
       " ['.git', '.ipynb_checkpoints', 'data', '__pycache__'],\n",
       " ['Assignment_1.ipynb',\n",
       "  'assignment_10.ipynb',\n",
       "  'assignment_11.ipynb',\n",
       "  'assignment_12.ipynb',\n",
       "  'assignment_15.ipynb',\n",
       "  'assignment_16.ipynb',\n",
       "  'assignment_17.ipynb',\n",
       "  'assignment_18.ipynb',\n",
       "  'assignment_19.ipynb',\n",
       "  'assignment_20.ipynb',\n",
       "  'assignment_21.ipynb',\n",
       "  'Assignment_3.ipynb',\n",
       "  'Assignment_4.ipynb',\n",
       "  'Assignment_5.ipynb',\n",
       "  'assignment_6.ipynb',\n",
       "  'assignment_7.ipynb',\n",
       "  'assignment_8.ipynb',\n",
       "  'assignment_9.ipynb',\n",
       "  'Asssignment_2.ipynb',\n",
       "  'test.bak',\n",
       "  'test.dat',\n",
       "  'test.dir',\n",
       "  'test.txt',\n",
       "  'zoo.py'])"
      ]
     },
     "execution_count": 46,
     "metadata": {},
     "output_type": "execute_result"
    }
   ],
   "source": [
    "import os\n",
    "\n",
    "list(os.walk(os.getcwd()))[0]"
   ]
  },
  {
   "cell_type": "markdown",
   "id": "3fe6a043",
   "metadata": {},
   "source": [
    "# Question 6\n",
    "## Use multiprocessing to create three separate processes. Make each one wait a random number of seconds between one and five, print the current time, and then exit."
   ]
  },
  {
   "cell_type": "code",
   "execution_count": 52,
   "id": "8de8c643",
   "metadata": {},
   "outputs": [],
   "source": [
    "import multiprocessing\n",
    "import time\n",
    "\n",
    "def test(a,b):\n",
    "    \n",
    "    print(f'{a}+{b}={a+b}')\n",
    "   \n",
    "    "
   ]
  },
  {
   "cell_type": "code",
   "execution_count": 62,
   "id": "8a10fc10",
   "metadata": {},
   "outputs": [
    {
     "name": "stdout",
     "output_type": "stream",
     "text": [
      "10+12=22\n",
      "I took 0.0 ms to execute this function\n",
      "p1 took 1.0025198459625244 ms to execute this function\n",
      "20+50=70\n",
      "I took 0.0 ms to execute this function\n",
      "p2 took 3.005154848098755 ms to execute this function\n",
      "120+150=270\n",
      "I took 0.0 ms to execute this function\n",
      "p3 took 5.0027244091033936 ms to execute this function\n"
     ]
    }
   ],
   "source": [
    "start=time.time()\n",
    "p1 =  multiprocessing.Process(target= test(10,12))\n",
    "time.sleep(1)\n",
    "end=time.time()\n",
    "print(f'p1 took {end-start} ms to execute this function')\n",
    "\n",
    "start=time.time()\n",
    "p2 =  multiprocessing.Process(target= test(20,50))\n",
    "time.sleep(3)\n",
    "end=time.time()\n",
    "print(f'p2 took {end-start} ms to execute this function')\n",
    "\n",
    "\n",
    "start=time.time()\n",
    "p3 =  multiprocessing.Process(target= test(120,150))\n",
    "time.sleep(5)\n",
    "end=time.time()\n",
    "print(f'p3 took {end-start} ms to execute this function')\n",
    "\n"
   ]
  },
  {
   "cell_type": "markdown",
   "id": "5bacf995",
   "metadata": {},
   "source": [
    "# Question 7\n",
    "## Create a date object of your day of birth."
   ]
  },
  {
   "cell_type": "code",
   "execution_count": 64,
   "id": "2a763c01",
   "metadata": {},
   "outputs": [],
   "source": [
    "dob = datetime(1999, 5, 26)"
   ]
  },
  {
   "cell_type": "markdown",
   "id": "d0c8adb3",
   "metadata": {},
   "source": [
    "# Question 8\n",
    "## What day of the week was your day of birth?"
   ]
  },
  {
   "cell_type": "code",
   "execution_count": 69,
   "id": "d0d881b8",
   "metadata": {},
   "outputs": [
    {
     "data": {
      "text/plain": [
       "'Wednesday'"
      ]
     },
     "execution_count": 69,
     "metadata": {},
     "output_type": "execute_result"
    }
   ],
   "source": [
    "dob.strftime('%A')"
   ]
  },
  {
   "cell_type": "markdown",
   "id": "6df0ae26",
   "metadata": {},
   "source": [
    "# Question 9\n",
    "## When will you be (or when were you) 10,000 days old?"
   ]
  },
  {
   "cell_type": "code",
   "execution_count": 77,
   "id": "b59643b2",
   "metadata": {},
   "outputs": [],
   "source": [
    "from datetime import timedelta\n",
    "day_1000=dob+timedelta(days=10000)"
   ]
  },
  {
   "cell_type": "code",
   "execution_count": 78,
   "id": "8af9e614",
   "metadata": {},
   "outputs": [
    {
     "data": {
      "text/plain": [
       "'11,Oct 2026'"
      ]
     },
     "execution_count": 78,
     "metadata": {},
     "output_type": "execute_result"
    }
   ],
   "source": [
    "day_1000.strftime('%d,%b %Y')"
   ]
  },
  {
   "cell_type": "markdown",
   "id": "abe52ecb",
   "metadata": {},
   "source": [
    "I will be 10000 days old by 11th oct 2026"
   ]
  }
 ],
 "metadata": {
  "kernelspec": {
   "display_name": "Python 3 (ipykernel)",
   "language": "python",
   "name": "python3"
  },
  "language_info": {
   "codemirror_mode": {
    "name": "ipython",
    "version": 3
   },
   "file_extension": ".py",
   "mimetype": "text/x-python",
   "name": "python",
   "nbconvert_exporter": "python",
   "pygments_lexer": "ipython3",
   "version": "3.9.12"
  }
 },
 "nbformat": 4,
 "nbformat_minor": 5
}
