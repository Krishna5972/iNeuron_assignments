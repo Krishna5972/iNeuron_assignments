{
 "cells": [
  {
   "cell_type": "markdown",
   "id": "b45298ee",
   "metadata": {},
   "source": [
    "# Question 1\n",
    "\n",
    "What are the two values of the Boolean data type? How do you write them?"
   ]
  },
  {
   "cell_type": "markdown",
   "id": "3a701d88",
   "metadata": {},
   "source": [
    "a) True and Flase are the two values of boolean data types. we can write them a a=True, b= False . We can use bool function on any integer or float having zero as a value is considered as False, if they have any other value as any positive or negative number then it is considered as True"
   ]
  },
  {
   "cell_type": "code",
   "execution_count": 63,
   "id": "503dd462",
   "metadata": {},
   "outputs": [
    {
     "data": {
      "text/plain": [
       "True"
      ]
     },
     "execution_count": 63,
     "metadata": {},
     "output_type": "execute_result"
    }
   ],
   "source": [
    "a=-5\n",
    "bool(a)"
   ]
  },
  {
   "cell_type": "code",
   "execution_count": 64,
   "id": "91818def",
   "metadata": {},
   "outputs": [
    {
     "data": {
      "text/plain": [
       "True"
      ]
     },
     "execution_count": 64,
     "metadata": {},
     "output_type": "execute_result"
    }
   ],
   "source": [
    "a=2\n",
    "bool(a)"
   ]
  },
  {
   "cell_type": "code",
   "execution_count": 65,
   "id": "7b73a7cb",
   "metadata": {},
   "outputs": [
    {
     "data": {
      "text/plain": [
       "False"
      ]
     },
     "execution_count": 65,
     "metadata": {},
     "output_type": "execute_result"
    }
   ],
   "source": [
    "a=0\n",
    "bool(a)"
   ]
  },
  {
   "cell_type": "code",
   "execution_count": 66,
   "id": "39b54910",
   "metadata": {},
   "outputs": [
    {
     "data": {
      "text/plain": [
       "bool"
      ]
     },
     "execution_count": 66,
     "metadata": {},
     "output_type": "execute_result"
    }
   ],
   "source": [
    "a=False\n",
    "type(a)"
   ]
  },
  {
   "cell_type": "markdown",
   "id": "cd094347",
   "metadata": {},
   "source": [
    "# Question 2\n",
    "What are the three different types of Boolean operators?"
   ]
  },
  {
   "cell_type": "markdown",
   "id": "4b2c2d9d",
   "metadata": {},
   "source": [
    "a)The logical operators and, or and not are the three different types of boolean operators"
   ]
  },
  {
   "cell_type": "code",
   "execution_count": 67,
   "id": "f57c7bfc",
   "metadata": {},
   "outputs": [],
   "source": [
    "a=True\n",
    "b=False"
   ]
  },
  {
   "cell_type": "code",
   "execution_count": 68,
   "id": "3be076fe",
   "metadata": {},
   "outputs": [
    {
     "name": "stdout",
     "output_type": "stream",
     "text": [
      "One of them must be false\n"
     ]
    }
   ],
   "source": [
    "#and case\n",
    "if a and b:\n",
    "    print('Both variable are true')\n",
    "else:\n",
    "    print('One of them must be false')\n",
    "    "
   ]
  },
  {
   "cell_type": "code",
   "execution_count": 69,
   "id": "c1b29b53",
   "metadata": {},
   "outputs": [
    {
     "name": "stdout",
     "output_type": "stream",
     "text": [
      "One of them must be True\n"
     ]
    }
   ],
   "source": [
    "#or case\n",
    "if a or b:\n",
    "    print('One of them must be True')\n",
    "else:\n",
    "    print('Both of them must be false')"
   ]
  },
  {
   "cell_type": "code",
   "execution_count": 70,
   "id": "f93485aa",
   "metadata": {},
   "outputs": [
    {
     "name": "stdout",
     "output_type": "stream",
     "text": [
      "b must be having False\n"
     ]
    }
   ],
   "source": [
    "if not a:\n",
    "    print('a must be having False')\n",
    "elif not b:\n",
    "    print('b must be having False')\n",
    "else:\n",
    "    print('Both variables contain bool value True')"
   ]
  },
  {
   "cell_type": "markdown",
   "id": "55f7c9d9",
   "metadata": {},
   "source": [
    "# Question 3\n",
    "\n",
    "Make a list of each Boolean operator's truth tables (i.e. every possible combination of Boolean values for the operator and what it evaluate )."
   ]
  },
  {
   "cell_type": "code",
   "execution_count": 71,
   "id": "ec62cf05",
   "metadata": {},
   "outputs": [],
   "source": [
    "def and_cases(a,b):\n",
    "    '''\n",
    "    takes in two boolean values and returns the result based on 'and' condition\n",
    "    Parameters:\n",
    "        a: value1\n",
    "        b: value2\n",
    "    Returns:\n",
    "        boolean value: True or False based on 'and' condition'\n",
    "    '''\n",
    "    if a and b:\n",
    "        return True\n",
    "    else:\n",
    "        return False"
   ]
  },
  {
   "cell_type": "code",
   "execution_count": 95,
   "id": "52bc34c0",
   "metadata": {},
   "outputs": [
    {
     "name": "stdout",
     "output_type": "stream",
     "text": [
      "Value 1  |   Value 2        | Result\n",
      "-------------------------------------------\n",
      " True     |   True          | True\n",
      " True     |   False          | False\n",
      " False     |   True          | False\n",
      " False     |   False          | False\n"
     ]
    }
   ],
   "source": [
    "conditions=[True,False]\n",
    "print('Value 1  |   Value 2        | Result')\n",
    "print('-------------------------------------------')\n",
    "for i in conditions:\n",
    "    for j in conditions:\n",
    "        print(f' {i}     |   {j}          |' ,and_cases(i,j))\n",
    "        "
   ]
  },
  {
   "cell_type": "code",
   "execution_count": 73,
   "id": "5c942a3b",
   "metadata": {},
   "outputs": [],
   "source": [
    "def or_cases(a,b):\n",
    "    '''\n",
    "    takes in two boolean values and returns the result based on 'or' condition\n",
    "    Parameters:\n",
    "        a: value1\n",
    "        b: value2\n",
    "    Returns:\n",
    "        boolean value: True or False based on 'or' condition'\n",
    "    '''\n",
    "    if a or b:\n",
    "        return True\n",
    "    else:\n",
    "        return False"
   ]
  },
  {
   "cell_type": "code",
   "execution_count": 92,
   "id": "0d250ff6",
   "metadata": {},
   "outputs": [
    {
     "name": "stdout",
     "output_type": "stream",
     "text": [
      "Value 1 | Value 2 | Result\n",
      "---------------------------\n",
      " True     |   True          | True\n",
      " True     |   False          | True\n",
      " False     |   True          | True\n",
      " False     |   False          | False\n"
     ]
    }
   ],
   "source": [
    "print('Value 1 | Value 2 | Result')\n",
    "print('---------------------------')\n",
    "for i in conditions:\n",
    "    for j in conditions:\n",
    "        print(f' {i}     |   {j}          |' ,or_cases(i,j))"
   ]
  },
  {
   "cell_type": "code",
   "execution_count": 93,
   "id": "8de4eb93",
   "metadata": {},
   "outputs": [],
   "source": [
    "def not_cases(a):\n",
    "    '''\n",
    "    takes in one boolean values and returns the result based on 'not' condition\n",
    "    Parameters:\n",
    "        a: value1\n",
    "    Returns:\n",
    "        boolean value: True or False based on 'not' condition'\n",
    "    '''\n",
    "    if not a:\n",
    "        return (not(a))\n",
    "    else:\n",
    "        return (not(a))\n",
    "        \n"
   ]
  },
  {
   "cell_type": "code",
   "execution_count": 76,
   "id": "bdcf2a1d",
   "metadata": {},
   "outputs": [
    {
     "name": "stdout",
     "output_type": "stream",
     "text": [
      "Value   | Result\n",
      "------------------\n",
      "True    | False\n",
      "False   | True\n"
     ]
    }
   ],
   "source": [
    "print('Value   | Result')\n",
    "print('------------------')\n",
    "print(True ,'   |',not_cases(True))\n",
    "print(False ,'  |',not_cases(False))"
   ]
  },
  {
   "cell_type": "markdown",
   "id": "49803a44",
   "metadata": {},
   "source": [
    "# Question 4\n",
    "\n",
    "What are the values of the following expressions?\n",
    "\n"
   ]
  },
  {
   "cell_type": "markdown",
   "id": "823bb71a",
   "metadata": {},
   "source": [
    "(5 > 4) and (3 == 5)  :False <br>\n",
    "not (5 > 4)   : False <br>\n",
    "(5 > 4) or (3 == 5)  : True <br>\n",
    "not ((5 > 4) or (3 == 5))  :False <br>\n",
    "(True and True) and (True == False)  : False <br>\n",
    "(not False) or (not True)  : True  <br>"
   ]
  },
  {
   "cell_type": "markdown",
   "id": "32e4707b",
   "metadata": {},
   "source": [
    "# Question 5\n",
    "What are the six comparison operators?"
   ]
  },
  {
   "cell_type": "markdown",
   "id": "ec2be12b",
   "metadata": {},
   "source": [
    "1) Equal (==) , checks if the values are equal, returns true if they are equal"
   ]
  },
  {
   "cell_type": "code",
   "execution_count": 77,
   "id": "86a93644",
   "metadata": {},
   "outputs": [
    {
     "name": "stdout",
     "output_type": "stream",
     "text": [
      "True\n",
      "False\n"
     ]
    }
   ],
   "source": [
    "a=5\n",
    "b=5\n",
    "c=6\n",
    "print(a==b)\n",
    "print(a==c)"
   ]
  },
  {
   "cell_type": "markdown",
   "id": "f1bcbde4",
   "metadata": {},
   "source": [
    "2) Equal (!=) , checks if the values are not equal, returns true if they are not equal"
   ]
  },
  {
   "cell_type": "code",
   "execution_count": 78,
   "id": "fc490896",
   "metadata": {},
   "outputs": [
    {
     "name": "stdout",
     "output_type": "stream",
     "text": [
      "False\n",
      "True\n"
     ]
    }
   ],
   "source": [
    "print(a!=b)\n",
    "print(a!=c)"
   ]
  },
  {
   "cell_type": "markdown",
   "id": "43113fff",
   "metadata": {},
   "source": [
    "3) Greater than or equal to (>=) , returns True if the left side variable's value is greater than right sides value or even if its equal"
   ]
  },
  {
   "cell_type": "code",
   "execution_count": 79,
   "id": "1390f64c",
   "metadata": {},
   "outputs": [
    {
     "name": "stdout",
     "output_type": "stream",
     "text": [
      "True\n",
      "False\n"
     ]
    }
   ],
   "source": [
    "print(a>=b)\n",
    "print(a>=c)"
   ]
  },
  {
   "cell_type": "markdown",
   "id": "d4ddf328",
   "metadata": {},
   "source": [
    "4) Less than or equal to (<=) , returns True if the left side variable's value is less than right sides value or even if its equal"
   ]
  },
  {
   "cell_type": "code",
   "execution_count": 80,
   "id": "44b590f2",
   "metadata": {},
   "outputs": [
    {
     "name": "stdout",
     "output_type": "stream",
     "text": [
      "True\n",
      "True\n"
     ]
    }
   ],
   "source": [
    "print(a<=b)\n",
    "print(a<=c)"
   ]
  },
  {
   "cell_type": "markdown",
   "id": "afd893cd",
   "metadata": {},
   "source": [
    "5)Less than (<), returns True if the left side variable's value is less than right side's value"
   ]
  },
  {
   "cell_type": "code",
   "execution_count": 81,
   "id": "1d8a9465",
   "metadata": {},
   "outputs": [
    {
     "name": "stdout",
     "output_type": "stream",
     "text": [
      "False\n",
      "True\n"
     ]
    }
   ],
   "source": [
    "print(a<b)\n",
    "print(a<c)"
   ]
  },
  {
   "cell_type": "markdown",
   "id": "40727eee",
   "metadata": {},
   "source": [
    "6)Greater than (<), returns True if the left side variable's value is greater than right side's value"
   ]
  },
  {
   "cell_type": "code",
   "execution_count": 82,
   "id": "5ec23985",
   "metadata": {},
   "outputs": [
    {
     "name": "stdout",
     "output_type": "stream",
     "text": [
      "False\n",
      "False\n"
     ]
    }
   ],
   "source": [
    "print(a>b)\n",
    "print(a>c)"
   ]
  },
  {
   "cell_type": "markdown",
   "id": "6911329e",
   "metadata": {},
   "source": [
    "# Question 6"
   ]
  },
  {
   "cell_type": "markdown",
   "id": "aa291d77",
   "metadata": {},
   "source": [
    "How do you tell the difference between the equal to and assignment operators?Describe a condition and when you would use one."
   ]
  },
  {
   "cell_type": "markdown",
   "id": "23e929e1",
   "metadata": {},
   "source": [
    "Equalto operator uses two '=' ,where as assignmnet operator uses only one '='. "
   ]
  },
  {
   "cell_type": "code",
   "execution_count": 83,
   "id": "dbe9e36d",
   "metadata": {},
   "outputs": [
    {
     "data": {
      "text/plain": [
       "True"
      ]
     },
     "execution_count": 83,
     "metadata": {},
     "output_type": "execute_result"
    }
   ],
   "source": [
    "a=6 #assignment operator\n",
    "a==6 #equalto operator"
   ]
  },
  {
   "cell_type": "markdown",
   "id": "a1ef354f",
   "metadata": {},
   "source": [
    "If we want to assign a value to a variable to use it,update at later point in time, we will use assignmnet operator, if we want to compare the variable with some value we will use equal to operator"
   ]
  },
  {
   "cell_type": "code",
   "execution_count": 84,
   "id": "9bd0fd75",
   "metadata": {},
   "outputs": [
    {
     "data": {
      "text/plain": [
       "True"
      ]
     },
     "execution_count": 84,
     "metadata": {},
     "output_type": "execute_result"
    }
   ],
   "source": [
    "a=6 #to store value 6 in a \n",
    "a==6 #to compare if the value 'a' is holding is equal to 6 or not"
   ]
  },
  {
   "cell_type": "markdown",
   "id": "9b32784b",
   "metadata": {},
   "source": [
    "# Question 7\n",
    "Identify the three blocks in this code:<br>\n",
    "    spam = 0 <br>\n",
    "    if spam == 10: <br>\n",
    "    print('eggs') <br>\n",
    "    if spam > 5: <br> \n",
    "    print('bacon') <br>\n",
    "    else: <br>\n",
    "    print('ham') <br>\n",
    "    print('spam') <br>\n",
    "    print('spam') <br>\n"
   ]
  },
  {
   "cell_type": "code",
   "execution_count": 85,
   "id": "cc06e31d",
   "metadata": {},
   "outputs": [
    {
     "name": "stdout",
     "output_type": "stream",
     "text": [
      "ham\n",
      "spam\n",
      "spam\n"
     ]
    }
   ],
   "source": [
    "#new block begins every time you increase the indentation of a line\n",
    "\n",
    "spam= 0  \n",
    "\n",
    "if spam==10:\n",
    "    print('eggs')  #block 1\n",
    "\n",
    "if spam > 5:\n",
    "    print('bacon')  #block 2\n",
    "else:\n",
    "    print('ham')  #block 3\n",
    "    print('spam')\n",
    "    print('spam')"
   ]
  },
  {
   "cell_type": "markdown",
   "id": "6a7eacb7",
   "metadata": {},
   "source": [
    "# Question 8\n",
    "\n",
    "Write code that prints Hello if 1 is stored in spam, prints Howdy if 2 is stored in spam, and prints Greetings! if anything else is stored in spam."
   ]
  },
  {
   "cell_type": "code",
   "execution_count": 86,
   "id": "dea58ff3",
   "metadata": {},
   "outputs": [
    {
     "name": "stdout",
     "output_type": "stream",
     "text": [
      "Hello\n"
     ]
    }
   ],
   "source": [
    "spam = 1\n",
    "\n",
    "if spam==1:\n",
    "    print('Hello')\n",
    "elif spam==2:\n",
    "    print('Howdy')\n",
    "else:\n",
    "    print('Greetings!')"
   ]
  },
  {
   "cell_type": "markdown",
   "id": "44bc29ea",
   "metadata": {},
   "source": [
    "# Question 9\n",
    "If your programme is stuck in an endless loop, what keys you’ll press?"
   ]
  },
  {
   "cell_type": "markdown",
   "id": "46ce3ae2",
   "metadata": {},
   "source": [
    "a) CTRL + C"
   ]
  },
  {
   "cell_type": "markdown",
   "id": "bb0bfe41",
   "metadata": {},
   "source": [
    "# Question 10\n",
    "How can you tell the difference between break and continue?"
   ]
  },
  {
   "cell_type": "markdown",
   "id": "bfb1bdf3",
   "metadata": {},
   "source": [
    "a)The main difference between break and continue is that break is used for immediate termination of current loop.‘continue’ terminate's the current iteration and resumes the control to the next iteration of the loop.To break use the keyword 'break' and to continue use the keyword 'continue'"
   ]
  },
  {
   "cell_type": "markdown",
   "id": "2176ec40",
   "metadata": {},
   "source": [
    "# Question 11\n",
    "\n",
    "In a for loop, what is the difference between range(10), range(0, 10), and range(0, 10, 1)?"
   ]
  },
  {
   "cell_type": "markdown",
   "id": "9290617c",
   "metadata": {},
   "source": [
    "a)Range function3 parameters start, stop, and step as positional arguments. The default value for start is 0 and step is 1.<br> In <b>'range(10)'</b> only one value is being passed, if thats the case 'range' will consider 10 as a stop value with start being 0 as it is the default value and step being 1 as it is the default value. <br>\n",
    "In <b>'range(0,10)'</b> only two values are being passed, if thats the case 'range' will consider 0 as a start value and 10 as a stop value with step being 1 as it is the default value.  <br>\n",
    "\n",
    "In <b>'range(0,10,1)'</b> only three values are being passed, if thats the case 'range' will consider 0 as a start value and 10 as a stop value and 1 as step.<br>\n",
    "\n",
    "stop value is exclusive \n"
   ]
  },
  {
   "cell_type": "code",
   "execution_count": 87,
   "id": "84a81248",
   "metadata": {},
   "outputs": [
    {
     "name": "stdout",
     "output_type": "stream",
     "text": [
      "0\t1\t2\t3\t4\t5\t6\t7\t8\t9\t"
     ]
    }
   ],
   "source": [
    "#case 1\n",
    "for i in range(10):\n",
    "    print(i,end='\\t')"
   ]
  },
  {
   "cell_type": "code",
   "execution_count": 88,
   "id": "0ef69c32",
   "metadata": {},
   "outputs": [
    {
     "name": "stdout",
     "output_type": "stream",
     "text": [
      "0\t1\t2\t3\t4\t5\t6\t7\t8\t9\t"
     ]
    }
   ],
   "source": [
    "#case 2\n",
    "for i in range(0,10):\n",
    "    print(i,end='\\t')"
   ]
  },
  {
   "cell_type": "code",
   "execution_count": 89,
   "id": "e6aa458f",
   "metadata": {},
   "outputs": [
    {
     "name": "stdout",
     "output_type": "stream",
     "text": [
      "0\t1\t2\t3\t4\t5\t6\t7\t8\t9\t"
     ]
    }
   ],
   "source": [
    "#case 3\n",
    "for i in range(0,10,1):\n",
    "    print(i,end='\\t')"
   ]
  },
  {
   "cell_type": "markdown",
   "id": "40f77c22",
   "metadata": {},
   "source": [
    "# Question 12\n",
    "\n",
    "Write a short program that prints the numbers 1 to 10 using a for loop. Then write an equivalent program that prints the numbers 1 to 10 using a while loop."
   ]
  },
  {
   "cell_type": "code",
   "execution_count": 90,
   "id": "d9bb655c",
   "metadata": {},
   "outputs": [
    {
     "name": "stdout",
     "output_type": "stream",
     "text": [
      "1\t2\t3\t4\t5\t6\t7\t8\t9\t10\t"
     ]
    }
   ],
   "source": [
    "#using for loop\n",
    "for i in range(1,11):\n",
    "    print(i,end='\\t')"
   ]
  },
  {
   "cell_type": "code",
   "execution_count": 91,
   "id": "ee37e823",
   "metadata": {},
   "outputs": [
    {
     "name": "stdout",
     "output_type": "stream",
     "text": [
      "1\t2\t3\t4\t5\t6\t7\t8\t9\t10\t"
     ]
    }
   ],
   "source": [
    "#using while loop\n",
    "a=1\n",
    "while(a < 11):\n",
    "    print(a,end='\\t')\n",
    "    a=a+1"
   ]
  },
  {
   "cell_type": "markdown",
   "id": "c992c853",
   "metadata": {},
   "source": [
    "# Question 13\n",
    "If you had a function named bacon() inside a module named spam, how would you call it after importing spam?"
   ]
  },
  {
   "cell_type": "markdown",
   "id": "40c8d7a0",
   "metadata": {},
   "source": [
    "from spam import bacon"
   ]
  },
  {
   "cell_type": "code",
   "execution_count": null,
   "id": "082c4cf3",
   "metadata": {},
   "outputs": [],
   "source": []
  }
 ],
 "metadata": {
  "kernelspec": {
   "display_name": "Python 3 (ipykernel)",
   "language": "python",
   "name": "python3"
  },
  "language_info": {
   "codemirror_mode": {
    "name": "ipython",
    "version": 3
   },
   "file_extension": ".py",
   "mimetype": "text/x-python",
   "name": "python",
   "nbconvert_exporter": "python",
   "pygments_lexer": "ipython3",
   "version": "3.9.7"
  }
 },
 "nbformat": 4,
 "nbformat_minor": 5
}
