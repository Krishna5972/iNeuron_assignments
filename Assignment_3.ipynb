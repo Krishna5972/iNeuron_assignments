{
 "cells": [
  {
   "cell_type": "markdown",
   "id": "914d6174",
   "metadata": {},
   "source": [
    "# Question 1"
   ]
  },
  {
   "cell_type": "markdown",
   "id": "a63584c4",
   "metadata": {},
   "source": [
    "### Why are functions advantageous to have in your programs?\n",
    "a)Easy to re-use the code, easy to update the code, change at one segment is enough if functions are used, we need not change them at every call, number of lines of code required to implement a functionality also decrease if functions are used"
   ]
  },
  {
   "cell_type": "markdown",
   "id": "646af359",
   "metadata": {},
   "source": [
    "# Question 2\n",
    "\n",
    "### When does the code in a function run: when it's specified or when it's called?\n",
    "a)The code in a function runs when it is called,not when it is specified"
   ]
  },
  {
   "cell_type": "markdown",
   "id": "0c39c6bd",
   "metadata": {},
   "source": [
    "# Question 3\n",
    "\n",
    "### What statement creates a function?\n",
    "a) The <b>'def'</b> keyword is used to create a function"
   ]
  },
  {
   "cell_type": "code",
   "execution_count": 2,
   "id": "8121954e",
   "metadata": {},
   "outputs": [],
   "source": [
    "def test():\n",
    "    return 'demo funtion'"
   ]
  },
  {
   "cell_type": "code",
   "execution_count": 4,
   "id": "087223ff",
   "metadata": {},
   "outputs": [
    {
     "data": {
      "text/plain": [
       "'demo funtion'"
      ]
     },
     "execution_count": 4,
     "metadata": {},
     "output_type": "execute_result"
    }
   ],
   "source": [
    "test()"
   ]
  },
  {
   "cell_type": "markdown",
   "id": "8bdf0956",
   "metadata": {},
   "source": [
    "# Question 4\n",
    "\n",
    "### What is the difference between a function and a function call?\n",
    "\n",
    "a) function is when we use a def keyword to create a function and write some code in it, function call is when we call the function and flow enters the function during runtime"
   ]
  },
  {
   "cell_type": "code",
   "execution_count": 5,
   "id": "07aea870",
   "metadata": {},
   "outputs": [],
   "source": [
    "def test():\n",
    "    return 'demo funtion'  #function"
   ]
  },
  {
   "cell_type": "code",
   "execution_count": 6,
   "id": "31a0cd8e",
   "metadata": {},
   "outputs": [
    {
     "data": {
      "text/plain": [
       "'demo funtion'"
      ]
     },
     "execution_count": 6,
     "metadata": {},
     "output_type": "execute_result"
    }
   ],
   "source": [
    "test() #function call"
   ]
  },
  {
   "cell_type": "markdown",
   "id": "a9bd16cc",
   "metadata": {},
   "source": [
    "# Question 5\n",
    "\n",
    "### How many global scopes are there in a Python program? How many local scopes?\n",
    "\n",
    "a) There is one main global scope and the local scopes depend the number of varaibles defined in the user created functions "
   ]
  },
  {
   "cell_type": "markdown",
   "id": "ae451a85",
   "metadata": {},
   "source": [
    "# Question 6\n",
    "\n",
    "### What happens to variables in a local scope when the function call returns?\n",
    "\n",
    "a) When the function call returns the variables in the local scope are deleted"
   ]
  },
  {
   "cell_type": "markdown",
   "id": "3876cb05",
   "metadata": {},
   "source": [
    "# Question 7\n",
    "\n",
    "### What is the concept of a return value? Is it possible to have a return value in an expression?\n",
    "\n",
    "a) return value is something the function returns after executing it's lines of code,yes it is possible to have a return value in an expression"
   ]
  },
  {
   "cell_type": "code",
   "execution_count": 28,
   "id": "792ab712",
   "metadata": {},
   "outputs": [
    {
     "data": {
      "text/plain": [
       "21"
      ]
     },
     "execution_count": 28,
     "metadata": {},
     "output_type": "execute_result"
    }
   ],
   "source": [
    "def sum_(a,b):\n",
    "    return a+b\n",
    "c=sum_(6,10)+5\n",
    "c"
   ]
  },
  {
   "cell_type": "markdown",
   "id": "663749a5",
   "metadata": {},
   "source": [
    "# Question 8\n",
    "\n",
    "### If a function does not have a return statement, what is the return value of a call to that function?\n",
    "a) A function will have return value of 'None' if it does not have a return statement"
   ]
  },
  {
   "cell_type": "markdown",
   "id": "db28ba7e",
   "metadata": {},
   "source": [
    "# Question 9\n",
    "\n",
    "### How do you make a function variable refer to the global variable?\n",
    "\n",
    "a) we can use global keyword if updating the variable is the intention, if only reading is needed it can be done directly"
   ]
  },
  {
   "cell_type": "code",
   "execution_count": 15,
   "id": "bd240d15",
   "metadata": {},
   "outputs": [],
   "source": [
    "a=10 #global variable"
   ]
  },
  {
   "cell_type": "code",
   "execution_count": 16,
   "id": "72755b9a",
   "metadata": {},
   "outputs": [],
   "source": [
    "def add_five(): \n",
    "    global a  #updating global variable from a function\n",
    "    a=a+5\n",
    "    return a\n",
    "    "
   ]
  },
  {
   "cell_type": "code",
   "execution_count": 17,
   "id": "e286e30a",
   "metadata": {},
   "outputs": [
    {
     "data": {
      "text/plain": [
       "15"
      ]
     },
     "execution_count": 17,
     "metadata": {},
     "output_type": "execute_result"
    }
   ],
   "source": [
    "add_five()"
   ]
  },
  {
   "cell_type": "code",
   "execution_count": 18,
   "id": "b5011391",
   "metadata": {},
   "outputs": [],
   "source": [
    "def print_a():\n",
    "    print(a) #can read it without any extra keyworeds"
   ]
  },
  {
   "cell_type": "code",
   "execution_count": 19,
   "id": "cacc3636",
   "metadata": {},
   "outputs": [
    {
     "name": "stdout",
     "output_type": "stream",
     "text": [
      "15\n"
     ]
    }
   ],
   "source": [
    "print_a()"
   ]
  },
  {
   "cell_type": "markdown",
   "id": "89fe1e8f",
   "metadata": {},
   "source": [
    "# Question 10\n",
    "\n",
    "### What is the data type of None?\n",
    "\n",
    "a) None is a data type of NoneType"
   ]
  },
  {
   "cell_type": "code",
   "execution_count": 20,
   "id": "3ef5dc8f",
   "metadata": {},
   "outputs": [
    {
     "data": {
      "text/plain": [
       "NoneType"
      ]
     },
     "execution_count": 20,
     "metadata": {},
     "output_type": "execute_result"
    }
   ],
   "source": [
    "a=None\n",
    "type(a)"
   ]
  },
  {
   "cell_type": "markdown",
   "id": "0f4d661c",
   "metadata": {},
   "source": [
    "# Question 11\n",
    "\n",
    "### What does the sentence import areallyourpetsnamederic do?\n",
    "\n",
    "a) if a module is present in the current path with the name 'areallyourpetsnamederic', it will import all the functions and variables from it. It sounds like a user defined module rather than a in-built python module.If the module is not present in the current path the program is pointing to, it will throw an error"
   ]
  },
  {
   "cell_type": "markdown",
   "id": "23655863",
   "metadata": {},
   "source": [
    "# Question 12\n",
    "\n",
    "### If you had a bacon() feature in a spam module, what would you call it after importing spam?\n",
    "\n",
    "a) spam.bacon()"
   ]
  },
  {
   "cell_type": "markdown",
   "id": "152a2a71",
   "metadata": {},
   "source": [
    "# Question 13\n",
    "\n",
    "### What can you do to save a programme from crashing if it encounters an error?\n",
    "\n",
    "a)try and except clauses can used to catch the error"
   ]
  },
  {
   "cell_type": "code",
   "execution_count": 21,
   "id": "d33e06e2",
   "metadata": {},
   "outputs": [
    {
     "ename": "ZeroDivisionError",
     "evalue": "division by zero",
     "output_type": "error",
     "traceback": [
      "\u001b[1;31m---------------------------------------------------------------------------\u001b[0m",
      "\u001b[1;31mZeroDivisionError\u001b[0m                         Traceback (most recent call last)",
      "\u001b[1;32m~\\AppData\\Local\\Temp/ipykernel_6148/1483333868.py\u001b[0m in \u001b[0;36m<module>\u001b[1;34m\u001b[0m\n\u001b[0;32m      1\u001b[0m \u001b[0ma\u001b[0m\u001b[1;33m=\u001b[0m\u001b[1;36m10\u001b[0m\u001b[1;33m\u001b[0m\u001b[1;33m\u001b[0m\u001b[0m\n\u001b[1;32m----> 2\u001b[1;33m \u001b[0mb\u001b[0m\u001b[1;33m=\u001b[0m\u001b[0ma\u001b[0m\u001b[1;33m/\u001b[0m\u001b[1;36m0\u001b[0m\u001b[1;33m\u001b[0m\u001b[1;33m\u001b[0m\u001b[0m\n\u001b[0m",
      "\u001b[1;31mZeroDivisionError\u001b[0m: division by zero"
     ]
    }
   ],
   "source": [
    "a=10\n",
    "b=a/0"
   ]
  },
  {
   "cell_type": "code",
   "execution_count": 25,
   "id": "6374c120",
   "metadata": {},
   "outputs": [],
   "source": [
    "#using except clause to continue the flow\n",
    "try:\n",
    "    b=a/0\n",
    "except ZeroDivisionError as e:\n",
    "    pass\n",
    "b='inf'"
   ]
  },
  {
   "cell_type": "markdown",
   "id": "40afedbe",
   "metadata": {},
   "source": [
    "# Question 14\n",
    "\n",
    "### What is the purpose of the try clause? What is the purpose of the except clause?\n",
    "\n",
    "a) The code that could potentially cause an error should be written in the try clause.\n",
    "\n",
    "The code that should be executed if an error occurs due to the code written in try block goes in to the except clause."
   ]
  }
 ],
 "metadata": {
  "kernelspec": {
   "display_name": "Python 3 (ipykernel)",
   "language": "python",
   "name": "python3"
  },
  "language_info": {
   "codemirror_mode": {
    "name": "ipython",
    "version": 3
   },
   "file_extension": ".py",
   "mimetype": "text/x-python",
   "name": "python",
   "nbconvert_exporter": "python",
   "pygments_lexer": "ipython3",
   "version": "3.9.7"
  }
 },
 "nbformat": 4,
 "nbformat_minor": 5
}
