{
 "cells": [
  {
   "cell_type": "markdown",
   "id": "f13e9736",
   "metadata": {},
   "source": [
    "# Question 1\n",
    "### How do you distinguish between shutil.copy() and shutil.copytree()?"
   ]
  },
  {
   "cell_type": "markdown",
   "id": "8b617691",
   "metadata": {},
   "source": [
    "a)shutil.copy() will copy a single file,whereas shutil.copytree() entire folder including all the contents inside it,it will create the destination folder."
   ]
  },
  {
   "cell_type": "code",
   "execution_count": 22,
   "id": "08e45ed8",
   "metadata": {},
   "outputs": [],
   "source": [
    "import os\n",
    "import shutil"
   ]
  },
  {
   "cell_type": "code",
   "execution_count": 23,
   "id": "e99c2993",
   "metadata": {},
   "outputs": [],
   "source": [
    "try:\n",
    "    os.mkdir('data/')\n",
    "except FileExistsError as e:\n",
    "    pass\n",
    "try:\n",
    "    os.mkdir('data/folder1')\n",
    "except FileExistsError as e:\n",
    "    pass\n",
    "try:\n",
    "    os.mkdir('data/folder2')\n",
    "except FileExistsError as e:\n",
    "    pass"
   ]
  },
  {
   "cell_type": "code",
   "execution_count": 24,
   "id": "10fe6359",
   "metadata": {},
   "outputs": [],
   "source": [
    "f=open('data/folder1/test.txt','w')\n",
    "f.write('This file is created in folder named folder1')\n",
    "f.close()"
   ]
  },
  {
   "cell_type": "code",
   "execution_count": 25,
   "id": "01ae5e2b",
   "metadata": {},
   "outputs": [
    {
     "data": {
      "text/plain": [
       "'data/folder2/test.txt'"
      ]
     },
     "execution_count": 25,
     "metadata": {},
     "output_type": "execute_result"
    }
   ],
   "source": [
    "shutil.copy('data/folder1/test.txt','data/folder2/test.txt')"
   ]
  },
  {
   "cell_type": "code",
   "execution_count": 26,
   "id": "b959ca48",
   "metadata": {},
   "outputs": [
    {
     "name": "stdout",
     "output_type": "stream",
     "text": [
      "destination folder already exists\n"
     ]
    }
   ],
   "source": [
    "try:\n",
    "    shutil.copytree('data/folder1','data/folder3')\n",
    "except FileExistsError as e:\n",
    "    print('destination folder already exists')"
   ]
  },
  {
   "cell_type": "markdown",
   "id": "4912ff6b",
   "metadata": {},
   "source": [
    "# Question 2\n",
    "### What function is used to rename files??"
   ]
  },
  {
   "cell_type": "markdown",
   "id": "f43c11e6",
   "metadata": {},
   "source": [
    "a) os.rename(source,destination)"
   ]
  },
  {
   "cell_type": "code",
   "execution_count": 29,
   "id": "24c069f6",
   "metadata": {},
   "outputs": [
    {
     "name": "stdout",
     "output_type": "stream",
     "text": [
      "The system cannot find the file specified\n"
     ]
    }
   ],
   "source": [
    "try:\n",
    "    os.rename('data/folder1/test.txt','data/folder1/initial_test.txt')\n",
    "except FileNotFoundError as e:\n",
    "    print('The system cannot find the file specified')"
   ]
  },
  {
   "cell_type": "markdown",
   "id": "5622a21d",
   "metadata": {},
   "source": [
    "# Question 3\n",
    "### What is the difference between the delete functions in the send2trash and shutil modules?"
   ]
  },
  {
   "cell_type": "markdown",
   "id": "43fe3799",
   "metadata": {},
   "source": [
    "a)The 'send2trash' functions will delete the file buy they will be available in recycle bin to restore if needed, while shutil functions will permanently delete files and folders."
   ]
  },
  {
   "cell_type": "markdown",
   "id": "515f0c0a",
   "metadata": {},
   "source": [
    "# Question 4\n",
    "### ZipFile objects have a close() method just like File objects’ close() method. What ZipFile method is equivalent to File objects’ open() method?"
   ]
  },
  {
   "cell_type": "markdown",
   "id": "742f91a2",
   "metadata": {},
   "source": [
    "a) The Equivalent to open() method of file object is zipfile.ZipFile() function."
   ]
  },
  {
   "cell_type": "code",
   "execution_count": 30,
   "id": "b0f54994",
   "metadata": {},
   "outputs": [],
   "source": [
    "import zipfile\n",
    "newZip = zipfile.ZipFile('data/test.zip', 'w')\n",
    "newZip.write('test.txt', compress_type=zipfile.ZIP_DEFLATED)\n",
    "newZip.close()"
   ]
  },
  {
   "cell_type": "markdown",
   "id": "df654ea6",
   "metadata": {},
   "source": [
    "# Question 5\n",
    "### Create a programme that searches a folder tree for files with a certain file extension (such as .pdf or .jpg). Copy these files from whatever location they are in to a new folder."
   ]
  },
  {
   "cell_type": "code",
   "execution_count": 45,
   "id": "6802f84e",
   "metadata": {},
   "outputs": [
    {
     "name": "stdout",
     "output_type": "stream",
     "text": [
      "destination folder already exists\n",
      "Copying a file with extention : txt from data/folder1 to data/destination\n"
     ]
    }
   ],
   "source": [
    "import os\n",
    "import shutil\n",
    "\n",
    "extensions=['pdf','jpg','txt']\n",
    "try:\n",
    "    os.mkdir('data/destination')\n",
    "except FileExistsError as e:\n",
    "    print('destination folder already exists')\n",
    "source='data/folder1'\n",
    "destination='data/destination'\n",
    "\n",
    "for foldername, subfolders, filenames in os.walk(source):\n",
    "    for filename in filenames:\n",
    "        fname,extension=filename.split('.')\n",
    "        source_temp=None\n",
    "        if extension in extensions:\n",
    "            print(f'Copying a file with extention : {extension} from {source} to {destination}')\n",
    "            source_temp=source+'/'+fname+'.'+extension\n",
    "            shutil.copy(source_temp, destination)\n",
    "            \n"
   ]
  },
  {
   "cell_type": "markdown",
   "id": "280478aa",
   "metadata": {},
   "source": [
    "Reference :\n",
    "https://automatetheboringstuff.com/chapter9/#:~:text=While%20shutil.,and%20file%20contained%20in%20it."
   ]
  }
 ],
 "metadata": {
  "kernelspec": {
   "display_name": "Python 3 (ipykernel)",
   "language": "python",
   "name": "python3"
  },
  "language_info": {
   "codemirror_mode": {
    "name": "ipython",
    "version": 3
   },
   "file_extension": ".py",
   "mimetype": "text/x-python",
   "name": "python",
   "nbconvert_exporter": "python",
   "pygments_lexer": "ipython3",
   "version": "3.9.12"
  }
 },
 "nbformat": 4,
 "nbformat_minor": 5
}
