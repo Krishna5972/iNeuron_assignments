{
 "cells": [
  {
   "cell_type": "markdown",
   "id": "b800e467",
   "metadata": {},
   "source": [
    "# Question 1\n",
    "### What does an empty dictionary's code look like?"
   ]
  },
  {
   "cell_type": "markdown",
   "id": "7548efec",
   "metadata": {},
   "source": [
    "a) dict_={}"
   ]
  },
  {
   "cell_type": "markdown",
   "id": "678ef793",
   "metadata": {},
   "source": [
    "# Question 2\n",
    "### What is the value of a dictionary value with the key 'foo' and the value 42?"
   ]
  },
  {
   "cell_type": "code",
   "execution_count": 3,
   "id": "318743b6",
   "metadata": {},
   "outputs": [
    {
     "data": {
      "text/plain": [
       "{'foo': 42}"
      ]
     },
     "execution_count": 3,
     "metadata": {},
     "output_type": "execute_result"
    }
   ],
   "source": [
    "{'foo':42}"
   ]
  },
  {
   "cell_type": "markdown",
   "id": "8812c65d",
   "metadata": {},
   "source": [
    "# Question 3\n",
    "###  What is the most significant distinction between a dictionary and a list?"
   ]
  },
  {
   "cell_type": "markdown",
   "id": "1731ac89",
   "metadata": {},
   "source": [
    "list contains only elements and these elements can be accessed using indexes, where as a dictionary cointains key,value pairs and these values can be accessed using their respective keys"
   ]
  },
  {
   "cell_type": "code",
   "execution_count": 6,
   "id": "3986767f",
   "metadata": {},
   "outputs": [],
   "source": [
    "a_list=[1,2,3] #list\n",
    "a_dict={'one':1,\n",
    "        'two':2,\n",
    "        'three':3\n",
    "       }  #dict"
   ]
  },
  {
   "cell_type": "markdown",
   "id": "aced6320",
   "metadata": {},
   "source": [
    "# Question 4\n",
    "### What happens if you try to access spam['foo'] if spam is {'bar': 100}?"
   ]
  },
  {
   "cell_type": "markdown",
   "id": "b8c01411",
   "metadata": {},
   "source": [
    "If we try to access a key that is not present in the dictionary it will throw a KeyError"
   ]
  },
  {
   "cell_type": "code",
   "execution_count": 1,
   "id": "4a3c1540",
   "metadata": {},
   "outputs": [
    {
     "ename": "KeyError",
     "evalue": "'foo'",
     "output_type": "error",
     "traceback": [
      "\u001b[1;31m---------------------------------------------------------------------------\u001b[0m",
      "\u001b[1;31mKeyError\u001b[0m                                  Traceback (most recent call last)",
      "Input \u001b[1;32mIn [1]\u001b[0m, in \u001b[0;36m<cell line: 2>\u001b[1;34m()\u001b[0m\n\u001b[0;32m      1\u001b[0m spam\u001b[38;5;241m=\u001b[39m {\u001b[38;5;124m'\u001b[39m\u001b[38;5;124mbar\u001b[39m\u001b[38;5;124m'\u001b[39m: \u001b[38;5;241m100\u001b[39m}\n\u001b[1;32m----> 2\u001b[0m \u001b[43mspam\u001b[49m\u001b[43m[\u001b[49m\u001b[38;5;124;43m'\u001b[39;49m\u001b[38;5;124;43mfoo\u001b[39;49m\u001b[38;5;124;43m'\u001b[39;49m\u001b[43m]\u001b[49m\n",
      "\u001b[1;31mKeyError\u001b[0m: 'foo'"
     ]
    }
   ],
   "source": [
    "spam= {'bar': 100}\n",
    "spam['foo']"
   ]
  },
  {
   "cell_type": "markdown",
   "id": "aa0a5e25",
   "metadata": {},
   "source": [
    "# Question 5\n",
    "### If a dictionary is stored in spam, what is the difference between the expressions 'cat' in spam and 'cat' in spam.keys()?"
   ]
  },
  {
   "cell_type": "markdown",
   "id": "8ac23ff7",
   "metadata": {},
   "source": [
    "Both are same, the 'in' operator will check if the 'cat' is present in the keys, its optional we can write like that or we can write '.keys()' explicitly"
   ]
  },
  {
   "cell_type": "code",
   "execution_count": 5,
   "id": "b3a377ba",
   "metadata": {},
   "outputs": [
    {
     "data": {
      "text/plain": [
       "True"
      ]
     },
     "execution_count": 5,
     "metadata": {},
     "output_type": "execute_result"
    }
   ],
   "source": [
    "a_dict={'one':1,\n",
    "        'two':2,\n",
    "        'three':3\n",
    "       }\n",
    "'one' in a_dict\n"
   ]
  },
  {
   "cell_type": "code",
   "execution_count": 6,
   "id": "0ba8fa3c",
   "metadata": {},
   "outputs": [
    {
     "data": {
      "text/plain": [
       "True"
      ]
     },
     "execution_count": 6,
     "metadata": {},
     "output_type": "execute_result"
    }
   ],
   "source": [
    "'one' in a_dict.keys()"
   ]
  },
  {
   "cell_type": "markdown",
   "id": "b88fc11e",
   "metadata": {},
   "source": [
    "# Question 6\n",
    "### If a dictionary is stored in spam, what is the difference between the expressions 'cat' in spam and 'cat' in spam.values()?"
   ]
  },
  {
   "cell_type": "markdown",
   "id": "14bd280f",
   "metadata": {},
   "source": [
    "The 'in' operator will check if a key named 'cat' is present in spam, where as 'cat' in spam.values() will check if a value 'cat' is present for any of the keys in spam"
   ]
  },
  {
   "cell_type": "markdown",
   "id": "038847e0",
   "metadata": {},
   "source": [
    "# Question 7\n",
    "### What is a shortcut for the following code?\n",
    "if 'color' not in spam: <br>\n",
    "&nbsp;&nbsp;       &nbsp;&nbsp;&nbsp;spam['color'] = 'black'\n"
   ]
  },
  {
   "cell_type": "markdown",
   "id": "80e56fe2",
   "metadata": {},
   "source": [
    "'.setdeafult' can be used , it will take key and value as the arguments"
   ]
  },
  {
   "cell_type": "code",
   "execution_count": 10,
   "id": "f673bf22",
   "metadata": {},
   "outputs": [
    {
     "data": {
      "text/plain": [
       "{'bar': 100, 'color': 'black'}"
      ]
     },
     "execution_count": 10,
     "metadata": {},
     "output_type": "execute_result"
    }
   ],
   "source": [
    "spam.setdefault('color', 'black')\n",
    "spam"
   ]
  },
  {
   "cell_type": "markdown",
   "id": "fc19dc24",
   "metadata": {},
   "source": [
    "# Question 8\n",
    "### How do you \"pretty print\" dictionary values using which module and function?"
   ]
  },
  {
   "cell_type": "markdown",
   "id": "2ab78e29",
   "metadata": {},
   "source": [
    "pprint function from pprint module can be used"
   ]
  },
  {
   "cell_type": "code",
   "execution_count": 15,
   "id": "a47d863b",
   "metadata": {},
   "outputs": [
    {
     "name": "stdout",
     "output_type": "stream",
     "text": [
      "{'bar': 100, 'color': 'black'}\n"
     ]
    }
   ],
   "source": [
    "import pprint\n",
    "pprint.pprint(spam)"
   ]
  },
  {
   "cell_type": "markdown",
   "id": "3fa341e8",
   "metadata": {},
   "source": [
    "Difference can be seen if the dictionary has nested dicts or lists as values."
   ]
  },
  {
   "cell_type": "code",
   "execution_count": null,
   "id": "6f39d24c",
   "metadata": {},
   "outputs": [],
   "source": []
  }
 ],
 "metadata": {
  "kernelspec": {
   "display_name": "Python 3 (ipykernel)",
   "language": "python",
   "name": "python3"
  },
  "language_info": {
   "codemirror_mode": {
    "name": "ipython",
    "version": 3
   },
   "file_extension": ".py",
   "mimetype": "text/x-python",
   "name": "python",
   "nbconvert_exporter": "python",
   "pygments_lexer": "ipython3",
   "version": "3.9.12"
  }
 },
 "nbformat": 4,
 "nbformat_minor": 5
}
