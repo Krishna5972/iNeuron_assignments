{
 "cells": [
  {
   "cell_type": "markdown",
   "id": "6ef7322a",
   "metadata": {},
   "source": [
    "# Question 1\n",
    "### What is the name of the feature responsible for generating Regex objects?"
   ]
  },
  {
   "cell_type": "markdown",
   "id": "11913038",
   "metadata": {},
   "source": [
    "# Question 2\n",
    "### Why do raw strings often appear in Regex objects?"
   ]
  },
  {
   "cell_type": "markdown",
   "id": "b28dc183",
   "metadata": {},
   "source": [
    "# Question 3\n",
    "### What is the return value of the search() method?"
   ]
  },
  {
   "cell_type": "markdown",
   "id": "21c4b3df",
   "metadata": {},
   "source": [
    "# Question 4\n",
    "### From a Match item, how do you get the actual strings that match the pattern?"
   ]
  },
  {
   "cell_type": "markdown",
   "id": "32fb3cc8",
   "metadata": {},
   "source": [
    "# Question 5\n",
    "### In the regex which created from the r'(\\d\\d\\d)-(\\d\\d\\d-\\d\\d\\d\\d)', what does group zero cover? Group 2? Group 1?"
   ]
  },
  {
   "cell_type": "markdown",
   "id": "40aaa3d3",
   "metadata": {},
   "source": [
    "# Question 6\n",
    "### In standard expression syntax, parentheses and intervals have distinct meanings. How can you tell a regex that you want it to fit real parentheses and periods?"
   ]
  },
  {
   "cell_type": "markdown",
   "id": "cdb54f54",
   "metadata": {},
   "source": [
    "# Question 7\n",
    "### The findall() method returns a string list or a list of string tuples. What causes it to return one of the two options?"
   ]
  },
  {
   "cell_type": "markdown",
   "id": "5b07acbb",
   "metadata": {},
   "source": [
    "# Question 8\n",
    "### In standard expressions, what does the | character mean?"
   ]
  },
  {
   "cell_type": "markdown",
   "id": "4cfd20ee",
   "metadata": {},
   "source": [
    "# Question 9\n",
    "### In regular expressions, what does the character stand for?"
   ]
  },
  {
   "cell_type": "markdown",
   "id": "8a4b9123",
   "metadata": {},
   "source": [
    "# Question 10\n",
    "### In regular expressions, what is the difference between the + and * characters?"
   ]
  },
  {
   "cell_type": "markdown",
   "id": "05e8b31d",
   "metadata": {},
   "source": [
    "# Question 11\n",
    "### What is the difference between {4} and {4,5} in regular expression?"
   ]
  },
  {
   "cell_type": "markdown",
   "id": "e15f6be8",
   "metadata": {},
   "source": [
    "# Question 12\n",
    "### What do you mean by the \\d, \\w, and \\s shorthand character classes signify in regular expressions?"
   ]
  },
  {
   "cell_type": "markdown",
   "id": "b586db1d",
   "metadata": {},
   "source": [
    "# Question 13\n",
    "### What do means by \\D, \\W, and \\S shorthand character classes signify in regular expressions?"
   ]
  },
  {
   "cell_type": "markdown",
   "id": "88065278",
   "metadata": {},
   "source": [
    "# Question 14\n",
    "### What is the difference between . * ?  and . * ?"
   ]
  },
  {
   "cell_type": "markdown",
   "id": "41dd46ee",
   "metadata": {},
   "source": [
    "# Question 15\n",
    "### What is the syntax for matching both numbers and lowercase letters with a character class?"
   ]
  },
  {
   "cell_type": "markdown",
   "id": "339ed6f4",
   "metadata": {},
   "source": [
    "# Question 16\n",
    "### What is the procedure for making a normal expression in regax case insensitive?"
   ]
  },
  {
   "cell_type": "markdown",
   "id": "099f1260",
   "metadata": {},
   "source": [
    "# Question 17\n",
    "### What does the . character normally match? What does it match if re.DOTALL is passed as 2nd argument in re.compile()?"
   ]
  },
  {
   "cell_type": "markdown",
   "id": "5fcfc46b",
   "metadata": {},
   "source": [
    "# Question 18\n",
    "### If numReg = re.compile(r'\\d+'), what will numRegex.sub('X', '11 drummers, 10 pipers, five rings, 4 hen') return?"
   ]
  },
  {
   "cell_type": "markdown",
   "id": "20fda7e6",
   "metadata": {},
   "source": [
    "# Question 19\n",
    "### What does passing re.VERBOSE as the 2nd argument to re.compile() allow to do?"
   ]
  },
  {
   "cell_type": "markdown",
   "id": "5ab96a84",
   "metadata": {},
   "source": [
    "# Question 20 \n",
    "### How would you write a regex that match a number with comma for every three digits? It must match the given following: <br>\n",
    "'42'  <br>\n",
    "'1,234'  <br>\n",
    "'6,368,745'  <br>\n",
    "but not the following:  <br>\n",
    "'12,34,567' (which has only two digits between the commas)  <br>\n",
    "'1234' (which lacks commas) <br>\n",
    " "
   ]
  },
  {
   "cell_type": "markdown",
   "id": "13830742",
   "metadata": {},
   "source": [
    "# Question 21\n",
    "### 21. How would you write a regex that matches the full name of someone whose last name is Watanabe? You can assume that the first name that comes before it will always be one word that begins with a capital letter. The regex must match the following: <br>\n",
    "'Haruto Watanabe' <br>\n",
    "'Alice Watanabe'  <br>\n",
    "'RoboCop Watanabe'  <br>\n",
    "but not the following: <br>\n",
    "'haruto Watanabe' (where the first name is not capitalized) <br>\n",
    "'Mr. Watanabe' (where the preceding word has a nonletter character) <br>\n",
    "'Watanabe' (which has no first name) <br>\n",
    "'Haruto watanabe' (where Watanabe is not capitalized) <br>\n"
   ]
  },
  {
   "cell_type": "markdown",
   "id": "22a69ebd",
   "metadata": {},
   "source": [
    "# Question 22\n",
    "### How would you write a regex that matches a sentence where the first word is either Alice, Bob, or Carol; the second word is either eats, pets, or throws; the third word is apples, cats, or baseballs; and the sentence ends with a period? This regex should be case-insensitive. It must match the following:\n",
    "'Alice eats apples.' <br>\n",
    "'Bob pets cats.' <br>\n",
    "'Carol throws baseballs.' <br>\n",
    "'Alice throws Apples.' <br>\n",
    "'BOB EATS CATS.' <br>\n",
    "but not the following: <br>\n",
    "'RoboCop eats apples.' <br>\n",
    "'ALICE THROWS FOOTBALLS.' <br>\n",
    "'Carol eats 7 cats.'  <br>\n"
   ]
  }
 ],
 "metadata": {
  "kernelspec": {
   "display_name": "Python 3 (ipykernel)",
   "language": "python",
   "name": "python3"
  },
  "language_info": {
   "codemirror_mode": {
    "name": "ipython",
    "version": 3
   },
   "file_extension": ".py",
   "mimetype": "text/x-python",
   "name": "python",
   "nbconvert_exporter": "python",
   "pygments_lexer": "ipython3",
   "version": "3.9.12"
  }
 },
 "nbformat": 4,
 "nbformat_minor": 5
}
