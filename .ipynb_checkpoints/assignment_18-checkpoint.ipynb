{
 "cells": [
  {
   "cell_type": "markdown",
   "id": "316d8275",
   "metadata": {},
   "source": [
    "# Question 1\n",
    "### Create a zoo.py file first. Define the hours() function, which prints the string 'Open 9-5 daily'. Then, use the interactive interpreter to import the zoo module and call its hours() function"
   ]
  },
  {
   "cell_type": "markdown",
   "id": "fc64957b",
   "metadata": {},
   "source": [
    "# Question 2\n",
    "### In the interactive interpreter, import the zoo module as menagerie and call its hours() function"
   ]
  },
  {
   "cell_type": "markdown",
   "id": "2c7d740a",
   "metadata": {},
   "source": [
    "# Question 3\n",
    "###  Using the interpreter, explicitly import and call the hours() function from zoo."
   ]
  },
  {
   "cell_type": "markdown",
   "id": "1d7bc950",
   "metadata": {},
   "source": [
    "# Question 4\n",
    "### Import the hours() function as info and call it."
   ]
  },
  {
   "cell_type": "markdown",
   "id": "03a0ced3",
   "metadata": {},
   "source": [
    "# Question 5\n",
    "### Create a plain dictionary with the key-value pairs 'a': 1, 'b': 2, and 'c': 3, and print it out"
   ]
  },
  {
   "cell_type": "markdown",
   "id": "77edd3f0",
   "metadata": {},
   "source": [
    "# Question 6\n",
    "### Make an OrderedDict called fancy from the same pairs listed in 5 and print it. Did it print in the same order as plain?"
   ]
  },
  {
   "cell_type": "markdown",
   "id": "b6d7bd20",
   "metadata": {},
   "source": [
    "# Question 7\n",
    "### Make a default dictionary called dict_of_lists and pass it the argument list. Make the list dict_of_lists['a'] and append the value 'something for a' to it in one assignment. Print dict_of_lists['a']"
   ]
  }
 ],
 "metadata": {
  "kernelspec": {
   "display_name": "Python 3 (ipykernel)",
   "language": "python",
   "name": "python3"
  },
  "language_info": {
   "codemirror_mode": {
    "name": "ipython",
    "version": 3
   },
   "file_extension": ".py",
   "mimetype": "text/x-python",
   "name": "python",
   "nbconvert_exporter": "python",
   "pygments_lexer": "ipython3",
   "version": "3.9.12"
  }
 },
 "nbformat": 4,
 "nbformat_minor": 5
}
