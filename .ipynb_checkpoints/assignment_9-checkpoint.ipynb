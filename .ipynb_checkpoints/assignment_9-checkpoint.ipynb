{
 "cells": [
  {
   "cell_type": "markdown",
   "id": "19bd1879",
   "metadata": {},
   "source": [
    "# Question 1\n",
    "### To what does a relative path refer?"
   ]
  },
  {
   "cell_type": "markdown",
   "id": "cb854fd1",
   "metadata": {},
   "source": [
    "a)The path with reference to current directory is called relative path."
   ]
  },
  {
   "cell_type": "markdown",
   "id": "e698687a",
   "metadata": {},
   "source": [
    "# Question 2\n",
    "### What does an absolute path start with your operating system?"
   ]
  },
  {
   "cell_type": "markdown",
   "id": "7d5b1800",
   "metadata": {},
   "source": [
    "An absolute path refers to the complete details needed to locate a file or folder, starting from the root element and ending with the other subdirectories. As OS is the root every absolute path will start with drive letter where the OS is located at."
   ]
  },
  {
   "cell_type": "markdown",
   "id": "caae96f3",
   "metadata": {},
   "source": [
    "# Question 3\n",
    "### What do the functions os.getcwd() and os.chdir() do?"
   ]
  },
  {
   "cell_type": "markdown",
   "id": "de1e7aba",
   "metadata": {},
   "source": [
    "getcwd() : is used to get the current working directory. <br>\n",
    "chdir('path') : is used to set the current working directory to a path that is passed as parameter."
   ]
  },
  {
   "cell_type": "code",
   "execution_count": 19,
   "id": "a20ee613",
   "metadata": {},
   "outputs": [
    {
     "data": {
      "text/plain": [
       "'C:\\\\Users\\\\krishna\\\\Assignments_iNeuron\\\\Python_Basic'"
      ]
     },
     "execution_count": 19,
     "metadata": {},
     "output_type": "execute_result"
    }
   ],
   "source": [
    "import os\n",
    "os.getcwd()"
   ]
  },
  {
   "cell_type": "markdown",
   "id": "8daf2643",
   "metadata": {},
   "source": [
    "# Question 4\n",
    "### What are the . and .. folders?"
   ]
  },
  {
   "cell_type": "markdown",
   "id": "8955b976",
   "metadata": {},
   "source": [
    "a) '.' is the current directory <br>\n",
    " '..' implies parent directory"
   ]
  },
  {
   "cell_type": "markdown",
   "id": "7c5e831b",
   "metadata": {},
   "source": [
    "# Question 5\n",
    "### In C:\\bacon\\eggs\\spam.txt, which part is the dir name, and which part is the base name?"
   ]
  },
  {
   "cell_type": "markdown",
   "id": "6a564b32",
   "metadata": {},
   "source": [
    "dir name : 'C:\\bacon\\eggs\\' <br>\n",
    "base name : 'spam.txt'"
   ]
  },
  {
   "cell_type": "markdown",
   "id": "13f5de54",
   "metadata": {},
   "source": [
    "# Question 6\n",
    "### What are the three “mode” arguments that can be passed to the open() function?"
   ]
  },
  {
   "cell_type": "markdown",
   "id": "f5e91c49",
   "metadata": {},
   "source": [
    "a) r: 'read only' mode <br>\n",
    "   w : ' write' mode  this will create a file if it dosent already exists, if it exists new data will overwrite the previous data<br>\n",
    "   a : 'append' mode"
   ]
  },
  {
   "cell_type": "markdown",
   "id": "519d2070",
   "metadata": {},
   "source": [
    "# Question 7\n",
    "### What happens if an existing file is opened in write mode?"
   ]
  },
  {
   "cell_type": "markdown",
   "id": "a26429f7",
   "metadata": {},
   "source": [
    " a)'write' mode this will create a file if it dosent already exists, if it exists new data will overwrite the previous data"
   ]
  },
  {
   "cell_type": "code",
   "execution_count": 7,
   "id": "fe4fe252",
   "metadata": {},
   "outputs": [],
   "source": [
    "f=open('test.txt','w')\n",
    "f.write('This is assignment_9\\n still there are many assignments to go')\n",
    "f.close()"
   ]
  },
  {
   "cell_type": "markdown",
   "id": "e9350109",
   "metadata": {},
   "source": [
    "# Question 8\n",
    "### How do you tell the difference between read() and readlines()?"
   ]
  },
  {
   "cell_type": "markdown",
   "id": "f2971a98",
   "metadata": {},
   "source": [
    "a) read() will return entire data in the form of string , where redlines() will return a list of string where each string in the list signifies the data line by line."
   ]
  },
  {
   "cell_type": "code",
   "execution_count": 9,
   "id": "fd2280d9",
   "metadata": {},
   "outputs": [
    {
     "name": "stdout",
     "output_type": "stream",
     "text": [
      "This is assignment_9\n",
      " still there are many assignments to go\n"
     ]
    }
   ],
   "source": [
    "f=open('test.txt','r')\n",
    "data=f.read()\n",
    "print(data)"
   ]
  },
  {
   "cell_type": "code",
   "execution_count": 11,
   "id": "7788bcd9",
   "metadata": {},
   "outputs": [
    {
     "name": "stdout",
     "output_type": "stream",
     "text": [
      "['This is assignment_9\\n', ' still there are many assignments to go']\n",
      "This is assignment_9\n",
      "\n",
      " still there are many assignments to go\n"
     ]
    }
   ],
   "source": [
    "f=open('test.txt','r')\n",
    "data=f.readlines()\n",
    "print(data)\n",
    "for d in data:\n",
    "    print(d)"
   ]
  },
  {
   "cell_type": "markdown",
   "id": "91ffd22d",
   "metadata": {},
   "source": [
    "# Question 9\n",
    "### What data structure does a shelf value resemble?"
   ]
  },
  {
   "cell_type": "markdown",
   "id": "31fb78a2",
   "metadata": {},
   "source": [
    "a)shelf resembles a dictionary."
   ]
  },
  {
   "cell_type": "code",
   "execution_count": 16,
   "id": "6194a393",
   "metadata": {},
   "outputs": [],
   "source": [
    "import shelve\n",
    "s = shelve.open(\"test\")\n",
    "s['name'] = \"Vamsi\"\n",
    "s['age'] = 22\n",
    "s.close()"
   ]
  }
 ],
 "metadata": {
  "kernelspec": {
   "display_name": "Python 3 (ipykernel)",
   "language": "python",
   "name": "python3"
  },
  "language_info": {
   "codemirror_mode": {
    "name": "ipython",
    "version": 3
   },
   "file_extension": ".py",
   "mimetype": "text/x-python",
   "name": "python",
   "nbconvert_exporter": "python",
   "pygments_lexer": "ipython3",
   "version": "3.9.12"
  }
 },
 "nbformat": 4,
 "nbformat_minor": 5
}
