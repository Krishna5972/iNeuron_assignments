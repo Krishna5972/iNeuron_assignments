{
 "cells": [
  {
   "cell_type": "markdown",
   "id": "d8987305",
   "metadata": {},
   "source": [
    "# Question 1\n",
    "### In what modes should the PdfFileReader() and PdfFileWriter() File objects will be opened?"
   ]
  },
  {
   "cell_type": "markdown",
   "id": "e059091d",
   "metadata": {},
   "source": [
    "# Question 2\n",
    "### From a PdfFileReader object, how do you get a Page object for page 5?"
   ]
  },
  {
   "cell_type": "markdown",
   "id": "630bf351",
   "metadata": {},
   "source": [
    "# Question 3\n",
    "### What PdfFileReader variable stores the number of pages in the PDF document?"
   ]
  },
  {
   "cell_type": "markdown",
   "id": "1cf0d1fc",
   "metadata": {},
   "source": [
    "# Question 4\n",
    "### If a PdfFileReader object’s PDF is encrypted with the password swordfish, what must you do before you can obtain Page objects from it?"
   ]
  },
  {
   "cell_type": "markdown",
   "id": "5842363f",
   "metadata": {},
   "source": [
    "# Question 5\n",
    "### What methods do you use to rotate a page?"
   ]
  },
  {
   "cell_type": "markdown",
   "id": "c67954b3",
   "metadata": {},
   "source": [
    "# Question 6\n",
    "### What is the difference between a Run object and a Paragraph object?"
   ]
  },
  {
   "cell_type": "markdown",
   "id": "cb59e3e9",
   "metadata": {},
   "source": [
    "# Question 7\n",
    "### How do you obtain a list of Paragraph objects for a Document object that’s stored in a variable named doc?"
   ]
  },
  {
   "cell_type": "markdown",
   "id": "b5a25c57",
   "metadata": {},
   "source": [
    "# Question 8\n",
    "### What type of object has bold, underline, italic, strike, and outline variables?"
   ]
  },
  {
   "cell_type": "markdown",
   "id": "1e0a4694",
   "metadata": {},
   "source": [
    "# Question 9\n",
    "### What is the difference between False, True, and None for the bold variable?"
   ]
  },
  {
   "cell_type": "markdown",
   "id": "b9dda19e",
   "metadata": {},
   "source": [
    "# Question 10\n",
    "### How do you create a Document object for a new Word document?"
   ]
  },
  {
   "cell_type": "markdown",
   "id": "00856fa4",
   "metadata": {},
   "source": [
    "# Question 11\n",
    "### How do you add a paragraph with the text 'Hello, there!' to a Document object stored in a variable named doc?"
   ]
  },
  {
   "cell_type": "markdown",
   "id": "e094914a",
   "metadata": {},
   "source": [
    "# Question 12\n",
    "### What integers represent the levels of headings available in Word documents?"
   ]
  }
 ],
 "metadata": {
  "kernelspec": {
   "display_name": "Python 3 (ipykernel)",
   "language": "python",
   "name": "python3"
  },
  "language_info": {
   "codemirror_mode": {
    "name": "ipython",
    "version": 3
   },
   "file_extension": ".py",
   "mimetype": "text/x-python",
   "name": "python",
   "nbconvert_exporter": "python",
   "pygments_lexer": "ipython3",
   "version": "3.9.12"
  }
 },
 "nbformat": 4,
 "nbformat_minor": 5
}
