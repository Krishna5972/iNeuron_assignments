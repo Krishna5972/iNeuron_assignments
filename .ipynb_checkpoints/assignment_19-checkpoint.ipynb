{
 "cells": [
  {
   "cell_type": "markdown",
   "id": "e9c2a010",
   "metadata": {},
   "source": [
    "# Question 1 \n",
    "### Make a class called Thing with no contents and print it. Then, create an object called example from this class and also print it. Are the printed values the same or different?"
   ]
  },
  {
   "cell_type": "code",
   "execution_count": 1,
   "id": "5e27297d",
   "metadata": {},
   "outputs": [],
   "source": [
    "class Thing:\n",
    "    pass"
   ]
  },
  {
   "cell_type": "code",
   "execution_count": 2,
   "id": "4643becf",
   "metadata": {},
   "outputs": [
    {
     "data": {
      "text/plain": [
       "__main__.Thing"
      ]
     },
     "execution_count": 2,
     "metadata": {},
     "output_type": "execute_result"
    }
   ],
   "source": [
    "Thing"
   ]
  },
  {
   "cell_type": "code",
   "execution_count": 4,
   "id": "2fe92534",
   "metadata": {},
   "outputs": [
    {
     "data": {
      "text/plain": [
       "<__main__.Thing at 0x21c9fd95160>"
      ]
     },
     "execution_count": 4,
     "metadata": {},
     "output_type": "execute_result"
    }
   ],
   "source": [
    "example=Thing()\n",
    "example"
   ]
  },
  {
   "cell_type": "markdown",
   "id": "52796c45",
   "metadata": {},
   "source": [
    "The object prints the memory address of its location"
   ]
  },
  {
   "cell_type": "markdown",
   "id": "51ffb93e",
   "metadata": {},
   "source": [
    "# Question 2\n",
    "### Create a new class called Thing2 and add the value 'abc' to the letters class attribute. Letters should be printed."
   ]
  },
  {
   "cell_type": "code",
   "execution_count": 12,
   "id": "37959f92",
   "metadata": {},
   "outputs": [],
   "source": [
    "class Thing2:\n",
    "    letters='abc'"
   ]
  },
  {
   "cell_type": "code",
   "execution_count": 15,
   "id": "a417a2a0",
   "metadata": {},
   "outputs": [
    {
     "data": {
      "text/plain": [
       "'abc'"
      ]
     },
     "execution_count": 15,
     "metadata": {},
     "output_type": "execute_result"
    }
   ],
   "source": [
    "Thing2.letters"
   ]
  },
  {
   "cell_type": "markdown",
   "id": "6c0b0d60",
   "metadata": {},
   "source": [
    "# Question 3\n",
    "### Make yet another class called, of course, Thing3. This time, assign the value 'xyz' to an instance (object) attribute called letters. Print letters. Do you need to make an object from the class to do this?"
   ]
  },
  {
   "cell_type": "code",
   "execution_count": 16,
   "id": "431f11f5",
   "metadata": {},
   "outputs": [],
   "source": [
    "class Thing3:\n",
    "    letters='abc'"
   ]
  },
  {
   "cell_type": "code",
   "execution_count": 18,
   "id": "941be7db",
   "metadata": {},
   "outputs": [
    {
     "data": {
      "text/plain": [
       "'xyz'"
      ]
     },
     "execution_count": 18,
     "metadata": {},
     "output_type": "execute_result"
    }
   ],
   "source": [
    "t=Thing3()\n",
    "t.letters='xyz'\n",
    "t.letters"
   ]
  },
  {
   "cell_type": "markdown",
   "id": "e3657baa",
   "metadata": {},
   "source": [
    "yes we need to make an object inorder to assign value to an instance"
   ]
  },
  {
   "cell_type": "markdown",
   "id": "c22164b3",
   "metadata": {},
   "source": [
    "# Question 4\n",
    "### Create an Element class with the instance attributes name, symbol, and number. Create a class object with the values 'Hydrogen,' 'H,' and 1."
   ]
  },
  {
   "cell_type": "code",
   "execution_count": 21,
   "id": "a22c05be",
   "metadata": {},
   "outputs": [],
   "source": [
    "class Element:\n",
    "    def __init__(self,name,symbol,number):\n",
    "        self.name=name\n",
    "        self.symbol=symbol\n",
    "        self.number=number"
   ]
  },
  {
   "cell_type": "code",
   "execution_count": 28,
   "id": "12be69ad",
   "metadata": {},
   "outputs": [],
   "source": [
    "e=Element('Hydrogen,', 'H,', 1)"
   ]
  },
  {
   "cell_type": "code",
   "execution_count": 29,
   "id": "6ec1bdfe",
   "metadata": {},
   "outputs": [
    {
     "name": "stdout",
     "output_type": "stream",
     "text": [
      "Hydrogen,\n",
      "H,\n",
      "1\n"
     ]
    }
   ],
   "source": [
    "print(e.name)\n",
    "print(e.symbol)\n",
    "print(e.number)"
   ]
  },
  {
   "cell_type": "markdown",
   "id": "f2bb5dc5",
   "metadata": {},
   "source": [
    "# Question 5\n",
    "### Make a dictionary with these keys and values: 'name': 'Hydrogen', 'symbol': 'H', 'number': 1. Then, create an object called hydrogen from class Element using this dictionary."
   ]
  },
  {
   "cell_type": "code",
   "execution_count": 31,
   "id": "5ae3dcd8",
   "metadata": {},
   "outputs": [],
   "source": [
    "element_dict={ 'name':'Hydrogen',\n",
    "             'symbol':'H',\n",
    "             'number':1}\n",
    "\n",
    "hydrogen=Element(**element_dict)  #**kwargs"
   ]
  },
  {
   "cell_type": "code",
   "execution_count": 33,
   "id": "c5ab0cb9",
   "metadata": {},
   "outputs": [
    {
     "data": {
      "text/plain": [
       "'Hydrogen'"
      ]
     },
     "execution_count": 33,
     "metadata": {},
     "output_type": "execute_result"
    }
   ],
   "source": [
    "hydrogen.name"
   ]
  },
  {
   "cell_type": "markdown",
   "id": "e8db1fa4",
   "metadata": {},
   "source": [
    "# Question 6\n",
    "### For the Element class, define a method called dump() that prints the values of the object’s attributes (name, symbol, and number). Create the hydrogen object from this new definition and use dump() to print its attributes."
   ]
  },
  {
   "cell_type": "code",
   "execution_count": 38,
   "id": "0c91fe1b",
   "metadata": {},
   "outputs": [],
   "source": [
    "class Element:\n",
    "    def __init__(self,name,symbol,number):\n",
    "        self.name=name\n",
    "        self.symbol=symbol\n",
    "        self.number=number\n",
    "    \n",
    "    def dump(self):\n",
    "        print(f'Name:{self.name}\\nSymbol:{self.symbol}\\nNumber:{self.number}')"
   ]
  },
  {
   "cell_type": "code",
   "execution_count": 39,
   "id": "00d107e7",
   "metadata": {},
   "outputs": [
    {
     "name": "stdout",
     "output_type": "stream",
     "text": [
      "Name:Hydrogen\n",
      "Symbol:H\n",
      "Number:1\n"
     ]
    }
   ],
   "source": [
    "hydrogen=Element(**element_dict)\n",
    "hydrogen.dump()"
   ]
  },
  {
   "cell_type": "markdown",
   "id": "e89c63af",
   "metadata": {},
   "source": [
    "# Question 7\n",
    "### Call print(hydrogen). In the definition of Element, change the name of method dump to __str__, create a new hydrogen object, and call print(hydrogen) again."
   ]
  },
  {
   "cell_type": "code",
   "execution_count": 40,
   "id": "46266dfb",
   "metadata": {},
   "outputs": [
    {
     "name": "stdout",
     "output_type": "stream",
     "text": [
      "<__main__.Element object at 0x0000021C9FD99970>\n"
     ]
    }
   ],
   "source": [
    "print(hydrogen)"
   ]
  },
  {
   "cell_type": "code",
   "execution_count": 45,
   "id": "ef53ff11",
   "metadata": {},
   "outputs": [],
   "source": [
    "class Element:\n",
    "    def __init__(self,name,symbol,number):\n",
    "        self.name=name\n",
    "        self.symbol=symbol\n",
    "        self.number=number\n",
    "    \n",
    "    def __str__(self):\n",
    "        print(f'Name:{self.name}\\nSymbol:{self.symbol}\\nNumber:{self.number}')"
   ]
  },
  {
   "cell_type": "code",
   "execution_count": 46,
   "id": "80acdf61",
   "metadata": {},
   "outputs": [
    {
     "name": "stdout",
     "output_type": "stream",
     "text": [
      "Name:Hydrogen\n",
      "Symbol:H\n",
      "Number:1\n"
     ]
    },
    {
     "ename": "TypeError",
     "evalue": "__str__ returned non-string (type NoneType)",
     "output_type": "error",
     "traceback": [
      "\u001b[1;31m---------------------------------------------------------------------------\u001b[0m",
      "\u001b[1;31mTypeError\u001b[0m                                 Traceback (most recent call last)",
      "Input \u001b[1;32mIn [46]\u001b[0m, in \u001b[0;36m<cell line: 2>\u001b[1;34m()\u001b[0m\n\u001b[0;32m      1\u001b[0m hydrogen\u001b[38;5;241m=\u001b[39mElement(\u001b[38;5;241m*\u001b[39m\u001b[38;5;241m*\u001b[39melement_dict)\n\u001b[1;32m----> 2\u001b[0m \u001b[38;5;28;43mprint\u001b[39;49m\u001b[43m(\u001b[49m\u001b[43mhydrogen\u001b[49m\u001b[43m)\u001b[49m\n",
      "\u001b[1;31mTypeError\u001b[0m: __str__ returned non-string (type NoneType)"
     ]
    }
   ],
   "source": [
    "hydrogen=Element(**element_dict)\n",
    "print(hydrogen)"
   ]
  },
  {
   "cell_type": "markdown",
   "id": "40f124f1",
   "metadata": {},
   "source": [
    "# Question 8\n",
    "### Modify Element to make the attributes name, symbol, and number private. Define a getter property for each to return its value."
   ]
  },
  {
   "cell_type": "code",
   "execution_count": 47,
   "id": "b92ea002",
   "metadata": {},
   "outputs": [],
   "source": [
    "class Element:\n",
    "    def __init__(self,name,symbol,number):\n",
    "        self.__name=name\n",
    "        self.__symbol=symbol\n",
    "        self.__number=number\n",
    "    \n",
    "    def get_name(self):\n",
    "        return self.__name\n",
    "    \n",
    "    def get_symbol(self):\n",
    "        return self.__symbol\n",
    "    \n",
    "    def get_number(self):\n",
    "        return self.__number"
   ]
  },
  {
   "cell_type": "code",
   "execution_count": 48,
   "id": "6d9eeafc",
   "metadata": {},
   "outputs": [
    {
     "data": {
      "text/plain": [
       "'H'"
      ]
     },
     "execution_count": 48,
     "metadata": {},
     "output_type": "execute_result"
    }
   ],
   "source": [
    "hydrogen=Element(**element_dict)\n",
    "hydrogen.get_symbol()"
   ]
  },
  {
   "cell_type": "markdown",
   "id": "17e73b4c",
   "metadata": {},
   "source": [
    "# Question 9\n",
    "### Define three classes: Bear, Rabbit, and Octothorpe. For each, define only one method: eats(). This should return 'berries' (Bear), 'clover' (Rabbit), or 'campers' (Octothorpe). Create one object from each and print what it eats."
   ]
  },
  {
   "cell_type": "code",
   "execution_count": 53,
   "id": "2771d320",
   "metadata": {},
   "outputs": [],
   "source": [
    "class Bear:\n",
    "    def eats(self):\n",
    "        return 'berries'\n",
    "    \n",
    "class Rabbit:\n",
    "    def eats(self):\n",
    "        return 'clover'\n",
    "    \n",
    "class Octothorpe:\n",
    "    def eats(self):\n",
    "        return 'campers'"
   ]
  },
  {
   "cell_type": "code",
   "execution_count": 54,
   "id": "5d82afad",
   "metadata": {},
   "outputs": [
    {
     "data": {
      "text/plain": [
       "'berries'"
      ]
     },
     "execution_count": 54,
     "metadata": {},
     "output_type": "execute_result"
    }
   ],
   "source": [
    "b=Bear()\n",
    "b.eats()"
   ]
  },
  {
   "cell_type": "code",
   "execution_count": 55,
   "id": "4a8c66f1",
   "metadata": {},
   "outputs": [
    {
     "data": {
      "text/plain": [
       "'clover'"
      ]
     },
     "execution_count": 55,
     "metadata": {},
     "output_type": "execute_result"
    }
   ],
   "source": [
    "r=Rabbit()\n",
    "r.eats()"
   ]
  },
  {
   "cell_type": "code",
   "execution_count": 56,
   "id": "48db3cd4",
   "metadata": {},
   "outputs": [
    {
     "data": {
      "text/plain": [
       "'campers'"
      ]
     },
     "execution_count": 56,
     "metadata": {},
     "output_type": "execute_result"
    }
   ],
   "source": [
    "o=Octothorpe()\n",
    "o.eats()"
   ]
  },
  {
   "cell_type": "markdown",
   "id": "b46407c9",
   "metadata": {},
   "source": [
    "# Question 10\n",
    "### Define these classes: Laser, Claw, and SmartPhone. Each has only one method: does(). This returns 'disintegrate' (Laser), 'crush' (Claw), or 'ring' (SmartPhone). Then, define the class Robot that has one instance (object) of each of these. Define a does() method for the Robot that prints what its component objects do."
   ]
  },
  {
   "cell_type": "code",
   "execution_count": 64,
   "id": "00b0f38f",
   "metadata": {},
   "outputs": [],
   "source": [
    "class Laser:\n",
    "    def does(self):\n",
    "        return 'disintegrate'\n",
    "    \n",
    "class Claw:\n",
    "    def does(self):\n",
    "        return 'crush'\n",
    "    \n",
    "class SmartPhone:\n",
    "    def does(self):\n",
    "        return 'ring'\n",
    "    \n",
    "class Robot:\n",
    "    def __init__(self,laser,claw,smartphone):\n",
    "        self.laser=laser\n",
    "        self.claw=claw\n",
    "        self.smartphone=smartphone\n",
    "    \n",
    "    def does(self):\n",
    "        print(f'laser : {self.laser.does()},claw : {self.claw.does()},smartphone : {self.smartphone.does()}')\n",
    "        "
   ]
  },
  {
   "cell_type": "code",
   "execution_count": 65,
   "id": "f572d757",
   "metadata": {},
   "outputs": [],
   "source": [
    "l=Laser()\n",
    "c=Claw()\n",
    "s=SmartPhone()"
   ]
  },
  {
   "cell_type": "code",
   "execution_count": 66,
   "id": "f79075a0",
   "metadata": {},
   "outputs": [
    {
     "name": "stdout",
     "output_type": "stream",
     "text": [
      "laser : disintegrate,claw : crush,smartphone : ring\n"
     ]
    }
   ],
   "source": [
    "r=Robot(l,c,s)\n",
    "r.does()"
   ]
  }
 ],
 "metadata": {
  "kernelspec": {
   "display_name": "Python 3 (ipykernel)",
   "language": "python",
   "name": "python3"
  },
  "language_info": {
   "codemirror_mode": {
    "name": "ipython",
    "version": 3
   },
   "file_extension": ".py",
   "mimetype": "text/x-python",
   "name": "python",
   "nbconvert_exporter": "python",
   "pygments_lexer": "ipython3",
   "version": "3.9.12"
  }
 },
 "nbformat": 4,
 "nbformat_minor": 5
}
