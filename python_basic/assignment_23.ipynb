{
 "cells": [
  {
   "cell_type": "markdown",
   "id": "203926bb",
   "metadata": {},
   "source": [
    "# Question 1\n",
    "## What is the result of the code, and why?\n"
   ]
  },
  {
   "cell_type": "code",
   "execution_count": 14,
   "id": "00ccb4c5",
   "metadata": {},
   "outputs": [
    {
     "name": "stdout",
     "output_type": "stream",
     "text": [
      "1 2 8\n"
     ]
    }
   ],
   "source": [
    "def func(a, b=6, c=8):\n",
    "    print(a, b, c)\n",
    "func(1, 2)\n"
   ]
  },
  {
   "cell_type": "markdown",
   "id": "da9e4ca4",
   "metadata": {},
   "source": [
    "1,2 are being passed as positional arguments, so in the function signature , a,b will take 1,2 values respectively, as c value is not passed explicitly , the function signature is defined with c as default argument which is to be 8, 'c=8'"
   ]
  },
  {
   "cell_type": "markdown",
   "id": "d24fcb1a",
   "metadata": {},
   "source": [
    "# Question 2\n",
    "## What is the result of the code, and why?"
   ]
  },
  {
   "cell_type": "code",
   "execution_count": 17,
   "id": "2f983353",
   "metadata": {},
   "outputs": [
    {
     "name": "stdout",
     "output_type": "stream",
     "text": [
      "1 2 3\n"
     ]
    }
   ],
   "source": [
    "def func(a, b, c=5):\n",
    "    print(a, b, c)\n",
    "func(1, c=3, b=2)\n"
   ]
  },
  {
   "cell_type": "markdown",
   "id": "b359dcf6",
   "metadata": {},
   "source": [
    "1 is being passed to a, as positonal argument, c,b are being passed as keyword arguments"
   ]
  },
  {
   "cell_type": "markdown",
   "id": "6c9b7ee6",
   "metadata": {},
   "source": [
    "# Question 3\n",
    "## How about this code: what is its result, and why"
   ]
  },
  {
   "cell_type": "code",
   "execution_count": 18,
   "id": "12f51e7f",
   "metadata": {},
   "outputs": [
    {
     "name": "stdout",
     "output_type": "stream",
     "text": [
      "1 (2, 3)\n"
     ]
    }
   ],
   "source": [
    "def func(a, *pargs):\n",
    "    print(a, pargs)\n",
    "func(1, 2, 3)\n"
   ]
  },
  {
   "cell_type": "markdown",
   "id": "f640a21b",
   "metadata": {},
   "source": [
    "1 is being passed as positional arguments, 2,3 are being passed as arbitary positional arguments"
   ]
  },
  {
   "cell_type": "markdown",
   "id": "7bf3832a",
   "metadata": {},
   "source": [
    "# Question 4\n",
    "## What does this code print, and why?"
   ]
  },
  {
   "cell_type": "code",
   "execution_count": 19,
   "id": "7a5223d5",
   "metadata": {},
   "outputs": [
    {
     "name": "stdout",
     "output_type": "stream",
     "text": [
      "1 {'c': 3, 'b': 2}\n"
     ]
    }
   ],
   "source": [
    "def func(a, **kargs):\n",
    "    print(a, kargs)\n",
    "func(a=1, c=3, b=2)\n"
   ]
  },
  {
   "cell_type": "markdown",
   "id": "142a5c11",
   "metadata": {},
   "source": [
    "1 is being passed as a keyword argument, where as c,b are being passed as arbitary keyword arguments ({key,value} pairs)"
   ]
  },
  {
   "cell_type": "markdown",
   "id": "ddb737a0",
   "metadata": {},
   "source": [
    "# Question 5\n",
    "## What gets printed by this, and explain?"
   ]
  },
  {
   "cell_type": "code",
   "execution_count": 32,
   "id": "f356696d",
   "metadata": {},
   "outputs": [
    {
     "name": "stdout",
     "output_type": "stream",
     "text": [
      "1 5 6 5\n"
     ]
    }
   ],
   "source": [
    "def func(a, b, c=8, d=5):\n",
    "#     print(b)\n",
    "#     print(c)\n",
    "    print(a, b, c, d)\n",
    "func(1, *(5, 6))\n"
   ]
  },
  {
   "cell_type": "markdown",
   "id": "b8b16ad8",
   "metadata": {},
   "source": [
    "1 will be passed as positional argument, '*(5,6)' will be unpacked and passed on so b will take 5,c will take 6 and nothing is passed on to d, so it will take its defualt value as 5"
   ]
  },
  {
   "cell_type": "markdown",
   "id": "c2186756",
   "metadata": {},
   "source": [
    "# Question 6\n",
    "## what is the result of this, and explain?"
   ]
  },
  {
   "cell_type": "code",
   "execution_count": 4,
   "id": "275312d0",
   "metadata": {},
   "outputs": [
    {
     "data": {
      "text/plain": [
       "(1, ['x'], {'a': 'y'})"
      ]
     },
     "execution_count": 4,
     "metadata": {},
     "output_type": "execute_result"
    }
   ],
   "source": [
    "def func(a, b, c): \n",
    "    a = 2; b[0] = 'x'; c['a'] = 'y'\n",
    "l=1; m=[1]; n={'a':0}\n",
    "func(l, m, n)\n",
    "l, m, n\n"
   ]
  },
  {
   "cell_type": "markdown",
   "id": "cce3bd73",
   "metadata": {},
   "source": [
    "the value of 'l' is unchanged beacuse 'integer' is immutable, but list and dict are mutable so their value is updated even without 'global' keyword. Parameters are passed by object reference."
   ]
  },
  {
   "cell_type": "code",
   "execution_count": null,
   "id": "622ceaa9",
   "metadata": {},
   "outputs": [],
   "source": []
  }
 ],
 "metadata": {
  "kernelspec": {
   "display_name": "Python 3 (ipykernel)",
   "language": "python",
   "name": "python3"
  },
  "language_info": {
   "codemirror_mode": {
    "name": "ipython",
    "version": 3
   },
   "file_extension": ".py",
   "mimetype": "text/x-python",
   "name": "python",
   "nbconvert_exporter": "python",
   "pygments_lexer": "ipython3",
   "version": "3.9.12"
  }
 },
 "nbformat": 4,
 "nbformat_minor": 5
}
