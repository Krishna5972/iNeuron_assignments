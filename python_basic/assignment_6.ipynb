{
 "cells": [
  {
   "cell_type": "markdown",
   "id": "d20e70d6",
   "metadata": {},
   "source": [
    "# Question 1\n",
    "### What are escape characters, and how do you use them?"
   ]
  },
  {
   "cell_type": "markdown",
   "id": "f18e13f4",
   "metadata": {},
   "source": [
    "a) Escape characters are used to insert characters that illegal in a string. A escape characters starts with a backslash '\\'  <br>\n",
    "'\\t' --> tab <br>\n",
    "'\\n' --> newline <br>\n",
    "'r' --> cursor to begining of the line "
   ]
  },
  {
   "cell_type": "code",
   "execution_count": 19,
   "id": "4ebdf7ef",
   "metadata": {},
   "outputs": [
    {
     "name": "stdout",
     "output_type": "stream",
     "text": [
      "\t Hello , this is Assignmnet_6\n"
     ]
    }
   ],
   "source": [
    " # a tab of spaces is generated depending on the environment\n",
    "print('\\t Hello , this is Assignmnet_6')"
   ]
  },
  {
   "cell_type": "code",
   "execution_count": 20,
   "id": "48e54ca8",
   "metadata": {},
   "outputs": [
    {
     "name": "stdout",
     "output_type": "stream",
     "text": [
      "\n",
      " Hello , this is Assignmnet_6\n"
     ]
    }
   ],
   "source": [
    "# the string will be printed in next line\n",
    "print('\\n Hello , this is Assignmnet_6') "
   ]
  },
  {
   "cell_type": "code",
   "execution_count": 21,
   "id": "6f86e217",
   "metadata": {},
   "outputs": [
    {
     "name": "stdout",
     "output_type": "stream",
     "text": [
      "Hello , this is Assignmnet_6 \r",
      " Hi\n"
     ]
    }
   ],
   "source": [
    "#'He' in will be overwritten by Hi, as the cursor moves to 1st place\n",
    "print('Hello , this is Assignmnet_6 \\r Hi') \n"
   ]
  },
  {
   "cell_type": "markdown",
   "id": "ec054818",
   "metadata": {},
   "source": [
    "# Question 2\n",
    "### What do the escape characters n and t stand for?"
   ]
  },
  {
   "cell_type": "markdown",
   "id": "c780659e",
   "metadata": {},
   "source": [
    "a)n stands for new line and t stand for a tab"
   ]
  },
  {
   "cell_type": "markdown",
   "id": "134ee7c4",
   "metadata": {},
   "source": [
    "# Question 3\n",
    "### What is the way to include backslash characters in a string?"
   ]
  },
  {
   "cell_type": "code",
   "execution_count": null,
   "id": "a1069e6b",
   "metadata": {},
   "outputs": [],
   "source": [
    "a) There are two options, either use two backslash '\\\\' or specify its a raw string by uisng 'r' infront of the string"
   ]
  },
  {
   "cell_type": "code",
   "execution_count": 24,
   "id": "0dd7e9c6",
   "metadata": {},
   "outputs": [
    {
     "name": "stdout",
     "output_type": "stream",
     "text": [
      "c:\\iNeuron\n"
     ]
    }
   ],
   "source": [
    "print('c:\\\\iNeuron') #double backslash"
   ]
  },
  {
   "cell_type": "code",
   "execution_count": 25,
   "id": "79f669b3",
   "metadata": {},
   "outputs": [
    {
     "name": "stdout",
     "output_type": "stream",
     "text": [
      "c:\\iNeuron\n"
     ]
    }
   ],
   "source": [
    "print(r'c:\\iNeuron')  #raw string"
   ]
  },
  {
   "cell_type": "markdown",
   "id": "395684c9",
   "metadata": {},
   "source": [
    "# Question 4\n",
    "### The string \"Howl's Moving Castle\" is a correct value. Why isn't the single quote character in the word Howl's not escaped a problem?"
   ]
  },
  {
   "cell_type": "markdown",
   "id": "2ee087e6",
   "metadata": {},
   "source": [
    "a) As double quotes were used at the beginning and ending of the string this didn't raise a error. Vice versa can also be done, if at the beginning and ending single quotes are used, double quotes can be used inside the string."
   ]
  },
  {
   "cell_type": "code",
   "execution_count": 26,
   "id": "e21bfddb",
   "metadata": {},
   "outputs": [
    {
     "data": {
      "text/plain": [
       "\"Howl's Moving Castle\""
      ]
     },
     "execution_count": 26,
     "metadata": {},
     "output_type": "execute_result"
    }
   ],
   "source": [
    "\"Howl's Moving Castle\""
   ]
  },
  {
   "cell_type": "code",
   "execution_count": 27,
   "id": "063e8324",
   "metadata": {},
   "outputs": [
    {
     "data": {
      "text/plain": [
       "'Howl\"s Moving Castle'"
      ]
     },
     "execution_count": 27,
     "metadata": {},
     "output_type": "execute_result"
    }
   ],
   "source": [
    "'Howl\"s Moving Castle' "
   ]
  },
  {
   "cell_type": "markdown",
   "id": "426bf63c",
   "metadata": {},
   "source": [
    "# Question 5\n",
    "### How do you write a string of newlines if you don't want to use the n character??"
   ]
  },
  {
   "cell_type": "markdown",
   "id": "91ca9888",
   "metadata": {},
   "source": [
    "a) we can use multiline strings, these are defined in three single quotes or three double quotes"
   ]
  },
  {
   "cell_type": "code",
   "execution_count": 39,
   "id": "fb88644c",
   "metadata": {},
   "outputs": [
    {
     "name": "stdout",
     "output_type": "stream",
     "text": [
      "This is assignment is from python basic category,\n",
      "this is assignmnet_6 and it is on strings\n"
     ]
    }
   ],
   "source": [
    "a='''This is assignment is from python basic category,\n",
    "this is assignmnet_6 and it is on strings'''\n",
    "\n",
    "print(a)"
   ]
  },
  {
   "cell_type": "code",
   "execution_count": 40,
   "id": "99ce26a3",
   "metadata": {},
   "outputs": [
    {
     "name": "stdout",
     "output_type": "stream",
     "text": [
      "This is assignment is from python basic category,\n",
      "this is assignmnet_6 and it is on strings\n"
     ]
    }
   ],
   "source": [
    "a=\"\"\"This is assignment is from python basic category,\n",
    "this is assignmnet_6 and it is on strings\"\"\"\n",
    "\n",
    "print(a)"
   ]
  },
  {
   "cell_type": "markdown",
   "id": "5e2b340f",
   "metadata": {},
   "source": [
    "# Question 6\n",
    "### What are the values of the given expressions?\n",
    "\n",
    "'Hello, world!'[1] <br>\n",
    "'Hello, world!'[0:5] <br>\n",
    "'Hello, world!'[:5] <br>\n",
    "'Hello, world!'[3:] <br>\n"
   ]
  },
  {
   "cell_type": "code",
   "execution_count": 42,
   "id": "7d2fde5a",
   "metadata": {},
   "outputs": [
    {
     "data": {
      "text/plain": [
       "'e'"
      ]
     },
     "execution_count": 42,
     "metadata": {},
     "output_type": "execute_result"
    }
   ],
   "source": [
    "'Hello, world!'[1]  #pulling the value at index 1"
   ]
  },
  {
   "cell_type": "code",
   "execution_count": 44,
   "id": "3c47194f",
   "metadata": {},
   "outputs": [
    {
     "data": {
      "text/plain": [
       "'Hello'"
      ]
     },
     "execution_count": 44,
     "metadata": {},
     "output_type": "execute_result"
    }
   ],
   "source": [
    "'Hello, world!'[0:5] #slicing the values from 0 to 5, exclusive of 5"
   ]
  },
  {
   "cell_type": "code",
   "execution_count": 45,
   "id": "c0496dc2",
   "metadata": {},
   "outputs": [
    {
     "data": {
      "text/plain": [
       "'Hello'"
      ]
     },
     "execution_count": 45,
     "metadata": {},
     "output_type": "execute_result"
    }
   ],
   "source": [
    "'Hello, world!'[:5] #slicing the values from 0 to 5, exclusive of 5 and by defualt the left side value will be 0"
   ]
  },
  {
   "cell_type": "code",
   "execution_count": 47,
   "id": "01f3e100",
   "metadata": {},
   "outputs": [
    {
     "data": {
      "text/plain": [
       "'lo, world!'"
      ]
     },
     "execution_count": 47,
     "metadata": {},
     "output_type": "execute_result"
    }
   ],
   "source": [
    "'Hello, world!'[3:] #if nothing is specified it will slice till the last element"
   ]
  },
  {
   "cell_type": "markdown",
   "id": "c5bd8e1c",
   "metadata": {},
   "source": [
    "# Question 7\n",
    "### What are the values of the following expressions?\n",
    "'Hello'.upper() <br>\n",
    "'Hello'.upper().isupper() <br>\n",
    "'Hello'.upper().lower() <br>\n"
   ]
  },
  {
   "cell_type": "code",
   "execution_count": 50,
   "id": "776468b6",
   "metadata": {},
   "outputs": [
    {
     "data": {
      "text/plain": [
       "'HELLO'"
      ]
     },
     "execution_count": 50,
     "metadata": {},
     "output_type": "execute_result"
    }
   ],
   "source": [
    "'Hello'.upper() #convert the entire string to upper case"
   ]
  },
  {
   "cell_type": "code",
   "execution_count": 52,
   "id": "c4a48db2",
   "metadata": {},
   "outputs": [
    {
     "data": {
      "text/plain": [
       "True"
      ]
     },
     "execution_count": 52,
     "metadata": {},
     "output_type": "execute_result"
    }
   ],
   "source": [
    " # .upper() will convert the string to upper, .isupper() will check if all the characters in the string are in upper case \n",
    "'Hello'.upper().isupper() "
   ]
  },
  {
   "cell_type": "code",
   "execution_count": 54,
   "id": "ed04b691",
   "metadata": {},
   "outputs": [
    {
     "data": {
      "text/plain": [
       "'hello'"
      ]
     },
     "execution_count": 54,
     "metadata": {},
     "output_type": "execute_result"
    }
   ],
   "source": [
    "'Hello'.upper().lower()  #.upper will convert the string to upper case, then .lower() will convert all the characters to lowercase"
   ]
  },
  {
   "cell_type": "markdown",
   "id": "e07aaf56",
   "metadata": {},
   "source": [
    "# Question 8\n",
    "### What are the values of the following expressions?\n",
    "\n",
    "'Remember, remember, the fifth of July.'.split() <br>\n",
    "'-'.join('There can only one.'.split())  <br>\n",
    " "
   ]
  },
  {
   "cell_type": "code",
   "execution_count": 57,
   "id": "afec8c46",
   "metadata": {},
   "outputs": [
    {
     "data": {
      "text/plain": [
       "['Remember,', 'remember,', 'the', 'fifth', 'of', 'July.']"
      ]
     },
     "execution_count": 57,
     "metadata": {},
     "output_type": "execute_result"
    }
   ],
   "source": [
    "#.split() will split the string on every occurence of space ' ' and will return a list\n",
    "'Remember, remember, the fifth of July.'.split() "
   ]
  },
  {
   "cell_type": "code",
   "execution_count": 59,
   "id": "52701249",
   "metadata": {},
   "outputs": [
    {
     "data": {
      "text/plain": [
       "'There-can-only-one.'"
      ]
     },
     "execution_count": 59,
     "metadata": {},
     "output_type": "execute_result"
    }
   ],
   "source": [
    "#.join() will take the iterable and joins every element into one string.\n",
    "'-'.join('There can only one.'.split())"
   ]
  },
  {
   "cell_type": "code",
   "execution_count": 60,
   "id": "528ad8c7",
   "metadata": {},
   "outputs": [
    {
     "data": {
      "text/plain": [
       "'This is assignment_6'"
      ]
     },
     "execution_count": 60,
     "metadata": {},
     "output_type": "execute_result"
    }
   ],
   "source": [
    "' '.join(['This','is','assignment_6'])"
   ]
  },
  {
   "cell_type": "markdown",
   "id": "48650f99",
   "metadata": {},
   "source": [
    "# Question 9\n",
    "### What are the methods for right-justifying, left-justifying, and centering a string?"
   ]
  },
  {
   "cell_type": "markdown",
   "id": "558d3186",
   "metadata": {},
   "source": [
    "rjust(), ljust(), and center() string methods, respectively.These functions will take width as parameter."
   ]
  },
  {
   "cell_type": "code",
   "execution_count": 61,
   "id": "72f77d74",
   "metadata": {},
   "outputs": [],
   "source": [
    "a='hello'"
   ]
  },
  {
   "cell_type": "code",
   "execution_count": 64,
   "id": "4873fb86",
   "metadata": {},
   "outputs": [
    {
     "data": {
      "text/plain": [
       "'   hello'"
      ]
     },
     "execution_count": 64,
     "metadata": {},
     "output_type": "execute_result"
    }
   ],
   "source": [
    "a.rjust(8)"
   ]
  },
  {
   "cell_type": "code",
   "execution_count": 65,
   "id": "8a1afa81",
   "metadata": {},
   "outputs": [
    {
     "data": {
      "text/plain": [
       "'hello   '"
      ]
     },
     "execution_count": 65,
     "metadata": {},
     "output_type": "execute_result"
    }
   ],
   "source": [
    "a.ljust(8)"
   ]
  },
  {
   "cell_type": "code",
   "execution_count": 66,
   "id": "0e8b70d1",
   "metadata": {},
   "outputs": [
    {
     "data": {
      "text/plain": [
       "' hello  '"
      ]
     },
     "execution_count": 66,
     "metadata": {},
     "output_type": "execute_result"
    }
   ],
   "source": [
    "a.center(8)"
   ]
  },
  {
   "cell_type": "markdown",
   "id": "95096454",
   "metadata": {},
   "source": [
    "# Question 10\n",
    "### What is the best way to remove whitespace characters from the start or end?"
   ]
  },
  {
   "cell_type": "markdown",
   "id": "a14f05b9",
   "metadata": {},
   "source": [
    "using .replace() on white spaces."
   ]
  },
  {
   "cell_type": "code",
   "execution_count": 71,
   "id": "5e52e933",
   "metadata": {},
   "outputs": [],
   "source": [
    "a='Remember, remember, the      fifth       of      July.'"
   ]
  },
  {
   "cell_type": "code",
   "execution_count": 75,
   "id": "e3ae0f42",
   "metadata": {},
   "outputs": [
    {
     "data": {
      "text/plain": [
       "'Remember,remember,thefifthofJuly.'"
      ]
     },
     "execution_count": 75,
     "metadata": {},
     "output_type": "execute_result"
    }
   ],
   "source": [
    "a.replace(' ','')"
   ]
  }
 ],
 "metadata": {
  "kernelspec": {
   "display_name": "Python 3 (ipykernel)",
   "language": "python",
   "name": "python3"
  },
  "language_info": {
   "codemirror_mode": {
    "name": "ipython",
    "version": 3
   },
   "file_extension": ".py",
   "mimetype": "text/x-python",
   "name": "python",
   "nbconvert_exporter": "python",
   "pygments_lexer": "ipython3",
   "version": "3.9.12"
  }
 },
 "nbformat": 4,
 "nbformat_minor": 5
}
