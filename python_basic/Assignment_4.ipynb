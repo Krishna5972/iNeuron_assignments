{
 "cells": [
  {
   "cell_type": "markdown",
   "id": "a5841ac8",
   "metadata": {},
   "source": [
    "# Question 1\n",
    "### What exactly is []?"
   ]
  },
  {
   "cell_type": "markdown",
   "id": "dd5c4548",
   "metadata": {},
   "source": [
    "'[]' denotes empty list. It is used while defining a list"
   ]
  },
  {
   "cell_type": "code",
   "execution_count": 88,
   "id": "6572aba9",
   "metadata": {},
   "outputs": [
    {
     "name": "stdout",
     "output_type": "stream",
     "text": [
      "\"a\" before appending any values []\n",
      "after appending  values [1, 2]\n"
     ]
    },
    {
     "data": {
      "text/plain": [
       "[1, 2]"
      ]
     },
     "execution_count": 88,
     "metadata": {},
     "output_type": "execute_result"
    }
   ],
   "source": [
    "a=[]\n",
    "print(f'\"a\" before appending any values {a}')\n",
    "a.append(1)\n",
    "a.append(2)\n",
    "print(f'after appending  values {a}')\n",
    "a"
   ]
  },
  {
   "cell_type": "markdown",
   "id": "83219639",
   "metadata": {},
   "source": [
    "# Question 2\n",
    "### In a list of values stored in a variable called spam, how would you assign the value 'hello' as the third value? (Assume [2, 4, 6, 8, 10] are in spam.)"
   ]
  },
  {
   "cell_type": "markdown",
   "id": "21448235",
   "metadata": {},
   "source": [
    "To assign value 'hello' as third value , 'hello' can be inserted at  2nd index using built-in function 'insert()' on the list."
   ]
  },
  {
   "cell_type": "code",
   "execution_count": 89,
   "id": "fcff17b8",
   "metadata": {},
   "outputs": [
    {
     "data": {
      "text/plain": [
       "[2, 4, 'hello', 6, 8, 10]"
      ]
     },
     "execution_count": 89,
     "metadata": {},
     "output_type": "execute_result"
    }
   ],
   "source": [
    "spam=[2,4,6,8,10]\n",
    "spam.insert(2,'hello')\n",
    "spam"
   ]
  },
  {
   "cell_type": "markdown",
   "id": "7c715ca5",
   "metadata": {},
   "source": [
    "# Question 3\n",
    "### Let's pretend the spam includes the list ['a', 'b', 'c', 'd'] for the next three queries.\n",
    "### What is the value of spam[int(int('3' * 2) / 11)]?"
   ]
  },
  {
   "cell_type": "markdown",
   "id": "7ef66d3b",
   "metadata": {},
   "source": [
    "a) 'd' , '3'* 2 will generate '33', when typecasted to int it will become 33, when divided by 3 it will value will be reduced to 3.0, when typcasted again it will become 3, finally spam[3]--> 'd'"
   ]
  },
  {
   "cell_type": "code",
   "execution_count": 90,
   "id": "0dd1c60b",
   "metadata": {},
   "outputs": [],
   "source": [
    "spam=['a','b','c','d']"
   ]
  },
  {
   "cell_type": "code",
   "execution_count": 91,
   "id": "1cbba6d1",
   "metadata": {},
   "outputs": [
    {
     "data": {
      "text/plain": [
       "'d'"
      ]
     },
     "execution_count": 91,
     "metadata": {},
     "output_type": "execute_result"
    }
   ],
   "source": [
    "spam[int(int('3' * 2) / 11)]"
   ]
  },
  {
   "cell_type": "markdown",
   "id": "74938002",
   "metadata": {},
   "source": [
    "# Question 4\n",
    "### What is the value of spam[-1]?"
   ]
  },
  {
   "cell_type": "markdown",
   "id": "6e6cfbe3",
   "metadata": {},
   "source": [
    "a) 'd', [-1] pulls the last element in the list"
   ]
  },
  {
   "cell_type": "markdown",
   "id": "28243892",
   "metadata": {},
   "source": [
    "# Question 5\n",
    "### What is the value of spam[:2]?"
   ]
  },
  {
   "cell_type": "markdown",
   "id": "afee24e8",
   "metadata": {},
   "source": [
    "a) ['a,'b'], slicing is being done here, starting from 0 to exclusive of 2, that returns the elements with indexes 0 and 1"
   ]
  },
  {
   "cell_type": "markdown",
   "id": "880be237",
   "metadata": {},
   "source": [
    "# Question 6\n",
    "### Let's pretend bacon has the list [3.14, 'cat,' 11, 'cat,' True] for the next three questions.\n",
    "### What is the value of bacon.index('cat')?"
   ]
  },
  {
   "cell_type": "markdown",
   "id": "3d4339ec",
   "metadata": {},
   "source": [
    "a) The value of bacon.index('cat') is 1, as it returns the index of the first occurance of the value that is being passed"
   ]
  },
  {
   "cell_type": "code",
   "execution_count": 92,
   "id": "b98954cb",
   "metadata": {},
   "outputs": [],
   "source": [
    "bacon=[3.14, 'cat',11, 'cat', True]"
   ]
  },
  {
   "cell_type": "code",
   "execution_count": 93,
   "id": "a2ce7d0a",
   "metadata": {},
   "outputs": [
    {
     "data": {
      "text/plain": [
       "1"
      ]
     },
     "execution_count": 93,
     "metadata": {},
     "output_type": "execute_result"
    }
   ],
   "source": [
    "bacon.index('cat')"
   ]
  },
  {
   "cell_type": "markdown",
   "id": "1983cf6c",
   "metadata": {},
   "source": [
    "# Question 7\n",
    "### How does bacon.append(99) change the look of the list value in bacon?"
   ]
  },
  {
   "cell_type": "markdown",
   "id": "0b843754",
   "metadata": {},
   "source": [
    "a) bacon.append(99) will insert 99 at the end of the list"
   ]
  },
  {
   "cell_type": "code",
   "execution_count": 94,
   "id": "94aa2da7",
   "metadata": {},
   "outputs": [
    {
     "data": {
      "text/plain": [
       "[3.14, 'cat', 11, 'cat', True, 99]"
      ]
     },
     "execution_count": 94,
     "metadata": {},
     "output_type": "execute_result"
    }
   ],
   "source": [
    "bacon.append(99)\n",
    "bacon"
   ]
  },
  {
   "cell_type": "markdown",
   "id": "7403bcad",
   "metadata": {},
   "source": [
    "# Question 8\n",
    "### How does bacon.remove('cat') change the look of the list in bacon?"
   ]
  },
  {
   "cell_type": "markdown",
   "id": "0dd2d11c",
   "metadata": {},
   "source": [
    "a) it delete's the element 'cat' from the list, removes the first occurance"
   ]
  },
  {
   "cell_type": "code",
   "execution_count": 95,
   "id": "36eba2dc",
   "metadata": {},
   "outputs": [
    {
     "data": {
      "text/plain": [
       "[3.14, 11, 'cat', True, 99]"
      ]
     },
     "execution_count": 95,
     "metadata": {},
     "output_type": "execute_result"
    }
   ],
   "source": [
    "bacon.remove('cat') \n",
    "bacon"
   ]
  },
  {
   "cell_type": "markdown",
   "id": "3c57f26e",
   "metadata": {},
   "source": [
    "# Question 9\n",
    "### What are the list concatenation and list replication operators?"
   ]
  },
  {
   "cell_type": "markdown",
   "id": "a9e2aca3",
   "metadata": {},
   "source": [
    "a)The operator for list concatenation is +, and the operator for replication is *."
   ]
  },
  {
   "cell_type": "code",
   "execution_count": 96,
   "id": "949d57f7",
   "metadata": {},
   "outputs": [],
   "source": [
    "a=[1,2,3]\n",
    "b=[4,5,6]"
   ]
  },
  {
   "cell_type": "code",
   "execution_count": 97,
   "id": "32294751",
   "metadata": {},
   "outputs": [
    {
     "data": {
      "text/plain": [
       "[1, 2, 3, 4, 5, 6]"
      ]
     },
     "execution_count": 97,
     "metadata": {},
     "output_type": "execute_result"
    }
   ],
   "source": [
    "a+b #concatenation "
   ]
  },
  {
   "cell_type": "code",
   "execution_count": 98,
   "id": "1a96d4c7",
   "metadata": {},
   "outputs": [
    {
     "data": {
      "text/plain": [
       "[1, 2, 3, 1, 2, 3]"
      ]
     },
     "execution_count": 98,
     "metadata": {},
     "output_type": "execute_result"
    }
   ],
   "source": [
    "a*2  #replication"
   ]
  },
  {
   "cell_type": "markdown",
   "id": "8f97dc34",
   "metadata": {},
   "source": [
    "# Question 10\n",
    "### What is difference between the list methods append() and insert()?"
   ]
  },
  {
   "cell_type": "markdown",
   "id": "1a595e48",
   "metadata": {},
   "source": [
    "a)'append()' will insert values at the end of a list, 'insert()' can add values at any index in the list."
   ]
  },
  {
   "cell_type": "code",
   "execution_count": 99,
   "id": "dfac1a9a",
   "metadata": {},
   "outputs": [
    {
     "data": {
      "text/plain": [
       "[1, 2, 3, 4]"
      ]
     },
     "execution_count": 99,
     "metadata": {},
     "output_type": "execute_result"
    }
   ],
   "source": [
    "a=[1,2,3]\n",
    "a.append(4) #4 will be added at the end of 'a'\n",
    "a"
   ]
  },
  {
   "cell_type": "code",
   "execution_count": 100,
   "id": "4a2dbbf6",
   "metadata": {},
   "outputs": [
    {
     "data": {
      "text/plain": [
       "[1, 4, 2, 3, 4]"
      ]
     },
     "execution_count": 100,
     "metadata": {},
     "output_type": "execute_result"
    }
   ],
   "source": [
    "a.insert(1,4)  #4 will be inserted at the end of 1st index\n",
    "a"
   ]
  },
  {
   "cell_type": "markdown",
   "id": "8bf9c70d",
   "metadata": {},
   "source": [
    "# Question 11\n",
    "### What are the two methods for removing items from a list?"
   ]
  },
  {
   "cell_type": "markdown",
   "id": "59ab98e4",
   "metadata": {},
   "source": [
    "a) any of the del  and  remove() list method can be used to remove items from a list"
   ]
  },
  {
   "cell_type": "code",
   "execution_count": 101,
   "id": "d85298d3",
   "metadata": {},
   "outputs": [
    {
     "data": {
      "text/plain": [
       "[1, 3]"
      ]
     },
     "execution_count": 101,
     "metadata": {},
     "output_type": "execute_result"
    }
   ],
   "source": [
    "a=[1,2,3]\n",
    "del(a[1])\n",
    "a"
   ]
  },
  {
   "cell_type": "code",
   "execution_count": 102,
   "id": "4a9f9a21",
   "metadata": {},
   "outputs": [
    {
     "data": {
      "text/plain": [
       "[1, 3]"
      ]
     },
     "execution_count": 102,
     "metadata": {},
     "output_type": "execute_result"
    }
   ],
   "source": [
    "a=[1,2,3]\n",
    "a.remove(2)\n",
    "a"
   ]
  },
  {
   "cell_type": "markdown",
   "id": "fd746edc",
   "metadata": {},
   "source": [
    "# Question 12\n",
    "### Describe how list values and string values are identical."
   ]
  },
  {
   "cell_type": "markdown",
   "id": "7b0e936d",
   "metadata": {},
   "source": [
    "a) slicing can be done on both,both are iterables and both have indexes. '+' operator is used to concat both lists and string and similarly '*' is used to replicate them both"
   ]
  },
  {
   "cell_type": "markdown",
   "id": "0d476d7b",
   "metadata": {},
   "source": [
    "# Question 13\n",
    "### What's the difference between tuples and lists?"
   ]
  },
  {
   "cell_type": "markdown",
   "id": "03cf7640",
   "metadata": {},
   "source": [
    "a) lists are mutable , where as tuples are not mutable. '[]' is used to define a list , '()' is used to define a list"
   ]
  },
  {
   "cell_type": "markdown",
   "id": "73dca8df",
   "metadata": {},
   "source": [
    "# Question 14\n",
    "### How do you type a tuple value that only contains the integer 42?"
   ]
  },
  {
   "cell_type": "code",
   "execution_count": 103,
   "id": "f93e04d1",
   "metadata": {},
   "outputs": [
    {
     "data": {
      "text/plain": [
       "(42,)"
      ]
     },
     "execution_count": 103,
     "metadata": {},
     "output_type": "execute_result"
    }
   ],
   "source": [
    "a=(42,)\n",
    "a"
   ]
  },
  {
   "cell_type": "markdown",
   "id": "c2b758ac",
   "metadata": {},
   "source": [
    "a) ',' trailing comma can be used at the end of last element to distingish between a tuple or an expression surrounded by parentheses. Its just a good practise and is optional"
   ]
  },
  {
   "cell_type": "markdown",
   "id": "b79ddc29",
   "metadata": {},
   "source": [
    "# Question 15\n",
    "### How do you get a list value's tuple form? How do you get a tuple value's list form?"
   ]
  },
  {
   "cell_type": "markdown",
   "id": "87d3ceb8",
   "metadata": {},
   "source": [
    "a) List can be typecasted to tuple using list() and vice versa using tuple() for a list"
   ]
  },
  {
   "cell_type": "code",
   "execution_count": 104,
   "id": "a529ca2d",
   "metadata": {},
   "outputs": [
    {
     "name": "stdout",
     "output_type": "stream",
     "text": [
      "(1, 2, 3)\n",
      "<class 'tuple'>\n"
     ]
    }
   ],
   "source": [
    "a=[1,2,3] #list\n",
    "a_tuple=tuple(a)\n",
    "print(a_tuple)\n",
    "print(type(a_tuple))"
   ]
  },
  {
   "cell_type": "code",
   "execution_count": 105,
   "id": "2febcaf2",
   "metadata": {},
   "outputs": [
    {
     "name": "stdout",
     "output_type": "stream",
     "text": [
      "[1, 2, 3]\n",
      "<class 'list'>\n"
     ]
    }
   ],
   "source": [
    "a=(1,2,3,) #tuple\n",
    "a_tuple=list(a)\n",
    "print(a_tuple)\n",
    "print(type(a_tuple))"
   ]
  },
  {
   "cell_type": "markdown",
   "id": "2ca36e11",
   "metadata": {},
   "source": [
    "# Question 16\n",
    "### Variables that \"contain\" list values are not necessarily lists themselves. Instead, what do they contain?"
   ]
  },
  {
   "cell_type": "markdown",
   "id": "fbf5e3c6",
   "metadata": {},
   "source": [
    "a) Such variable contain references(addresses of memory location) to lists."
   ]
  },
  {
   "cell_type": "markdown",
   "id": "d78f922b",
   "metadata": {},
   "source": [
    "# Question 17\n",
    "### How do you distinguish between copy.copy() and copy.deepcopy()?"
   ]
  },
  {
   "cell_type": "markdown",
   "id": "9f98240f",
   "metadata": {},
   "source": [
    "a) in 'copy.copy()' any changes mades to the dulplicated list will also reflect in the original list <br>\n",
    " in 'copy.deepcopy()' any changes mades to the dulplicated list will not reflect in the original list,deepcopy will duplicate any lists inside the list which will not be done in .copy()\n",
    "\n",
    "\n"
   ]
  },
  {
   "cell_type": "code",
   "execution_count": 106,
   "id": "f28ed51e",
   "metadata": {},
   "outputs": [
    {
     "name": "stdout",
     "output_type": "stream",
     "text": [
      "original list : [1, 2, 3, [99, 6, 7]]\n",
      "duplicate list created by using .copy : [1, 2, 3, [99, 6, 7]]\n"
     ]
    }
   ],
   "source": [
    "import copy\n",
    "a=[1,2,3,[5,6,7]]\n",
    "a_shallowcopy=copy.copy(a)\n",
    "a_shallowcopy[3][0]=99\n",
    "print(f'original list : {a}')\n",
    "print(f'duplicate list created by using .copy : {a_shallowcopy}')"
   ]
  },
  {
   "cell_type": "code",
   "execution_count": 107,
   "id": "48e672c0",
   "metadata": {},
   "outputs": [
    {
     "name": "stdout",
     "output_type": "stream",
     "text": [
      "original list : [1, 2, 3, [5, 6, 7]]\n",
      "duplicate list created by using .deepcopy : [1, 2, 3, [99, 6, 7]]\n"
     ]
    }
   ],
   "source": [
    "import copy\n",
    "a=[1,2,3,[5,6,7]]\n",
    "a_deepcopy=copy.deepcopy(a)\n",
    "a_deepcopy[3][0]=99\n",
    "print(f'original list : {a}')\n",
    "print(f'duplicate list created by using .deepcopy : {a_shallowcopy}')"
   ]
  },
  {
   "cell_type": "code",
   "execution_count": null,
   "id": "3a25d576",
   "metadata": {},
   "outputs": [],
   "source": []
  }
 ],
 "metadata": {
  "kernelspec": {
   "display_name": "Python 3 (ipykernel)",
   "language": "python",
   "name": "python3"
  },
  "language_info": {
   "codemirror_mode": {
    "name": "ipython",
    "version": 3
   },
   "file_extension": ".py",
   "mimetype": "text/x-python",
   "name": "python",
   "nbconvert_exporter": "python",
   "pygments_lexer": "ipython3",
   "version": "3.9.7"
  }
 },
 "nbformat": 4,
 "nbformat_minor": 5
}
