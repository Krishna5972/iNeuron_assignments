{
 "cells": [
  {
   "cell_type": "markdown",
   "id": "ba59fa24",
   "metadata": {},
   "source": [
    "# Question 1\n",
    "### Create an assert statement that throws an AssertionError if the variable spam is a negative integer."
   ]
  },
  {
   "cell_type": "code",
   "execution_count": 12,
   "id": "b59665a2",
   "metadata": {},
   "outputs": [
    {
     "ename": "AssertionError",
     "evalue": "Spam variable contains negative integer",
     "output_type": "error",
     "traceback": [
      "\u001b[1;31m---------------------------------------------------------------------------\u001b[0m",
      "\u001b[1;31mAssertionError\u001b[0m                            Traceback (most recent call last)",
      "Input \u001b[1;32mIn [12]\u001b[0m, in \u001b[0;36m<cell line: 2>\u001b[1;34m()\u001b[0m\n\u001b[0;32m      1\u001b[0m spam\u001b[38;5;241m=\u001b[39m\u001b[38;5;241m-\u001b[39m\u001b[38;5;241m10\u001b[39m\n\u001b[1;32m----> 2\u001b[0m \u001b[38;5;28;01massert\u001b[39;00m spam \u001b[38;5;241m>\u001b[39m\u001b[38;5;241m=\u001b[39m \u001b[38;5;241m0\u001b[39m,\u001b[38;5;124m'\u001b[39m\u001b[38;5;124mSpam variable contains negative integer\u001b[39m\u001b[38;5;124m'\u001b[39m\n",
      "\u001b[1;31mAssertionError\u001b[0m: Spam variable contains negative integer"
     ]
    }
   ],
   "source": [
    "spam=-10\n",
    "assert spam >= 0,'Spam variable contains negative integer'"
   ]
  },
  {
   "cell_type": "markdown",
   "id": "19d5b2f3",
   "metadata": {},
   "source": [
    "# Question 2\n",
    "### Write an assert statement that triggers an AssertionError if the variables eggs and bacon contain strings that are the same as each other, even if their cases are different (that is, 'hello' and 'hello' are considered the same, and 'goodbye' and 'GOODbye' are also considered the same)."
   ]
  },
  {
   "cell_type": "code",
   "execution_count": 15,
   "id": "560fa26e",
   "metadata": {},
   "outputs": [
    {
     "ename": "AssertionError",
     "evalue": "eggs and bacon contain same strings",
     "output_type": "error",
     "traceback": [
      "\u001b[1;31m---------------------------------------------------------------------------\u001b[0m",
      "\u001b[1;31mAssertionError\u001b[0m                            Traceback (most recent call last)",
      "Input \u001b[1;32mIn [15]\u001b[0m, in \u001b[0;36m<cell line: 4>\u001b[1;34m()\u001b[0m\n\u001b[0;32m      1\u001b[0m eggs\u001b[38;5;241m=\u001b[39m\u001b[38;5;124m'\u001b[39m\u001b[38;5;124mhello\u001b[39m\u001b[38;5;124m'\u001b[39m\n\u001b[0;32m      2\u001b[0m bacon\u001b[38;5;241m=\u001b[39m\u001b[38;5;124m'\u001b[39m\u001b[38;5;124mHello\u001b[39m\u001b[38;5;124m'\u001b[39m\n\u001b[1;32m----> 4\u001b[0m \u001b[38;5;28;01massert\u001b[39;00m eggs\u001b[38;5;241m.\u001b[39mlower() \u001b[38;5;241m!=\u001b[39m bacon\u001b[38;5;241m.\u001b[39mlower(),\u001b[38;5;124m'\u001b[39m\u001b[38;5;124meggs and bacon contain same strings\u001b[39m\u001b[38;5;124m'\u001b[39m\n",
      "\u001b[1;31mAssertionError\u001b[0m: eggs and bacon contain same strings"
     ]
    }
   ],
   "source": [
    "eggs='hello'\n",
    "bacon='Hello'\n",
    "\n",
    "assert eggs.lower() != bacon.lower(),'eggs and bacon contain same strings'"
   ]
  },
  {
   "cell_type": "markdown",
   "id": "0f05c7dc",
   "metadata": {},
   "source": [
    "# Question 3\n",
    "### Create an assert statement that throws an AssertionError every time."
   ]
  },
  {
   "cell_type": "code",
   "execution_count": 19,
   "id": "4c6417ca",
   "metadata": {},
   "outputs": [
    {
     "ename": "AssertionError",
     "evalue": "This will always throw an assertion error",
     "output_type": "error",
     "traceback": [
      "\u001b[1;31m---------------------------------------------------------------------------\u001b[0m",
      "\u001b[1;31mAssertionError\u001b[0m                            Traceback (most recent call last)",
      "Input \u001b[1;32mIn [19]\u001b[0m, in \u001b[0;36m<cell line: 2>\u001b[1;34m()\u001b[0m\n\u001b[0;32m      1\u001b[0m \u001b[38;5;28;01mwhile\u001b[39;00m(\u001b[38;5;28;01mTrue\u001b[39;00m):\n\u001b[1;32m----> 2\u001b[0m     \u001b[38;5;28;01massert\u001b[39;00m \u001b[38;5;28;01mFalse\u001b[39;00m,\u001b[38;5;124m'\u001b[39m\u001b[38;5;124mThis will always throw an assertion error\u001b[39m\u001b[38;5;124m'\u001b[39m\n",
      "\u001b[1;31mAssertionError\u001b[0m: This will always throw an assertion error"
     ]
    }
   ],
   "source": [
    "while(True):\n",
    "    assert False,'This will always throw an assertion error'"
   ]
  },
  {
   "cell_type": "markdown",
   "id": "2897c9eb",
   "metadata": {},
   "source": [
    "# Question 4\n",
    "### What are the two lines that must be present in your software in order to call logging.debug()?"
   ]
  },
  {
   "cell_type": "markdown",
   "id": "80c66701",
   "metadata": {},
   "source": [
    "a) first line is importing the logging module <br>\n",
    "second line is configuring the logging object <br>\n"
   ]
  },
  {
   "cell_type": "code",
   "execution_count": 21,
   "id": "52875db5",
   "metadata": {},
   "outputs": [],
   "source": [
    "import logging as lg\n",
    "lg.basicConfig(level=lg.DEBUG, format=' %(asctime)s - %(levelname)s - %(message)s')"
   ]
  },
  {
   "cell_type": "markdown",
   "id": "696b48b0",
   "metadata": {},
   "source": [
    "# Question 5\n",
    "### What are the two lines that your program must have in order to have logging.debug() send a logging message to a file named programLog.txt?"
   ]
  },
  {
   "cell_type": "markdown",
   "id": "65fffff8",
   "metadata": {},
   "source": [
    "a) Filename should be included inorder to log the messages and store them in a filesystem."
   ]
  },
  {
   "cell_type": "code",
   "execution_count": 25,
   "id": "0d8b5471",
   "metadata": {},
   "outputs": [],
   "source": [
    "import logging as lg\n",
    "lg.basicConfig(filename='data/programLog.txt',level=lg.DEBUG, format=' %(asctime)s - %(levelname)s - %(message)s')"
   ]
  },
  {
   "cell_type": "markdown",
   "id": "38ce7a1e",
   "metadata": {},
   "source": [
    "# Question 6\n",
    "### What are the five levels of logging?"
   ]
  },
  {
   "cell_type": "markdown",
   "id": "cc64df88",
   "metadata": {},
   "source": [
    "a)DEBUG, INFO, WARNING, ERROR, and CRITICAL , the hierarchy is as stated"
   ]
  },
  {
   "cell_type": "markdown",
   "id": "765beefa",
   "metadata": {},
   "source": [
    "# Question 7\n",
    "### What line of code would you add to your software to disable all logging messages?"
   ]
  },
  {
   "cell_type": "code",
   "execution_count": 28,
   "id": "fbd110cc",
   "metadata": {},
   "outputs": [],
   "source": [
    "lg.disable(lg.CRITICAL)  #CRITICAL is of heighest level so disabling it will disable rest of the messages too."
   ]
  },
  {
   "cell_type": "markdown",
   "id": "7c9324fe",
   "metadata": {},
   "source": [
    "# Question 8\n",
    "### Why is using logging messages better than using print() to display the same message?"
   ]
  },
  {
   "cell_type": "markdown",
   "id": "a3ad9333",
   "metadata": {},
   "source": [
    "a)We can disable all logs with a single line instead of commenting out/removing all print statements when logging is not needed,they can be stored in a file with timestamp"
   ]
  },
  {
   "cell_type": "markdown",
   "id": "d577f56c",
   "metadata": {},
   "source": [
    "# Question 9\n",
    "### What are the differences between the Step Over, Step In, and Step Out buttons in the debugger?"
   ]
  },
  {
   "cell_type": "markdown",
   "id": "140624ea",
   "metadata": {},
   "source": [
    "a)Step Over--> will execute the function without stepping into the function <br>\n",
    "Step In--> will enter the function by stepping into the function if it is a function call <br>\n",
    "Step Out--> will execute the function quickly to exit the function in which it is currently in <br>"
   ]
  },
  {
   "cell_type": "markdown",
   "id": "f4c0c0f7",
   "metadata": {},
   "source": [
    "# Question 10\n",
    "### After you click Continue, when will the debugger stop ?"
   ]
  },
  {
   "cell_type": "markdown",
   "id": "27ab6472",
   "metadata": {},
   "source": [
    "a) until the program finishes or till a line breakpoint is encountered"
   ]
  },
  {
   "cell_type": "markdown",
   "id": "66a746ff",
   "metadata": {},
   "source": [
    "# Question 11\n",
    "### What is the concept of a breakpoint?"
   ]
  },
  {
   "cell_type": "markdown",
   "id": "83d08dac",
   "metadata": {},
   "source": [
    "a) setting the breakpoint on a line will make the debugger to pause when it reaches the respective line."
   ]
  },
  {
   "cell_type": "code",
   "execution_count": null,
   "id": "2ce474c2",
   "metadata": {},
   "outputs": [],
   "source": []
  }
 ],
 "metadata": {
  "kernelspec": {
   "display_name": "Python 3 (ipykernel)",
   "language": "python",
   "name": "python3"
  },
  "language_info": {
   "codemirror_mode": {
    "name": "ipython",
    "version": 3
   },
   "file_extension": ".py",
   "mimetype": "text/x-python",
   "name": "python",
   "nbconvert_exporter": "python",
   "pygments_lexer": "ipython3",
   "version": "3.9.12"
  }
 },
 "nbformat": 4,
 "nbformat_minor": 5
}
