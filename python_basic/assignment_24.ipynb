{
 "cells": [
  {
   "cell_type": "markdown",
   "id": "3b085634",
   "metadata": {},
   "source": [
    "# Question 1\n",
    "## What is the relationship between def statements and lambda expressions ?"
   ]
  },
  {
   "cell_type": "markdown",
   "id": "b4fae68c",
   "metadata": {},
   "source": [
    "a) Both def statment and lambda expression produce a function .A lambda is an expression producing a function. A def is a statement producing a function"
   ]
  },
  {
   "cell_type": "code",
   "execution_count": 4,
   "id": "35ee0eec",
   "metadata": {},
   "outputs": [],
   "source": [
    "def sum_(a,b):  #function using def statment\n",
    "    return a+b"
   ]
  },
  {
   "cell_type": "code",
   "execution_count": 6,
   "id": "77fa24b0",
   "metadata": {},
   "outputs": [],
   "source": [
    "a=lambda a,b:a+b #lamdba function"
   ]
  },
  {
   "cell_type": "code",
   "execution_count": 3,
   "id": "9cd6e4ac",
   "metadata": {},
   "outputs": [
    {
     "data": {
      "text/plain": [
       "8"
      ]
     },
     "execution_count": 3,
     "metadata": {},
     "output_type": "execute_result"
    }
   ],
   "source": [
    "a(3,5)"
   ]
  },
  {
   "cell_type": "code",
   "execution_count": 5,
   "id": "aea00531",
   "metadata": {},
   "outputs": [
    {
     "data": {
      "text/plain": [
       "8"
      ]
     },
     "execution_count": 5,
     "metadata": {},
     "output_type": "execute_result"
    }
   ],
   "source": [
    "sum_(3,5)"
   ]
  },
  {
   "cell_type": "markdown",
   "id": "689b6863",
   "metadata": {},
   "source": [
    "# Question 2\n",
    "## What is the benefit of lambda?"
   ]
  },
  {
   "cell_type": "markdown",
   "id": "9d28923b",
   "metadata": {},
   "source": [
    "a) In case of small operations lamda can be used.Lambda functions behave just like regular functions declared with the def keyword. There is no need of explicit return statement in lambda functions.Lambda will come in handy when using filter,map,reduce functions."
   ]
  },
  {
   "cell_type": "markdown",
   "id": "369e024d",
   "metadata": {},
   "source": [
    "# Question 3\n",
    "## Compare and contrast map, filter, and reduce."
   ]
  },
  {
   "cell_type": "markdown",
   "id": "6d3531f6",
   "metadata": {},
   "source": [
    "filter : <br>\n",
    "    >>>arguments :filter takes in two parameters function(which returns boolean) and iterable <br>\n",
    "    >>> returns  : returns a filter object based on return of the function(it will filter out the list and returns a sequence) <br>\n",
    "    \n",
    "map : <br>\n",
    "    >>>arguments :map takes in two parameters function(which manupulates every element based on a condition) and iterable <br>\n",
    "    >>> returns  : returns a map object based on return of the function) <br>\n",
    "    \n",
    "reduce : <br>\n",
    "    >>>arguments :map takes in two parameters function(which manupulates every element based on a condition) and iterable <br>\n",
    "    the function should take in atleast two values at a time to reduce them <br>\n",
    "    >>> returns  : returns a single value(iterable is reduced to this value)<br>\n",
    "    \n",
    "reduce must be imported explicitly from functools\n",
    "    \n",
    "\n",
    "\n"
   ]
  },
  {
   "cell_type": "code",
   "execution_count": 25,
   "id": "ba52fb13",
   "metadata": {},
   "outputs": [
    {
     "name": "stdout",
     "output_type": "stream",
     "text": [
      "List after filtering [1, 3, 5, 7, 9]\n",
      "List after maping: [2, 4, 6, 8, 10]\n"
     ]
    },
    {
     "data": {
      "text/plain": [
       "3840"
      ]
     },
     "execution_count": 25,
     "metadata": {},
     "output_type": "execute_result"
    }
   ],
   "source": [
    "from functools import reduce\n",
    "a=list(range(1,10))\n",
    "odd=list(filter(lambda x:x%2!=0,a))\n",
    "print(f'List after filtering {odd}')\n",
    "odd_to_even=list(map(lambda x:x+1,odd))\n",
    "print(f'List after maping: {odd_to_even}')\n",
    "total_multiplied=reduce(lambda x,y:x*y,odd_to_even)\n",
    "total_multiplied"
   ]
  },
  {
   "cell_type": "markdown",
   "id": "cf50f1db",
   "metadata": {},
   "source": [
    "# Question 4\n",
    "## What are function annotations, and how are they used?"
   ]
  },
  {
   "cell_type": "markdown",
   "id": "bd5090a3",
   "metadata": {},
   "source": [
    "To suggest what type of variable a function takes in duing compile time.Python does not attach any meaning to these annotations.Annotations have no impact during the runtime.Useful when typechecking"
   ]
  },
  {
   "cell_type": "code",
   "execution_count": 29,
   "id": "35beb7b3",
   "metadata": {},
   "outputs": [],
   "source": [
    "a :int =5  #suggesting a takes in a integer varibale,but this dosent restrict that a should only take integer"
   ]
  },
  {
   "cell_type": "code",
   "execution_count": 31,
   "id": "7f55ea9a",
   "metadata": {},
   "outputs": [
    {
     "data": {
      "text/plain": [
       "'Vamsi'"
      ]
     },
     "execution_count": 31,
     "metadata": {},
     "output_type": "execute_result"
    }
   ],
   "source": [
    "a='Vamsi'\n",
    "a"
   ]
  },
  {
   "cell_type": "markdown",
   "id": "7d8a1502",
   "metadata": {},
   "source": [
    "# Question 5\n",
    "## What are recursive functions, and how are they used?"
   ]
  },
  {
   "cell_type": "markdown",
   "id": "3714ed3b",
   "metadata": {},
   "source": [
    "A recursive function is a function in code that refers to itself for execution. Recursive function are used when solving problems that can be broken down into smaller, repetitive problems. "
   ]
  },
  {
   "cell_type": "code",
   "execution_count": 34,
   "id": "22bbd2c5",
   "metadata": {},
   "outputs": [],
   "source": [
    "def rec(a):\n",
    "    if a < 0:\n",
    "        return \n",
    "    else:\n",
    "        print(a)\n",
    "        a=a-1\n",
    "        rec(a)\n",
    "        "
   ]
  },
  {
   "cell_type": "code",
   "execution_count": 35,
   "id": "c71118d6",
   "metadata": {},
   "outputs": [
    {
     "name": "stdout",
     "output_type": "stream",
     "text": [
      "5\n",
      "4\n",
      "3\n",
      "2\n",
      "1\n",
      "0\n"
     ]
    }
   ],
   "source": [
    "rec(5)"
   ]
  },
  {
   "cell_type": "markdown",
   "id": "99d5b5bc",
   "metadata": {},
   "source": [
    "# Question 6\n",
    "## What are some general design guidelines for coding functions?"
   ]
  },
  {
   "cell_type": "markdown",
   "id": "2246e4d7",
   "metadata": {},
   "source": [
    "Indentation : Use 4 spaces per indentation level. <br>\n",
    "Maximum Line Length : Limit all lines to a maximum of 79 characters. <br>\n",
    "Line Breaks :Should a Line Break Before a Binary Operator <br>\n",
    "Blank Lines: Surround top-level function and class definitions with two blank lines,Method definitions inside a class are surrounded by a single blank line. <br>\n",
    "Imports : Imports should usually be on separate lines <br>\n",
    "Documentation Strings in thriple quoates <br>"
   ]
  },
  {
   "cell_type": "markdown",
   "id": "f1fe05e3",
   "metadata": {},
   "source": [
    "Reference : https://peps.python.org/pep-0008/"
   ]
  },
  {
   "cell_type": "markdown",
   "id": "6423c525",
   "metadata": {},
   "source": [
    "# Question 7\n",
    "## Name three or more ways that functions can communicate results to a caller."
   ]
  },
  {
   "cell_type": "markdown",
   "id": "2b9cd9b4",
   "metadata": {},
   "source": [
    "return , yield are the two ways a function can communicate results to a caller"
   ]
  },
  {
   "cell_type": "code",
   "execution_count": null,
   "id": "03eb3b2a",
   "metadata": {},
   "outputs": [],
   "source": []
  }
 ],
 "metadata": {
  "kernelspec": {
   "display_name": "Python 3 (ipykernel)",
   "language": "python",
   "name": "python3"
  },
  "language_info": {
   "codemirror_mode": {
    "name": "ipython",
    "version": 3
   },
   "file_extension": ".py",
   "mimetype": "text/x-python",
   "name": "python",
   "nbconvert_exporter": "python",
   "pygments_lexer": "ipython3",
   "version": "3.9.12"
  }
 },
 "nbformat": 4,
 "nbformat_minor": 5
}
