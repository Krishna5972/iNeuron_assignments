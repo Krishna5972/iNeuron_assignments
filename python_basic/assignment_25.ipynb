{
 "cells": [
  {
   "cell_type": "markdown",
   "id": "caffed01",
   "metadata": {},
   "source": [
    "# Question 1\n",
    "## What is the difference between enclosing a list comprehension in square brackets and parentheses?"
   ]
  },
  {
   "cell_type": "markdown",
   "id": "c3b30756",
   "metadata": {},
   "source": [
    "a list comprehension in square brackets will generate a list <br>\n",
    "a list comprehension in parentheses  will generate a tuple generator object <br>"
   ]
  },
  {
   "cell_type": "code",
   "execution_count": 7,
   "id": "dbb4d2b6",
   "metadata": {},
   "outputs": [
    {
     "name": "stdout",
     "output_type": "stream",
     "text": [
      "<class 'list'>\n"
     ]
    },
    {
     "data": {
      "text/plain": [
       "[1, 2, 3, 4, 5, 6, 7, 8, 9, 10]"
      ]
     },
     "execution_count": 7,
     "metadata": {},
     "output_type": "execute_result"
    }
   ],
   "source": [
    "list_a=[x for x in range(1,11)]\n",
    "print(type(list_a))\n",
    "list_a"
   ]
  },
  {
   "cell_type": "code",
   "execution_count": 10,
   "id": "b0a5fff4",
   "metadata": {},
   "outputs": [
    {
     "name": "stdout",
     "output_type": "stream",
     "text": [
      "<class 'generator'>\n"
     ]
    },
    {
     "data": {
      "text/plain": [
       "<generator object <genexpr> at 0x000002311881FEB0>"
      ]
     },
     "execution_count": 10,
     "metadata": {},
     "output_type": "execute_result"
    }
   ],
   "source": [
    "tuple_a=(x for x in range(1,11))\n",
    "print(type(tuple_a))\n",
    "tuple_a"
   ]
  },
  {
   "cell_type": "markdown",
   "id": "40140325",
   "metadata": {},
   "source": [
    "# Question 2\n",
    "## What is the relationship between generators and iterators?"
   ]
  },
  {
   "cell_type": "markdown",
   "id": "bb6bf0e2",
   "metadata": {},
   "source": [
    "Every generator is a iterator but not vice versa. <br>\n",
    "Iterators are objects which use the next() method to get the following values of a sequence. <br>\n",
    "\n",
    "Generators are functions that produce or yield a sequence of values using the yield keyword. <br>\n",
    "\n",
    "Iterable is converted to iterator using iter() function.\n",
    "\n",
    "An iterator traverses a collection one at a time.\n",
    "\n",
    "A generator generates a sequence, one item at a time."
   ]
  },
  {
   "cell_type": "markdown",
   "id": "bd359c40",
   "metadata": {},
   "source": [
    "References: https://stackoverflow.com/questions/1022564/what-is-the-difference-between-an-iterator-and-a-generator"
   ]
  },
  {
   "cell_type": "markdown",
   "id": "128db3a1",
   "metadata": {},
   "source": [
    "# Question 3\n",
    "## What are the signs that a function is a generator function?"
   ]
  },
  {
   "cell_type": "markdown",
   "id": "39108726",
   "metadata": {},
   "source": [
    "The only sign is  that if the function is having atleast one yeild statment inside the body"
   ]
  },
  {
   "cell_type": "code",
   "execution_count": 28,
   "id": "f8abb9f3",
   "metadata": {},
   "outputs": [],
   "source": [
    "def even_generator():\n",
    "    for i in range(1,10):\n",
    "        if i%2==0:\n",
    "            yield i  #generator"
   ]
  },
  {
   "cell_type": "markdown",
   "id": "bf47cd68",
   "metadata": {},
   "source": [
    "# Question 4\n",
    "## What is the purpose of a yield statement?"
   ]
  },
  {
   "cell_type": "markdown",
   "id": "dab2f76d",
   "metadata": {},
   "source": [
    "Yield  statement returns from a function without destroying the states of the last generated local variable and when the function is called, the execution starts from the last yield statement, it remembers the previous state of the variable before getting exhausted"
   ]
  },
  {
   "cell_type": "code",
   "execution_count": 17,
   "id": "0d01dc7a",
   "metadata": {},
   "outputs": [],
   "source": [
    "def even_generator():\n",
    "    for i in range(1,10):\n",
    "        if i%2==0:\n",
    "            yield i"
   ]
  },
  {
   "cell_type": "code",
   "execution_count": 18,
   "id": "aa1db736",
   "metadata": {},
   "outputs": [],
   "source": [
    "e=even_generator()"
   ]
  },
  {
   "cell_type": "code",
   "execution_count": 19,
   "id": "fb1c200c",
   "metadata": {},
   "outputs": [
    {
     "name": "stdout",
     "output_type": "stream",
     "text": [
      "2\n",
      "4\n",
      "6\n",
      "8\n"
     ]
    }
   ],
   "source": [
    "for i in e:\n",
    "    print(i)"
   ]
  },
  {
   "cell_type": "markdown",
   "id": "e8c74387",
   "metadata": {},
   "source": [
    "# Question 5\n",
    "## What is the relationship between map calls and list comprehensions? Make a comparison and contrast between the two."
   ]
  },
  {
   "cell_type": "markdown",
   "id": "08d8d852",
   "metadata": {},
   "source": [
    "map returns a map object(iterator),where a list comprehension returns a list. List comprehension are easier for readability when compared to the map.In map the elements are exhausted when we iterate over the map object we cannot use them in future,in such sceanrios its better to go for lists"
   ]
  },
  {
   "cell_type": "code",
   "execution_count": 24,
   "id": "9af7fbda",
   "metadata": {},
   "outputs": [],
   "source": [
    "a=list(range(1,11))\n",
    "map_o=map(lambda x:x*3,a)"
   ]
  },
  {
   "cell_type": "code",
   "execution_count": 25,
   "id": "1c5958dc",
   "metadata": {},
   "outputs": [
    {
     "name": "stdout",
     "output_type": "stream",
     "text": [
      "[3, 6, 9, 12, 15, 18, 21, 24, 27, 30]\n"
     ]
    }
   ],
   "source": [
    "print(list(map_o))"
   ]
  },
  {
   "cell_type": "code",
   "execution_count": 27,
   "id": "f38b4ae6",
   "metadata": {},
   "outputs": [
    {
     "name": "stdout",
     "output_type": "stream",
     "text": [
      "[]\n"
     ]
    }
   ],
   "source": [
    "print(list(map_o))  #exhausted"
   ]
  },
  {
   "cell_type": "code",
   "execution_count": null,
   "id": "c3b34b95",
   "metadata": {},
   "outputs": [],
   "source": []
  }
 ],
 "metadata": {
  "kernelspec": {
   "display_name": "Python 3 (ipykernel)",
   "language": "python",
   "name": "python3"
  },
  "language_info": {
   "codemirror_mode": {
    "name": "ipython",
    "version": 3
   },
   "file_extension": ".py",
   "mimetype": "text/x-python",
   "name": "python",
   "nbconvert_exporter": "python",
   "pygments_lexer": "ipython3",
   "version": "3.9.12"
  }
 },
 "nbformat": 4,
 "nbformat_minor": 5
}
