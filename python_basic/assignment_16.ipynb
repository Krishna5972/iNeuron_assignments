{
 "cells": [
  {
   "cell_type": "markdown",
   "id": "603b4c63",
   "metadata": {},
   "source": [
    "# Question 1\n",
    "### Create a list called years_list, starting with the year of your birth, and each year thereafter until the year of your fifth birthday. For example, if you were born in 1980. the list would be years_list = [1980, 1981, 1982, 1983, 1984, 1985]."
   ]
  },
  {
   "cell_type": "code",
   "execution_count": 2,
   "id": "5d992988",
   "metadata": {},
   "outputs": [
    {
     "data": {
      "text/plain": [
       "[1999, 2000, 2001, 2002, 2003, 2004]"
      ]
     },
     "execution_count": 2,
     "metadata": {},
     "output_type": "execute_result"
    }
   ],
   "source": [
    "years_list=[]\n",
    "yob=1999\n",
    "for i in range(yob,yob+6):\n",
    "    years_list.append(i)\n",
    "    \n",
    "years_list"
   ]
  },
  {
   "cell_type": "markdown",
   "id": "1f850021",
   "metadata": {},
   "source": [
    "# Question 2\n",
    "### In which year in years_list was your third birthday? Remember, you were 0 years of age for your first year."
   ]
  },
  {
   "cell_type": "code",
   "execution_count": 3,
   "id": "192312ee",
   "metadata": {},
   "outputs": [
    {
     "data": {
      "text/plain": [
       "2002"
      ]
     },
     "execution_count": 3,
     "metadata": {},
     "output_type": "execute_result"
    }
   ],
   "source": [
    "years_list[3]"
   ]
  },
  {
   "cell_type": "markdown",
   "id": "9e601274",
   "metadata": {},
   "source": [
    "# Question 3\n",
    "### In the years list, which year were you the oldest?"
   ]
  },
  {
   "cell_type": "code",
   "execution_count": 4,
   "id": "7a2df535",
   "metadata": {},
   "outputs": [
    {
     "data": {
      "text/plain": [
       "2004"
      ]
     },
     "execution_count": 4,
     "metadata": {},
     "output_type": "execute_result"
    }
   ],
   "source": [
    "max(years_list)"
   ]
  },
  {
   "cell_type": "markdown",
   "id": "263b0bfc",
   "metadata": {},
   "source": [
    "# Question 4\n",
    "### Make a list called things with these three strings as elements: \"mozzarella\", \"cinderella\", \"salmonella\"."
   ]
  },
  {
   "cell_type": "code",
   "execution_count": 16,
   "id": "6eb88825",
   "metadata": {},
   "outputs": [
    {
     "data": {
      "text/plain": [
       "['mozzarella', 'cinderella', 'salmonella']"
      ]
     },
     "execution_count": 16,
     "metadata": {},
     "output_type": "execute_result"
    }
   ],
   "source": [
    "things=[\"mozzarella\", \"cinderella\", \"salmonella\"]\n",
    "things"
   ]
  },
  {
   "cell_type": "markdown",
   "id": "4e94cdba",
   "metadata": {},
   "source": [
    "# Question 5\n",
    "### Capitalize the element in things that refers to a person and then print the list. Did it change the element in the list?"
   ]
  },
  {
   "cell_type": "code",
   "execution_count": 17,
   "id": "93bed5d1",
   "metadata": {},
   "outputs": [],
   "source": [
    "for index,i in enumerate(things):\n",
    "    if i =='cinderella':\n",
    "        things[index]=i.capitalize()\n",
    "    "
   ]
  },
  {
   "cell_type": "code",
   "execution_count": 18,
   "id": "5508e60c",
   "metadata": {},
   "outputs": [
    {
     "data": {
      "text/plain": [
       "['mozzarella', 'Cinderella', 'salmonella']"
      ]
     },
     "execution_count": 18,
     "metadata": {},
     "output_type": "execute_result"
    }
   ],
   "source": [
    "things"
   ]
  },
  {
   "cell_type": "markdown",
   "id": "afb34e67",
   "metadata": {},
   "source": [
    "yes, it did change the element in the list"
   ]
  },
  {
   "cell_type": "markdown",
   "id": "c596f8b7",
   "metadata": {},
   "source": [
    "# Question 6\n",
    "### Make a surprise list with the elements \"Groucho,\" \"Chico,\" and \"Harpo.\""
   ]
  },
  {
   "cell_type": "code",
   "execution_count": 21,
   "id": "85fd5f2d",
   "metadata": {},
   "outputs": [],
   "source": [
    "suprise=[\"Groucho,\",\"Chico,\",\"Harpo.\"]"
   ]
  },
  {
   "cell_type": "markdown",
   "id": "604f9a62",
   "metadata": {},
   "source": [
    "# Question 7\n",
    "### Lowercase the last element of the surprise list, reverse it, and then capitalize it."
   ]
  },
  {
   "cell_type": "code",
   "execution_count": 23,
   "id": "dd80459f",
   "metadata": {},
   "outputs": [
    {
     "data": {
      "text/plain": [
       "['Groucho,', 'Chico,', '.oprah']"
      ]
     },
     "execution_count": 23,
     "metadata": {},
     "output_type": "execute_result"
    }
   ],
   "source": [
    "suprise=[\"Groucho,\",\"Chico,\",\"Harpo.\"]\n",
    "suprise[-1]=suprise[-1][::-1].capitalize()\n",
    "suprise"
   ]
  },
  {
   "cell_type": "markdown",
   "id": "25e445da",
   "metadata": {},
   "source": [
    "after reversing the word is starting with a sybmol, so capitalize had no affect on it."
   ]
  },
  {
   "cell_type": "markdown",
   "id": "75703e2c",
   "metadata": {},
   "source": [
    "# Question 8\n",
    "### Make an English-to-French dictionary called e2f and print it. Here are your starter words: dog is chien, cat is chat, and walrus is morse."
   ]
  },
  {
   "cell_type": "code",
   "execution_count": 25,
   "id": "2007d5de",
   "metadata": {},
   "outputs": [
    {
     "data": {
      "text/plain": [
       "{'dog': 'chein', 'cat': 'chat', 'walrus': 'morse'}"
      ]
     },
     "execution_count": 25,
     "metadata": {},
     "output_type": "execute_result"
    }
   ],
   "source": [
    "e2f={'dog':'chein',\n",
    "    'cat':'chat',\n",
    "     'walrus':'morse'\n",
    "    }\n",
    "e2f"
   ]
  },
  {
   "cell_type": "markdown",
   "id": "edd5eba4",
   "metadata": {},
   "source": [
    "# Question 9\n",
    "### Write the French word for walrus in your three-word dictionary e2f."
   ]
  },
  {
   "cell_type": "code",
   "execution_count": 26,
   "id": "951364ef",
   "metadata": {},
   "outputs": [
    {
     "data": {
      "text/plain": [
       "'morse'"
      ]
     },
     "execution_count": 26,
     "metadata": {},
     "output_type": "execute_result"
    }
   ],
   "source": [
    "e2f['walrus']"
   ]
  },
  {
   "cell_type": "markdown",
   "id": "4a0d58a3",
   "metadata": {},
   "source": [
    "# Question 10\n",
    "### Make a French-to-English dictionary called f2e from e2f. Use the items method."
   ]
  },
  {
   "cell_type": "code",
   "execution_count": 27,
   "id": "e429828d",
   "metadata": {},
   "outputs": [
    {
     "data": {
      "text/plain": [
       "{'chein': 'dog', 'chat': 'cat', 'morse': 'walrus'}"
      ]
     },
     "execution_count": 27,
     "metadata": {},
     "output_type": "execute_result"
    }
   ],
   "source": [
    "fe2={}\n",
    "for key,value in e2f.items():\n",
    "    fe2[value]=key\n",
    "fe2"
   ]
  },
  {
   "cell_type": "markdown",
   "id": "a3bd504d",
   "metadata": {},
   "source": [
    "# Question 11\n",
    "### Print the English version of the French word chien using f2e."
   ]
  },
  {
   "cell_type": "code",
   "execution_count": 30,
   "id": "b0bcab8a",
   "metadata": {},
   "outputs": [
    {
     "data": {
      "text/plain": [
       "{'chein': 'dog', 'chat': 'cat', 'morse': 'walrus'}"
      ]
     },
     "execution_count": 30,
     "metadata": {},
     "output_type": "execute_result"
    }
   ],
   "source": [
    "fe2"
   ]
  },
  {
   "cell_type": "markdown",
   "id": "3385d2ba",
   "metadata": {},
   "source": [
    "# Question 12\n",
    "### Make and print a set of English words from the keys in e2f."
   ]
  },
  {
   "cell_type": "code",
   "execution_count": 31,
   "id": "6393be2e",
   "metadata": {},
   "outputs": [
    {
     "name": "stdout",
     "output_type": "stream",
     "text": [
      "dog\n",
      "cat\n",
      "walrus\n"
     ]
    }
   ],
   "source": [
    "for i in e2f.keys():\n",
    "    print(i)"
   ]
  },
  {
   "cell_type": "markdown",
   "id": "d13c0870",
   "metadata": {},
   "source": [
    "# Question 13\n",
    "### Make a multilevel dictionary called life. Use these strings for the topmost keys: 'animals', 'plants', and 'other'. Make the 'animals' key refer to another dictionary with the keys 'cats', 'octopi', and 'emus'. Make the 'cats' key refer to a list of strings with the values 'Henri', 'Grumpy', and 'Lucy'. Make all the other keys refer to empty dictionaries."
   ]
  },
  {
   "cell_type": "code",
   "execution_count": 33,
   "id": "3c025346",
   "metadata": {},
   "outputs": [
    {
     "data": {
      "text/plain": [
       "{'animals': {'cats': ['Henri', 'Grumpy', 'Lucy'], 'octopi': {}, 'emus': {}},\n",
       " 'plants': {},\n",
       " 'other': {}}"
      ]
     },
     "execution_count": 33,
     "metadata": {},
     "output_type": "execute_result"
    }
   ],
   "source": [
    "life={'animals':{'cats':['Henri','Grumpy','Lucy'],'octopi':{},'emus':{}},'plants':{},'other':{}}\n",
    "life"
   ]
  },
  {
   "cell_type": "markdown",
   "id": "695633dc",
   "metadata": {},
   "source": [
    "# Question 14\n",
    "### Print the top-level keys of life."
   ]
  },
  {
   "cell_type": "code",
   "execution_count": 34,
   "id": "a4f1b4e2",
   "metadata": {},
   "outputs": [
    {
     "name": "stdout",
     "output_type": "stream",
     "text": [
      "animals\n",
      "plants\n",
      "other\n"
     ]
    }
   ],
   "source": [
    "for i in life.keys():\n",
    "    print(i)"
   ]
  },
  {
   "cell_type": "markdown",
   "id": "7a828ca7",
   "metadata": {},
   "source": [
    "# Question 15\n",
    "### Print the keys for life['animals']."
   ]
  },
  {
   "cell_type": "markdown",
   "id": "4ea9db63",
   "metadata": {},
   "source": [
    "'animals' key itself is on the top-level, it can have values but not keys."
   ]
  },
  {
   "cell_type": "markdown",
   "id": "edda9788",
   "metadata": {},
   "source": [
    "# Question 16\n",
    "### Print the values for life['animals']['cats']"
   ]
  },
  {
   "cell_type": "code",
   "execution_count": 36,
   "id": "463f2805",
   "metadata": {},
   "outputs": [
    {
     "data": {
      "text/plain": [
       "['Henri', 'Grumpy', 'Lucy']"
      ]
     },
     "execution_count": 36,
     "metadata": {},
     "output_type": "execute_result"
    }
   ],
   "source": [
    "life['animals']['cats']"
   ]
  },
  {
   "cell_type": "code",
   "execution_count": null,
   "id": "ee382011",
   "metadata": {},
   "outputs": [],
   "source": []
  }
 ],
 "metadata": {
  "kernelspec": {
   "display_name": "Python 3 (ipykernel)",
   "language": "python",
   "name": "python3"
  },
  "language_info": {
   "codemirror_mode": {
    "name": "ipython",
    "version": 3
   },
   "file_extension": ".py",
   "mimetype": "text/x-python",
   "name": "python",
   "nbconvert_exporter": "python",
   "pygments_lexer": "ipython3",
   "version": "3.9.12"
  }
 },
 "nbformat": 4,
 "nbformat_minor": 5
}
