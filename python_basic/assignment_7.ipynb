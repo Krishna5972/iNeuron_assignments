{
 "cells": [
  {
   "cell_type": "markdown",
   "id": "0f434096",
   "metadata": {},
   "source": [
    "# Question 1\n",
    "### What is the name of the feature responsible for generating Regex objects?"
   ]
  },
  {
   "cell_type": "markdown",
   "id": "50b52dd8",
   "metadata": {},
   "source": [
    "a) 're.compile()' is responisble for generating regex objects"
   ]
  },
  {
   "cell_type": "code",
   "execution_count": 2,
   "id": "ff8e5922",
   "metadata": {},
   "outputs": [
    {
     "data": {
      "text/plain": [
       "['@gmail.com']"
      ]
     },
     "execution_count": 2,
     "metadata": {},
     "output_type": "execute_result"
    }
   ],
   "source": [
    "import re\n",
    "pattern=re.compile('@gmail.com')\n",
    "result=pattern.findall('vamsikrishnagannamaneni@gmail.com')\n",
    "result"
   ]
  },
  {
   "cell_type": "markdown",
   "id": "5138be5e",
   "metadata": {},
   "source": [
    "# Question 2\n",
    "### Why do raw strings often appear in Regex objects?"
   ]
  },
  {
   "cell_type": "markdown",
   "id": "e1c47ae3",
   "metadata": {},
   "source": [
    "a) to handle escape characters."
   ]
  },
  {
   "cell_type": "code",
   "execution_count": 3,
   "id": "8b3bb1f6",
   "metadata": {},
   "outputs": [
    {
     "name": "stdout",
     "output_type": "stream",
     "text": [
      "Hello\n",
      "\n"
     ]
    }
   ],
   "source": [
    "print('Hello\\n')"
   ]
  },
  {
   "cell_type": "code",
   "execution_count": 4,
   "id": "e08e24b1",
   "metadata": {},
   "outputs": [
    {
     "name": "stdout",
     "output_type": "stream",
     "text": [
      "Hello\\n\n"
     ]
    }
   ],
   "source": [
    "print(r'Hello\\n') #\\n will be considered as some pattern instead of a escape character"
   ]
  },
  {
   "cell_type": "markdown",
   "id": "2f372976",
   "metadata": {},
   "source": [
    "# Question 3\n",
    "### What is the return value of the search() method?"
   ]
  },
  {
   "cell_type": "markdown",
   "id": "99b4ae03",
   "metadata": {},
   "source": [
    "a)re.search() method return re.MatchObject if a match is found or None if the match is not found. re.MatchObject will contain properties like .start() , .end(),and .group()."
   ]
  },
  {
   "cell_type": "code",
   "execution_count": 5,
   "id": "73e7f24b",
   "metadata": {},
   "outputs": [
    {
     "name": "stdout",
     "output_type": "stream",
     "text": [
      "<re.Match object; span=(23, 33), match='@gmail.com'>\n"
     ]
    }
   ],
   "source": [
    "pattern='@gmail.com'\n",
    "print(re.search(pattern,'vamsikrishnagannamaneni@gmail.com'))\n",
    "obj=re.search(pattern,'vamsikrishnagannamaneni@gmail.com')\n"
   ]
  },
  {
   "cell_type": "code",
   "execution_count": 6,
   "id": "baf76482",
   "metadata": {},
   "outputs": [
    {
     "data": {
      "text/plain": [
       "23"
      ]
     },
     "execution_count": 6,
     "metadata": {},
     "output_type": "execute_result"
    }
   ],
   "source": [
    "obj.start()  #index where the pattern is matched first"
   ]
  },
  {
   "cell_type": "code",
   "execution_count": 7,
   "id": "2298a8d9",
   "metadata": {},
   "outputs": [
    {
     "data": {
      "text/plain": [
       "33"
      ]
     },
     "execution_count": 7,
     "metadata": {},
     "output_type": "execute_result"
    }
   ],
   "source": [
    "obj.end() #index where the pattern ended"
   ]
  },
  {
   "cell_type": "markdown",
   "id": "b884f3c3",
   "metadata": {},
   "source": [
    "# Question 4\n",
    "### From a Match item, how do you get the actual strings that match the pattern?"
   ]
  },
  {
   "cell_type": "markdown",
   "id": "39e9973c",
   "metadata": {},
   "source": [
    "a) Match_item.group(0) to pull the strings that match the pattern"
   ]
  },
  {
   "cell_type": "code",
   "execution_count": 8,
   "id": "0c746a9a",
   "metadata": {},
   "outputs": [
    {
     "data": {
      "text/plain": [
       "'@gmail.com'"
      ]
     },
     "execution_count": 8,
     "metadata": {},
     "output_type": "execute_result"
    }
   ],
   "source": [
    "obj.group(0) "
   ]
  },
  {
   "cell_type": "markdown",
   "id": "7742b500",
   "metadata": {},
   "source": [
    "# Question 5\n",
    "### In the regex which created from the r'(\\d\\d\\d)-(\\d\\d\\d-\\d\\d\\d\\d)', what does group zero cover? Group 2? Group 1?"
   ]
  },
  {
   "cell_type": "markdown",
   "id": "f1e8c14f",
   "metadata": {},
   "source": [
    "a) group(0) for the entire match , group(1) for the 1st parentheses match ,group(2) for the 2nd parentheses match."
   ]
  },
  {
   "cell_type": "code",
   "execution_count": 9,
   "id": "5bf084bf",
   "metadata": {},
   "outputs": [],
   "source": [
    "pattern=r'(\\d\\d\\d)-(\\d\\d\\d-\\d\\d\\d\\d)'\n",
    "obj=re.search(pattern,'264-044-2021 is the Address')"
   ]
  },
  {
   "cell_type": "code",
   "execution_count": 10,
   "id": "5a4a23a5",
   "metadata": {},
   "outputs": [
    {
     "data": {
      "text/plain": [
       "'264-044-2021'"
      ]
     },
     "execution_count": 10,
     "metadata": {},
     "output_type": "execute_result"
    }
   ],
   "source": [
    "obj.group(0)  #entire match"
   ]
  },
  {
   "cell_type": "code",
   "execution_count": 11,
   "id": "bcd5200d",
   "metadata": {},
   "outputs": [
    {
     "data": {
      "text/plain": [
       "'264'"
      ]
     },
     "execution_count": 11,
     "metadata": {},
     "output_type": "execute_result"
    }
   ],
   "source": [
    "obj.group(1) #1st parentheses"
   ]
  },
  {
   "cell_type": "code",
   "execution_count": 12,
   "id": "1a5f092a",
   "metadata": {},
   "outputs": [
    {
     "data": {
      "text/plain": [
       "'044-2021'"
      ]
     },
     "execution_count": 12,
     "metadata": {},
     "output_type": "execute_result"
    }
   ],
   "source": [
    "obj.group(2) #2nd parentheses match"
   ]
  },
  {
   "cell_type": "markdown",
   "id": "7bd20392",
   "metadata": {},
   "source": [
    "# Question 6\n",
    "### In standard expression syntax, parentheses and intervals have distinct meanings. How can you tell a regex that you want it to fit real parentheses and periods?"
   ]
  },
  {
   "cell_type": "markdown",
   "id": "73f542f2",
   "metadata": {},
   "source": [
    "a) using raw strings"
   ]
  },
  {
   "cell_type": "code",
   "execution_count": 13,
   "id": "9597cce7",
   "metadata": {},
   "outputs": [
    {
     "data": {
      "text/plain": [
       "'this\\\\().'"
      ]
     },
     "execution_count": 13,
     "metadata": {},
     "output_type": "execute_result"
    }
   ],
   "source": [
    "re_string=r'this\\().'\n",
    "re_string"
   ]
  },
  {
   "cell_type": "markdown",
   "id": "16ba0508",
   "metadata": {},
   "source": [
    "# Question 7\n",
    "### The findall() method returns a string list or a list of string tuples. What causes it to return one of the two options?"
   ]
  },
  {
   "cell_type": "markdown",
   "id": "bc45485b",
   "metadata": {},
   "source": [
    "a) The return of a finall() depends if group's are involved or not"
   ]
  },
  {
   "cell_type": "code",
   "execution_count": 14,
   "id": "62b313a9",
   "metadata": {},
   "outputs": [
    {
     "data": {
      "text/plain": [
       "['Hello', 'this', 'is', 'a', 'assignment', 'on', 'regular', 'expressions']"
      ]
     },
     "execution_count": 14,
     "metadata": {},
     "output_type": "execute_result"
    }
   ],
   "source": [
    "pattern=r'[a-zA-Z]+'  #no grouping\n",
    "string='Hello this is a assignment on regular expressions'\n",
    "match=re.findall(pattern,string)\n",
    "match"
   ]
  },
  {
   "cell_type": "code",
   "execution_count": 15,
   "id": "efa35c6d",
   "metadata": {},
   "outputs": [
    {
     "data": {
      "text/plain": [
       "[(' ', 'expressions')]"
      ]
     },
     "execution_count": 15,
     "metadata": {},
     "output_type": "execute_result"
    }
   ],
   "source": [
    "pattern=r'(\\s)(expressions\\Z)'  #grouping -->returns a string of tuples\n",
    "string='Hello, this is a assignment on regular expressions'\n",
    "match=re.findall(pattern,string)\n",
    "match"
   ]
  },
  {
   "cell_type": "markdown",
   "id": "ccd63797",
   "metadata": {},
   "source": [
    "# Question 8\n",
    "### In standard expressions, what does the | character mean?"
   ]
  },
  {
   "cell_type": "markdown",
   "id": "5d6df8c6",
   "metadata": {},
   "source": [
    "a)The '|' character means matching \"either, or\" between two groups."
   ]
  },
  {
   "cell_type": "code",
   "execution_count": 16,
   "id": "85eb77bd",
   "metadata": {},
   "outputs": [
    {
     "data": {
      "text/plain": [
       "[('Hello', '', ''), ('', 'expressions', '')]"
      ]
     },
     "execution_count": 16,
     "metadata": {},
     "output_type": "execute_result"
    }
   ],
   "source": [
    "pattern=r'(\\AHello)|(expressions\\Z)|([\\d])'  \n",
    "string='Hello, this is a assignment on regular expressions'\n",
    "match=re.findall(pattern,string)\n",
    "match"
   ]
  },
  {
   "cell_type": "markdown",
   "id": "44e59d1a",
   "metadata": {},
   "source": [
    "# Question 9\n",
    "### In regular expressions, what does the character stand for?"
   ]
  },
  {
   "cell_type": "markdown",
   "id": "f513ce8c",
   "metadata": {},
   "source": [
    "# Question 10\n",
    "### In regular expressions, what is the difference between the + and * characters?"
   ]
  },
  {
   "cell_type": "markdown",
   "id": "a26a4678",
   "metadata": {},
   "source": [
    "a) The '+' matches one or more. The '*' matches zero or more based on the preceding character. "
   ]
  },
  {
   "cell_type": "code",
   "execution_count": 17,
   "id": "21ab248b",
   "metadata": {},
   "outputs": [
    {
     "data": {
      "text/plain": [
       "['assi', 'assi', 'assi']"
      ]
     },
     "execution_count": 17,
     "metadata": {},
     "output_type": "execute_result"
    }
   ],
   "source": [
    "pattern=r'assi+'  \n",
    "string='Hello, this is a assignment on regular expressions,this is a lengthy assignment when compared to other assignment till now'\n",
    "match=re.findall(pattern,string)\n",
    "match"
   ]
  },
  {
   "cell_type": "code",
   "execution_count": 18,
   "id": "b265100c",
   "metadata": {},
   "outputs": [
    {
     "data": {
      "text/plain": [
       "[' r']"
      ]
     },
     "execution_count": 18,
     "metadata": {},
     "output_type": "execute_result"
    }
   ],
   "source": [
    "pattern=r's* r'  \n",
    "string='Hello, this is a assignment on regular expressions,this is a lengthy assignment when compared to other assignment till now'\n",
    "match=re.findall(pattern,string)\n",
    "match"
   ]
  },
  {
   "cell_type": "markdown",
   "id": "26afd1b8",
   "metadata": {},
   "source": [
    "checking for if 'space'r is preceded by zero or more 's', there are zero such cases , even then it returned a match as it checks for <b>zero</b> or more\n",
    "\n",
    "Reference : https://unix.stackexchange.com/questions/73164/difference-between-and-in-regular-expression"
   ]
  },
  {
   "cell_type": "markdown",
   "id": "9bc8bba1",
   "metadata": {},
   "source": [
    "# Question 11\n",
    "### What is the difference between {4} and {4,5} in regular expression?"
   ]
  },
  {
   "cell_type": "markdown",
   "id": "ea977ed1",
   "metadata": {},
   "source": [
    "The {4} matches exactly for four instances of the preceding group. The {4,5} matches between four and five instances."
   ]
  },
  {
   "cell_type": "code",
   "execution_count": 19,
   "id": "0c38ad92",
   "metadata": {},
   "outputs": [
    {
     "data": {
      "text/plain": [
       "['this', 'this', 'when', 'till']"
      ]
     },
     "execution_count": 19,
     "metadata": {},
     "output_type": "execute_result"
    }
   ],
   "source": [
    "pattern=r'\\b[a-z]{4}\\b'  #matches exactly for four instances and also no character is expected on both ends\n",
    "string='Hello, this is a assignment on regular expressions,this is a lengthy assignment when compared to other assignment till now'\n",
    "match=re.findall(pattern,string)\n",
    "match"
   ]
  },
  {
   "cell_type": "code",
   "execution_count": 20,
   "id": "30daeb86",
   "metadata": {},
   "outputs": [
    {
     "data": {
      "text/plain": [
       "['this', 'this', 'when', 'other', 'till', 'need', 'more', 'skill', 'these']"
      ]
     },
     "execution_count": 20,
     "metadata": {},
     "output_type": "execute_result"
    }
   ],
   "source": [
    "pattern=r'\\b[a-z]{4,5}\\b'  #matches exactly any string between four and five instances and also no character is expected on both ends\n",
    "string='''Hello, this is a assignment on regular expressions,\n",
    "this is a lengthy assignment when compared to other assignment till now,\n",
    "need more skill to complete these questions\n",
    "'''\n",
    "match=re.findall(pattern,string)\n",
    "match"
   ]
  },
  {
   "cell_type": "markdown",
   "id": "8c99b449",
   "metadata": {},
   "source": [
    "# Question 12\n",
    "### What do you mean by the \\d, \\w, and \\s shorthand character classes signify in regular expressions?"
   ]
  },
  {
   "cell_type": "markdown",
   "id": "a9ba085c",
   "metadata": {},
   "source": [
    "a) \\d matches for [0-9]  <br>\n",
    "   \\w matches for [A-Za-z0-9_] <br>\n",
    "   \\s matches for space <br>"
   ]
  },
  {
   "cell_type": "code",
   "execution_count": 21,
   "id": "dc4f55c2",
   "metadata": {},
   "outputs": [],
   "source": [
    "string='''Hello, this is a assignment on regular expressions,\n",
    "this is a lengthy assignment when compared to other assignment till now,\n",
    "need more skill to complete these questions\n",
    "'''"
   ]
  },
  {
   "cell_type": "code",
   "execution_count": 22,
   "id": "21021678",
   "metadata": {},
   "outputs": [
    {
     "data": {
      "text/plain": [
       "[]"
      ]
     },
     "execution_count": 22,
     "metadata": {},
     "output_type": "execute_result"
    }
   ],
   "source": [
    "match=re.findall('\\d',string)\n",
    "match"
   ]
  },
  {
   "cell_type": "code",
   "execution_count": 23,
   "id": "d4bb2a97",
   "metadata": {},
   "outputs": [
    {
     "data": {
      "text/plain": [
       "['Hello',\n",
       " 'this',\n",
       " 'is',\n",
       " 'a',\n",
       " 'assignment',\n",
       " 'on',\n",
       " 'regular',\n",
       " 'expressions',\n",
       " 'this',\n",
       " 'is',\n",
       " 'a',\n",
       " 'lengthy',\n",
       " 'assignment',\n",
       " 'when',\n",
       " 'compared',\n",
       " 'to',\n",
       " 'other',\n",
       " 'assignment',\n",
       " 'till',\n",
       " 'now',\n",
       " 'need',\n",
       " 'more',\n",
       " 'skill',\n",
       " 'to',\n",
       " 'complete',\n",
       " 'these',\n",
       " 'questions']"
      ]
     },
     "execution_count": 23,
     "metadata": {},
     "output_type": "execute_result"
    }
   ],
   "source": [
    "match=re.findall('\\w+',string)  #added + for one or more matches\n",
    "match"
   ]
  },
  {
   "cell_type": "code",
   "execution_count": 24,
   "id": "6a8ee3ed",
   "metadata": {},
   "outputs": [
    {
     "data": {
      "text/plain": [
       "[' ',\n",
       " ' ',\n",
       " ' ',\n",
       " ' ',\n",
       " ' ',\n",
       " ' ',\n",
       " ' ',\n",
       " '\\n',\n",
       " ' ',\n",
       " ' ',\n",
       " ' ',\n",
       " ' ',\n",
       " ' ',\n",
       " ' ',\n",
       " ' ',\n",
       " ' ',\n",
       " ' ',\n",
       " ' ',\n",
       " ' ',\n",
       " '\\n',\n",
       " ' ',\n",
       " ' ',\n",
       " ' ',\n",
       " ' ',\n",
       " ' ',\n",
       " ' ',\n",
       " '\\n']"
      ]
     },
     "execution_count": 24,
     "metadata": {},
     "output_type": "execute_result"
    }
   ],
   "source": [
    "match=re.findall('\\s',string)  #added + for one or more matches\n",
    "match"
   ]
  },
  {
   "cell_type": "markdown",
   "id": "f79e093a",
   "metadata": {},
   "source": [
    "# Question 13\n",
    "### What do means by \\D, \\W, and \\S shorthand character classes signify in regular expressions?"
   ]
  },
  {
   "cell_type": "markdown",
   "id": "8cfef1d6",
   "metadata": {},
   "source": [
    "a) \\D matches for [^0-9]  <br>\n",
    "   \\W matches for [^A-Za-z0-9_] <br>\n",
    "   \\S matches for not a space <br>\n",
    "    \n",
    "opposite to the lower case \\d,\\w,\\s"
   ]
  },
  {
   "cell_type": "code",
   "execution_count": 25,
   "id": "5f8ae5bb",
   "metadata": {},
   "outputs": [
    {
     "data": {
      "text/plain": [
       "['H',\n",
       " 'e',\n",
       " 'l',\n",
       " 'l',\n",
       " 'o',\n",
       " ',',\n",
       " ' ',\n",
       " 't',\n",
       " 'h',\n",
       " 'i',\n",
       " 's',\n",
       " ' ',\n",
       " 'i',\n",
       " 's',\n",
       " ' ',\n",
       " 'a',\n",
       " ' ',\n",
       " 'a',\n",
       " 's',\n",
       " 's',\n",
       " 'i',\n",
       " 'g',\n",
       " 'n',\n",
       " 'm',\n",
       " 'e',\n",
       " 'n',\n",
       " 't',\n",
       " ' ',\n",
       " 'o',\n",
       " 'n',\n",
       " ' ',\n",
       " 'r',\n",
       " 'e',\n",
       " 'g',\n",
       " 'u',\n",
       " 'l',\n",
       " 'a',\n",
       " 'r',\n",
       " ' ',\n",
       " 'e',\n",
       " 'x',\n",
       " 'p',\n",
       " 'r',\n",
       " 'e',\n",
       " 's',\n",
       " 's',\n",
       " 'i',\n",
       " 'o',\n",
       " 'n',\n",
       " 's',\n",
       " ',',\n",
       " '\\n',\n",
       " 't',\n",
       " 'h',\n",
       " 'i',\n",
       " 's',\n",
       " ' ',\n",
       " 'i',\n",
       " 's',\n",
       " ' ',\n",
       " 'a',\n",
       " ' ',\n",
       " 'l',\n",
       " 'e',\n",
       " 'n',\n",
       " 'g',\n",
       " 't',\n",
       " 'h',\n",
       " 'y',\n",
       " ' ',\n",
       " 'a',\n",
       " 's',\n",
       " 's',\n",
       " 'i',\n",
       " 'g',\n",
       " 'n',\n",
       " 'm',\n",
       " 'e',\n",
       " 'n',\n",
       " 't',\n",
       " ' ',\n",
       " 'w',\n",
       " 'h',\n",
       " 'e',\n",
       " 'n',\n",
       " ' ',\n",
       " 'c',\n",
       " 'o',\n",
       " 'm',\n",
       " 'p',\n",
       " 'a',\n",
       " 'r',\n",
       " 'e',\n",
       " 'd',\n",
       " ' ',\n",
       " 't',\n",
       " 'o',\n",
       " ' ',\n",
       " 'o',\n",
       " 't',\n",
       " 'h',\n",
       " 'e',\n",
       " 'r',\n",
       " ' ',\n",
       " 'a',\n",
       " 's',\n",
       " 's',\n",
       " 'i',\n",
       " 'g',\n",
       " 'n',\n",
       " 'm',\n",
       " 'e',\n",
       " 'n',\n",
       " 't',\n",
       " ' ',\n",
       " 't',\n",
       " 'i',\n",
       " 'l',\n",
       " 'l',\n",
       " ' ',\n",
       " 'n',\n",
       " 'o',\n",
       " 'w',\n",
       " ',',\n",
       " '\\n',\n",
       " 'n',\n",
       " 'e',\n",
       " 'e',\n",
       " 'd',\n",
       " ' ',\n",
       " 'm',\n",
       " 'o',\n",
       " 'r',\n",
       " 'e',\n",
       " ' ',\n",
       " 's',\n",
       " 'k',\n",
       " 'i',\n",
       " 'l',\n",
       " 'l',\n",
       " ' ',\n",
       " 't',\n",
       " 'o',\n",
       " ' ',\n",
       " 'c',\n",
       " 'o',\n",
       " 'm',\n",
       " 'p',\n",
       " 'l',\n",
       " 'e',\n",
       " 't',\n",
       " 'e',\n",
       " ' ',\n",
       " 't',\n",
       " 'h',\n",
       " 'e',\n",
       " 's',\n",
       " 'e',\n",
       " ' ',\n",
       " 'q',\n",
       " 'u',\n",
       " 'e',\n",
       " 's',\n",
       " 't',\n",
       " 'i',\n",
       " 'o',\n",
       " 'n',\n",
       " 's',\n",
       " '\\n']"
      ]
     },
     "execution_count": 25,
     "metadata": {},
     "output_type": "execute_result"
    }
   ],
   "source": [
    "re.findall('\\D',string)  #matches everything except for digits"
   ]
  },
  {
   "cell_type": "code",
   "execution_count": 26,
   "id": "b5a3a3bf",
   "metadata": {},
   "outputs": [
    {
     "data": {
      "text/plain": [
       "[',',\n",
       " ' ',\n",
       " ' ',\n",
       " ' ',\n",
       " ' ',\n",
       " ' ',\n",
       " ' ',\n",
       " ' ',\n",
       " ',',\n",
       " '\\n',\n",
       " ' ',\n",
       " ' ',\n",
       " ' ',\n",
       " ' ',\n",
       " ' ',\n",
       " ' ',\n",
       " ' ',\n",
       " ' ',\n",
       " ' ',\n",
       " ' ',\n",
       " ' ',\n",
       " ',',\n",
       " '\\n',\n",
       " ' ',\n",
       " ' ',\n",
       " ' ',\n",
       " ' ',\n",
       " ' ',\n",
       " ' ',\n",
       " '\\n']"
      ]
     },
     "execution_count": 26,
     "metadata": {},
     "output_type": "execute_result"
    }
   ],
   "source": [
    "re.findall('\\W',string)  #matches everything except for words"
   ]
  },
  {
   "cell_type": "code",
   "execution_count": 27,
   "id": "1eda237b",
   "metadata": {},
   "outputs": [
    {
     "data": {
      "text/plain": [
       "['Hello,',\n",
       " 'this',\n",
       " 'is',\n",
       " 'a',\n",
       " 'assignment',\n",
       " 'on',\n",
       " 'regular',\n",
       " 'expressions,',\n",
       " 'this',\n",
       " 'is',\n",
       " 'a',\n",
       " 'lengthy',\n",
       " 'assignment',\n",
       " 'when',\n",
       " 'compared',\n",
       " 'to',\n",
       " 'other',\n",
       " 'assignment',\n",
       " 'till',\n",
       " 'now,',\n",
       " 'need',\n",
       " 'more',\n",
       " 'skill',\n",
       " 'to',\n",
       " 'complete',\n",
       " 'these',\n",
       " 'questions']"
      ]
     },
     "execution_count": 27,
     "metadata": {},
     "output_type": "execute_result"
    }
   ],
   "source": [
    "re.findall('\\S+',string)  #matches everything except for spaces"
   ]
  },
  {
   "cell_type": "markdown",
   "id": "5d3bd5f6",
   "metadata": {},
   "source": [
    "# Question 14\n",
    "### What is the difference between . * ?  and . * ?"
   ]
  },
  {
   "cell_type": "markdown",
   "id": "8771fe1a",
   "metadata": {},
   "source": [
    "# Question 15\n",
    "### What is the syntax for matching both numbers and lowercase letters with a character class?"
   ]
  },
  {
   "cell_type": "markdown",
   "id": "e289da38",
   "metadata": {},
   "source": [
    "a)This syntax can be used : [0-9a-z]"
   ]
  },
  {
   "cell_type": "code",
   "execution_count": 28,
   "id": "0bbdc994",
   "metadata": {},
   "outputs": [
    {
     "data": {
      "text/plain": [
       "['ello',\n",
       " 'this',\n",
       " 'is',\n",
       " 'a',\n",
       " 'assignment',\n",
       " 'on',\n",
       " 'regular',\n",
       " 'expressions',\n",
       " 'this',\n",
       " 'is',\n",
       " 'a',\n",
       " 'lengthy',\n",
       " 'assignment',\n",
       " 'when',\n",
       " 'compared',\n",
       " 'to',\n",
       " 'other',\n",
       " 'assignment',\n",
       " 'till',\n",
       " 'now',\n",
       " 'need',\n",
       " 'more',\n",
       " 'skill',\n",
       " 'to',\n",
       " 'complete',\n",
       " 'these',\n",
       " 'questions']"
      ]
     },
     "execution_count": 28,
     "metadata": {},
     "output_type": "execute_result"
    }
   ],
   "source": [
    "pattern=r'[0-9a-z]+'\n",
    "re.findall(pattern,string) #H is missing in Hello as it is a uppercase character"
   ]
  },
  {
   "cell_type": "markdown",
   "id": "0d24bf7c",
   "metadata": {},
   "source": [
    "# Question 16\n",
    "### What is the procedure for making a normal expression in regax case insensitive?"
   ]
  },
  {
   "cell_type": "markdown",
   "id": "d675f4e3",
   "metadata": {},
   "source": [
    "a) by using '(?i)' in the syntax"
   ]
  },
  {
   "cell_type": "code",
   "execution_count": 29,
   "id": "c03f86f0",
   "metadata": {},
   "outputs": [
    {
     "data": {
      "text/plain": [
       "['Hello',\n",
       " 'this',\n",
       " 'is',\n",
       " 'a',\n",
       " 'assignment',\n",
       " 'on',\n",
       " 'regular',\n",
       " 'expressions',\n",
       " 'this',\n",
       " 'is',\n",
       " 'a',\n",
       " 'lengthy',\n",
       " 'assignment',\n",
       " 'when',\n",
       " 'compared',\n",
       " 'to',\n",
       " 'other',\n",
       " 'assignment',\n",
       " 'till',\n",
       " 'now',\n",
       " 'need',\n",
       " 'more',\n",
       " 'skill',\n",
       " 'to',\n",
       " 'complete',\n",
       " 'these',\n",
       " 'questions']"
      ]
     },
     "execution_count": 29,
     "metadata": {},
     "output_type": "execute_result"
    }
   ],
   "source": [
    "pattern=r'(?i)[0-9a-z]+'\n",
    "re.findall(pattern,string) #this is case insensitive now and H is also printed along with other lowercase characters"
   ]
  },
  {
   "cell_type": "markdown",
   "id": "313e144b",
   "metadata": {},
   "source": [
    "# Question 17\n",
    "### What does the . character normally match? What does it match if re.DOTALL is passed as 2nd argument in re.compile()?"
   ]
  },
  {
   "cell_type": "markdown",
   "id": "e89a3a9b",
   "metadata": {},
   "source": [
    "a) Normally . matches any character except a newline. When re.DOTALL is passed as 2nd argument \\n is also matched"
   ]
  },
  {
   "cell_type": "code",
   "execution_count": 30,
   "id": "52caa4cf",
   "metadata": {},
   "outputs": [
    {
     "name": "stdout",
     "output_type": "stream",
     "text": [
      "Hello\n",
      "Good Morning\n"
     ]
    },
    {
     "data": {
      "text/plain": [
       "[]"
      ]
     },
     "execution_count": 30,
     "metadata": {},
     "output_type": "execute_result"
    }
   ],
   "source": [
    "string='Hello\\nGood Morning'\n",
    "print(string)\n",
    "pattern=re.compile(r'Hello..')\n",
    "pattern.findall(string)"
   ]
  },
  {
   "cell_type": "code",
   "execution_count": 31,
   "id": "569e3ef2",
   "metadata": {},
   "outputs": [
    {
     "name": "stdout",
     "output_type": "stream",
     "text": [
      "Hello\n",
      "Good Morning\n"
     ]
    },
    {
     "data": {
      "text/plain": [
       "['Hello\\nG']"
      ]
     },
     "execution_count": 31,
     "metadata": {},
     "output_type": "execute_result"
    }
   ],
   "source": [
    "string='Hello\\nGood Morning'\n",
    "print(string)\n",
    "pattern=re.compile(r'Hello..',flags=re.DOTALL)\n",
    "pattern.findall(string)"
   ]
  },
  {
   "cell_type": "markdown",
   "id": "2c0a7df4",
   "metadata": {},
   "source": [
    "Reference :https://stackoverflow.com/questions/41620093/whats-the-difference-between-re-dotall-and-re-multiline\n"
   ]
  },
  {
   "cell_type": "markdown",
   "id": "9fe31bb8",
   "metadata": {},
   "source": [
    "# Question 18\n",
    "### If numReg = re.compile(r'\\d+'), what will numRegex.sub('X', '11 drummers, 10 pipers, five rings, 4 hen') return?"
   ]
  },
  {
   "cell_type": "markdown",
   "id": "4f3ea84f",
   "metadata": {},
   "source": [
    "a) '\\d' matches for digits, sub will substitute for the match, so 'X' will replace every digit occurance"
   ]
  },
  {
   "cell_type": "code",
   "execution_count": 32,
   "id": "e6d50818",
   "metadata": {},
   "outputs": [
    {
     "data": {
      "text/plain": [
       "'X drummers, X pipers, five rings, X hen'"
      ]
     },
     "execution_count": 32,
     "metadata": {},
     "output_type": "execute_result"
    }
   ],
   "source": [
    "numReg = re.compile(r'\\d+')\n",
    "numReg.sub('X', '11 drummers, 10 pipers, five rings, 4 hen')"
   ]
  },
  {
   "cell_type": "markdown",
   "id": "90fb8c13",
   "metadata": {},
   "source": [
    "# Question 19\n",
    "### What does passing re.VERBOSE as the 2nd argument to re.compile() allow to do?"
   ]
  },
  {
   "cell_type": "markdown",
   "id": "47596fb5",
   "metadata": {},
   "source": [
    "a) re.VERBOSE will allow comments and spaces."
   ]
  },
  {
   "cell_type": "code",
   "execution_count": 33,
   "id": "7015e0b3",
   "metadata": {},
   "outputs": [
    {
     "data": {
      "text/plain": [
       "['iNeuron']"
      ]
     },
     "execution_count": 33,
     "metadata": {},
     "output_type": "execute_result"
    }
   ],
   "source": [
    "pattern=re.compile(r'iNeuron #organizationname ',flags=re.VERBOSE)\n",
    "pattern.findall('The name of the organization is iNeuron, it offers a course named full stack datascience')"
   ]
  },
  {
   "cell_type": "markdown",
   "id": "02495f4a",
   "metadata": {},
   "source": [
    "# Question 20 \n",
    "### How would you write a regex that match a number with comma for every three digits? It must match the given following: <br>\n",
    "'42'  <br>\n",
    "'1,234'  <br>\n",
    "'6,368,745'  <br>\n",
    "but not the following:  <br>\n",
    "'12,34,567' (which has only two digits between the commas)  <br>\n",
    "'1234' (which lacks commas) <br>\n",
    " "
   ]
  },
  {
   "cell_type": "code",
   "execution_count": 34,
   "id": "41494a93",
   "metadata": {},
   "outputs": [
    {
     "data": {
      "text/plain": [
       "['234,']"
      ]
     },
     "execution_count": 34,
     "metadata": {},
     "output_type": "execute_result"
    }
   ],
   "source": [
    "pattern=re.compile(r'\\d{3},')\n",
    "pattern.findall('1,234,')"
   ]
  },
  {
   "cell_type": "code",
   "execution_count": 35,
   "id": "ce54ec94",
   "metadata": {},
   "outputs": [
    {
     "data": {
      "text/plain": [
       "[]"
      ]
     },
     "execution_count": 35,
     "metadata": {},
     "output_type": "execute_result"
    }
   ],
   "source": [
    "pattern.findall('42')"
   ]
  },
  {
   "cell_type": "code",
   "execution_count": 36,
   "id": "f5a3fe30",
   "metadata": {},
   "outputs": [
    {
     "data": {
      "text/plain": [
       "['368,']"
      ]
     },
     "execution_count": 36,
     "metadata": {},
     "output_type": "execute_result"
    }
   ],
   "source": [
    "pattern.findall('6,368,745')"
   ]
  },
  {
   "cell_type": "code",
   "execution_count": 37,
   "id": "7f9094d2",
   "metadata": {},
   "outputs": [
    {
     "data": {
      "text/plain": [
       "[]"
      ]
     },
     "execution_count": 37,
     "metadata": {},
     "output_type": "execute_result"
    }
   ],
   "source": [
    "pattern.findall('12,34,567')"
   ]
  },
  {
   "cell_type": "code",
   "execution_count": 38,
   "id": "4b047a47",
   "metadata": {},
   "outputs": [
    {
     "data": {
      "text/plain": [
       "[]"
      ]
     },
     "execution_count": 38,
     "metadata": {},
     "output_type": "execute_result"
    }
   ],
   "source": [
    "pattern.findall('1234')"
   ]
  },
  {
   "cell_type": "markdown",
   "id": "84d1c543",
   "metadata": {},
   "source": [
    "# Question 21\n",
    "### 21. How would you write a regex that matches the full name of someone whose last name is Watanabe? You can assume that the first name that comes before it will always be one word that begins with a capital letter. The regex must match the following: <br>\n",
    "'Haruto Watanabe' <br>\n",
    "'Alice Watanabe'  <br>\n",
    "'RoboCop Watanabe'  <br>\n",
    "but not the following: <br>\n",
    "'haruto Watanabe' (where the first name is not capitalized) <br>\n",
    "'Mr. Watanabe' (where the preceding word has a nonletter character) <br>\n",
    "'Watanabe' (which has no first name) <br>\n",
    "'Haruto watanabe' (where Watanabe is not capitalized) <br>\n"
   ]
  },
  {
   "cell_type": "code",
   "execution_count": 39,
   "id": "38ae0c62",
   "metadata": {},
   "outputs": [],
   "source": [
    "pattern=re.compile(r'[A-Z][A-Za-z]*\\sWatanabe')"
   ]
  },
  {
   "cell_type": "code",
   "execution_count": 40,
   "id": "bce6ae1e",
   "metadata": {},
   "outputs": [
    {
     "data": {
      "text/plain": [
       "['Haruto Watanabe']"
      ]
     },
     "execution_count": 40,
     "metadata": {},
     "output_type": "execute_result"
    }
   ],
   "source": [
    "pattern.findall('Haruto Watanabe')"
   ]
  },
  {
   "cell_type": "code",
   "execution_count": 41,
   "id": "3c9948b6",
   "metadata": {},
   "outputs": [
    {
     "data": {
      "text/plain": [
       "['Alice Watanabe']"
      ]
     },
     "execution_count": 41,
     "metadata": {},
     "output_type": "execute_result"
    }
   ],
   "source": [
    "pattern.findall('Alice Watanabe')"
   ]
  },
  {
   "cell_type": "code",
   "execution_count": 42,
   "id": "37fe4fc2",
   "metadata": {},
   "outputs": [
    {
     "data": {
      "text/plain": [
       "['RoboCop Watanabe']"
      ]
     },
     "execution_count": 42,
     "metadata": {},
     "output_type": "execute_result"
    }
   ],
   "source": [
    "pattern.findall('RoboCop Watanabe')"
   ]
  },
  {
   "cell_type": "code",
   "execution_count": 43,
   "id": "f546eca2",
   "metadata": {},
   "outputs": [
    {
     "data": {
      "text/plain": [
       "[]"
      ]
     },
     "execution_count": 43,
     "metadata": {},
     "output_type": "execute_result"
    }
   ],
   "source": [
    "pattern.findall('haruto Watanabe')"
   ]
  },
  {
   "cell_type": "code",
   "execution_count": 44,
   "id": "87453f95",
   "metadata": {},
   "outputs": [
    {
     "data": {
      "text/plain": [
       "[]"
      ]
     },
     "execution_count": 44,
     "metadata": {},
     "output_type": "execute_result"
    }
   ],
   "source": [
    "pattern.findall('Mr. Watanabe')"
   ]
  },
  {
   "cell_type": "code",
   "execution_count": 45,
   "id": "b77eaf32",
   "metadata": {},
   "outputs": [
    {
     "data": {
      "text/plain": [
       "[]"
      ]
     },
     "execution_count": 45,
     "metadata": {},
     "output_type": "execute_result"
    }
   ],
   "source": [
    "pattern.findall('Watanabe')"
   ]
  },
  {
   "cell_type": "code",
   "execution_count": 46,
   "id": "fbd4d6e8",
   "metadata": {},
   "outputs": [
    {
     "data": {
      "text/plain": [
       "[]"
      ]
     },
     "execution_count": 46,
     "metadata": {},
     "output_type": "execute_result"
    }
   ],
   "source": [
    "pattern.findall('Haruto watanabe')"
   ]
  },
  {
   "cell_type": "markdown",
   "id": "38f9c43c",
   "metadata": {},
   "source": [
    "# Question 22\n",
    "### How would you write a regex that matches a sentence where the first word is either Alice, Bob, or Carol; the second word is either eats, pets, or throws; the third word is apples, cats, or baseballs; and the sentence ends with a period? This regex should be case-insensitive. It must match the following:\n",
    "'Alice eats apples.' <br>\n",
    "'Bob pets cats.' <br>\n",
    "'Carol throws baseballs.' <br>\n",
    "'Alice throws Apples.' <br>\n",
    "'BOB EATS CATS.' <br>\n",
    "but not the following: <br>\n",
    "'RoboCop eats apples.' <br>\n",
    "'ALICE THROWS FOOTBALLS.' <br>\n",
    "'Carol eats 7 cats.'  <br>\n"
   ]
  },
  {
   "cell_type": "code",
   "execution_count": 48,
   "id": "2d02faff",
   "metadata": {},
   "outputs": [
    {
     "data": {
      "text/plain": [
       "[('Alice', 'eats', 'apples')]"
      ]
     },
     "execution_count": 48,
     "metadata": {},
     "output_type": "execute_result"
    }
   ],
   "source": [
    "pattern=re.compile(r'(?i)(Alice|Bob|Carol)\\s+(eats|pets|throws)\\s+(apples|cats|baseballs)\\.', )\n",
    "pattern.findall('Alice eats apples.')"
   ]
  },
  {
   "cell_type": "code",
   "execution_count": 49,
   "id": "3a53335f",
   "metadata": {},
   "outputs": [
    {
     "data": {
      "text/plain": [
       "[('Bob', 'pets', 'cats')]"
      ]
     },
     "execution_count": 49,
     "metadata": {},
     "output_type": "execute_result"
    }
   ],
   "source": [
    "pattern.findall('Bob pets cats.')"
   ]
  },
  {
   "cell_type": "code",
   "execution_count": 52,
   "id": "dec9fccc",
   "metadata": {},
   "outputs": [
    {
     "data": {
      "text/plain": [
       "[('Carol', 'throws', 'baseballs')]"
      ]
     },
     "execution_count": 52,
     "metadata": {},
     "output_type": "execute_result"
    }
   ],
   "source": [
    "pattern.findall('Carol throws baseballs.')"
   ]
  },
  {
   "cell_type": "code",
   "execution_count": 53,
   "id": "2e125ce1",
   "metadata": {},
   "outputs": [
    {
     "data": {
      "text/plain": [
       "[('Alice', 'throws', 'Apples')]"
      ]
     },
     "execution_count": 53,
     "metadata": {},
     "output_type": "execute_result"
    }
   ],
   "source": [
    "pattern.findall('Alice throws Apples.')"
   ]
  },
  {
   "cell_type": "code",
   "execution_count": 54,
   "id": "712d868f",
   "metadata": {},
   "outputs": [
    {
     "data": {
      "text/plain": [
       "[('BOB', 'EATS', 'CATS')]"
      ]
     },
     "execution_count": 54,
     "metadata": {},
     "output_type": "execute_result"
    }
   ],
   "source": [
    "pattern.findall('BOB EATS CATS.')"
   ]
  },
  {
   "cell_type": "code",
   "execution_count": 55,
   "id": "5bdf0431",
   "metadata": {},
   "outputs": [
    {
     "data": {
      "text/plain": [
       "[]"
      ]
     },
     "execution_count": 55,
     "metadata": {},
     "output_type": "execute_result"
    }
   ],
   "source": [
    "pattern.findall('RoboCop eats apples.')"
   ]
  },
  {
   "cell_type": "code",
   "execution_count": 56,
   "id": "7450f412",
   "metadata": {},
   "outputs": [
    {
     "data": {
      "text/plain": [
       "[]"
      ]
     },
     "execution_count": 56,
     "metadata": {},
     "output_type": "execute_result"
    }
   ],
   "source": [
    "pattern.findall('ALICE THROWS FOOTBALLS.')"
   ]
  },
  {
   "cell_type": "code",
   "execution_count": 57,
   "id": "769803c3",
   "metadata": {},
   "outputs": [
    {
     "data": {
      "text/plain": [
       "[]"
      ]
     },
     "execution_count": 57,
     "metadata": {},
     "output_type": "execute_result"
    }
   ],
   "source": [
    "pattern.findall('Carol eats 7 cats.')"
   ]
  },
  {
   "cell_type": "markdown",
   "id": "cb84bf7a",
   "metadata": {},
   "source": [
    "### Reference \n",
    "https://docs.python.org/3/library/re.html"
   ]
  },
  {
   "cell_type": "code",
   "execution_count": null,
   "id": "e279fbe6",
   "metadata": {},
   "outputs": [],
   "source": []
  }
 ],
 "metadata": {
  "kernelspec": {
   "display_name": "Python 3 (ipykernel)",
   "language": "python",
   "name": "python3"
  },
  "language_info": {
   "codemirror_mode": {
    "name": "ipython",
    "version": 3
   },
   "file_extension": ".py",
   "mimetype": "text/x-python",
   "name": "python",
   "nbconvert_exporter": "python",
   "pygments_lexer": "ipython3",
   "version": "3.9.12"
  }
 },
 "nbformat": 4,
 "nbformat_minor": 5
}
