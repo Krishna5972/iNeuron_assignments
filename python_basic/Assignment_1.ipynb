{
 "cells": [
  {
   "cell_type": "markdown",
   "id": "9320ca26",
   "metadata": {},
   "source": [
    "# Question 1"
   ]
  },
  {
   "cell_type": "markdown",
   "id": "6d49a6fd",
   "metadata": {},
   "source": [
    "<p >1. In the below elements which of them are values or an expression? eg:- values can be integer or string and expressions will be mathematical operators.\n",
    "\n",
    "<p>*</p>\n",
    "'hello'\n",
    "-87.8\n",
    "- \n",
    "/\n",
    "<p>-</p>\n",
    "<p>/</p>\n",
    "<p>+</p>\n",
    "6 \n",
    "    </p>\n"
   ]
  },
  {
   "cell_type": "markdown",
   "id": "bf7057c8",
   "metadata": {},
   "source": [
    " <p> a) These are the values from the given elements :- ['hello',87.8,6] </p>\n",
    " <p >These are the values from the given elements : [*,-,/,+] </p>\n"
   ]
  },
  {
   "cell_type": "markdown",
   "id": "c7aa7673",
   "metadata": {},
   "source": [
    "# Question 2"
   ]
  },
  {
   "cell_type": "markdown",
   "id": "8e707f8f",
   "metadata": {},
   "source": [
    "2) What is the difference between string and variable?"
   ]
  },
  {
   "cell_type": "markdown",
   "id": "1e391aae",
   "metadata": {},
   "source": [
    "a) Variable is something where we store some kind of data in , string is a type of data that can be stored in a variable"
   ]
  },
  {
   "cell_type": "code",
   "execution_count": 3,
   "id": "efc658dc",
   "metadata": {},
   "outputs": [],
   "source": [
    "name='Vamsi'  #name--> variable , 'Vamsi' is the data that is being stored in variable 'name' which of type 'string'"
   ]
  },
  {
   "cell_type": "markdown",
   "id": "e79db4c2",
   "metadata": {},
   "source": [
    "# Question 3"
   ]
  },
  {
   "cell_type": "markdown",
   "id": "fb0f3187",
   "metadata": {},
   "source": [
    "3) Describe three different data types."
   ]
  },
  {
   "cell_type": "markdown",
   "id": "e23338b9",
   "metadata": {},
   "source": [
    "a) int ---> used when dealing with whole numbers <br>\n",
    "string ----> used when dealing with characters  <br>\n",
    " float -----> used when dealing with floating point numbers"
   ]
  },
  {
   "cell_type": "code",
   "execution_count": 4,
   "id": "a25d05ae",
   "metadata": {},
   "outputs": [],
   "source": [
    "a = 5 #integer data type\n",
    "b = 'Vamsi'  #string data type\n",
    "c = 7.56 #float data type"
   ]
  },
  {
   "cell_type": "markdown",
   "id": "ebf46e12",
   "metadata": {},
   "source": [
    "# Question 4"
   ]
  },
  {
   "cell_type": "markdown",
   "id": "2824b601",
   "metadata": {},
   "source": [
    "4. What is an expression made up of? What do all expressions do?"
   ]
  },
  {
   "cell_type": "markdown",
   "id": "dfb67314",
   "metadata": {},
   "source": [
    "a)A simple expression is made up of variables,constants and operators . Experssions are evaluated during the runtime to a single value."
   ]
  },
  {
   "cell_type": "code",
   "execution_count": 9,
   "id": "0371e2a9",
   "metadata": {},
   "outputs": [],
   "source": [
    "a = 5\n",
    "b= a+10  # a--> variable ,+ ----> operator, 10---> constant"
   ]
  },
  {
   "cell_type": "code",
   "execution_count": 10,
   "id": "2572a9d3",
   "metadata": {},
   "outputs": [
    {
     "data": {
      "text/plain": [
       "15"
      ]
     },
     "execution_count": 10,
     "metadata": {},
     "output_type": "execute_result"
    }
   ],
   "source": [
    "b #will be evaluated to a single value"
   ]
  },
  {
   "cell_type": "markdown",
   "id": "6cd1c3d1",
   "metadata": {},
   "source": [
    "# Question 5"
   ]
  },
  {
   "cell_type": "markdown",
   "id": "306ba189",
   "metadata": {},
   "source": [
    "5. This assignment statements, like spam = 10. What is the difference between an expression and a statement?"
   ]
  },
  {
   "cell_type": "markdown",
   "id": "8d79acdd",
   "metadata": {},
   "source": [
    "a) Assignmnet statement represent an action or instruction, in the example 'spam =10' we are assigning 10 value to the variable spam,expression is a statement which will be evaluated to a value. exression is a subset of statement"
   ]
  },
  {
   "cell_type": "code",
   "execution_count": 15,
   "id": "974006d0",
   "metadata": {},
   "outputs": [],
   "source": [
    "#statments\n",
    "spam= 10  \n",
    "x = 5 "
   ]
  },
  {
   "cell_type": "code",
   "execution_count": 17,
   "id": "278e8d8c",
   "metadata": {},
   "outputs": [
    {
     "data": {
      "text/plain": [
       "15"
      ]
     },
     "execution_count": 17,
     "metadata": {},
     "output_type": "execute_result"
    }
   ],
   "source": [
    "#expressions\n",
    "a = 5\n",
    "b= a+10\n",
    "b"
   ]
  },
  {
   "cell_type": "markdown",
   "id": "0448d5f1",
   "metadata": {},
   "source": [
    "# Question 6"
   ]
  },
  {
   "cell_type": "markdown",
   "id": "0c56d443",
   "metadata": {},
   "source": [
    "After running the following code, what does the variable bacon contain? <br>\n",
    "bacon = 22 <br>\n",
    "bacon + 1  <br>\n"
   ]
  },
  {
   "cell_type": "markdown",
   "id": "ef67bfb2",
   "metadata": {},
   "source": [
    "a) It will still cointain the value 22 as the updated value is being reassigned "
   ]
  },
  {
   "cell_type": "code",
   "execution_count": 22,
   "id": "d8a63743",
   "metadata": {},
   "outputs": [
    {
     "data": {
      "text/plain": [
       "23"
      ]
     },
     "execution_count": 22,
     "metadata": {},
     "output_type": "execute_result"
    }
   ],
   "source": [
    "bacon= 22\n",
    "bacon+1"
   ]
  },
  {
   "cell_type": "code",
   "execution_count": 23,
   "id": "086017b7",
   "metadata": {},
   "outputs": [
    {
     "data": {
      "text/plain": [
       "22"
      ]
     },
     "execution_count": 23,
     "metadata": {},
     "output_type": "execute_result"
    }
   ],
   "source": [
    "bacon"
   ]
  },
  {
   "cell_type": "markdown",
   "id": "b05f932c",
   "metadata": {},
   "source": [
    "# Question 7"
   ]
  },
  {
   "cell_type": "markdown",
   "id": "d104c233",
   "metadata": {},
   "source": [
    "What should the values of the following two terms be? <br>\n",
    "'spam' + 'spamspam'  <br>\n",
    "'spam' * 3  <br>\n"
   ]
  },
  {
   "cell_type": "code",
   "execution_count": 24,
   "id": "e9ead247",
   "metadata": {},
   "outputs": [
    {
     "data": {
      "text/plain": [
       "'spamspamspam'"
      ]
     },
     "execution_count": 24,
     "metadata": {},
     "output_type": "execute_result"
    }
   ],
   "source": [
    "'spam' + 'spamspam'   # explanation : operator '+' on strigns will concat them together"
   ]
  },
  {
   "cell_type": "code",
   "execution_count": 26,
   "id": "48ebbb0f",
   "metadata": {},
   "outputs": [
    {
     "data": {
      "text/plain": [
       "'spamspamspam'"
      ]
     },
     "execution_count": 26,
     "metadata": {},
     "output_type": "execute_result"
    }
   ],
   "source": [
    "'spam' * 3  # explanation : operator '*' on strigns will replicate them x number of times, as x in 'string'*x"
   ]
  },
  {
   "cell_type": "markdown",
   "id": "d29181ad",
   "metadata": {},
   "source": [
    "# Question 8"
   ]
  },
  {
   "cell_type": "markdown",
   "id": "60cc28cf",
   "metadata": {},
   "source": [
    "Why is eggs a valid variable name while 100 is invalid?"
   ]
  },
  {
   "cell_type": "markdown",
   "id": "1b6fa282",
   "metadata": {},
   "source": [
    "a) According to the syntax the varaible name's cannot start with integers"
   ]
  },
  {
   "cell_type": "markdown",
   "id": "32e3b5e1",
   "metadata": {},
   "source": [
    "# Question 9"
   ]
  },
  {
   "cell_type": "markdown",
   "id": "6933fc6b",
   "metadata": {},
   "source": [
    "What three functions can be used to get the integer, floating-point number, or string version of a value?"
   ]
  },
  {
   "cell_type": "markdown",
   "id": "14087550",
   "metadata": {},
   "source": [
    "a)The three functions to get the integer, floating-point number, or string version of a value are int(),float() and str() respectively "
   ]
  },
  {
   "cell_type": "code",
   "execution_count": 33,
   "id": "2bd082ba",
   "metadata": {},
   "outputs": [
    {
     "name": "stdout",
     "output_type": "stream",
     "text": [
      "10\n",
      "10.0\n",
      "10 <class 'str'>\n"
     ]
    }
   ],
   "source": [
    "a='10'\n",
    "print(int(a))\n",
    "print(float(a))\n",
    "a=10\n",
    "print(str(a),type(str(a)))"
   ]
  },
  {
   "cell_type": "markdown",
   "id": "8069ec68",
   "metadata": {},
   "source": [
    "# Question 10"
   ]
  },
  {
   "cell_type": "markdown",
   "id": "6e6ee94a",
   "metadata": {},
   "source": [
    "Why does this expression cause an error? How can you fix it? <br>\n",
    "'I have eaten ' + 99 + ' burritos.'\n"
   ]
  },
  {
   "cell_type": "markdown",
   "id": "f06b58a0",
   "metadata": {},
   "source": [
    "This expression will cause an error because '+' operation on strings, whose function will be to concat them will not work on 99 as it is of type integer. To fix it we need to type cast it into a string using 'str()' "
   ]
  },
  {
   "cell_type": "code",
   "execution_count": 35,
   "id": "b7534280",
   "metadata": {},
   "outputs": [
    {
     "ename": "TypeError",
     "evalue": "can only concatenate str (not \"int\") to str",
     "output_type": "error",
     "traceback": [
      "\u001b[1;31m---------------------------------------------------------------------------\u001b[0m",
      "\u001b[1;31mTypeError\u001b[0m                                 Traceback (most recent call last)",
      "\u001b[1;32m~\\AppData\\Local\\Temp/ipykernel_4448/1774935878.py\u001b[0m in \u001b[0;36m<module>\u001b[1;34m\u001b[0m\n\u001b[1;32m----> 1\u001b[1;33m \u001b[1;34m'I have eaten '\u001b[0m \u001b[1;33m+\u001b[0m \u001b[1;36m99\u001b[0m \u001b[1;33m+\u001b[0m \u001b[1;34m' burritos.'\u001b[0m\u001b[1;33m\u001b[0m\u001b[1;33m\u001b[0m\u001b[0m\n\u001b[0m",
      "\u001b[1;31mTypeError\u001b[0m: can only concatenate str (not \"int\") to str"
     ]
    }
   ],
   "source": [
    "'I have eaten ' + 99 + ' burritos.'"
   ]
  },
  {
   "cell_type": "code",
   "execution_count": 37,
   "id": "0fd99e8c",
   "metadata": {},
   "outputs": [
    {
     "data": {
      "text/plain": [
       "'I have eaten 99 burritos.'"
      ]
     },
     "execution_count": 37,
     "metadata": {},
     "output_type": "execute_result"
    }
   ],
   "source": [
    "'I have eaten ' + str(99) + ' burritos.'   #fix"
   ]
  },
  {
   "cell_type": "code",
   "execution_count": null,
   "id": "9e73069e",
   "metadata": {},
   "outputs": [],
   "source": []
  }
 ],
 "metadata": {
  "kernelspec": {
   "display_name": "Python 3 (ipykernel)",
   "language": "python",
   "name": "python3"
  },
  "language_info": {
   "codemirror_mode": {
    "name": "ipython",
    "version": 3
   },
   "file_extension": ".py",
   "mimetype": "text/x-python",
   "name": "python",
   "nbconvert_exporter": "python",
   "pygments_lexer": "ipython3",
   "version": "3.9.7"
  }
 },
 "nbformat": 4,
 "nbformat_minor": 5
}
