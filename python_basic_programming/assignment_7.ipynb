{
 "cells": [
  {
   "cell_type": "markdown",
   "id": "7ba6563b",
   "metadata": {},
   "source": [
    "# Question 1\n",
    "## Write a Python Program to find sum of array?"
   ]
  },
  {
   "cell_type": "code",
   "execution_count": 34,
   "id": "f0bc8f3e",
   "metadata": {},
   "outputs": [
    {
     "data": {
      "text/plain": [
       "289"
      ]
     },
     "execution_count": 34,
     "metadata": {},
     "output_type": "execute_result"
    }
   ],
   "source": [
    "array=[1,2,3,4,5,6,7,8,9,10,25,35,64,2,5,46,57]\n",
    "sum(array)"
   ]
  },
  {
   "cell_type": "markdown",
   "id": "646f1c40",
   "metadata": {},
   "source": [
    "# Question 2\n",
    "## Write a Python Program to find largest element in an array?"
   ]
  },
  {
   "cell_type": "code",
   "execution_count": 2,
   "id": "8bd44874",
   "metadata": {},
   "outputs": [
    {
     "data": {
      "text/plain": [
       "64"
      ]
     },
     "execution_count": 2,
     "metadata": {},
     "output_type": "execute_result"
    }
   ],
   "source": [
    "max(array)"
   ]
  },
  {
   "cell_type": "markdown",
   "id": "182bc022",
   "metadata": {},
   "source": [
    "# Question 3\n",
    "## Write a Python Program for array rotation?"
   ]
  },
  {
   "cell_type": "code",
   "execution_count": 3,
   "id": "ea966f2e",
   "metadata": {},
   "outputs": [
    {
     "data": {
      "text/plain": [
       "[57, 46, 5, 2, 64, 35, 25, 10, 9, 8, 7, 6, 5, 4, 3, 2, 1]"
      ]
     },
     "execution_count": 3,
     "metadata": {},
     "output_type": "execute_result"
    }
   ],
   "source": [
    "array[::-1]"
   ]
  },
  {
   "cell_type": "markdown",
   "id": "58034bbb",
   "metadata": {},
   "source": [
    "# Question 4\n",
    "## Write a Python Program to Split the array and add the first part to the end?"
   ]
  },
  {
   "cell_type": "code",
   "execution_count": 40,
   "id": "35e045be",
   "metadata": {},
   "outputs": [
    {
     "data": {
      "text/plain": [
       "[1, 2, 3, 4, 5, 6, 7, 8]"
      ]
     },
     "execution_count": 40,
     "metadata": {},
     "output_type": "execute_result"
    }
   ],
   "source": [
    "half_1st=array[:int(len(array)/2)]\n",
    "half_1st"
   ]
  },
  {
   "cell_type": "code",
   "execution_count": 41,
   "id": "24dcf23e",
   "metadata": {},
   "outputs": [
    {
     "data": {
      "text/plain": [
       "[9, 10, 25, 35, 64, 2, 5, 46, 57]"
      ]
     },
     "execution_count": 41,
     "metadata": {},
     "output_type": "execute_result"
    }
   ],
   "source": [
    "array[int(len(array)/2):]"
   ]
  },
  {
   "cell_type": "code",
   "execution_count": 42,
   "id": "05bfd83e",
   "metadata": {},
   "outputs": [
    {
     "data": {
      "text/plain": [
       "[9, 10, 25, 35, 64, 2, 5, 46, 57, 1, 2, 3, 4, 5, 6, 7, 8]"
      ]
     },
     "execution_count": 42,
     "metadata": {},
     "output_type": "execute_result"
    }
   ],
   "source": [
    "final=(array[int(len(array)/2):])\n",
    "final.extend(half_1st)\n",
    "final"
   ]
  },
  {
   "cell_type": "markdown",
   "id": "95a481cf",
   "metadata": {},
   "source": [
    "# Question 5\n",
    "## Write a Python Program to check if given array is Monotonic?"
   ]
  },
  {
   "cell_type": "code",
   "execution_count": 45,
   "id": "ca818cc8",
   "metadata": {},
   "outputs": [],
   "source": [
    "def monotonic(a):\n",
    "    if a[0] < a[1]:\n",
    "        for i in range(len(a)-1):\n",
    "            if a[i] < a[i+1]:\n",
    "                continue\n",
    "            else:\n",
    "                return False\n",
    "    else:\n",
    "        for i in range(len(a)-1):\n",
    "            if a[i] > a[i+1]:\n",
    "                continue\n",
    "            else:\n",
    "                return False\n",
    "    return True\n",
    "        \n",
    "            "
   ]
  },
  {
   "cell_type": "code",
   "execution_count": 51,
   "id": "c1b7debe",
   "metadata": {},
   "outputs": [
    {
     "data": {
      "text/plain": [
       "True"
      ]
     },
     "execution_count": 51,
     "metadata": {},
     "output_type": "execute_result"
    }
   ],
   "source": [
    "a=[1,2,3,4,5,6,7]\n",
    "monotonic(a)\n"
   ]
  },
  {
   "cell_type": "code",
   "execution_count": 52,
   "id": "d2241e66",
   "metadata": {},
   "outputs": [
    {
     "data": {
      "text/plain": [
       "True"
      ]
     },
     "execution_count": 52,
     "metadata": {},
     "output_type": "execute_result"
    }
   ],
   "source": [
    "a=[7,6,5,4,3,2,1]\n",
    "monotonic(a)"
   ]
  },
  {
   "cell_type": "code",
   "execution_count": 53,
   "id": "0e0b7eff",
   "metadata": {},
   "outputs": [
    {
     "data": {
      "text/plain": [
       "False"
      ]
     },
     "execution_count": 53,
     "metadata": {},
     "output_type": "execute_result"
    }
   ],
   "source": [
    "a=[7,5,6,4,3,2,1]\n",
    "monotonic(a)"
   ]
  }
 ],
 "metadata": {
  "kernelspec": {
   "display_name": "Python 3 (ipykernel)",
   "language": "python",
   "name": "python3"
  },
  "language_info": {
   "codemirror_mode": {
    "name": "ipython",
    "version": 3
   },
   "file_extension": ".py",
   "mimetype": "text/x-python",
   "name": "python",
   "nbconvert_exporter": "python",
   "pygments_lexer": "ipython3",
   "version": "3.9.12"
  }
 },
 "nbformat": 4,
 "nbformat_minor": 5
}
