{
 "cells": [
  {
   "cell_type": "markdown",
   "id": "4eca10a4",
   "metadata": {},
   "source": [
    "# Question 1\n",
    "## Write a Python program to convert kilometers to miles?"
   ]
  },
  {
   "cell_type": "code",
   "execution_count": 99,
   "id": "27d9b0b0",
   "metadata": {},
   "outputs": [
    {
     "data": {
      "text/plain": [
       "62.15040397762586"
      ]
     },
     "execution_count": 99,
     "metadata": {},
     "output_type": "execute_result"
    }
   ],
   "source": [
    "def kms_to_miles(x):\n",
    "    return x/1.609\n",
    "\n",
    "kms_to_miles(100)"
   ]
  },
  {
   "cell_type": "markdown",
   "id": "aad9809d",
   "metadata": {},
   "source": [
    "# Question 2\n",
    "## Write a Python program to convert Celsius to Fahrenheit?"
   ]
  },
  {
   "cell_type": "code",
   "execution_count": 100,
   "id": "a9ef719b",
   "metadata": {},
   "outputs": [
    {
     "data": {
      "text/plain": [
       "97.88000000000001"
      ]
     },
     "execution_count": 100,
     "metadata": {},
     "output_type": "execute_result"
    }
   ],
   "source": [
    "def c_to_f(x):\n",
    "    return (1.8*x)+32\n",
    "\n",
    "c_to_f(36.6)"
   ]
  },
  {
   "cell_type": "markdown",
   "id": "7cd68a5a",
   "metadata": {},
   "source": [
    "# Question 3\n",
    "## Write a Python program to display calendar?"
   ]
  },
  {
   "cell_type": "code",
   "execution_count": 101,
   "id": "72777a3c",
   "metadata": {},
   "outputs": [
    {
     "name": "stdout",
     "output_type": "stream",
     "text": [
      "      May 2022\n",
      "Mo Tu We Th Fr Sa Su\n",
      "                   1\n",
      " 2  3  4  5  6  7  8\n",
      " 9 10 11 12 13 14 15\n",
      "16 17 18 19 20 21 22\n",
      "23 24 25 26 27 28 29\n",
      "30 31\n",
      "\n"
     ]
    }
   ],
   "source": [
    "import calendar  # month() function from calendar module can be used to display months calender\n",
    "\n",
    "year = 2022 \n",
    "month = 5   \n",
    "\n",
    "print(calendar.month(year,month))"
   ]
  },
  {
   "cell_type": "markdown",
   "id": "950e5c54",
   "metadata": {},
   "source": [
    "# Question 4\n",
    "## Write a Python program to solve quadratic equation?"
   ]
  },
  {
   "cell_type": "code",
   "execution_count": 105,
   "id": "cc5ffa52",
   "metadata": {},
   "outputs": [
    {
     "name": "stdout",
     "output_type": "stream",
     "text": [
      "The roots of the quadratic equation with value a:-1,b:4,c:2 are \n",
      "(-0.4494897427831779+0j)\n",
      "(4.449489742783178+0j)\n"
     ]
    }
   ],
   "source": [
    "import cmath #this module sqrt function is different from normal sqrt as it can return complex numbers when the roots are complex\n",
    "\n",
    "a = -1\n",
    "b = 4\n",
    "c = 2\n",
    "  \n",
    "if a!=0:\n",
    "    print(f'The roots of the quadratic equation with value a:{a},b:{b},c:{c} are ')\n",
    "    if a < 0:   #if a value is negative we mulitply with the entire euqation with -\n",
    "        a=-a\n",
    "        b=-b\n",
    "        c=-c\n",
    "        \n",
    "    dis = (b**2) - (4*a*c)\n",
    "\n",
    "\n",
    "    root_1 = (-b-cmath.sqrt(dis))/(2 * a)   \n",
    "    root_2 = (-b + cmath.sqrt(dis))/(2 * a)\n",
    "\n",
    "    \n",
    "    print(root_1)\n",
    "    print(root_2)\n",
    "else:\n",
    "    print('These are not quadratic equation values')\n",
    "    \n",
    "\n",
    "\n",
    "    \n",
    "        \n"
   ]
  },
  {
   "cell_type": "code",
   "execution_count": 103,
   "id": "8462d274",
   "metadata": {},
   "outputs": [
    {
     "data": {
      "text/plain": [
       "(-0.4494897427831779+0j)"
      ]
     },
     "execution_count": 103,
     "metadata": {},
     "output_type": "execute_result"
    }
   ],
   "source": [
    "(-b-cmath.sqrt(dis))/(2 * a)"
   ]
  },
  {
   "cell_type": "markdown",
   "id": "fbe529c0",
   "metadata": {},
   "source": [
    "Reference : https://www.geeksforgeeks.org/python-program-to-solve-quadratic-equation/"
   ]
  },
  {
   "cell_type": "markdown",
   "id": "bf57afc0",
   "metadata": {},
   "source": [
    "# Question 5\n",
    "## Write a Python program to swap two variables without temp variable?"
   ]
  },
  {
   "cell_type": "code",
   "execution_count": 104,
   "id": "c0dcfafe",
   "metadata": {},
   "outputs": [
    {
     "name": "stdout",
     "output_type": "stream",
     "text": [
      "a: 30, b: 10\n"
     ]
    }
   ],
   "source": [
    "a=10\n",
    "b=30\n",
    "a,b = b , a\n",
    "print(f'a: {a}, b: {b}')"
   ]
  }
 ],
 "metadata": {
  "kernelspec": {
   "display_name": "Python 3 (ipykernel)",
   "language": "python",
   "name": "python3"
  },
  "language_info": {
   "codemirror_mode": {
    "name": "ipython",
    "version": 3
   },
   "file_extension": ".py",
   "mimetype": "text/x-python",
   "name": "python",
   "nbconvert_exporter": "python",
   "pygments_lexer": "ipython3",
   "version": "3.9.12"
  }
 },
 "nbformat": 4,
 "nbformat_minor": 5
}
