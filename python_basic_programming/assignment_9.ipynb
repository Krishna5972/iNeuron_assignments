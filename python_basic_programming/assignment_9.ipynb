{
 "cells": [
  {
   "cell_type": "markdown",
   "id": "0dc6e494",
   "metadata": {},
   "source": [
    "# Question 1\n",
    "## Write a Python program to check if the given number is a Disarium Number?"
   ]
  },
  {
   "cell_type": "code",
   "execution_count": 33,
   "id": "45725309",
   "metadata": {},
   "outputs": [],
   "source": [
    "# sum of the powers of the posotion of digits must be equal to the number itself, then we can call it as a disarium number\n",
    "def disarium(x):\n",
    "    x_temp=x\n",
    "    length=len(str(x))\n",
    "    sum_=0\n",
    "    while(x_temp > 0):\n",
    "        unit=x_temp%10\n",
    "        x_temp=x_temp//10\n",
    "        sum_=sum_+(unit**length)\n",
    "        length-=1\n",
    "    if sum_== x:\n",
    "        print(f'{x} is a disarium number')\n",
    "    else:\n",
    "        print(f'{x} is not a disarium number')    "
   ]
  },
  {
   "cell_type": "code",
   "execution_count": 36,
   "id": "9d2e9fb7",
   "metadata": {},
   "outputs": [
    {
     "name": "stdout",
     "output_type": "stream",
     "text": [
      "135 is a disarium number\n"
     ]
    }
   ],
   "source": [
    "x=135\n",
    "disarium(x)\n",
    "    "
   ]
  },
  {
   "cell_type": "code",
   "execution_count": 37,
   "id": "fb408732",
   "metadata": {},
   "outputs": [
    {
     "name": "stdout",
     "output_type": "stream",
     "text": [
      "50 is not a disarium number\n"
     ]
    }
   ],
   "source": [
    "x=50\n",
    "disarium(x)\n",
    "    "
   ]
  },
  {
   "cell_type": "markdown",
   "id": "9434649c",
   "metadata": {},
   "source": [
    "# Question 2\n",
    "## Write a Python program to print all disarium numbers between 1 to 100?"
   ]
  },
  {
   "cell_type": "code",
   "execution_count": 38,
   "id": "7d723924",
   "metadata": {},
   "outputs": [],
   "source": [
    "def disarium_interval(x):\n",
    "    x_temp=x\n",
    "    length=len(str(x))\n",
    "    sum_=0\n",
    "    while(x_temp > 0):\n",
    "        unit=x_temp%10\n",
    "        x_temp=x_temp//10\n",
    "        sum_=sum_+(unit**length)\n",
    "        length-=1\n",
    "    if sum_== x:\n",
    "        print(x)\n",
    "    else:\n",
    "        pass    "
   ]
  },
  {
   "cell_type": "code",
   "execution_count": 39,
   "id": "f2fde8f8",
   "metadata": {},
   "outputs": [
    {
     "name": "stdout",
     "output_type": "stream",
     "text": [
      "1\n",
      "2\n",
      "3\n",
      "4\n",
      "5\n",
      "6\n",
      "7\n",
      "8\n",
      "9\n",
      "89\n"
     ]
    }
   ],
   "source": [
    "for i in range(1,101):\n",
    "    disarium_interval(i)"
   ]
  },
  {
   "cell_type": "markdown",
   "id": "685bb966",
   "metadata": {},
   "source": [
    "# Question 3\n",
    "## Write a Python program to check if the given number is Happy Number?"
   ]
  },
  {
   "cell_type": "code",
   "execution_count": 73,
   "id": "6365e231",
   "metadata": {},
   "outputs": [
    {
     "name": "stdout",
     "output_type": "stream",
     "text": [
      "happy number\n"
     ]
    }
   ],
   "source": [
    "#A happy number is a number defined by the following process,replace the number by the sum of the squares of its digits until it is equal to 1\n",
    "\n",
    "def sum_digit(x):\n",
    "    sum_=0\n",
    "    x_temp=x\n",
    "    while(x_temp > 0):\n",
    "        unit=x_temp%10\n",
    "        x_temp=x_temp//10\n",
    "        sum_=sum_+(unit ** 2)\n",
    "    return sum_\n",
    "\n",
    "\n",
    "x=7\n",
    "x_temp=x\n",
    "sums=[]\n",
    "sum_=0\n",
    "while(sum_digit(sum_)!=1):\n",
    "    sum_=sum_digit(x_temp)\n",
    "    x_temp=sum_\n",
    "    if sum_ not in sums:\n",
    "        sums.append(sum_)\n",
    "    else:\n",
    "        print('not a happy number')\n",
    "        break\n",
    "if sum_digit(sum_) == 1:\n",
    "    print('happy number')"
   ]
  },
  {
   "cell_type": "markdown",
   "id": "18c10f0c",
   "metadata": {},
   "source": [
    "# Question 4\n",
    "## Write a Python program to print all happy numbers between 1 and 100?"
   ]
  },
  {
   "cell_type": "code",
   "execution_count": 74,
   "id": "1df3d9da",
   "metadata": {},
   "outputs": [],
   "source": [
    "def happy_number(x):\n",
    "    x_temp=x\n",
    "    sums=[]\n",
    "    sum_=0\n",
    "    while(sum_digit(sum_)!=1):\n",
    "        sum_=sum_digit(x_temp)\n",
    "        x_temp=sum_\n",
    "        if sum_ not in sums:\n",
    "            sums.append(sum_)\n",
    "        else:\n",
    "            break\n",
    "    if sum_digit(sum_) == 1:\n",
    "        print(x)"
   ]
  },
  {
   "cell_type": "code",
   "execution_count": 78,
   "id": "84e650ed",
   "metadata": {},
   "outputs": [
    {
     "name": "stdout",
     "output_type": "stream",
     "text": [
      "1\n",
      "7\n",
      "10\n",
      "13\n",
      "19\n",
      "23\n",
      "28\n",
      "31\n",
      "32\n",
      "44\n",
      "49\n",
      "68\n",
      "70\n",
      "79\n",
      "82\n",
      "86\n",
      "91\n",
      "94\n",
      "97\n",
      "100\n"
     ]
    }
   ],
   "source": [
    "for i in range(1,101):\n",
    "    happy_number(i)"
   ]
  },
  {
   "cell_type": "markdown",
   "id": "0accb8d1",
   "metadata": {},
   "source": [
    "# Question 5\n",
    "## Write a Python program to determine whether the given number is a Harshad Number?"
   ]
  },
  {
   "cell_type": "code",
   "execution_count": 81,
   "id": "2964319c",
   "metadata": {},
   "outputs": [
    {
     "name": "stdout",
     "output_type": "stream",
     "text": [
      "171 is a harshad number\n"
     ]
    }
   ],
   "source": [
    "# add all the numbers digits indiviudally and it should be able divide the number\n",
    "x=171\n",
    "x_temp=x\n",
    "sum_=0\n",
    "while(x_temp > 0):\n",
    "    unit = x_temp % 10\n",
    "    x_temp=x_temp // 10 \n",
    "    sum_+=unit\n",
    "if x % sum_ == 0:\n",
    "    print(f'{x} is a harshad number')\n",
    "else:\n",
    "    print(f'{x} is not a harshad number')\n",
    "    \n",
    "    "
   ]
  },
  {
   "cell_type": "markdown",
   "id": "2c8e5956",
   "metadata": {},
   "source": [
    "# Question 6\n",
    "## Write a Python program to print all pronic numbers between 1 and 100?"
   ]
  },
  {
   "cell_type": "code",
   "execution_count": 89,
   "id": "faddb551",
   "metadata": {},
   "outputs": [],
   "source": [
    "#if a number is a product of two consecutive integers it is called a pronic number\n",
    "def pronic(x):\n",
    "    for i in range(1,x):\n",
    "        if (i * (i+1) == x):\n",
    "            print(x)\n",
    "        else:\n",
    "            pass"
   ]
  },
  {
   "cell_type": "code",
   "execution_count": 90,
   "id": "762668cb",
   "metadata": {},
   "outputs": [
    {
     "name": "stdout",
     "output_type": "stream",
     "text": [
      "2\n",
      "6\n",
      "12\n",
      "20\n",
      "30\n",
      "42\n",
      "56\n",
      "72\n",
      "90\n"
     ]
    }
   ],
   "source": [
    "for i in range(1,101):\n",
    "    pronic(i)"
   ]
  }
 ],
 "metadata": {
  "kernelspec": {
   "display_name": "Python 3 (ipykernel)",
   "language": "python",
   "name": "python3"
  },
  "language_info": {
   "codemirror_mode": {
    "name": "ipython",
    "version": 3
   },
   "file_extension": ".py",
   "mimetype": "text/x-python",
   "name": "python",
   "nbconvert_exporter": "python",
   "pygments_lexer": "ipython3",
   "version": "3.9.12"
  }
 },
 "nbformat": 4,
 "nbformat_minor": 5
}
