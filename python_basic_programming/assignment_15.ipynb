{
 "cells": [
  {
   "cell_type": "markdown",
   "id": "72478aa9",
   "metadata": {},
   "source": [
    "# Question 1\n",
    "## Please write a program using generator to print the numbers which can be divisible by 5 and\n",
    "## 7 between 0 and n in comma separated form while n is input by console.\n",
    "## Example:\n",
    "## If the following n is given as input to the program:\n",
    "## 100\n",
    "## Then, the output of the program should be:\n",
    "## 0,35,70"
   ]
  },
  {
   "cell_type": "code",
   "execution_count": 5,
   "id": "701ffa58",
   "metadata": {},
   "outputs": [
    {
     "name": "stdout",
     "output_type": "stream",
     "text": [
      "0,35,70\n"
     ]
    }
   ],
   "source": [
    "def generator(n):\n",
    "    for i in range(0,n+1):\n",
    "        if (i % 5 == 0) & ( i % 7 == 0):\n",
    "            yield i\n",
    "        \n",
    "result=[str(i) for i in generator(100)]\n",
    "print(','.join(result))        "
   ]
  },
  {
   "cell_type": "markdown",
   "id": "b783939f",
   "metadata": {},
   "source": [
    "# Question 2\n",
    "## Please write a program using generator to print the even numbers between 0 and n in comma\n",
    "## separated form while n is input by console.\n",
    "## Example:\n",
    "## If the following n is given as input to the program:\n",
    "## 10\n",
    "## Then, the output of the program should be:\n",
    "## 0,2,4,6,8,10"
   ]
  },
  {
   "cell_type": "code",
   "execution_count": 7,
   "id": "8a76df29",
   "metadata": {},
   "outputs": [
    {
     "name": "stdout",
     "output_type": "stream",
     "text": [
      "0,2,4,6,8,10\n"
     ]
    }
   ],
   "source": [
    "def generator(n):\n",
    "    for i in range(0,n+1):\n",
    "        if i%2==0:\n",
    "            yield i\n",
    "        \n",
    "result=[str(i) for i in generator(10)]\n",
    "print(','.join(result))     "
   ]
  },
  {
   "cell_type": "markdown",
   "id": "15dbe6a0",
   "metadata": {},
   "source": [
    "# Question 3\n",
    "## The Fibonacci Sequence is computed based on the following formula:\n",
    "## f(n)=0 if n=0\n",
    "## f(n)=1 if n=1\n",
    "## f(n)=f(n-1)+f(n-2) if n&gt;1\n",
    "## Please write a program using list comprehension to print the Fibonacci Sequence in comma\n",
    "## separated form with a given n input by console.\n",
    "## Example:\n",
    "## If the following n is given as input to the program:\n",
    "# 7\n",
    "\n",
    "## Then, the output of the program should be:\n",
    "## 0,1,1,2,3,5,8,13"
   ]
  },
  {
   "cell_type": "code",
   "execution_count": 23,
   "id": "67bfa8e6",
   "metadata": {},
   "outputs": [
    {
     "name": "stdout",
     "output_type": "stream",
     "text": [
      "0,1,1,2,3,5,8\n"
     ]
    }
   ],
   "source": [
    "def fib(n):\n",
    "    if n == 0:\n",
    "        return 0\n",
    "    elif n==1:\n",
    "        return 1\n",
    "    else:\n",
    "        return fib(n-1)+fib(n-2)\n",
    "        \n",
    "result= [str(fib(i)) for i in range(0,7)]\n",
    "print(','.join(result))"
   ]
  },
  {
   "cell_type": "markdown",
   "id": "45c1a0d7",
   "metadata": {},
   "source": [
    "# Question 4\n",
    "## Assuming that we have some email addresses in the &quot;username@companyname.com&quot; format,\n",
    "## please write program to print the user name of a given email address. Both user names and\n",
    "## company names are composed of letters only.\n",
    "## Example:\n",
    "## If the following email address is given as input to the program:\n",
    "## john@google.com\n",
    "## Then, the output of the program should be:\n",
    "## john"
   ]
  },
  {
   "cell_type": "code",
   "execution_count": 28,
   "id": "a5364c5b",
   "metadata": {},
   "outputs": [
    {
     "name": "stdout",
     "output_type": "stream",
     "text": [
      "john\n"
     ]
    }
   ],
   "source": [
    "email='john@google.com'\n",
    "print(email.split('@')[0])"
   ]
  },
  {
   "cell_type": "markdown",
   "id": "4c313624",
   "metadata": {},
   "source": [
    "# Question 5\n",
    "## Define a class named Shape and its subclass Square. The Square class has an init function\n",
    "## which takes a length as argument. Both classes have a area function which can print the area\n",
    "## of the shape where Shape&#39;s area is 0 by default."
   ]
  },
  {
   "cell_type": "code",
   "execution_count": 36,
   "id": "10641cf7",
   "metadata": {},
   "outputs": [],
   "source": [
    "class Shape:\n",
    "    def __init__(self,length=0):\n",
    "        self.length=length\n",
    "    \n",
    "    def area(self):\n",
    "        return self.length**2\n",
    "    \n",
    "class Square(Shape):\n",
    "    def __init__(self,length):\n",
    "        super().__init__(length)\n",
    "        \n",
    "    def area(self):\n",
    "        return self.length**2\n",
    "        \n",
    "    "
   ]
  },
  {
   "cell_type": "code",
   "execution_count": 44,
   "id": "4429f799",
   "metadata": {},
   "outputs": [
    {
     "data": {
      "text/plain": [
       "25"
      ]
     },
     "execution_count": 44,
     "metadata": {},
     "output_type": "execute_result"
    }
   ],
   "source": [
    "s=Square(5)\n",
    "s.area()"
   ]
  },
  {
   "cell_type": "code",
   "execution_count": 43,
   "id": "ead8c573",
   "metadata": {},
   "outputs": [
    {
     "data": {
      "text/plain": [
       "0"
      ]
     },
     "execution_count": 43,
     "metadata": {},
     "output_type": "execute_result"
    }
   ],
   "source": [
    "sh=Shape()\n",
    "sh.area()"
   ]
  }
 ],
 "metadata": {
  "kernelspec": {
   "display_name": "Python 3 (ipykernel)",
   "language": "python",
   "name": "python3"
  },
  "language_info": {
   "codemirror_mode": {
    "name": "ipython",
    "version": 3
   },
   "file_extension": ".py",
   "mimetype": "text/x-python",
   "name": "python",
   "nbconvert_exporter": "python",
   "pygments_lexer": "ipython3",
   "version": "3.9.12"
  }
 },
 "nbformat": 4,
 "nbformat_minor": 5
}
