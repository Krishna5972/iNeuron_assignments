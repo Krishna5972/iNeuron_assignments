{
 "cells": [
  {
   "cell_type": "markdown",
   "id": "dd0dc1d1",
   "metadata": {},
   "source": [
    "# Question 1\n",
    "## Write a Python Program to Find LCM?"
   ]
  },
  {
   "cell_type": "code",
   "execution_count": 6,
   "id": "0081a611",
   "metadata": {},
   "outputs": [],
   "source": [
    "#least positive number that can be divisible by both the numbers\n",
    "\n",
    "def lcm(a,b):\n",
    "    #lcm can also be the highest of two numbers\n",
    "    if a > b :\n",
    "        highest = a\n",
    "    else:\n",
    "        highest = b\n",
    "    lcm=0\n",
    "    while(True):\n",
    "        if (highest % a == 0) & (highest % b ==0):\n",
    "            lcm=highest\n",
    "            break\n",
    "        else:\n",
    "            highest+=1\n",
    "    if lcm==0:\n",
    "        lcm=a*b\n",
    "    \n",
    "    return lcm\n",
    "            "
   ]
  },
  {
   "cell_type": "code",
   "execution_count": 8,
   "id": "b960c325",
   "metadata": {},
   "outputs": [
    {
     "data": {
      "text/plain": [
       "990"
      ]
     },
     "execution_count": 8,
     "metadata": {},
     "output_type": "execute_result"
    }
   ],
   "source": [
    "lcm(22,45)"
   ]
  },
  {
   "cell_type": "markdown",
   "id": "43e63980",
   "metadata": {},
   "source": [
    "# Question 2\n",
    "## Write a Python Program to Find HCF?"
   ]
  },
  {
   "cell_type": "code",
   "execution_count": 9,
   "id": "0ebeaeef",
   "metadata": {},
   "outputs": [],
   "source": [
    "#highest positive number that is a common factor of both \n",
    "def hcf(a,b):\n",
    "    if a < b:\n",
    "        smaller = a\n",
    "    else:\n",
    "        smaller = b\n",
    "    hcf =1 \n",
    "    for i in range(1,smaller+1):\n",
    "        if (a % i == 0) & (b % i == 0):\n",
    "            hcf=i\n",
    "        \n",
    "    return hcf"
   ]
  },
  {
   "cell_type": "code",
   "execution_count": 10,
   "id": "4b37f2ed",
   "metadata": {},
   "outputs": [
    {
     "data": {
      "text/plain": [
       "2"
      ]
     },
     "execution_count": 10,
     "metadata": {},
     "output_type": "execute_result"
    }
   ],
   "source": [
    "hcf(12,14)"
   ]
  },
  {
   "cell_type": "markdown",
   "id": "89f052e0",
   "metadata": {},
   "source": [
    "# Question 3\n",
    "## Write a Python Program to Convert Decimal to Binary, Octal and Hexadecimal?"
   ]
  },
  {
   "cell_type": "code",
   "execution_count": 17,
   "id": "c363ac7b",
   "metadata": {},
   "outputs": [
    {
     "name": "stdout",
     "output_type": "stream",
     "text": [
      "Enter a number5\n",
      "The binary value of the decimal 5 is : 0b101\n",
      "The octal value of the decimal 5 is : 0o5\n",
      "The hexadecimal value of the decimal 5 is : 0x5\n"
     ]
    }
   ],
   "source": [
    "# bin(), oct() and hex() can be used to convert decimal to binary , octal and hexadecimal respectively\n",
    "\n",
    "x=int(input('Enter a number'))\n",
    "print(f'The binary value of the decimal {x} is : {bin(x)}')\n",
    "print(f'The octal value of the decimal {x} is : {oct(x)}')\n",
    "print(f'The hexadecimal value of the decimal {x} is : {hex(x)}')"
   ]
  },
  {
   "cell_type": "markdown",
   "id": "b8e28e49",
   "metadata": {},
   "source": [
    "# Question 4\n",
    "## Write a Python Program To Find ASCII value of a character?"
   ]
  },
  {
   "cell_type": "code",
   "execution_count": 11,
   "id": "5f80ff72",
   "metadata": {},
   "outputs": [],
   "source": [
    "# ord() function is used to convert a character to an integer\n",
    "\n",
    "def asci(x):\n",
    "    return ord(x)"
   ]
  },
  {
   "cell_type": "code",
   "execution_count": 13,
   "id": "ed897957",
   "metadata": {},
   "outputs": [
    {
     "data": {
      "text/plain": [
       "65"
      ]
     },
     "execution_count": 13,
     "metadata": {},
     "output_type": "execute_result"
    }
   ],
   "source": [
    "asci('A')"
   ]
  },
  {
   "cell_type": "markdown",
   "id": "7b57c910",
   "metadata": {},
   "source": [
    "# Question 5\n",
    "## Write a Python Program to Make a Simple Calculator with 4 basic mathematical operations?"
   ]
  },
  {
   "cell_type": "code",
   "execution_count": null,
   "id": "462000d0",
   "metadata": {},
   "outputs": [
    {
     "name": "stdout",
     "output_type": "stream",
     "text": [
      "Enter the first number5\n",
      "Enter the second number5\n"
     ]
    }
   ],
   "source": [
    "x=int(input('Enter the first number'))\n",
    "y=int(input('Enter the second number'))\n",
    "operation=int(input(''' Select the operation /n\n",
    "                    1 : + \\n\n",
    "                    2 : - \\n\n",
    "                    3 : * \\n\n",
    "                    4 : / \\n'''))\n",
    "\n",
    "def simple_calc(x,y,operation):\n",
    "    if operation == 1:\n",
    "        return x+y\n",
    "    elif operation == 2:\n",
    "        return x-y\n",
    "    elif operation == 3:\n",
    "        return x*y\n",
    "    elif operation == 4:\n",
    "        return x/y\n",
    "    else:\n",
    "        print('selected option is not in the menu')\n",
    "        \n",
    "simple_calc(x,y,operation)"
   ]
  },
  {
   "cell_type": "code",
   "execution_count": 25,
   "id": "99c0cb48",
   "metadata": {},
   "outputs": [
    {
     "data": {
      "text/plain": [
       "10"
      ]
     },
     "execution_count": 25,
     "metadata": {},
     "output_type": "execute_result"
    }
   ],
   "source": []
  },
  {
   "cell_type": "code",
   "execution_count": null,
   "id": "eb5b7d30",
   "metadata": {},
   "outputs": [],
   "source": []
  }
 ],
 "metadata": {
  "kernelspec": {
   "display_name": "Python 3",
   "language": "python",
   "name": "python3"
  },
  "language_info": {
   "codemirror_mode": {
    "name": "ipython",
    "version": 3
   },
   "file_extension": ".py",
   "mimetype": "text/x-python",
   "name": "python",
   "nbconvert_exporter": "python",
   "pygments_lexer": "ipython3",
   "version": "3.8.8"
  }
 },
 "nbformat": 4,
 "nbformat_minor": 5
}
