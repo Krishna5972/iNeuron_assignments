{
 "cells": [
  {
   "cell_type": "markdown",
   "id": "3fcf2cdf",
   "metadata": {},
   "source": [
    "# Question 1\n",
    "## Write a program that calculates and prints the value according to the given formula:\n",
    "\n",
    "##  Q = Square root of [(2 * C * D)/H]\n",
    "##  Following are the fixed values of C and H:\n",
    "## C is 50. H is 30.\n",
    "## D is the variable whose values should be input to your program in a comma-separated sequence.\n",
    "## Example\n",
    "## Let us assume the following comma separated input sequence is given to the program:\n",
    "## 100,150,180\n",
    "## The output of the program should be:\n",
    "## 18,22,24"
   ]
  },
  {
   "cell_type": "code",
   "execution_count": 26,
   "id": "a69549d0",
   "metadata": {},
   "outputs": [
    {
     "name": "stdout",
     "output_type": "stream",
     "text": [
      "100,150,180\n",
      "18,22,24\n"
     ]
    }
   ],
   "source": [
    "import math\n",
    "c=50\n",
    "h=30\n",
    "value = []\n",
    "\n",
    "items=[x for x in input().split(',')]\n",
    "for d in items:\n",
    "    value.append(str(int(round(math.sqrt(2*c*float(d)/h)))))\n",
    "\n",
    "print(','.join(value))\n"
   ]
  },
  {
   "cell_type": "markdown",
   "id": "1c8995d1",
   "metadata": {},
   "source": [
    "# Question 2\n",
    "## Write a program which takes 2 digits, X,Y as input and generates a 2-dimensional array. The\n",
    "## element value in the i-th row and j-th column of the array should be i*j.\n",
    "## Note: i=0,1.., X-1; j=0,1,¡Y-1.\n",
    "## Example\n",
    "## Suppose the following inputs are given to the program:\n",
    "## 3,5\n",
    "## Then, the output of the program should be:\n",
    "[[0, 0, 0, 0, 0], [0, 1, 2, 3, 4], [0, 2, 4, 6, 8]]"
   ]
  },
  {
   "cell_type": "code",
   "execution_count": 28,
   "id": "5f8b0046",
   "metadata": {},
   "outputs": [
    {
     "name": "stdout",
     "output_type": "stream",
     "text": [
      "enter the number of the rows3\n",
      "enter the number of columns5\n"
     ]
    }
   ],
   "source": [
    "# x- rows y-colums\n",
    "import numpy as np\n",
    "x=int(input('enter the number of the rows'))\n",
    "y=int(input('enter the number of columns'))\n",
    "\n"
   ]
  },
  {
   "cell_type": "code",
   "execution_count": 35,
   "id": "9539252d",
   "metadata": {},
   "outputs": [],
   "source": [
    "arr=np.zeros([x,y])\n",
    "for i in range(x):\n",
    "    for j in range(y):\n",
    "        arr[i][j]=int(i*j)"
   ]
  },
  {
   "cell_type": "code",
   "execution_count": 36,
   "id": "4b23a6de",
   "metadata": {},
   "outputs": [
    {
     "data": {
      "text/plain": [
       "array([[0., 0., 0., 0., 0.],\n",
       "       [0., 1., 2., 3., 4.],\n",
       "       [0., 2., 4., 6., 8.]])"
      ]
     },
     "execution_count": 36,
     "metadata": {},
     "output_type": "execute_result"
    }
   ],
   "source": [
    "arr"
   ]
  },
  {
   "cell_type": "markdown",
   "id": "3864a9ed",
   "metadata": {},
   "source": [
    "# Question 3\n",
    "## Write a program that accepts a comma separated sequence of words as input and prints the\n",
    "## words in a comma-separated sequence after sorting them alphabetically.\n",
    "## Suppose the following input is supplied to the program:\n",
    "## without,hello,bag,world\n",
    "## Then, the output should be:\n",
    "## bag,hello,without,world\n"
   ]
  },
  {
   "cell_type": "code",
   "execution_count": 42,
   "id": "2dbcae8d",
   "metadata": {},
   "outputs": [
    {
     "name": "stdout",
     "output_type": "stream",
     "text": [
      "without,hello,bag,world\n",
      "bag,hello,without,world\n"
     ]
    }
   ],
   "source": [
    "x = [x for x in input().split(',')]\n",
    "x.sort()\n",
    "print(','.join(x))"
   ]
  },
  {
   "cell_type": "markdown",
   "id": "1e67a13e",
   "metadata": {},
   "source": [
    "# Question 4\n",
    "## Write a program that accepts a sequence of whitespace separated words as input and prints\n",
    "## the words after removing all duplicate words and sorting them alphanumerically.\n",
    "## Suppose the following input is supplied to the program:\n",
    "## hello world and practice makes perfect and hello world again\n",
    "## Then, the output should be:\n",
    "## again and hello makes perfect practice world"
   ]
  },
  {
   "cell_type": "code",
   "execution_count": 46,
   "id": "0c6bf271",
   "metadata": {},
   "outputs": [
    {
     "name": "stdout",
     "output_type": "stream",
     "text": [
      "hello world and practice makes perfect and hello world again\n",
      "again and hello makes perfect practice world\n"
     ]
    }
   ],
   "source": [
    "x = [x for x in input().split(' ')]\n",
    "x=set(x)\n",
    "x=list(x)\n",
    "x.sort()\n",
    "print(' '.join(x))"
   ]
  },
  {
   "cell_type": "markdown",
   "id": "7eb854df",
   "metadata": {},
   "source": [
    "# Question 5\n",
    "## Write a program that accepts a sentence and calculate the number of letters and digits.\n",
    "## Suppose the following input is supplied to the program:\n",
    "## hello world! 123\n",
    "## Then, the output should be:\n",
    "## LETTERS 10\n",
    "\n",
    "## DIGITS 3"
   ]
  },
  {
   "cell_type": "code",
   "execution_count": 67,
   "id": "729f4b43",
   "metadata": {},
   "outputs": [
    {
     "name": "stdout",
     "output_type": "stream",
     "text": [
      "Enter a sentence \n",
      "hello world! 123\n"
     ]
    }
   ],
   "source": [
    "string= input('Enter a sentence \\n')"
   ]
  },
  {
   "cell_type": "code",
   "execution_count": 68,
   "id": "2a149275",
   "metadata": {},
   "outputs": [
    {
     "name": "stdout",
     "output_type": "stream",
     "text": [
      "16\n"
     ]
    },
    {
     "data": {
      "text/plain": [
       "'hello world! 123'"
      ]
     },
     "execution_count": 68,
     "metadata": {},
     "output_type": "execute_result"
    }
   ],
   "source": [
    "print(len(string))\n",
    "string"
   ]
  },
  {
   "cell_type": "code",
   "execution_count": 78,
   "id": "54ccda52",
   "metadata": {},
   "outputs": [
    {
     "name": "stdout",
     "output_type": "stream",
     "text": [
      "LETTERS 10\n",
      "DIGITS 3\n"
     ]
    }
   ],
   "source": [
    "dict_={'LETTERS':0,\n",
    "      'DIGITS':0}\n",
    "\n",
    "string= [i for i in string if i.isalnum()]  #removing everything except for alpha numerics\n",
    "\n",
    "for i in string:\n",
    "    try:\n",
    "        i=int(i)\n",
    "        dict_['DIGITS']+=1\n",
    "    except ValueError as e:\n",
    "        dict_['LETTERS']+=1\n",
    "        \n",
    "letters=dict_['LETTERS']\n",
    "digits=dict_['DIGITS']\n",
    "print(f'LETTERS {letters}')\n",
    "print(f'DIGITS {digits}')       \n",
    "        \n",
    "        "
   ]
  },
  {
   "cell_type": "markdown",
   "id": "e94b26bb",
   "metadata": {},
   "source": [
    "# Question 6\n",
    "## A website requires the users to input username and password to register. Write a program to\n",
    "## check the validity of password input by users.\n",
    "## Following are the criteria for checking the password:\n",
    "## 1. At least 1 letter between [a-z]\n",
    "## 2. At least 1 number between [0-9]\n",
    "## 1. At least 1 letter between [A-Z]\n",
    "## 3. At least 1 character from [$#@]\n",
    "## 4. Minimum length of transaction password: 6\n",
    "## 5. Maximum length of transaction password: 12\n",
    "## Your program should accept a sequence of comma separated passwords and will check them\n",
    "## according to the above criteria. Passwords that match the criteria are to be printed, each\n",
    "## separated by a comma.\n",
    "## Example\n",
    "## If the following passwords are given as input to the program:\n",
    "## ABd1234@1,a F1#,2w3E*,2We3345\n",
    "## Then, the output of the program should be:\n",
    "## ABd1234@1"
   ]
  },
  {
   "cell_type": "code",
   "execution_count": 78,
   "id": "647c4aeb",
   "metadata": {},
   "outputs": [
    {
     "name": "stdout",
     "output_type": "stream",
     "text": [
      "ABd1234@1,a F1#,2w3E*,2We3345\n",
      "['ABd1234@1', 'a F1#', '2w3E*', '2We3345']\n",
      "ABd1234@1\n"
     ]
    }
   ],
   "source": [
    "import re\n",
    "x=[x for x in input().split(',')]\n",
    "print(x)\n",
    "perfect_password=[]\n",
    "for i in x:\n",
    "    count=0\n",
    "    if len(i) > 5 and len(i) < 13:\n",
    "        count+=1    \n",
    "    if re.search(\"([a-z])+\", i):\n",
    "        count+=1\n",
    "    if re.search(\"([A-Z])+\", i):\n",
    "        count+=1\n",
    "    if re.search(\"([0-9])+\", i):\n",
    "        count+=1\n",
    "    if re.search(\"([@#$])+\", i):\n",
    "        count+=1\n",
    "        \n",
    "    if count == 5:\n",
    "        perfect_password.append(i)\n",
    "    else:\n",
    "        pass\n",
    "\n",
    "print(','.join(perfect_password))"
   ]
  }
 ],
 "metadata": {
  "kernelspec": {
   "display_name": "Python 3 (ipykernel)",
   "language": "python",
   "name": "python3"
  },
  "language_info": {
   "codemirror_mode": {
    "name": "ipython",
    "version": 3
   },
   "file_extension": ".py",
   "mimetype": "text/x-python",
   "name": "python",
   "nbconvert_exporter": "python",
   "pygments_lexer": "ipython3",
   "version": "3.9.12"
  }
 },
 "nbformat": 4,
 "nbformat_minor": 5
}
