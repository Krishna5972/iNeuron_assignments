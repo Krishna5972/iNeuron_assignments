{
 "cells": [
  {
   "cell_type": "markdown",
   "id": "45ca3c33",
   "metadata": {},
   "source": [
    "# Question 1\n",
    "## Define a class with a generator which can iterate the numbers, which are divisible by 7, between a given range 0 and n."
   ]
  },
  {
   "cell_type": "code",
   "execution_count": 13,
   "id": "5b0652d5",
   "metadata": {},
   "outputs": [],
   "source": [
    "class Test:\n",
    "    def __init__(self,n):\n",
    "        self.n=n\n",
    "    \n",
    "    def generator_func(self):\n",
    "        for i in range(0,self.n):\n",
    "            if i % 7 ==0:\n",
    "                yield i"
   ]
  },
  {
   "cell_type": "code",
   "execution_count": 14,
   "id": "5e8f75ce",
   "metadata": {},
   "outputs": [],
   "source": [
    "t=Test(100)"
   ]
  },
  {
   "cell_type": "code",
   "execution_count": 15,
   "id": "b31e5652",
   "metadata": {},
   "outputs": [],
   "source": [
    "gen=t.generator_func()"
   ]
  },
  {
   "cell_type": "code",
   "execution_count": 16,
   "id": "24c6ebae",
   "metadata": {},
   "outputs": [
    {
     "data": {
      "text/plain": [
       "0"
      ]
     },
     "execution_count": 16,
     "metadata": {},
     "output_type": "execute_result"
    }
   ],
   "source": [
    "next(gen)"
   ]
  },
  {
   "cell_type": "code",
   "execution_count": 17,
   "id": "04d20c28",
   "metadata": {},
   "outputs": [
    {
     "data": {
      "text/plain": [
       "7"
      ]
     },
     "execution_count": 17,
     "metadata": {},
     "output_type": "execute_result"
    }
   ],
   "source": [
    "next(gen)"
   ]
  },
  {
   "cell_type": "code",
   "execution_count": 18,
   "id": "3532a1d5",
   "metadata": {},
   "outputs": [
    {
     "data": {
      "text/plain": [
       "14"
      ]
     },
     "execution_count": 18,
     "metadata": {},
     "output_type": "execute_result"
    }
   ],
   "source": [
    "next(gen)"
   ]
  },
  {
   "cell_type": "markdown",
   "id": "69e7bfca",
   "metadata": {},
   "source": [
    "# Question 2\n",
    "## Write a program to compute the frequency of the words from the input. The output\n",
    "## should output after sorting the key alphanumerically.\n",
    "## Suppose the following input is supplied to the program:\n",
    "## New to Python or choosing between Python 2 and Python 3? Read Python 2 or\n",
    "## Python 3.\n",
    "## Then, the output should be:\n",
    "## 2:2\n",
    "## 3.:1\n",
    "## 3?:1\n",
    "## New:1\n",
    "## Python:5\n",
    "## Read:1\n",
    "## and:1\n",
    "## between:1\n",
    "## choosing:1\n",
    "## or:2\n",
    "## to:1"
   ]
  },
  {
   "cell_type": "code",
   "execution_count": 19,
   "id": "a4532305",
   "metadata": {},
   "outputs": [
    {
     "name": "stdout",
     "output_type": "stream",
     "text": [
      "New to Python or choosing between Python 2 and Python 3? Read Python 2 or Python 3\n"
     ]
    }
   ],
   "source": [
    "string = [x for x in input().split()]\n"
   ]
  },
  {
   "cell_type": "code",
   "execution_count": 20,
   "id": "f0f84055",
   "metadata": {},
   "outputs": [
    {
     "data": {
      "text/plain": [
       "['New',\n",
       " 'to',\n",
       " 'Python',\n",
       " 'or',\n",
       " 'choosing',\n",
       " 'between',\n",
       " 'Python',\n",
       " '2',\n",
       " 'and',\n",
       " 'Python',\n",
       " '3?',\n",
       " 'Read',\n",
       " 'Python',\n",
       " '2',\n",
       " 'or',\n",
       " 'Python',\n",
       " '3']"
      ]
     },
     "execution_count": 20,
     "metadata": {},
     "output_type": "execute_result"
    }
   ],
   "source": [
    "string"
   ]
  },
  {
   "cell_type": "code",
   "execution_count": 22,
   "id": "b1754eb9",
   "metadata": {},
   "outputs": [],
   "source": [
    "dict_={}\n",
    "for i in string:\n",
    "    if i in dict_.keys():\n",
    "        dict_[i]+=1\n",
    "    else:\n",
    "        dict_[i]=1\n",
    "        \n",
    "    "
   ]
  },
  {
   "cell_type": "code",
   "execution_count": 23,
   "id": "8c336664",
   "metadata": {},
   "outputs": [
    {
     "data": {
      "text/plain": [
       "{'New': 1,\n",
       " 'to': 1,\n",
       " 'Python': 5,\n",
       " 'or': 2,\n",
       " 'choosing': 1,\n",
       " 'between': 1,\n",
       " '2': 2,\n",
       " 'and': 1,\n",
       " '3?': 1,\n",
       " 'Read': 1,\n",
       " '3': 1}"
      ]
     },
     "execution_count": 23,
     "metadata": {},
     "output_type": "execute_result"
    }
   ],
   "source": [
    "dict_"
   ]
  },
  {
   "cell_type": "code",
   "execution_count": 25,
   "id": "3e2f6fb5",
   "metadata": {},
   "outputs": [],
   "source": [
    "keys=list(dict_.keys())\n",
    "values=list(dict_.values())"
   ]
  },
  {
   "cell_type": "code",
   "execution_count": 30,
   "id": "382d80f5",
   "metadata": {},
   "outputs": [
    {
     "name": "stdout",
     "output_type": "stream",
     "text": [
      "2:2\n",
      "3:1\n",
      "3?:1\n",
      "New:1\n",
      "Python:5\n",
      "Read:1\n",
      "and:1\n",
      "between:1\n",
      "choosing:1\n",
      "or:2\n",
      "to:1\n"
     ]
    }
   ],
   "source": [
    "for key,value in sorted(zip(keys,values)):\n",
    "    print(f'{key}:{value}')"
   ]
  },
  {
   "cell_type": "markdown",
   "id": "b161b193",
   "metadata": {},
   "source": [
    "# Question 3\n",
    "## Define a class Person and its two child classes: Male and Female. All classes have a\n",
    "## method &quot;getGender&quot; which can print &quot;Male&quot; for Male class and &quot;Female&quot; for Female\n",
    "## class."
   ]
  },
  {
   "cell_type": "code",
   "execution_count": 34,
   "id": "20d41075",
   "metadata": {},
   "outputs": [],
   "source": [
    "class Person:\n",
    "    def __init__(self,gender):\n",
    "        self.gender=gender\n",
    "        \n",
    "    def getGender(self):\n",
    "        return self.gender\n",
    "    \n",
    "    \n",
    "class Male(Person):\n",
    "    def __init__(self):\n",
    "        super().__init__('Male')\n",
    "    \n",
    "    def getGender(self):\n",
    "        return self.gender\n",
    "    \n",
    "class Female(Person):\n",
    "    def __init__(self):\n",
    "        super().__init__('Female')\n",
    "    \n",
    "    def getGender(self):\n",
    "        return self.gender   \n",
    "    "
   ]
  },
  {
   "cell_type": "code",
   "execution_count": 36,
   "id": "fa86a704",
   "metadata": {},
   "outputs": [
    {
     "data": {
      "text/plain": [
       "'Male'"
      ]
     },
     "execution_count": 36,
     "metadata": {},
     "output_type": "execute_result"
    }
   ],
   "source": [
    "m=Male()\n",
    "m.getGender()"
   ]
  },
  {
   "cell_type": "code",
   "execution_count": 38,
   "id": "4c3d4a2b",
   "metadata": {},
   "outputs": [
    {
     "data": {
      "text/plain": [
       "'Female'"
      ]
     },
     "execution_count": 38,
     "metadata": {},
     "output_type": "execute_result"
    }
   ],
   "source": [
    "f=Female()\n",
    "f.getGender()"
   ]
  },
  {
   "cell_type": "markdown",
   "id": "cf7aaae6",
   "metadata": {},
   "source": [
    "# Question 4\n",
    "## Please write a program to generate all sentences where subject is in [&quot;I&quot;, &quot;You&quot;] and\n",
    "## verb is in [&quot;Play&quot;, &quot;Love&quot;] and the object is in [&quot;Hockey&quot;,&quot;Football&quot;]."
   ]
  },
  {
   "cell_type": "markdown",
   "id": "536a6097",
   "metadata": {},
   "source": [
    "# Question 5\n",
    "## Please write a program to compress and decompress the string &quot;hello world!hello\n",
    "## world!hello world!hello world!&quot;."
   ]
  },
  {
   "cell_type": "markdown",
   "id": "d9ec03eb",
   "metadata": {},
   "source": [
    "# Question 6\n",
    "## Please write a binary search function which searches an item in a sorted list. The\n",
    "## function should return the index of element to be searched in the list."
   ]
  },
  {
   "cell_type": "code",
   "execution_count": null,
   "id": "b93a9069",
   "metadata": {},
   "outputs": [],
   "source": []
  }
 ],
 "metadata": {
  "kernelspec": {
   "display_name": "Python 3 (ipykernel)",
   "language": "python",
   "name": "python3"
  },
  "language_info": {
   "codemirror_mode": {
    "name": "ipython",
    "version": 3
   },
   "file_extension": ".py",
   "mimetype": "text/x-python",
   "name": "python",
   "nbconvert_exporter": "python",
   "pygments_lexer": "ipython3",
   "version": "3.9.12"
  }
 },
 "nbformat": 4,
 "nbformat_minor": 5
}
