{
 "cells": [
  {
   "cell_type": "markdown",
   "id": "26523b60",
   "metadata": {},
   "source": [
    "# Question 1\n",
    "    Create a function that takes a string and returns a string in which each character is repeated once.\n",
    "    Examples\n",
    "    double_char(\"String\") ➞ \"SSttrriinngg\"\n",
    "\n",
    "    double_char(\"Hello World!\") ➞ \"HHeelllloo  WWoorrlldd!!\"\n",
    "\n",
    "    double_char(\"1234!_ \") ➞ \"11223344!!__  \"\n"
   ]
  },
  {
   "cell_type": "code",
   "execution_count": 5,
   "id": "5e442a03",
   "metadata": {},
   "outputs": [],
   "source": [
    "def double_char(string):\n",
    "    new_string=''\n",
    "    for i in string:\n",
    "        new_string=new_string+i+i\n",
    "    return new_string[1:] "
   ]
  },
  {
   "cell_type": "code",
   "execution_count": 6,
   "id": "36fc3ab0",
   "metadata": {},
   "outputs": [
    {
     "data": {
      "text/plain": [
       "'Sttrriinngg'"
      ]
     },
     "execution_count": 6,
     "metadata": {},
     "output_type": "execute_result"
    }
   ],
   "source": [
    "double_char('String')"
   ]
  },
  {
   "cell_type": "code",
   "execution_count": 7,
   "id": "6c661f95",
   "metadata": {},
   "outputs": [
    {
     "data": {
      "text/plain": [
       "'Heelllloo  WWoorrlldd!!'"
      ]
     },
     "execution_count": 7,
     "metadata": {},
     "output_type": "execute_result"
    }
   ],
   "source": [
    "double_char(\"Hello World!\")"
   ]
  },
  {
   "cell_type": "markdown",
   "id": "b9255dd0",
   "metadata": {},
   "source": [
    "# Question 2\n",
    "    Create a function that reverses a boolean value and returns the string \"boolean expected\" if another variable type is given.\n",
    "    Examples\n",
    "    reverse(True) ➞ False\n",
    "\n",
    "    reverse(False) ➞ True\n",
    "\n",
    "    reverse(0) ➞ \"boolean expected\"\n",
    "\n",
    "    reverse(None) ➞ \"boolean expected\"\n",
    "\n"
   ]
  },
  {
   "cell_type": "code",
   "execution_count": 13,
   "id": "3150c084",
   "metadata": {},
   "outputs": [],
   "source": [
    "def reverse(boolean):\n",
    "    if type(boolean) != bool:\n",
    "        return \"boolean expected\"\n",
    "    else:\n",
    "        return not boolean"
   ]
  },
  {
   "cell_type": "code",
   "execution_count": 14,
   "id": "a737ef58",
   "metadata": {},
   "outputs": [
    {
     "data": {
      "text/plain": [
       "False"
      ]
     },
     "execution_count": 14,
     "metadata": {},
     "output_type": "execute_result"
    }
   ],
   "source": [
    "reverse(True)"
   ]
  },
  {
   "cell_type": "code",
   "execution_count": 15,
   "id": "7e2f5c33",
   "metadata": {},
   "outputs": [
    {
     "data": {
      "text/plain": [
       "True"
      ]
     },
     "execution_count": 15,
     "metadata": {},
     "output_type": "execute_result"
    }
   ],
   "source": [
    "reverse(False)"
   ]
  },
  {
   "cell_type": "code",
   "execution_count": 16,
   "id": "f22584fe",
   "metadata": {},
   "outputs": [
    {
     "data": {
      "text/plain": [
       "'boolean expected'"
      ]
     },
     "execution_count": 16,
     "metadata": {},
     "output_type": "execute_result"
    }
   ],
   "source": [
    "reverse(0)"
   ]
  },
  {
   "cell_type": "markdown",
   "id": "006718ef",
   "metadata": {},
   "source": [
    "# Question 3\n",
    "    Create a function that returns the thickness (in meters) of a piece of paper after folding it n number of times. The paper starts off with a thickness of 0.5mm.\n",
    "    Examples\n",
    "    num_layers(1) ➞ \"0.001m\"\n",
    "    # Paper folded once is 1mm (equal to 0.001m)\n",
    "\n",
    "    num_layers(4) ➞ \"0.008m\"\n",
    "    # Paper folded 4 times is 8mm (equal to 0.008m)\n",
    "\n",
    "    num_layers(21) ➞ \"1048.576m\"\n",
    "    # Paper folded 21 times is 1048576mm (equal to 1048.576m)\n",
    "\n"
   ]
  },
  {
   "cell_type": "code",
   "execution_count": 24,
   "id": "92573ff0",
   "metadata": {},
   "outputs": [],
   "source": [
    "def num_layers(n,thickness=0.5):\n",
    "    for i in range(n):\n",
    "        thickness *= 2\n",
    "        \n",
    "    return str(round(thickness / 1000,3))+'m' \n"
   ]
  },
  {
   "cell_type": "code",
   "execution_count": 25,
   "id": "2f2852b6",
   "metadata": {},
   "outputs": [
    {
     "data": {
      "text/plain": [
       "'0.001m'"
      ]
     },
     "execution_count": 25,
     "metadata": {},
     "output_type": "execute_result"
    }
   ],
   "source": [
    "num_layers(1)"
   ]
  },
  {
   "cell_type": "code",
   "execution_count": 26,
   "id": "2eab8a54",
   "metadata": {},
   "outputs": [
    {
     "data": {
      "text/plain": [
       "'1048.576m'"
      ]
     },
     "execution_count": 26,
     "metadata": {},
     "output_type": "execute_result"
    }
   ],
   "source": [
    "num_layers(21)"
   ]
  },
  {
   "cell_type": "markdown",
   "id": "ee9edf9c",
   "metadata": {},
   "source": [
    "# Question4\n",
    "             Create a function that takes a single string as argument and returns an ordered list containing the indices of all     capital letters in the string.\n",
    "    Examples\n",
    "    index_of_caps(\"eDaBiT\") ➞ [1, 3, 5]\n",
    "\n",
    "    index_of_caps(\"eQuINoX\") ➞ [1, 3, 4, 6]\n",
    "\n",
    "    index_of_caps(\"determine\") ➞ []\n",
    "\n",
    "    index_of_caps(\"STRIKE\") ➞ [0, 1, 2, 3, 4, 5]\n",
    "\n",
    "    index_of_caps(\"sUn\") ➞ [1]\n"
   ]
  },
  {
   "cell_type": "code",
   "execution_count": 28,
   "id": "d6cf89c5",
   "metadata": {},
   "outputs": [],
   "source": [
    "def index_of_caps(string):\n",
    "    capital_indexes=[]\n",
    "    for idx,i in enumerate(string):\n",
    "        if i.isupper():\n",
    "            capital_indexes.append(idx)\n",
    "    return capital_indexes\n",
    "            "
   ]
  },
  {
   "cell_type": "code",
   "execution_count": 29,
   "id": "0696abce",
   "metadata": {},
   "outputs": [
    {
     "data": {
      "text/plain": [
       "[1, 3, 5]"
      ]
     },
     "execution_count": 29,
     "metadata": {},
     "output_type": "execute_result"
    }
   ],
   "source": [
    "index_of_caps(\"eDaBiT\")"
   ]
  },
  {
   "cell_type": "code",
   "execution_count": 30,
   "id": "c7b0dd81",
   "metadata": {},
   "outputs": [
    {
     "data": {
      "text/plain": [
       "[1, 3, 4, 6]"
      ]
     },
     "execution_count": 30,
     "metadata": {},
     "output_type": "execute_result"
    }
   ],
   "source": [
    "index_of_caps(\"eQuINoX\")"
   ]
  },
  {
   "cell_type": "code",
   "execution_count": 31,
   "id": "db62bbd7",
   "metadata": {},
   "outputs": [
    {
     "data": {
      "text/plain": [
       "[]"
      ]
     },
     "execution_count": 31,
     "metadata": {},
     "output_type": "execute_result"
    }
   ],
   "source": [
    "index_of_caps(\"determine\")"
   ]
  },
  {
   "cell_type": "markdown",
   "id": "324609f6",
   "metadata": {},
   "source": [
    "# Question5\n",
    "    Using list comprehensions, create a function that finds all even numbers from 1 to the given number.\n",
    "    Examples\n",
    "    find_even_nums(8) ➞ [2, 4, 6, 8]\n",
    "\n",
    "    find_even_nums(4) ➞ [2, 4]\n",
    "\n",
    "    find_even_nums(2) ➞ [2]\n"
   ]
  },
  {
   "cell_type": "code",
   "execution_count": 32,
   "id": "be51b9ae",
   "metadata": {},
   "outputs": [],
   "source": [
    "def find_even_nums(n):\n",
    "    return [i for i in range(1,n+1) if i%2==0]"
   ]
  },
  {
   "cell_type": "code",
   "execution_count": 33,
   "id": "be858911",
   "metadata": {},
   "outputs": [
    {
     "data": {
      "text/plain": [
       "[2, 4, 6, 8]"
      ]
     },
     "execution_count": 33,
     "metadata": {},
     "output_type": "execute_result"
    }
   ],
   "source": [
    "find_even_nums(8)"
   ]
  },
  {
   "cell_type": "code",
   "execution_count": 34,
   "id": "aaf0af9a",
   "metadata": {},
   "outputs": [
    {
     "data": {
      "text/plain": [
       "[2, 4]"
      ]
     },
     "execution_count": 34,
     "metadata": {},
     "output_type": "execute_result"
    }
   ],
   "source": [
    "find_even_nums(4)"
   ]
  },
  {
   "cell_type": "code",
   "execution_count": null,
   "id": "72d03509",
   "metadata": {},
   "outputs": [],
   "source": []
  }
 ],
 "metadata": {
  "kernelspec": {
   "display_name": "Python 3 (ipykernel)",
   "language": "python",
   "name": "python3"
  },
  "language_info": {
   "codemirror_mode": {
    "name": "ipython",
    "version": 3
   },
   "file_extension": ".py",
   "mimetype": "text/x-python",
   "name": "python",
   "nbconvert_exporter": "python",
   "pygments_lexer": "ipython3",
   "version": "3.9.12"
  }
 },
 "nbformat": 4,
 "nbformat_minor": 5
}
