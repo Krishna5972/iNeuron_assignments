{
 "cells": [
  {
   "cell_type": "markdown",
   "id": "d4786d34",
   "metadata": {},
   "source": [
    "# Question 1\n",
    "## Write a Python program to find words which are greater than given length k?"
   ]
  },
  {
   "cell_type": "code",
   "execution_count": 16,
   "id": "733241b0",
   "metadata": {},
   "outputs": [
    {
     "name": "stdout",
     "output_type": "stream",
     "text": [
      "Enter the value k3\n",
      "Write\n",
      "Python\n",
      "program\n",
      "find\n",
      "words\n",
      "which\n",
      "greater\n",
      "than\n",
      "given\n",
      "length\n"
     ]
    }
   ],
   "source": [
    "string='Write a Python program to find words which are greater than given length k?'\n",
    "k=int(input('Enter the value k'))\n",
    "words=[i for i in string.split()]\n",
    "for i in words:\n",
    "    if len(i)>k:\n",
    "        print(i)"
   ]
  },
  {
   "cell_type": "markdown",
   "id": "ea1e0f85",
   "metadata": {},
   "source": [
    "# Question 2\n",
    "## Write a Python program for removing i-th character from a string?"
   ]
  },
  {
   "cell_type": "code",
   "execution_count": 23,
   "id": "787514c8",
   "metadata": {},
   "outputs": [
    {
     "data": {
      "text/plain": [
       "'Wrte a Python program to find words which are greater than given length k?'"
      ]
     },
     "execution_count": 23,
     "metadata": {},
     "output_type": "execute_result"
    }
   ],
   "source": [
    "character_idx=2\n",
    "\n",
    "split_1=string[:character_idx]\n",
    "split_2=string[character_idx+1:]\n",
    "split_1+split_2"
   ]
  },
  {
   "cell_type": "markdown",
   "id": "3254a5e9",
   "metadata": {},
   "source": [
    "# Question 3\n",
    "## Write a Python program to split and join a string?"
   ]
  },
  {
   "cell_type": "code",
   "execution_count": 33,
   "id": "be96afbc",
   "metadata": {},
   "outputs": [
    {
     "data": {
      "text/plain": [
       "'Write hi a hi Python hi program hi to hi find hi words hi which hi are hi greater hi than hi given hi length hi k?'"
      ]
     },
     "execution_count": 33,
     "metadata": {},
     "output_type": "execute_result"
    }
   ],
   "source": [
    "\n",
    "words=string.split()\n",
    "' hi '.join(words)"
   ]
  },
  {
   "cell_type": "markdown",
   "id": "11abec96",
   "metadata": {},
   "source": [
    "# Question 4\n",
    "## Write a Python to check if a given string is binary string or not?"
   ]
  },
  {
   "cell_type": "code",
   "execution_count": 41,
   "id": "fb6f4cdc",
   "metadata": {},
   "outputs": [
    {
     "name": "stdout",
     "output_type": "stream",
     "text": [
      "binary string\n"
     ]
    }
   ],
   "source": [
    "import re\n",
    "bin_string='100010'\n",
    "regex=re.compile('[^01]')\n",
    "if len(regex.findall(bin_string)) > 0:\n",
    "    print('not a binary string')\n",
    "else:\n",
    "    print('binary string')"
   ]
  },
  {
   "cell_type": "markdown",
   "id": "0dfb2fad",
   "metadata": {},
   "source": [
    "# Question 5\n",
    "## Write a Python program to find uncommon words from two Strings?"
   ]
  },
  {
   "cell_type": "code",
   "execution_count": 61,
   "id": "82223584",
   "metadata": {},
   "outputs": [
    {
     "data": {
      "text/plain": [
       "{'example', 'progam', 'python', 'string'}"
      ]
     },
     "execution_count": 61,
     "metadata": {},
     "output_type": "execute_result"
    }
   ],
   "source": [
    "string1='Hello this is a python progam'\n",
    "string2='Hello this is a example string'\n",
    "string1_words=[i for i in string1.split()]\n",
    "string2_words=[i for i in string2.split()]\n",
    "import numpy as np\n",
    "res=np.intersect1d(string1_words,string2_words)\n",
    "set(string1_words+string2_words)-set(res)"
   ]
  },
  {
   "cell_type": "markdown",
   "id": "c6911e5a",
   "metadata": {},
   "source": [
    "# Question 6\n",
    "## Write a Python to find all duplicate characters in string?"
   ]
  },
  {
   "cell_type": "code",
   "execution_count": 72,
   "id": "d15e15e2",
   "metadata": {},
   "outputs": [
    {
     "name": "stdout",
     "output_type": "stream",
     "text": [
      "l is duplicated 2 times\n",
      "o is duplicated 3 times\n",
      "  is duplicated 5 times\n",
      "t is duplicated 2 times\n",
      "h is duplicated 2 times\n",
      "i is duplicated 2 times\n",
      "s is duplicated 2 times\n",
      "a is duplicated 2 times\n",
      "p is duplicated 2 times\n"
     ]
    }
   ],
   "source": [
    "duplicate_chars={}\n",
    "string1='Hello this is a python progam'\n",
    "for i in string1:\n",
    "    if i in duplicate_chars.keys():\n",
    "        duplicate_chars[i]+=1\n",
    "    else:\n",
    "        duplicate_chars[i]=1\n",
    "for key,value in duplicate_chars.items():\n",
    "    if value > 1:\n",
    "        print(f'{key} is duplicated {value} times')"
   ]
  },
  {
   "cell_type": "markdown",
   "id": "7802eedd",
   "metadata": {},
   "source": [
    "# Question 7\n",
    "## Write a Python Program to check if a string contains any special character?"
   ]
  },
  {
   "cell_type": "code",
   "execution_count": 82,
   "id": "4a670d10",
   "metadata": {},
   "outputs": [
    {
     "name": "stdout",
     "output_type": "stream",
     "text": [
      "Contains special characters ['?']\n"
     ]
    }
   ],
   "source": [
    "import re\n",
    "\n",
    "string = 'Python Program to check if a string contains any special character?'\n",
    "regex = re.compile('[@_!#$%^&*()<>?/\\|}{~:]')\n",
    "\n",
    "if len(regex.findall(string)) > 0:\n",
    "    print(f'Contains special characters {regex.findall(string)}')\n",
    "else:\n",
    "    print('Doesnot contain special characters')\n",
    "    "
   ]
  },
  {
   "cell_type": "code",
   "execution_count": null,
   "id": "36d6a013",
   "metadata": {},
   "outputs": [],
   "source": []
  }
 ],
 "metadata": {
  "kernelspec": {
   "display_name": "Python 3 (ipykernel)",
   "language": "python",
   "name": "python3"
  },
  "language_info": {
   "codemirror_mode": {
    "name": "ipython",
    "version": 3
   },
   "file_extension": ".py",
   "mimetype": "text/x-python",
   "name": "python",
   "nbconvert_exporter": "python",
   "pygments_lexer": "ipython3",
   "version": "3.9.12"
  }
 },
 "nbformat": 4,
 "nbformat_minor": 5
}
