{
 "cells": [
  {
   "cell_type": "markdown",
   "id": "b069f275",
   "metadata": {},
   "source": [
    "# Question 1\n",
    "## Write a Python Program to Find the Factorial of a Number?"
   ]
  },
  {
   "cell_type": "code",
   "execution_count": 5,
   "id": "50fba097",
   "metadata": {},
   "outputs": [],
   "source": [
    "def fact(x):\n",
    "    if x == 0:\n",
    "        return 1\n",
    "    else:\n",
    "        return x * fact(x-1)"
   ]
  },
  {
   "cell_type": "code",
   "execution_count": 10,
   "id": "d2efe299",
   "metadata": {},
   "outputs": [
    {
     "data": {
      "text/plain": [
       "120"
      ]
     },
     "execution_count": 10,
     "metadata": {},
     "output_type": "execute_result"
    }
   ],
   "source": [
    "fact(5)"
   ]
  },
  {
   "cell_type": "markdown",
   "id": "2bbba028",
   "metadata": {},
   "source": [
    "# Question 2\n",
    "## Write a Python Program to Display the multiplication Table?"
   ]
  },
  {
   "cell_type": "code",
   "execution_count": 13,
   "id": "74daf457",
   "metadata": {},
   "outputs": [
    {
     "name": "stdout",
     "output_type": "stream",
     "text": [
      "Enter the number to prints its table5\n",
      "Enter a multiplier limit10\n",
      "5 * 1 = 5\n",
      "5 * 2 = 10\n",
      "5 * 3 = 15\n",
      "5 * 4 = 20\n",
      "5 * 5 = 25\n",
      "5 * 6 = 30\n",
      "5 * 7 = 35\n",
      "5 * 8 = 40\n",
      "5 * 9 = 45\n",
      "5 * 10 = 50\n"
     ]
    }
   ],
   "source": [
    "x=int(input('Enter the number to prints its table'))\n",
    "i= int(input('Enter a multiplier limit'))\n",
    "for j in range(1,i+1):\n",
    "    print(f'{x} * {j} = {x*j}')"
   ]
  },
  {
   "cell_type": "markdown",
   "id": "8b010cbe",
   "metadata": {},
   "source": [
    "# Question 3\n",
    "## Write a Python Program to Print the Fibonacci sequence?"
   ]
  },
  {
   "cell_type": "code",
   "execution_count": 18,
   "id": "0ef1db0b",
   "metadata": {},
   "outputs": [
    {
     "name": "stdout",
     "output_type": "stream",
     "text": [
      "0\n",
      "1\n",
      "1\n",
      "2\n",
      "3\n",
      "5\n",
      "8\n"
     ]
    }
   ],
   "source": [
    "def fib(a,b,limit):\n",
    "    print(a)\n",
    "    print(b)\n",
    "    for i in range(limit):\n",
    "        res=a+b\n",
    "        a,b=b,res\n",
    "        print(res)\n",
    "fib(0,1,5)"
   ]
  },
  {
   "cell_type": "markdown",
   "id": "ad5f9ff6",
   "metadata": {},
   "source": [
    "# Question 4\n",
    "## Write a Python Program to Check Armstrong Number?"
   ]
  },
  {
   "cell_type": "code",
   "execution_count": 26,
   "id": "187aeeb7",
   "metadata": {},
   "outputs": [
    {
     "name": "stdout",
     "output_type": "stream",
     "text": [
      "enter a number to check if its amstrong number370\n",
      "370 is a amstrong number\n"
     ]
    }
   ],
   "source": [
    "x=int(input('enter a number to check if its amstrong number'))\n",
    "x_unit=[]\n",
    "x_temp=x\n",
    "for i in range(len(str(x))):\n",
    "    x_unit.append(x_temp%10)\n",
    "    x_temp=x_temp//10\n",
    "sum_=0\n",
    "for i in x_unit:\n",
    "    sum_=sum_+(i**3)\n",
    "    \n",
    "if sum_==x:\n",
    "    print(f'{x} is a amstrong number')\n",
    "else:\n",
    "    print(f'{x} is not a amstrong number')\n",
    "    \n",
    "    \n",
    "    "
   ]
  },
  {
   "cell_type": "markdown",
   "id": "75071b27",
   "metadata": {},
   "source": [
    "# Question 5\n",
    "## Write a Python Program to Find Armstrong Number in an Interval?"
   ]
  },
  {
   "cell_type": "code",
   "execution_count": 29,
   "id": "22cca541",
   "metadata": {},
   "outputs": [
    {
     "name": "stdout",
     "output_type": "stream",
     "text": [
      "enter the lower boundary of the interval1\n",
      "enter the upper boundary of the interval2000\n",
      "1\n",
      "2\n",
      "3\n",
      "4\n",
      "5\n",
      "6\n",
      "7\n",
      "8\n",
      "9\n",
      "153\n",
      "370\n",
      "371\n",
      "407\n",
      "1634\n"
     ]
    }
   ],
   "source": [
    "lower=int(input('enter the lower boundary of the interval'))\n",
    "upper=int(input('enter the upper boundary of the interval'))\n",
    "for x in range (lower,upper+1):\n",
    "    x_unit=[]\n",
    "    x_temp=x\n",
    "    order=len(str(x))\n",
    "    for i in range(len(str(x))):\n",
    "        x_unit.append(x_temp%10)\n",
    "        x_temp=x_temp//10\n",
    "    sum_=0\n",
    "    for i in x_unit:\n",
    "        sum_=sum_+(i**order)\n",
    "\n",
    "    if sum_==x:\n",
    "        print(x)\n",
    "    else:\n",
    "        pass\n",
    "    "
   ]
  },
  {
   "cell_type": "markdown",
   "id": "53119e88",
   "metadata": {},
   "source": [
    "# Question 6\n",
    "## Write a Python Program to Find the Sum of Natural Numbers?"
   ]
  },
  {
   "cell_type": "code",
   "execution_count": 32,
   "id": "48f14bcb",
   "metadata": {},
   "outputs": [
    {
     "name": "stdout",
     "output_type": "stream",
     "text": [
      "Enter the number upto which the sum of natural numbers is to be calculated10\n",
      "55.0\n"
     ]
    }
   ],
   "source": [
    "x=int(input('Enter the number upto which the sum of natural numbers is to be calculated'))\n",
    "sum_=(x*(x+1))/2\n",
    "print(sum_)"
   ]
  },
  {
   "cell_type": "code",
   "execution_count": null,
   "id": "6b8ab39b",
   "metadata": {},
   "outputs": [],
   "source": []
  }
 ],
 "metadata": {
  "kernelspec": {
   "display_name": "Python 3 (ipykernel)",
   "language": "python",
   "name": "python3"
  },
  "language_info": {
   "codemirror_mode": {
    "name": "ipython",
    "version": 3
   },
   "file_extension": ".py",
   "mimetype": "text/x-python",
   "name": "python",
   "nbconvert_exporter": "python",
   "pygments_lexer": "ipython3",
   "version": "3.9.12"
  }
 },
 "nbformat": 4,
 "nbformat_minor": 5
}
