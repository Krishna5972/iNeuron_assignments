{
 "cells": [
  {
   "cell_type": "markdown",
   "id": "53a15959",
   "metadata": {},
   "source": [
    "# Question 1\n",
    "## Write a Python program to print \"Hello Python\"?"
   ]
  },
  {
   "cell_type": "code",
   "execution_count": 1,
   "id": "c618f72e",
   "metadata": {},
   "outputs": [
    {
     "name": "stdout",
     "output_type": "stream",
     "text": [
      "Hello Python\n"
     ]
    }
   ],
   "source": [
    "print('Hello Python')"
   ]
  },
  {
   "cell_type": "markdown",
   "id": "42b80389",
   "metadata": {},
   "source": [
    "# Question 2\n",
    "## 2.\tWrite a Python program to do arithmetical operations addition and division.?"
   ]
  },
  {
   "cell_type": "code",
   "execution_count": 3,
   "id": "51cc1c0b",
   "metadata": {},
   "outputs": [
    {
     "name": "stdout",
     "output_type": "stream",
     "text": [
      "addition value: 12, divison value: 5.0\n"
     ]
    }
   ],
   "source": [
    "a=10\n",
    "b=2\n",
    "c=a+b\n",
    "d=a/b\n",
    "print(f'addition value: {c}, divison value: {d}')"
   ]
  },
  {
   "cell_type": "markdown",
   "id": "c6ee01ff",
   "metadata": {},
   "source": [
    "# Question 3\n",
    "## Write a Python program to find the area of a triangle?"
   ]
  },
  {
   "cell_type": "code",
   "execution_count": 5,
   "id": "c19e4dc6",
   "metadata": {},
   "outputs": [
    {
     "data": {
      "text/plain": [
       "150.0"
      ]
     },
     "execution_count": 5,
     "metadata": {},
     "output_type": "execute_result"
    }
   ],
   "source": [
    "height=10\n",
    "breadth=30\n",
    "area=(height*breadth)/2\n",
    "area"
   ]
  },
  {
   "cell_type": "markdown",
   "id": "2f1c5223",
   "metadata": {},
   "source": [
    "# Question 4\n",
    "## Write a Python program to swap two variables?"
   ]
  },
  {
   "cell_type": "code",
   "execution_count": 7,
   "id": "f35e05ae",
   "metadata": {},
   "outputs": [
    {
     "name": "stdout",
     "output_type": "stream",
     "text": [
      "a : 2 , b: 10\n"
     ]
    }
   ],
   "source": [
    "a=10\n",
    "b=2\n",
    "a,b=b,a\n",
    "print(f'a : {a} , b: {b}')"
   ]
  },
  {
   "cell_type": "markdown",
   "id": "ed241711",
   "metadata": {},
   "source": [
    "# Question 5\n",
    "## Write a Python program to generate a random number?"
   ]
  },
  {
   "cell_type": "code",
   "execution_count": 9,
   "id": "a524d119",
   "metadata": {},
   "outputs": [
    {
     "data": {
      "text/plain": [
       "11"
      ]
     },
     "execution_count": 9,
     "metadata": {},
     "output_type": "execute_result"
    }
   ],
   "source": [
    "import random #this module can generate random number using randint() function\n",
    "random.randint(10,30)"
   ]
  }
 ],
 "metadata": {
  "kernelspec": {
   "display_name": "Python 3 (ipykernel)",
   "language": "python",
   "name": "python3"
  },
  "language_info": {
   "codemirror_mode": {
    "name": "ipython",
    "version": 3
   },
   "file_extension": ".py",
   "mimetype": "text/x-python",
   "name": "python",
   "nbconvert_exporter": "python",
   "pygments_lexer": "ipython3",
   "version": "3.9.12"
  }
 },
 "nbformat": 4,
 "nbformat_minor": 5
}
