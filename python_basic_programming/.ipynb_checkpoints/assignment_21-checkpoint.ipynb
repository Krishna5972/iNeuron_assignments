{
 "cells": [
  {
   "cell_type": "markdown",
   "id": "c42c6959",
   "metadata": {},
   "source": [
    "# Question 1\n",
    "    Write a function that takes a list and a number as arguments. Add the number to the end of the list, then remove the first element of the list. The function should then return the updated list.\n",
    "    Examples\n",
    "    next_in_line([5, 6, 7, 8, 9], 1) ➞ [6, 7, 8, 9, 1]\n",
    "\n",
    "    next_in_line([7, 6, 3, 23, 17], 10) ➞ [6, 3, 23, 17, 10]\n",
    "\n",
    "    next_in_line([1, 10, 20, 42 ], 6) ➞ [10, 20, 42, 6]\n",
    "\n",
    "    next_in_line([], 6) ➞ \"No list has been selected\"\n"
   ]
  },
  {
   "cell_type": "code",
   "execution_count": 5,
   "id": "8e8dd912",
   "metadata": {},
   "outputs": [],
   "source": [
    "def next_in_line(l,element):\n",
    "    if len(l)>0:\n",
    "        l.remove(l[0])\n",
    "        l.append(element)\n",
    "        return l\n",
    "    else:\n",
    "        return 'No list has been selected'"
   ]
  },
  {
   "cell_type": "code",
   "execution_count": 6,
   "id": "f5031eb5",
   "metadata": {},
   "outputs": [
    {
     "data": {
      "text/plain": [
       "[6, 7, 8, 9, 1]"
      ]
     },
     "execution_count": 6,
     "metadata": {},
     "output_type": "execute_result"
    }
   ],
   "source": [
    "next_in_line([5, 6, 7, 8, 9], 1)"
   ]
  },
  {
   "cell_type": "code",
   "execution_count": 7,
   "id": "54cbf28a",
   "metadata": {},
   "outputs": [
    {
     "data": {
      "text/plain": [
       "[6, 3, 23, 17, 10]"
      ]
     },
     "execution_count": 7,
     "metadata": {},
     "output_type": "execute_result"
    }
   ],
   "source": [
    "next_in_line([7, 6, 3, 23, 17], 10)"
   ]
  },
  {
   "cell_type": "code",
   "execution_count": 8,
   "id": "b7fc93d3",
   "metadata": {},
   "outputs": [
    {
     "data": {
      "text/plain": [
       "'No list has been selected'"
      ]
     },
     "execution_count": 8,
     "metadata": {},
     "output_type": "execute_result"
    }
   ],
   "source": [
    "next_in_line([], 6)"
   ]
  },
  {
   "cell_type": "markdown",
   "id": "112ed4fc",
   "metadata": {},
   "source": [
    "# Question 2\n",
    "\n",
    "    Create the function that takes a list of dictionaries and returns the sum of people's budgets.\n",
    "    Examples\n",
    "    get_budgets([\n",
    "      { \"name\": \"John\", \"age\": 21, \"budget\": 23000 },\n",
    "      { \"name\": \"Steve\",  \"age\": 32, \"budget\": 40000 },\n",
    "      { \"name\": \"Martin\",  \"age\": 16, \"budget\": 2700 }\n",
    "    ]) ➞ 65700\n",
    "\n",
    "    get_budgets([\n",
    "      { \"name\": \"John\",  \"age\": 21, \"budget\": 29000 },\n",
    "      { \"name\": \"Steve\",  \"age\": 32, \"budget\": 32000 },\n",
    "      { \"name\": \"Martin\",  \"age\": 16, \"budget\": 1600 }\n",
    "    ]) ➞ 62600\n"
   ]
  },
  {
   "cell_type": "code",
   "execution_count": 9,
   "id": "de4b9ea8",
   "metadata": {},
   "outputs": [],
   "source": [
    "def get_budgets(l):\n",
    "    total_budget=0\n",
    "    for i in l:\n",
    "        total_budget+=i['budget']\n",
    "    return total_budget"
   ]
  },
  {
   "cell_type": "code",
   "execution_count": 12,
   "id": "2b85b6af",
   "metadata": {},
   "outputs": [
    {
     "data": {
      "text/plain": [
       "65700"
      ]
     },
     "execution_count": 12,
     "metadata": {},
     "output_type": "execute_result"
    }
   ],
   "source": [
    "get_budgets([\n",
    "  { \"name\": \"John\", \"age\": 21, \"budget\": 23000 },\n",
    "  { \"name\": \"Steve\",  \"age\": 32, \"budget\": 40000 },\n",
    "  { \"name\": \"Martin\",  \"age\": 16, \"budget\": 2700 }\n",
    "]) "
   ]
  },
  {
   "cell_type": "code",
   "execution_count": 13,
   "id": "25b706f8",
   "metadata": {},
   "outputs": [
    {
     "data": {
      "text/plain": [
       "62600"
      ]
     },
     "execution_count": 13,
     "metadata": {},
     "output_type": "execute_result"
    }
   ],
   "source": [
    "get_budgets([\n",
    "  { \"name\": \"John\",  \"age\": 21, \"budget\": 29000 },\n",
    "  { \"name\": \"Steve\",  \"age\": 32, \"budget\": 32000 },\n",
    "  { \"name\": \"Martin\",  \"age\": 16, \"budget\": 1600 }\n",
    "])"
   ]
  },
  {
   "cell_type": "markdown",
   "id": "68243cd9",
   "metadata": {},
   "source": [
    "# Question3\n",
    "    Create a function that takes a string and returns a string with its letters in alphabetical order.\n",
    "    Examples\n",
    "    alphabet_soup(\"hello\") ➞ \"ehllo\"\n",
    "\n",
    "    alphabet_soup(\"edabit\") ➞ \"abdeit\"\n",
    "\n",
    "    alphabet_soup(\"hacker\") ➞ \"acehkr\"\n",
    "\n",
    "    alphabet_soup(\"geek\") ➞ \"eegk\"\n",
    "\n",
    "    alphabet_soup(\"javascript\") ➞ \"aacijprstv\"\n"
   ]
  },
  {
   "cell_type": "code",
   "execution_count": 24,
   "id": "51373ccb",
   "metadata": {},
   "outputs": [],
   "source": [
    "def alphabet_soup(string):\n",
    "    char_list=[]\n",
    "    char_list.extend(string)\n",
    "    char_list.sort()\n",
    "    \n",
    "    return ''.join(char_list)"
   ]
  },
  {
   "cell_type": "code",
   "execution_count": 27,
   "id": "226e9c27",
   "metadata": {},
   "outputs": [
    {
     "data": {
      "text/plain": [
       "'ehllo'"
      ]
     },
     "execution_count": 27,
     "metadata": {},
     "output_type": "execute_result"
    }
   ],
   "source": [
    "alphabet_soup(\"hello\")"
   ]
  },
  {
   "cell_type": "code",
   "execution_count": 28,
   "id": "af5d4ca1",
   "metadata": {},
   "outputs": [
    {
     "data": {
      "text/plain": [
       "'abdeit'"
      ]
     },
     "execution_count": 28,
     "metadata": {},
     "output_type": "execute_result"
    }
   ],
   "source": [
    "alphabet_soup(\"edabit\")"
   ]
  },
  {
   "cell_type": "code",
   "execution_count": 29,
   "id": "95104b25",
   "metadata": {},
   "outputs": [
    {
     "data": {
      "text/plain": [
       "'eegk'"
      ]
     },
     "execution_count": 29,
     "metadata": {},
     "output_type": "execute_result"
    }
   ],
   "source": [
    "alphabet_soup(\"geek\")"
   ]
  },
  {
   "cell_type": "markdown",
   "id": "fd1bbac9",
   "metadata": {},
   "source": [
    "# Question 4\n",
    "    Suppose that you invest $10,000 for 10 years at an interest rate of 6% compounded monthly. What will be the value of your investment at the end of the 10 year period?\n",
    "    Create a function that accepts the principal p, the term in years t, the interest rate r, and the number of compounding periods per year n. The function returns the value at the end of term rounded to the nearest cent.\n",
    "    For the example above:\n",
    "    compound_interest(10000, 10, 0.06, 12) ➞ 18193.97\n",
    "    Note that the interest rate is given as a decimal and n=12 because with monthly compounding there are 12 periods per year. Compounding can also be done annually, quarterly, weekly, or daily.\n",
    "    Examples\n",
    "    compound_interest(100, 1, 0.05, 1) ➞ 105.0\n",
    "\n",
    "    compound_interest(3500, 15, 0.1, 4) ➞ 15399.26\n",
    "\n",
    "    compound_interest(100000, 20, 0.15, 365) ➞ 2007316.26\n"
   ]
  },
  {
   "cell_type": "code",
   "execution_count": 41,
   "id": "515832c8",
   "metadata": {},
   "outputs": [],
   "source": [
    "def compound_interest(p, t, r, n):\n",
    "    return round(p*(1+(r/n))**(n*t),2)"
   ]
  },
  {
   "cell_type": "code",
   "execution_count": 42,
   "id": "33829afa",
   "metadata": {},
   "outputs": [
    {
     "data": {
      "text/plain": [
       "105.0"
      ]
     },
     "execution_count": 42,
     "metadata": {},
     "output_type": "execute_result"
    }
   ],
   "source": [
    "compound_interest(100, 1, 0.05, 1)"
   ]
  },
  {
   "cell_type": "code",
   "execution_count": 43,
   "id": "0ad1f343",
   "metadata": {},
   "outputs": [
    {
     "data": {
      "text/plain": [
       "15399.26"
      ]
     },
     "execution_count": 43,
     "metadata": {},
     "output_type": "execute_result"
    }
   ],
   "source": [
    "compound_interest(3500, 15, 0.1, 4)"
   ]
  },
  {
   "cell_type": "code",
   "execution_count": 44,
   "id": "ba27874c",
   "metadata": {},
   "outputs": [
    {
     "data": {
      "text/plain": [
       "2007316.26"
      ]
     },
     "execution_count": 44,
     "metadata": {},
     "output_type": "execute_result"
    }
   ],
   "source": [
    "compound_interest(100000, 20, 0.15, 365)"
   ]
  },
  {
   "cell_type": "markdown",
   "id": "e8d483f0",
   "metadata": {},
   "source": [
    "# Question5\n",
    "    Write a function that takes a list of elements and returns only the integers.\n",
    "    Examples\n",
    "    return_only_integer([9, 2, \"space\", \"car\", \"lion\", 16]) ➞ [9, 2, 16]\n",
    "\n",
    "    return_only_integer([\"hello\", 81, \"basketball\", 123, \"fox\"]) ➞ [81, 123]\n",
    "\n",
    "    return_only_integer([10, \"121\", 56, 20, \"car\", 3, \"lion\"]) ➞ [10, 56, 20, 3]\n",
    "\n",
    "    return_only_integer([\"String\",  True,  3.3,  1]) ➞ [1]\n"
   ]
  },
  {
   "cell_type": "code",
   "execution_count": 32,
   "id": "ec924141",
   "metadata": {},
   "outputs": [],
   "source": [
    "def return_only_integer(l):\n",
    "    integer_list=[]\n",
    "    for i in l:\n",
    "        if type(i)==int:\n",
    "            integer_list.append(i)\n",
    "    return integer_list\n",
    "            "
   ]
  },
  {
   "cell_type": "code",
   "execution_count": 33,
   "id": "98f1cf40",
   "metadata": {},
   "outputs": [
    {
     "data": {
      "text/plain": [
       "[9, 2, 16]"
      ]
     },
     "execution_count": 33,
     "metadata": {},
     "output_type": "execute_result"
    }
   ],
   "source": [
    "return_only_integer([9, 2, \"space\", \"car\", \"lion\", 16])"
   ]
  },
  {
   "cell_type": "code",
   "execution_count": 34,
   "id": "4beaa27a",
   "metadata": {},
   "outputs": [
    {
     "data": {
      "text/plain": [
       "[81, 123]"
      ]
     },
     "execution_count": 34,
     "metadata": {},
     "output_type": "execute_result"
    }
   ],
   "source": [
    "return_only_integer([\"hello\", 81, \"basketball\", 123, \"fox\"])"
   ]
  },
  {
   "cell_type": "code",
   "execution_count": null,
   "id": "9039a0b4",
   "metadata": {},
   "outputs": [],
   "source": []
  }
 ],
 "metadata": {
  "kernelspec": {
   "display_name": "Python 3 (ipykernel)",
   "language": "python",
   "name": "python3"
  },
  "language_info": {
   "codemirror_mode": {
    "name": "ipython",
    "version": 3
   },
   "file_extension": ".py",
   "mimetype": "text/x-python",
   "name": "python",
   "nbconvert_exporter": "python",
   "pygments_lexer": "ipython3",
   "version": "3.9.12"
  }
 },
 "nbformat": 4,
 "nbformat_minor": 5
}
