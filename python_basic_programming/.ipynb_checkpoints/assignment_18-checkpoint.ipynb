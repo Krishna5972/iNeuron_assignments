{
 "cells": [
  {
   "cell_type": "markdown",
   "id": "6d689baf",
   "metadata": {},
   "source": [
    "# Question 1\n",
    "## Create a function that takes a list of non-negative integers and strings and return a new list without the strings.\n",
    "## Examples\n",
    "## filter_list([1, 2, \"a\", \"b\"]) ➞ [1, 2]\n",
    "\n",
    "## filter_list([1, \"a\", \"b\", 0, 15]) ➞ [1, 0, 15]\n",
    "\n",
    "## filter_list([1, 2, \"aasf\", \"1\", \"123\", 123]) ➞ [1, 2, 123]\n"
   ]
  },
  {
   "cell_type": "code",
   "execution_count": 16,
   "id": "ff23c1a9",
   "metadata": {},
   "outputs": [],
   "source": [
    "def filter_list(l):\n",
    "    for i in l[::]:\n",
    "        if type(i)==str:\n",
    "            l.remove(i)    \n",
    "    return l"
   ]
  },
  {
   "cell_type": "code",
   "execution_count": 17,
   "id": "3b0e20d5",
   "metadata": {},
   "outputs": [
    {
     "data": {
      "text/plain": [
       "[1, 2]"
      ]
     },
     "execution_count": 17,
     "metadata": {},
     "output_type": "execute_result"
    }
   ],
   "source": [
    "filter_list([1, 2, \"a\", \"b\"])"
   ]
  },
  {
   "cell_type": "code",
   "execution_count": 18,
   "id": "212b6a32",
   "metadata": {},
   "outputs": [
    {
     "data": {
      "text/plain": [
       "[1, 2, 123]"
      ]
     },
     "execution_count": 18,
     "metadata": {},
     "output_type": "execute_result"
    }
   ],
   "source": [
    "filter_list([1, 2, \"aasf\", \"1\", \"123\", 123])"
   ]
  },
  {
   "cell_type": "markdown",
   "id": "7e541609",
   "metadata": {},
   "source": [
    "# Question 2\n",
    "## The \"Reverser\" takes a string as input and returns that string in reverse order, with the opposite case.\n",
    "## Examples\n",
    "## reverse(\"Hello World\") ➞ \"DLROw OLLEh\"\n",
    "\n",
    "## reverse(\"ReVeRsE\") ➞ \"eSrEvEr\"\n",
    "\n",
    "## reverse(\"Radar\") ➞ \"RADAr\"\n"
   ]
  },
  {
   "cell_type": "code",
   "execution_count": 72,
   "id": "271b54ba",
   "metadata": {},
   "outputs": [],
   "source": [
    "def reverse(string):\n",
    "    string_temp=string[:]\n",
    "    string_new=''\n",
    "    for idx,i in enumerate(string_temp):\n",
    "        if i.islower():\n",
    "            string_new=string_new+string[idx].upper()\n",
    "        else:\n",
    "            string_new=string_new+string[idx].lower()\n",
    "    return string_new[::-1]"
   ]
  },
  {
   "cell_type": "code",
   "execution_count": 73,
   "id": "33a8bb67",
   "metadata": {},
   "outputs": [
    {
     "data": {
      "text/plain": [
       "'DLROw OLLEh'"
      ]
     },
     "execution_count": 73,
     "metadata": {},
     "output_type": "execute_result"
    }
   ],
   "source": [
    "reverse('Hello World')"
   ]
  },
  {
   "cell_type": "code",
   "execution_count": 74,
   "id": "0ea42a28",
   "metadata": {},
   "outputs": [
    {
     "data": {
      "text/plain": [
       "'eSrEvEr'"
      ]
     },
     "execution_count": 74,
     "metadata": {},
     "output_type": "execute_result"
    }
   ],
   "source": [
    "reverse('ReVeRsE')"
   ]
  },
  {
   "cell_type": "markdown",
   "id": "1056b889",
   "metadata": {},
   "source": [
    "# Question 3\n",
    "## Question 3\n",
    "## You can assign variables from lists like this:\n",
    "## lst = [1, 2, 3, 4, 5, 6]\n",
    "## first = lst[0]\n",
    "## middle = lst[1:-1]\n",
    "## last = lst[-1]\n",
    "\n",
    "## print(first) ➞ outputs 1\n",
    "## print(middle) ➞ outputs [2, 3, 4, 5]\n",
    "## print(last) ➞ outputs 6\n",
    "## With Python 3, you can assign variables from lists in a much more succinct way. Create variables first, middle and last from the given list using destructuring assignment (check the Resources tab for some examples), where:\n",
    "## first  ➞ 1\n",
    "\n",
    "## middle ➞ [2, 3, 4, 5]\n",
    "\n",
    "## last ➞ 6\n",
    "## Your task is to unpack the list writeyourcodehere into three variables, being first, middle, and last, with middle being everything in between the first and last element. Then print all three variables.\n"
   ]
  },
  {
   "cell_type": "code",
   "execution_count": 76,
   "id": "aa69cf55",
   "metadata": {},
   "outputs": [],
   "source": [
    "first, *middle, last = [1, 2, 3, 4, 5,6]"
   ]
  },
  {
   "cell_type": "code",
   "execution_count": 77,
   "id": "f4643a03",
   "metadata": {},
   "outputs": [
    {
     "name": "stdout",
     "output_type": "stream",
     "text": [
      "1\n",
      "[2, 3, 4, 5]\n",
      "6\n"
     ]
    }
   ],
   "source": [
    "print(first)\n",
    "print(middle)\n",
    "print(last)"
   ]
  },
  {
   "cell_type": "markdown",
   "id": "5c56d288",
   "metadata": {},
   "source": [
    "Reference : https://blog.teclado.com/destructuring-in-python/"
   ]
  },
  {
   "cell_type": "markdown",
   "id": "16cef6a9",
   "metadata": {},
   "source": [
    "# Question 4\n",
    "## Write a function that calculates the factorial of a number recursively.\n",
    "## Examples\n",
    "## factorial(5) ➞ 120\n",
    "## factorial(3) ➞ 6\n",
    "## factorial(1) ➞ 1\n",
    "## factorial(0) ➞ 1"
   ]
  },
  {
   "cell_type": "code",
   "execution_count": 79,
   "id": "33a3bab9",
   "metadata": {},
   "outputs": [],
   "source": [
    "def fact(n):\n",
    "    if n<=1:\n",
    "        return 1\n",
    "    else:\n",
    "        return n* fact(n-1)"
   ]
  },
  {
   "cell_type": "code",
   "execution_count": 80,
   "id": "184a2f07",
   "metadata": {},
   "outputs": [
    {
     "data": {
      "text/plain": [
       "6"
      ]
     },
     "execution_count": 80,
     "metadata": {},
     "output_type": "execute_result"
    }
   ],
   "source": [
    "fact(3)"
   ]
  },
  {
   "cell_type": "markdown",
   "id": "dddd863a",
   "metadata": {},
   "source": [
    "# Question 5\n",
    "## Write a function that moves all elements of one type to the end of the list.\n",
    "## Examples\n",
    "## move_to_end([1, 3, 2, 4, 4, 1], 1) ➞ [3, 2, 4, 4, 1, 1]\n",
    "## Move all the 1s to the end of the array.\n",
    "\n",
    "## move_to_end([7, 8, 9, 1, 2, 3, 4], 9) ➞ [7, 8, 1, 2, 3, 4, 9]\n",
    "\n",
    "## move_to_end([\"a\", \"a\", \"a\", \"b\"], \"a\") ➞ [\"b\", \"a\", \"a\", \"a\"]\n"
   ]
  },
  {
   "cell_type": "code",
   "execution_count": 103,
   "id": "0b3a6eb5",
   "metadata": {},
   "outputs": [],
   "source": [
    "def move_to_end(list_,element):\n",
    "    same_elements=[]\n",
    "    for i in list_[::]:\n",
    "        if i == element:\n",
    "            same_elements.append(i)\n",
    "            list_.remove(i)\n",
    "    list_.extend(same_elements)\n",
    "    return list_"
   ]
  },
  {
   "cell_type": "code",
   "execution_count": 104,
   "id": "d0ded40d",
   "metadata": {},
   "outputs": [
    {
     "data": {
      "text/plain": [
       "[3, 2, 4, 4, 1, 1]"
      ]
     },
     "execution_count": 104,
     "metadata": {},
     "output_type": "execute_result"
    }
   ],
   "source": [
    "move_to_end([1, 3, 2, 4, 4, 1], 1)"
   ]
  },
  {
   "cell_type": "code",
   "execution_count": 105,
   "id": "113f5693",
   "metadata": {},
   "outputs": [
    {
     "data": {
      "text/plain": [
       "['b', 'a', 'a', 'a']"
      ]
     },
     "execution_count": 105,
     "metadata": {},
     "output_type": "execute_result"
    }
   ],
   "source": [
    "move_to_end([\"a\", \"a\", \"a\", \"b\"], \"a\")"
   ]
  }
 ],
 "metadata": {
  "kernelspec": {
   "display_name": "Python 3 (ipykernel)",
   "language": "python",
   "name": "python3"
  },
  "language_info": {
   "codemirror_mode": {
    "name": "ipython",
    "version": 3
   },
   "file_extension": ".py",
   "mimetype": "text/x-python",
   "name": "python",
   "nbconvert_exporter": "python",
   "pygments_lexer": "ipython3",
   "version": "3.9.12"
  }
 },
 "nbformat": 4,
 "nbformat_minor": 5
}
