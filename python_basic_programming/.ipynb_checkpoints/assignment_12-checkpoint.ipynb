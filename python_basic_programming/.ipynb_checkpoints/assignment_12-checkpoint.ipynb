{
 "cells": [
  {
   "cell_type": "markdown",
   "id": "e83a49d5",
   "metadata": {},
   "source": [
    "# Question 1\n",
    "## Write a Python program to Extract Unique values dictionary values?"
   ]
  },
  {
   "cell_type": "code",
   "execution_count": 10,
   "id": "2608c3ff",
   "metadata": {},
   "outputs": [],
   "source": [
    "dict_={\n",
    "    'python' : 5,\n",
    "    'java' : 4,\n",
    "    'c' : 5,\n",
    "    'c++' : 4,\n",
    "    'R' : 3,    \n",
    "      }"
   ]
  },
  {
   "cell_type": "code",
   "execution_count": 11,
   "id": "296e4b5c",
   "metadata": {},
   "outputs": [
    {
     "data": {
      "text/plain": [
       "{3, 4, 5}"
      ]
     },
     "execution_count": 11,
     "metadata": {},
     "output_type": "execute_result"
    }
   ],
   "source": [
    "set(dict_.values())"
   ]
  },
  {
   "cell_type": "markdown",
   "id": "8bd13ff3",
   "metadata": {},
   "source": [
    "# Question 2\n",
    "## Write a Python program to find the sum of all items in a dictionary?"
   ]
  },
  {
   "cell_type": "code",
   "execution_count": 13,
   "id": "56ac8eb8",
   "metadata": {},
   "outputs": [
    {
     "data": {
      "text/plain": [
       "21"
      ]
     },
     "execution_count": 13,
     "metadata": {},
     "output_type": "execute_result"
    }
   ],
   "source": [
    "sum_=0\n",
    "for value in dict_.values():\n",
    "    sum_+=value\n",
    "sum_"
   ]
  },
  {
   "cell_type": "markdown",
   "id": "6d891766",
   "metadata": {},
   "source": [
    "# Question 3\n",
    "## Write a Python program to Merging two Dictionaries?"
   ]
  },
  {
   "cell_type": "code",
   "execution_count": 14,
   "id": "d7b70342",
   "metadata": {},
   "outputs": [],
   "source": [
    "dict_2={\n",
    "    'python1' : 5,\n",
    "    'java1' : 4,\n",
    "    'c1' : 5,\n",
    "    'c++1' : 4,\n",
    "    'R1' : 3,    \n",
    "      }"
   ]
  },
  {
   "cell_type": "code",
   "execution_count": 17,
   "id": "7726a99a",
   "metadata": {},
   "outputs": [
    {
     "data": {
      "text/plain": [
       "{'python': 5,\n",
       " 'java': 4,\n",
       " 'c': 5,\n",
       " 'c++': 4,\n",
       " 'R': 3,\n",
       " 'python1': 5,\n",
       " 'java1': 4,\n",
       " 'c1': 5,\n",
       " 'c++1': 4,\n",
       " 'R1': 3}"
      ]
     },
     "execution_count": 17,
     "metadata": {},
     "output_type": "execute_result"
    }
   ],
   "source": [
    "dict_.update(dict_2)\n",
    "dict_"
   ]
  },
  {
   "cell_type": "markdown",
   "id": "67adf4f0",
   "metadata": {},
   "source": [
    "# Question 4\n",
    "## Write a Python program to convert key-values list to flat dictionary?"
   ]
  },
  {
   "cell_type": "code",
   "execution_count": 22,
   "id": "eadb2b89",
   "metadata": {},
   "outputs": [
    {
     "data": {
      "text/plain": [
       "{1: 'one', 2: 'two', 3: 'three', 4: 'four', 5: 'five', 6: 'six'}"
      ]
     },
     "execution_count": 22,
     "metadata": {},
     "output_type": "execute_result"
    }
   ],
   "source": [
    "dict_numbers = {'numbers' : [1, 2, 3, 4, 5, 6], 'in_words' : ['one', 'two', 'three', 'four', 'five', 'six']}\n",
    "flat_dict=dict(zip(dict_numbers['numbers'],dict_numbers['in_words']))\n",
    "flat_dict"
   ]
  },
  {
   "cell_type": "markdown",
   "id": "5e70cafb",
   "metadata": {},
   "source": [
    "# Question 5\n",
    "## Write a Python program to insertion at the beginning in OrderedDict?"
   ]
  },
  {
   "cell_type": "code",
   "execution_count": 26,
   "id": "cda3225f",
   "metadata": {},
   "outputs": [
    {
     "data": {
      "text/plain": [
       "OrderedDict([('three', '3'), ('one', 1), ('two', 2)])"
      ]
     },
     "execution_count": 26,
     "metadata": {},
     "output_type": "execute_result"
    }
   ],
   "source": [
    "from collections import OrderedDict\n",
    "\n",
    "dict_orderd=OrderedDict()\n",
    "dict_orderd['one']=1\n",
    "dict_orderd['two']=2\n",
    "dict_orderd.update({'three':'3'})\n",
    "dict_orderd.move_to_end('three', last = False)\n",
    "dict_orderd"
   ]
  },
  {
   "cell_type": "markdown",
   "id": "a9768300",
   "metadata": {},
   "source": [
    "# Question 6\n",
    "## Write a Python program to check order of character in string using OrderedDict()?"
   ]
  },
  {
   "cell_type": "code",
   "execution_count": 48,
   "id": "a4fcbff2",
   "metadata": {},
   "outputs": [
    {
     "name": "stdout",
     "output_type": "stream",
     "text": [
      "The order of pattern is correct\n"
     ]
    }
   ],
   "source": [
    "from collections import OrderedDict\n",
    "string='Python program'\n",
    "pattern='th'\n",
    "my_dict = OrderedDict.fromkeys(string)\n",
    "pattern_length = 0\n",
    "flag=0\n",
    "for key,value in my_dict.items():\n",
    "    if (key == pattern[pattern_length]):\n",
    "        pattern_length += 1\n",
    "    if (pattern_length == (len(pattern))):\n",
    "        flag=1\n",
    "        print('The order of pattern is correct')\n",
    "        break\n",
    "         \n",
    "if flag==0:\n",
    "    print('The order of pattern is not correct')\n",
    "    "
   ]
  },
  {
   "cell_type": "markdown",
   "id": "1af2022b",
   "metadata": {},
   "source": [
    "# Question 7\n",
    "## Write a Python program to sort Python Dictionaries by Key or Value?"
   ]
  },
  {
   "cell_type": "code",
   "execution_count": 27,
   "id": "2392a7da",
   "metadata": {},
   "outputs": [
    {
     "data": {
      "text/plain": [
       "{1: 'one', 2: 'two', 3: 'three', 4: 'four', 5: 'five', 6: 'six'}"
      ]
     },
     "execution_count": 27,
     "metadata": {},
     "output_type": "execute_result"
    }
   ],
   "source": [
    "flat_dict"
   ]
  },
  {
   "cell_type": "code",
   "execution_count": 35,
   "id": "fbdb187a",
   "metadata": {},
   "outputs": [
    {
     "data": {
      "text/plain": [
       "['five', 'four', 'one', 'six', 'three', 'two']"
      ]
     },
     "execution_count": 35,
     "metadata": {},
     "output_type": "execute_result"
    }
   ],
   "source": [
    "sorted(flat_dict.values())  #sorted based on the first character"
   ]
  },
  {
   "cell_type": "code",
   "execution_count": 36,
   "id": "80b72b5f",
   "metadata": {},
   "outputs": [
    {
     "data": {
      "text/plain": [
       "[6, 5, 4, 3, 2, 1]"
      ]
     },
     "execution_count": 36,
     "metadata": {},
     "output_type": "execute_result"
    }
   ],
   "source": [
    "sorted(flat_dict.keys(),reverse=True)"
   ]
  }
 ],
 "metadata": {
  "kernelspec": {
   "display_name": "Python 3 (ipykernel)",
   "language": "python",
   "name": "python3"
  },
  "language_info": {
   "codemirror_mode": {
    "name": "ipython",
    "version": 3
   },
   "file_extension": ".py",
   "mimetype": "text/x-python",
   "name": "python",
   "nbconvert_exporter": "python",
   "pygments_lexer": "ipython3",
   "version": "3.9.12"
  }
 },
 "nbformat": 4,
 "nbformat_minor": 5
}
