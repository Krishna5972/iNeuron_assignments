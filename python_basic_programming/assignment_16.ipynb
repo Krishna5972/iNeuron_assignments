{
 "cells": [
  {
   "cell_type": "markdown",
   "id": "52b4cf4e",
   "metadata": {},
   "source": [
    "# Question 1\n",
    "## Write a function that stutters a word as if someone is struggling to read it. The\n",
    "## first two letters are repeated twice with an ellipsis ... and space after each, and then the\n",
    "## word is pronounced with a question mark ?.\n",
    "## Examples\n",
    "## stutter(&quot;incredible&quot;) ➞ &quot;in... in... incredible?&quot;\n",
    "## stutter(&quot;enthusiastic&quot;) ➞ &quot;en... en... enthusiastic?&quot;\n",
    "## stutter(&quot;outstanding&quot;) ➞ &quot;ou... ou... outstanding?&quot;\n",
    "\n",
    "## Hint :- Assume all input is in lower case and at least two characters long."
   ]
  },
  {
   "cell_type": "code",
   "execution_count": 10,
   "id": "338880d9",
   "metadata": {},
   "outputs": [],
   "source": [
    "def stutter(word):\n",
    "    return word[:2]+'..'+word[:2]+'..'+word+'?'\n",
    "   \n",
    "    \n",
    "    "
   ]
  },
  {
   "cell_type": "code",
   "execution_count": 12,
   "id": "7e7b860d",
   "metadata": {},
   "outputs": [
    {
     "data": {
      "text/plain": [
       "'in..in..incredible?'"
      ]
     },
     "execution_count": 12,
     "metadata": {},
     "output_type": "execute_result"
    }
   ],
   "source": [
    "stutter('incredible')"
   ]
  },
  {
   "cell_type": "markdown",
   "id": "bb9d0a1e",
   "metadata": {},
   "source": [
    "# Question 2\n",
    "## Question 2.Create a function that takes an angle in radians and returns the corresponding\n",
    "## angle in degrees rounded to one decimal place.\n",
    "## Examples\n",
    "## radians_to_degrees(1) ➞ 57.3\n",
    "## radians_to_degrees(20) ➞ 1145.9\n",
    "## radians_to_degrees(50) ➞ 2864.8"
   ]
  },
  {
   "cell_type": "code",
   "execution_count": 15,
   "id": "d92c43d1",
   "metadata": {},
   "outputs": [],
   "source": [
    "# degree = Radian measure × (180°/π).\n",
    "\n",
    "def radian_to_degree(x):\n",
    "    return round(x * (180 / 3.14),1)"
   ]
  },
  {
   "cell_type": "markdown",
   "id": "15fb169b",
   "metadata": {},
   "source": [
    "# Question 3\n",
    "## Question 3. In this challenge, establish if a given integer num is a Curzon number. If 1 plus2 elevated to num is exactly divisible by 1 plus 2 multiplied by num, then num is a Curzon number.\n",
    "## Given a non-negative integer num, implement a function that returns True if num is a Curzon number, or False otherwise.\n",
    "## Examples\n",
    "## is_curzon(5) ➞ True\n",
    "### 2 ** 5 + 1 = 33\n",
    "### 2 * 5 + 1 = 11\n",
    "### 33 is a multiple of 11\n",
    "### is_curzon(10) ➞ False\n",
    "### 2 ** 10 + 1 = 1025\n",
    "### 2 * 10 + 1 = 21\n",
    "### 1025 is not a multiple of 21\n",
    "### is_curzon(14) ➞ True\n",
    "### 2 ** 14 + 1 = 16385\n",
    "### 2 * 14 + 1 = 29\n",
    "### 16385 is a multiple of 29"
   ]
  },
  {
   "cell_type": "code",
   "execution_count": 20,
   "id": "3f403faa",
   "metadata": {},
   "outputs": [],
   "source": [
    "# Curzon 2 ^ N + 1 is divisible by 2*N + 1.\n",
    "\n",
    "def curzon(n):\n",
    "    numerator= (2 ** n) +1\n",
    "    denominator= (2 * n)+1\n",
    "    if numerator % denominator == 0:\n",
    "        return True\n",
    "    else:\n",
    "        return False"
   ]
  },
  {
   "cell_type": "code",
   "execution_count": 24,
   "id": "e3be989b",
   "metadata": {},
   "outputs": [
    {
     "data": {
      "text/plain": [
       "True"
      ]
     },
     "execution_count": 24,
     "metadata": {},
     "output_type": "execute_result"
    }
   ],
   "source": [
    "curzon(14)"
   ]
  },
  {
   "cell_type": "code",
   "execution_count": 25,
   "id": "e11006b2",
   "metadata": {},
   "outputs": [
    {
     "data": {
      "text/plain": [
       "False"
      ]
     },
     "execution_count": 25,
     "metadata": {},
     "output_type": "execute_result"
    }
   ],
   "source": [
    "curzon(10)"
   ]
  },
  {
   "cell_type": "markdown",
   "id": "a86adbc1",
   "metadata": {},
   "source": [
    "# Question 4\n",
    "# Question 4.Given the side length x find the area of a hexagon.\n",
    "# area_of_hexagon(1) ➞ 2.6\n",
    "# area_of_hexagon(2) ➞ 10.4\n",
    "# area_of_hexagon(3) ➞ 23.4"
   ]
  },
  {
   "cell_type": "code",
   "execution_count": 38,
   "id": "85e84331",
   "metadata": {},
   "outputs": [],
   "source": [
    "# area of hexagon ((3*sqroot(3))*(a**a))/2\n",
    "import math\n",
    "def area_of_hexagon(x):\n",
    "    return round(((3*math.sqrt(3))*(x**2))/2,1)\n",
    "    \n"
   ]
  },
  {
   "cell_type": "code",
   "execution_count": 39,
   "id": "0f322cef",
   "metadata": {},
   "outputs": [
    {
     "data": {
      "text/plain": [
       "10.4"
      ]
     },
     "execution_count": 39,
     "metadata": {},
     "output_type": "execute_result"
    }
   ],
   "source": [
    "area_of_hexagon(2)"
   ]
  },
  {
   "cell_type": "code",
   "execution_count": 40,
   "id": "bd022cd5",
   "metadata": {},
   "outputs": [
    {
     "data": {
      "text/plain": [
       "23.4"
      ]
     },
     "execution_count": 40,
     "metadata": {},
     "output_type": "execute_result"
    }
   ],
   "source": [
    "area_of_hexagon(3)"
   ]
  },
  {
   "cell_type": "markdown",
   "id": "7a87b694",
   "metadata": {},
   "source": [
    "# Question 5\n",
    "## Create a function that returns a base-2 (binary) representation of a base-10\n",
    "## (decimal) string number. To convert is simple: ((2) means base-2 and (10) means base-10)\n",
    "## 010101001(2) = 1 + 8 + 32 + 128.\n",
    "## Going from right to left, the value of the most right bit is 1, now from that every bit to the left\n",
    "## will be x2 the value, value of an 8 bit binary numbers are (256, 128, 64, 32, 16, 8, 4, 2, 1).\n",
    "## Examples\n",
    "## binary(1) ➞ &quot;1&quot;\n",
    "## 1*1 = 1\n",
    "## binary(5) ➞ &quot;101&quot;\n",
    "## 1*1 + 1*4 = 5\n",
    "## binary(10) ➞ &quot;1010&quot;\n",
    "# 1*2 + 1*8 = 10"
   ]
  },
  {
   "cell_type": "code",
   "execution_count": 43,
   "id": "1ea0b5d6",
   "metadata": {},
   "outputs": [],
   "source": [
    "def binary(x):\n",
    "    binary_value=bin(x)\n",
    "    val=binary_value.split('b')[1]\n",
    "    return val"
   ]
  },
  {
   "cell_type": "code",
   "execution_count": 82,
   "id": "faa38111",
   "metadata": {},
   "outputs": [
    {
     "data": {
      "text/plain": [
       "'11010'"
      ]
     },
     "execution_count": 82,
     "metadata": {},
     "output_type": "execute_result"
    }
   ],
   "source": [
    "a=binary(26)\n",
    "a"
   ]
  },
  {
   "cell_type": "code",
   "execution_count": 90,
   "id": "0647ed51",
   "metadata": {},
   "outputs": [
    {
     "name": "stdout",
     "output_type": "stream",
     "text": [
      "0+2+0+8+16 = 26\n"
     ]
    }
   ],
   "source": [
    "values=[]\n",
    "for idx,i in enumerate(a[::-1],1):\n",
    "    values.append(str((int(i)*(2**(idx-1)))))\n",
    "values_int=[int(i) for i in values]\n",
    "print('+'.join(values),f'= {sum(values_int)}')"
   ]
  }
 ],
 "metadata": {
  "kernelspec": {
   "display_name": "Python 3 (ipykernel)",
   "language": "python",
   "name": "python3"
  },
  "language_info": {
   "codemirror_mode": {
    "name": "ipython",
    "version": 3
   },
   "file_extension": ".py",
   "mimetype": "text/x-python",
   "name": "python",
   "nbconvert_exporter": "python",
   "pygments_lexer": "ipython3",
   "version": "3.9.12"
  }
 },
 "nbformat": 4,
 "nbformat_minor": 5
}
