{
 "cells": [
  {
   "cell_type": "markdown",
   "id": "ae0e6b9c",
   "metadata": {},
   "source": [
    "# Question 1\n",
    "## Write a Python Program to Add Two Matrices?"
   ]
  },
  {
   "cell_type": "code",
   "execution_count": 7,
   "id": "248da3ea",
   "metadata": {},
   "outputs": [
    {
     "data": {
      "text/plain": [
       "array([[8, 7],\n",
       "       [3, 8]])"
      ]
     },
     "execution_count": 7,
     "metadata": {},
     "output_type": "execute_result"
    }
   ],
   "source": [
    "import numpy as np\n",
    "\n",
    "a_mat=np.array([[1,2],[2,2]])\n",
    "b_mat=np.array([[7,5],[1,6]])\n",
    "a_mat+b_mat"
   ]
  },
  {
   "cell_type": "markdown",
   "id": "ed5d8e26",
   "metadata": {},
   "source": [
    "# Question 2\n",
    "## Write a Python Program to Multiply Two Matrices?"
   ]
  },
  {
   "cell_type": "code",
   "execution_count": 10,
   "id": "3e9e7315",
   "metadata": {},
   "outputs": [
    {
     "data": {
      "text/plain": [
       "array([[ 9, 17],\n",
       "       [16, 22]])"
      ]
     },
     "execution_count": 10,
     "metadata": {},
     "output_type": "execute_result"
    }
   ],
   "source": [
    "np.matmul(a_mat,b_mat)"
   ]
  },
  {
   "cell_type": "markdown",
   "id": "f9fa8c09",
   "metadata": {},
   "source": [
    "# Question 3\n",
    "## Write a Python Program to Transpose a Matrix?"
   ]
  },
  {
   "cell_type": "code",
   "execution_count": 13,
   "id": "0047929a",
   "metadata": {},
   "outputs": [
    {
     "data": {
      "text/plain": [
       "array([[7, 5],\n",
       "       [1, 6]])"
      ]
     },
     "execution_count": 13,
     "metadata": {},
     "output_type": "execute_result"
    }
   ],
   "source": [
    "b_mat"
   ]
  },
  {
   "cell_type": "code",
   "execution_count": 14,
   "id": "5c53df9c",
   "metadata": {},
   "outputs": [
    {
     "data": {
      "text/plain": [
       "array([[7, 1],\n",
       "       [5, 6]])"
      ]
     },
     "execution_count": 14,
     "metadata": {},
     "output_type": "execute_result"
    }
   ],
   "source": [
    "b_mat.transpose()"
   ]
  },
  {
   "cell_type": "markdown",
   "id": "78453f32",
   "metadata": {},
   "source": [
    "# Question 4\n",
    "## Write a Python Program to Sort Words in Alphabetic Order?"
   ]
  },
  {
   "cell_type": "code",
   "execution_count": 22,
   "id": "08220444",
   "metadata": {},
   "outputs": [],
   "source": [
    "words_list=['Write','a','Python','Program','to','Sort','Words','in','Alphabetic','Order']"
   ]
  },
  {
   "cell_type": "code",
   "execution_count": 26,
   "id": "9fb12851",
   "metadata": {},
   "outputs": [
    {
     "data": {
      "text/plain": [
       "['a',\n",
       " 'alphabetic',\n",
       " 'in',\n",
       " 'order',\n",
       " 'program',\n",
       " 'python',\n",
       " 'sort',\n",
       " 'to',\n",
       " 'words',\n",
       " 'write']"
      ]
     },
     "execution_count": 26,
     "metadata": {},
     "output_type": "execute_result"
    }
   ],
   "source": [
    "words_list=[i.lower() for i in words_list]\n",
    "words_list.sort()\n",
    "words_list"
   ]
  },
  {
   "cell_type": "markdown",
   "id": "684c39bd",
   "metadata": {},
   "source": [
    "# Question 5\n",
    "## Write a Python Program to Remove Punctuation From a String?"
   ]
  },
  {
   "cell_type": "code",
   "execution_count": 29,
   "id": "61d12b3a",
   "metadata": {},
   "outputs": [
    {
     "name": "stdout",
     "output_type": "stream",
     "text": [
      "The original string is :'Write','a','Python','Program','to','Sort','Words','in','Alphabetic','Order'\n"
     ]
    },
    {
     "data": {
      "text/plain": [
       "'WriteaPythonProgramtoSortWordsinAlphabeticOrder'"
      ]
     },
     "execution_count": 29,
     "metadata": {},
     "output_type": "execute_result"
    }
   ],
   "source": [
    "import re\n",
    " \n",
    "string = \"'Write','a','Python','Program','to','Sort','Words','in','Alphabetic','Order'\"\n",
    " \n",
    "print(f'The original string is :{string}')\n",
    " \n",
    "res = re.sub(r'[^\\w\\s]', '', string)\n",
    "res"
   ]
  },
  {
   "cell_type": "code",
   "execution_count": null,
   "id": "0abb6c74",
   "metadata": {},
   "outputs": [],
   "source": []
  }
 ],
 "metadata": {
  "kernelspec": {
   "display_name": "Python 3 (ipykernel)",
   "language": "python",
   "name": "python3"
  },
  "language_info": {
   "codemirror_mode": {
    "name": "ipython",
    "version": 3
   },
   "file_extension": ".py",
   "mimetype": "text/x-python",
   "name": "python",
   "nbconvert_exporter": "python",
   "pygments_lexer": "ipython3",
   "version": "3.9.12"
  }
 },
 "nbformat": 4,
 "nbformat_minor": 5
}
