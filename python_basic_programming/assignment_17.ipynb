{
 "cells": [
  {
   "cell_type": "markdown",
   "id": "9bc43f62",
   "metadata": {},
   "source": [
    "# Question 1\n",
    "## Create a function that takes three arguments a, b, c and returns the sum of the\n",
    "## numbers that are evenly divided by c from the range a, b inclusive.\n",
    "## Examples\n",
    "## evenly_divisible(1, 10, 20) ➞ 0\n",
    "## No number between 1 and 10 can be evenly divided by 20.\n",
    "## evenly_divisible(1, 10, 2) ➞ 30\n",
    "## 2 + 4 + 6 + 8 + 10 = 30\n",
    "## evenly_divisible(1, 10, 3) ➞ 18"
   ]
  },
  {
   "cell_type": "code",
   "execution_count": 6,
   "id": "a160ae09",
   "metadata": {},
   "outputs": [],
   "source": [
    "def func(a,b,c):\n",
    "    evenly_divisible=[]\n",
    "    for i in range(a,b+1):\n",
    "        if i%c == 0:\n",
    "            evenly_divisible.append(i)\n",
    "    return sum(evenly_divisible)"
   ]
  },
  {
   "cell_type": "code",
   "execution_count": 8,
   "id": "22b7268b",
   "metadata": {},
   "outputs": [
    {
     "data": {
      "text/plain": [
       "18"
      ]
     },
     "execution_count": 8,
     "metadata": {},
     "output_type": "execute_result"
    }
   ],
   "source": [
    "func(1,10,3)"
   ]
  },
  {
   "cell_type": "markdown",
   "id": "39f8f941",
   "metadata": {},
   "source": [
    "# Question 2\n",
    "## Create a function that returns True if a given inequality expression is correct and\n",
    "## False otherwise.\n",
    "## Examples\n",
    "## correct_signs(\"3 < 7 < 11\") ➞ True\n",
    "\n",
    "## correct_signs(\"13 > 44 > 33 > 1\") ➞ False\n",
    "\n",
    "## correct_signs(\"1 < 2 < 6 < 9 > 3\") ➞ True\n"
   ]
  },
  {
   "cell_type": "code",
   "execution_count": 16,
   "id": "99402efe",
   "metadata": {},
   "outputs": [],
   "source": [
    "#eval function can be used.\n",
    "def correct_signs(eq):\n",
    "    return eval(eq)"
   ]
  },
  {
   "cell_type": "code",
   "execution_count": 17,
   "id": "42c10007",
   "metadata": {},
   "outputs": [
    {
     "data": {
      "text/plain": [
       "False"
      ]
     },
     "execution_count": 17,
     "metadata": {},
     "output_type": "execute_result"
    }
   ],
   "source": [
    "correct_signs(\"13 > 44 > 33 > 1\")"
   ]
  },
  {
   "cell_type": "code",
   "execution_count": 18,
   "id": "568c52cd",
   "metadata": {},
   "outputs": [
    {
     "data": {
      "text/plain": [
       "True"
      ]
     },
     "execution_count": 18,
     "metadata": {},
     "output_type": "execute_result"
    }
   ],
   "source": [
    "correct_signs(\"1 < 2 < 6 < 9 > 3\")"
   ]
  },
  {
   "cell_type": "markdown",
   "id": "dcd28f2e",
   "metadata": {},
   "source": [
    "# Question 3\n",
    "## Question3. Create a function that replaces all the vowels in a string with a specified character.\n",
    "## Examples\n",
    "## replace_vowels(\"the aardvark\", \"#\") ➞ \"th# ##rdv#rk\"\n",
    "\n",
    "## replace_vowels(\"minnie mouse\", \"?\") ➞ \"m?nn?? m??s?\"\n",
    "\n",
    "## replace_vowels(\"shakespeare\", \"*\") ➞ \"sh*k*sp**r*\"\n"
   ]
  },
  {
   "cell_type": "code",
   "execution_count": 33,
   "id": "f6a29048",
   "metadata": {},
   "outputs": [],
   "source": [
    "def replace_vowels(string,character):\n",
    "    vowels=['a','e','i','o','u']\n",
    "    for i in vowels:\n",
    "        string=string.replace(i,character)\n",
    "    return string"
   ]
  },
  {
   "cell_type": "code",
   "execution_count": 34,
   "id": "8557cf0e",
   "metadata": {},
   "outputs": [
    {
     "data": {
      "text/plain": [
       "'th# ##rdv#rk'"
      ]
     },
     "execution_count": 34,
     "metadata": {},
     "output_type": "execute_result"
    }
   ],
   "source": [
    "replace_vowels(\"the aardvark\", \"#\")"
   ]
  },
  {
   "cell_type": "code",
   "execution_count": 35,
   "id": "74d37c52",
   "metadata": {},
   "outputs": [
    {
     "data": {
      "text/plain": [
       "'m?nn?? m??s?'"
      ]
     },
     "execution_count": 35,
     "metadata": {},
     "output_type": "execute_result"
    }
   ],
   "source": [
    "replace_vowels(\"minnie mouse\", \"?\")"
   ]
  },
  {
   "cell_type": "code",
   "execution_count": 37,
   "id": "50f11ab9",
   "metadata": {},
   "outputs": [
    {
     "data": {
      "text/plain": [
       "'sh*k*sp**r*'"
      ]
     },
     "execution_count": 37,
     "metadata": {},
     "output_type": "execute_result"
    }
   ],
   "source": [
    "replace_vowels(\"shakespeare\", \"*\")"
   ]
  },
  {
   "cell_type": "markdown",
   "id": "74a5c082",
   "metadata": {},
   "source": [
    "# Question 4\n",
    "## Question4. Write a function that calculates the factorial of a number recursively.\n",
    "## Examples\n",
    "## factorial(5) ➞ 120\n",
    "\n",
    "## factorial(3) ➞ 6\n",
    "\n",
    "## factorial(1) ➞ 1\n",
    "\n",
    "## factorial(0) ➞ 1\n"
   ]
  },
  {
   "cell_type": "code",
   "execution_count": 39,
   "id": "31c2eee3",
   "metadata": {},
   "outputs": [],
   "source": [
    "def fact(n):\n",
    "    if n<=1:\n",
    "        return 1\n",
    "    else:\n",
    "        return n*fact(n-1)"
   ]
  },
  {
   "cell_type": "code",
   "execution_count": 40,
   "id": "06a91a85",
   "metadata": {},
   "outputs": [
    {
     "data": {
      "text/plain": [
       "120"
      ]
     },
     "execution_count": 40,
     "metadata": {},
     "output_type": "execute_result"
    }
   ],
   "source": [
    "fact(5)"
   ]
  },
  {
   "cell_type": "markdown",
   "id": "6b0b6ee2",
   "metadata": {},
   "source": [
    "# Question 5\n",
    "## Hamming distance is the number of characters that differ between two strings.\n",
    "## To illustrate:\n",
    "## String1: \"abcbba\"\n",
    "## String2: \"abcbda\"\n",
    "\n",
    "## Hamming Distance: 1 - \"b\" vs. \"d\" is the only difference.\n",
    "## Create a function that computes the hamming distance between two strings.\n",
    "## Examples\n",
    "## hamming_distance(\"abcde\", \"bcdef\") ➞ 5\n",
    "\n",
    "## hamming_distance(\"abcde\", \"abcde\") ➞ 0\n",
    "\n",
    "## hamming_distance(\"strong\", \"strung\") ➞ 1\n"
   ]
  },
  {
   "cell_type": "code",
   "execution_count": 80,
   "id": "819b188c",
   "metadata": {},
   "outputs": [],
   "source": [
    "def hamming_distance(str1,str2):\n",
    "    a=[]\n",
    "    b=[]\n",
    "    a.extend(str1)\n",
    "    b.extend(str2)\n",
    "    c=list(zip(a,b))\n",
    "    diff=[ord(a)-ord(b) for a,b in c]\n",
    "    return abs(sum(diff))"
   ]
  },
  {
   "cell_type": "code",
   "execution_count": 81,
   "id": "7555a307",
   "metadata": {},
   "outputs": [],
   "source": [
    "str1='python'\n",
    "str2='pythom'"
   ]
  },
  {
   "cell_type": "code",
   "execution_count": 82,
   "id": "854ae502",
   "metadata": {},
   "outputs": [
    {
     "data": {
      "text/plain": [
       "5"
      ]
     },
     "execution_count": 82,
     "metadata": {},
     "output_type": "execute_result"
    }
   ],
   "source": [
    "hamming_distance(\"abcde\", \"bcdef\")"
   ]
  }
 ],
 "metadata": {
  "kernelspec": {
   "display_name": "Python 3 (ipykernel)",
   "language": "python",
   "name": "python3"
  },
  "language_info": {
   "codemirror_mode": {
    "name": "ipython",
    "version": 3
   },
   "file_extension": ".py",
   "mimetype": "text/x-python",
   "name": "python",
   "nbconvert_exporter": "python",
   "pygments_lexer": "ipython3",
   "version": "3.9.12"
  }
 },
 "nbformat": 4,
 "nbformat_minor": 5
}
