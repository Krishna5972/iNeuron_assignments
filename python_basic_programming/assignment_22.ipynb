{
 "cells": [
  {
   "cell_type": "markdown",
   "id": "228eb04f",
   "metadata": {},
   "source": [
    "# Question1\n",
    "    Create a function that takes three parameters where:\n",
    "    •\tx is the start of the range (inclusive).\n",
    "    •\ty is the end of the range (inclusive).\n",
    "    •\tn is the divisor to be checked against.\n",
    "    Return an ordered list with numbers in the range that are divisible by the third parameter n. Return an empty list if there are no numbers that are divisible by n.\n",
    "    Examples\n",
    "    list_operation(1, 10, 3) ➞ [3, 6, 9]\n",
    "\n",
    "    list_operation(7, 9, 2) ➞ [8]\n",
    "\n",
    "    list_operation(15, 20, 7) ➞ []\n"
   ]
  },
  {
   "cell_type": "code",
   "execution_count": 1,
   "id": "096f45e5",
   "metadata": {},
   "outputs": [],
   "source": [
    "def list_operation(lower_bound,upper_bound,x):\n",
    "    divisible_list=[]\n",
    "    for i in range(lower_bound,upper_bound+1):\n",
    "        if i%x==0:\n",
    "            divisible_list.append(i)\n",
    "    return divisible_list\n",
    "            "
   ]
  },
  {
   "cell_type": "code",
   "execution_count": 2,
   "id": "f50253ff",
   "metadata": {},
   "outputs": [
    {
     "data": {
      "text/plain": [
       "[3, 6, 9]"
      ]
     },
     "execution_count": 2,
     "metadata": {},
     "output_type": "execute_result"
    }
   ],
   "source": [
    "list_operation(1, 10, 3)"
   ]
  },
  {
   "cell_type": "code",
   "execution_count": 3,
   "id": "a2640451",
   "metadata": {},
   "outputs": [
    {
     "data": {
      "text/plain": [
       "[8]"
      ]
     },
     "execution_count": 3,
     "metadata": {},
     "output_type": "execute_result"
    }
   ],
   "source": [
    "list_operation(7, 9, 2)"
   ]
  },
  {
   "cell_type": "code",
   "execution_count": 4,
   "id": "eb7f8f1d",
   "metadata": {},
   "outputs": [
    {
     "data": {
      "text/plain": [
       "[]"
      ]
     },
     "execution_count": 4,
     "metadata": {},
     "output_type": "execute_result"
    }
   ],
   "source": [
    "list_operation(15, 20, 7)"
   ]
  },
  {
   "cell_type": "markdown",
   "id": "87a43dc9",
   "metadata": {},
   "source": [
    "# Question2\n",
    "    Create a function that takes in two lists and returns True if the second list follows the first list by one element, and False otherwise. In other words, determine if the second list is the first list shifted to the right by 1.\n",
    "    Examples\n",
    "    simon_says([1, 2], [5, 1]) ➞ True\n",
    "\n",
    "    simon_says([1, 2], [5, 5]) ➞ False\n",
    "\n",
    "    simon_says([1, 2, 3, 4, 5], [0, 1, 2, 3, 4]) ➞ True\n",
    "\n",
    "    simon_says([1, 2, 3, 4, 5], [5, 5, 1, 2, 3]) ➞ False\n",
    "    Notes\n",
    "    •Both input lists will be of the same length, and will have a minimum length of 2.\n",
    "    •The values of the 0-indexed element in the second list and the n-1th indexed element in the first list do not matter.\n"
   ]
  },
  {
   "cell_type": "code",
   "execution_count": 5,
   "id": "28f31a80",
   "metadata": {},
   "outputs": [],
   "source": [
    "def simon_says(l1, l2):\n",
    "    for i in range(len(l1)-1):\n",
    "        if l1[i] != l2[i+1]:\n",
    "            return False\n",
    "    return True"
   ]
  },
  {
   "cell_type": "code",
   "execution_count": 6,
   "id": "e7093320",
   "metadata": {},
   "outputs": [
    {
     "data": {
      "text/plain": [
       "True"
      ]
     },
     "execution_count": 6,
     "metadata": {},
     "output_type": "execute_result"
    }
   ],
   "source": [
    "simon_says([1, 2], [5, 1])"
   ]
  },
  {
   "cell_type": "code",
   "execution_count": 7,
   "id": "f1752e2e",
   "metadata": {},
   "outputs": [
    {
     "data": {
      "text/plain": [
       "False"
      ]
     },
     "execution_count": 7,
     "metadata": {},
     "output_type": "execute_result"
    }
   ],
   "source": [
    "simon_says([1, 2], [5, 5])"
   ]
  },
  {
   "cell_type": "code",
   "execution_count": 8,
   "id": "bcb66d3c",
   "metadata": {},
   "outputs": [
    {
     "data": {
      "text/plain": [
       "True"
      ]
     },
     "execution_count": 8,
     "metadata": {},
     "output_type": "execute_result"
    }
   ],
   "source": [
    "simon_says([1, 2, 3, 4, 5], [0, 1, 2, 3, 4])"
   ]
  },
  {
   "cell_type": "code",
   "execution_count": 9,
   "id": "5dd18af1",
   "metadata": {},
   "outputs": [
    {
     "data": {
      "text/plain": [
       "False"
      ]
     },
     "execution_count": 9,
     "metadata": {},
     "output_type": "execute_result"
    }
   ],
   "source": [
    "simon_says([1, 2, 3, 4, 5], [5, 5, 1, 2, 3])"
   ]
  },
  {
   "cell_type": "markdown",
   "id": "f8dda358",
   "metadata": {},
   "source": [
    "# Question3\n",
    "    A group of friends have decided to start a secret society. The name will be the first letter of each of their names, sorted in alphabetical order.\n",
    "    Create a function that takes in a list of names and returns the name of the secret society.\n",
    "    Examples\n",
    "    society_name([\"Adam\", \"Sarah\", \"Malcolm\"]) ➞ \"AMS\"\n",
    "\n",
    "    society_name([\"Harry\", \"Newt\", \"Luna\", \"Cho\"]) ➞ \"CHLN\"\n",
    "\n",
    "    society_name([\"Phoebe\", \"Chandler\", \"Rachel\", \"Ross\", \"Monica\", \"Joey\"])\n",
    "\n"
   ]
  },
  {
   "cell_type": "code",
   "execution_count": 21,
   "id": "09785501",
   "metadata": {},
   "outputs": [],
   "source": [
    "def society_name(l):\n",
    "    secret_name=[]\n",
    "    for i in l:\n",
    "        secret_name.append(i[0])\n",
    "    secret_name.sort()\n",
    "    return ''.join(secret_name)\n",
    "        \n",
    "        "
   ]
  },
  {
   "cell_type": "code",
   "execution_count": 22,
   "id": "0245548b",
   "metadata": {},
   "outputs": [
    {
     "data": {
      "text/plain": [
       "'AMS'"
      ]
     },
     "execution_count": 22,
     "metadata": {},
     "output_type": "execute_result"
    }
   ],
   "source": [
    "society_name([\"Adam\", \"Sarah\", \"Malcolm\"])"
   ]
  },
  {
   "cell_type": "code",
   "execution_count": 23,
   "id": "0407a7bb",
   "metadata": {},
   "outputs": [
    {
     "data": {
      "text/plain": [
       "'CHLN'"
      ]
     },
     "execution_count": 23,
     "metadata": {},
     "output_type": "execute_result"
    }
   ],
   "source": [
    "society_name([\"Harry\", \"Newt\", \"Luna\", \"Cho\"])"
   ]
  },
  {
   "cell_type": "code",
   "execution_count": 24,
   "id": "402dcc46",
   "metadata": {},
   "outputs": [
    {
     "data": {
      "text/plain": [
       "'CJMPRR'"
      ]
     },
     "execution_count": 24,
     "metadata": {},
     "output_type": "execute_result"
    }
   ],
   "source": [
    "society_name([\"Phoebe\", \"Chandler\", \"Rachel\", \"Ross\", \"Monica\", \"Joey\"])"
   ]
  },
  {
   "cell_type": "markdown",
   "id": "0a498c59",
   "metadata": {},
   "source": [
    "# Question4\n",
    "    An isogram is a word that has no duplicate letters. Create a function that takes a string and returns either True or False depending on whether or not it's an \"isogram\".\n",
    "    Examples\n",
    "    is_isogram(\"Algorism\") ➞ True\n",
    "\n",
    "    is_isogram(\"PasSword\") ➞ False\n",
    "    # Not case sensitive.\n",
    "\n",
    "    is_isogram(\"Consecutive\") ➞ False\n",
    "    Notes\n",
    "    •Ignore letter case (should not be case sensitive).\n",
    "    •All test cases contain valid one word strings\n"
   ]
  },
  {
   "cell_type": "code",
   "execution_count": 29,
   "id": "db690d7a",
   "metadata": {},
   "outputs": [],
   "source": [
    "def is_isogram(string):\n",
    "    characters_list=[i.lower() for i in string]\n",
    "    return len(set(characters_list)) == len(characters_list)"
   ]
  },
  {
   "cell_type": "code",
   "execution_count": 30,
   "id": "e6a42392",
   "metadata": {},
   "outputs": [
    {
     "data": {
      "text/plain": [
       "True"
      ]
     },
     "execution_count": 30,
     "metadata": {},
     "output_type": "execute_result"
    }
   ],
   "source": [
    "is_isogram(\"Algorism\")"
   ]
  },
  {
   "cell_type": "code",
   "execution_count": 31,
   "id": "50552a74",
   "metadata": {},
   "outputs": [
    {
     "data": {
      "text/plain": [
       "False"
      ]
     },
     "execution_count": 31,
     "metadata": {},
     "output_type": "execute_result"
    }
   ],
   "source": [
    "is_isogram(\"PasSword\")"
   ]
  },
  {
   "cell_type": "code",
   "execution_count": 32,
   "id": "325265e0",
   "metadata": {},
   "outputs": [
    {
     "data": {
      "text/plain": [
       "False"
      ]
     },
     "execution_count": 32,
     "metadata": {},
     "output_type": "execute_result"
    }
   ],
   "source": [
    "is_isogram(\"Consecutive\")"
   ]
  },
  {
   "cell_type": "markdown",
   "id": "859c9064",
   "metadata": {},
   "source": [
    "# Question5\n",
    "    Create a function that takes a string and returns True or False, depending on whether the characters are in order or not.\n",
    "    Examples\n",
    "    is_in_order(\"abc\") ➞ True\n",
    "\n",
    "    is_in_order(\"edabit\") ➞ False\n",
    "\n",
    "    is_in_order(\"123\") ➞ True\n",
    "\n",
    "    is_in_order(\"xyzz\") ➞ True\n",
    "    Notes\n",
    "    You don't have to handle empty strings.\n"
   ]
  },
  {
   "cell_type": "code",
   "execution_count": 33,
   "id": "2e2894ce",
   "metadata": {},
   "outputs": [],
   "source": [
    "def is_in_order(string):\n",
    "    characters_list=[i for i in string]\n",
    "    characters_list_temp=characters_list.copy()\n",
    "    characters_list.sort()\n",
    "    return characters_list_temp==characters_list"
   ]
  },
  {
   "cell_type": "code",
   "execution_count": 34,
   "id": "790d2408",
   "metadata": {},
   "outputs": [
    {
     "data": {
      "text/plain": [
       "True"
      ]
     },
     "execution_count": 34,
     "metadata": {},
     "output_type": "execute_result"
    }
   ],
   "source": [
    "is_in_order(\"abc\")"
   ]
  },
  {
   "cell_type": "code",
   "execution_count": 35,
   "id": "139f0250",
   "metadata": {},
   "outputs": [
    {
     "data": {
      "text/plain": [
       "False"
      ]
     },
     "execution_count": 35,
     "metadata": {},
     "output_type": "execute_result"
    }
   ],
   "source": [
    "is_in_order(\"edabit\")"
   ]
  },
  {
   "cell_type": "code",
   "execution_count": 36,
   "id": "7550641f",
   "metadata": {},
   "outputs": [
    {
     "data": {
      "text/plain": [
       "True"
      ]
     },
     "execution_count": 36,
     "metadata": {},
     "output_type": "execute_result"
    }
   ],
   "source": [
    "is_in_order(\"123\")"
   ]
  },
  {
   "cell_type": "code",
   "execution_count": 37,
   "id": "7a71e5fa",
   "metadata": {},
   "outputs": [
    {
     "data": {
      "text/plain": [
       "True"
      ]
     },
     "execution_count": 37,
     "metadata": {},
     "output_type": "execute_result"
    }
   ],
   "source": [
    "is_in_order(\"xyzz\")"
   ]
  }
 ],
 "metadata": {
  "kernelspec": {
   "display_name": "Python 3 (ipykernel)",
   "language": "python",
   "name": "python3"
  },
  "language_info": {
   "codemirror_mode": {
    "name": "ipython",
    "version": 3
   },
   "file_extension": ".py",
   "mimetype": "text/x-python",
   "name": "python",
   "nbconvert_exporter": "python",
   "pygments_lexer": "ipython3",
   "version": "3.9.12"
  }
 },
 "nbformat": 4,
 "nbformat_minor": 5
}
