{
 "cells": [
  {
   "cell_type": "markdown",
   "id": "64363569",
   "metadata": {},
   "source": [
    "# Question 1\n",
    "## Define a class with a generator which can iterate the numbers, which are divisible by 7, between a given range 0 and n."
   ]
  },
  {
   "cell_type": "code",
   "execution_count": 13,
   "id": "5c101d11",
   "metadata": {},
   "outputs": [],
   "source": [
    "class Test:\n",
    "    def __init__(self,n):\n",
    "        self.n=n\n",
    "    \n",
    "    def generator_func(self):\n",
    "        for i in range(0,self.n):\n",
    "            if i % 7 ==0:\n",
    "                yield i"
   ]
  },
  {
   "cell_type": "code",
   "execution_count": 14,
   "id": "f24fa9c2",
   "metadata": {},
   "outputs": [],
   "source": [
    "t=Test(100)"
   ]
  },
  {
   "cell_type": "code",
   "execution_count": 15,
   "id": "7b2c41a7",
   "metadata": {},
   "outputs": [],
   "source": [
    "gen=t.generator_func()"
   ]
  },
  {
   "cell_type": "code",
   "execution_count": 16,
   "id": "9d926fbc",
   "metadata": {},
   "outputs": [
    {
     "data": {
      "text/plain": [
       "0"
      ]
     },
     "execution_count": 16,
     "metadata": {},
     "output_type": "execute_result"
    }
   ],
   "source": [
    "next(gen)"
   ]
  },
  {
   "cell_type": "code",
   "execution_count": 17,
   "id": "4a087c0d",
   "metadata": {},
   "outputs": [
    {
     "data": {
      "text/plain": [
       "7"
      ]
     },
     "execution_count": 17,
     "metadata": {},
     "output_type": "execute_result"
    }
   ],
   "source": [
    "next(gen)"
   ]
  },
  {
   "cell_type": "code",
   "execution_count": 18,
   "id": "20618c12",
   "metadata": {},
   "outputs": [
    {
     "data": {
      "text/plain": [
       "14"
      ]
     },
     "execution_count": 18,
     "metadata": {},
     "output_type": "execute_result"
    }
   ],
   "source": [
    "next(gen)"
   ]
  },
  {
   "cell_type": "markdown",
   "id": "2bc8fa26",
   "metadata": {},
   "source": [
    "# Question 2\n",
    "## Write a program to compute the frequency of the words from the input. The output\n",
    "## should output after sorting the key alphanumerically.\n",
    "## Suppose the following input is supplied to the program:\n",
    "## New to Python or choosing between Python 2 and Python 3? Read Python 2 or\n",
    "## Python 3.\n",
    "## Then, the output should be:\n",
    "## 2:2\n",
    "## 3.:1\n",
    "## 3?:1\n",
    "## New:1\n",
    "## Python:5\n",
    "## Read:1\n",
    "## and:1\n",
    "## between:1\n",
    "## choosing:1\n",
    "## or:2\n",
    "## to:1"
   ]
  },
  {
   "cell_type": "code",
   "execution_count": 19,
   "id": "08ee842a",
   "metadata": {},
   "outputs": [
    {
     "name": "stdout",
     "output_type": "stream",
     "text": [
      "New to Python or choosing between Python 2 and Python 3? Read Python 2 or Python 3\n"
     ]
    }
   ],
   "source": [
    "string = [x for x in input().split()]\n"
   ]
  },
  {
   "cell_type": "code",
   "execution_count": 20,
   "id": "7ef1963e",
   "metadata": {},
   "outputs": [
    {
     "data": {
      "text/plain": [
       "['New',\n",
       " 'to',\n",
       " 'Python',\n",
       " 'or',\n",
       " 'choosing',\n",
       " 'between',\n",
       " 'Python',\n",
       " '2',\n",
       " 'and',\n",
       " 'Python',\n",
       " '3?',\n",
       " 'Read',\n",
       " 'Python',\n",
       " '2',\n",
       " 'or',\n",
       " 'Python',\n",
       " '3']"
      ]
     },
     "execution_count": 20,
     "metadata": {},
     "output_type": "execute_result"
    }
   ],
   "source": [
    "string"
   ]
  },
  {
   "cell_type": "code",
   "execution_count": 22,
   "id": "961650bb",
   "metadata": {},
   "outputs": [],
   "source": [
    "dict_={}\n",
    "for i in string:\n",
    "    if i in dict_.keys():\n",
    "        dict_[i]+=1\n",
    "    else:\n",
    "        dict_[i]=1\n",
    "        \n",
    "    "
   ]
  },
  {
   "cell_type": "code",
   "execution_count": 23,
   "id": "2df47851",
   "metadata": {},
   "outputs": [
    {
     "data": {
      "text/plain": [
       "{'New': 1,\n",
       " 'to': 1,\n",
       " 'Python': 5,\n",
       " 'or': 2,\n",
       " 'choosing': 1,\n",
       " 'between': 1,\n",
       " '2': 2,\n",
       " 'and': 1,\n",
       " '3?': 1,\n",
       " 'Read': 1,\n",
       " '3': 1}"
      ]
     },
     "execution_count": 23,
     "metadata": {},
     "output_type": "execute_result"
    }
   ],
   "source": [
    "dict_"
   ]
  },
  {
   "cell_type": "code",
   "execution_count": 25,
   "id": "6443fc81",
   "metadata": {},
   "outputs": [],
   "source": [
    "keys=list(dict_.keys())\n",
    "values=list(dict_.values())"
   ]
  },
  {
   "cell_type": "code",
   "execution_count": 30,
   "id": "4f5dcdc6",
   "metadata": {},
   "outputs": [
    {
     "name": "stdout",
     "output_type": "stream",
     "text": [
      "2:2\n",
      "3:1\n",
      "3?:1\n",
      "New:1\n",
      "Python:5\n",
      "Read:1\n",
      "and:1\n",
      "between:1\n",
      "choosing:1\n",
      "or:2\n",
      "to:1\n"
     ]
    }
   ],
   "source": [
    "for key,value in sorted(zip(keys,values)):\n",
    "    print(f'{key}:{value}')"
   ]
  },
  {
   "cell_type": "markdown",
   "id": "5997e916",
   "metadata": {},
   "source": [
    "# Question 3\n",
    "## Define a class Person and its two child classes: Male and Female. All classes have a\n",
    "## method &quot;getGender&quot; which can print &quot;Male&quot; for Male class and &quot;Female&quot; for Female\n",
    "## class."
   ]
  },
  {
   "cell_type": "code",
   "execution_count": 34,
   "id": "7fdbb1ab",
   "metadata": {},
   "outputs": [],
   "source": [
    "class Person:\n",
    "    def __init__(self,gender):\n",
    "        self.gender=gender\n",
    "        \n",
    "    def getGender(self):\n",
    "        return self.gender\n",
    "    \n",
    "    \n",
    "class Male(Person):\n",
    "    def __init__(self):\n",
    "        super().__init__('Male')\n",
    "    \n",
    "    def getGender(self):\n",
    "        return self.gender\n",
    "    \n",
    "class Female(Person):\n",
    "    def __init__(self):\n",
    "        super().__init__('Female')\n",
    "    \n",
    "    def getGender(self):\n",
    "        return self.gender   \n",
    "    "
   ]
  },
  {
   "cell_type": "code",
   "execution_count": 36,
   "id": "14d113a8",
   "metadata": {},
   "outputs": [
    {
     "data": {
      "text/plain": [
       "'Male'"
      ]
     },
     "execution_count": 36,
     "metadata": {},
     "output_type": "execute_result"
    }
   ],
   "source": [
    "m=Male()\n",
    "m.getGender()"
   ]
  },
  {
   "cell_type": "code",
   "execution_count": 38,
   "id": "90f781e0",
   "metadata": {},
   "outputs": [
    {
     "data": {
      "text/plain": [
       "'Female'"
      ]
     },
     "execution_count": 38,
     "metadata": {},
     "output_type": "execute_result"
    }
   ],
   "source": [
    "f=Female()\n",
    "f.getGender()"
   ]
  },
  {
   "cell_type": "code",
   "execution_count": 40,
   "id": "9668c767",
   "metadata": {},
   "outputs": [
    {
     "data": {
      "text/plain": [
       "'Male'"
      ]
     },
     "execution_count": 40,
     "metadata": {},
     "output_type": "execute_result"
    }
   ],
   "source": [
    "p=Person(gender='Male')\n",
    "p.getGender()"
   ]
  },
  {
   "cell_type": "markdown",
   "id": "d39b5b97",
   "metadata": {},
   "source": [
    "# Question 4\n",
    "## Please write a program to generate all sentences where subject is in [&quot;I&quot;, &quot;You&quot;] and\n",
    "## verb is in [&quot;Play&quot;, &quot;Love&quot;] and the object is in [&quot;Hockey&quot;,&quot;Football&quot;]."
   ]
  },
  {
   "cell_type": "code",
   "execution_count": 42,
   "id": "8a1b0417",
   "metadata": {},
   "outputs": [
    {
     "name": "stdout",
     "output_type": "stream",
     "text": [
      "I  Play  Hockey\n",
      "I  Play  Football\n",
      "I  Love  Hockey\n",
      "I  Love  Football\n",
      "You  Play  Hockey\n",
      "You  Play  Football\n",
      "You  Love  Hockey\n",
      "You  Love  Football\n"
     ]
    }
   ],
   "source": [
    "subjects=[\"I\", \"You\"]\n",
    "verbs=[\"Play\", \"Love\"]\n",
    "objects=[\"Hockey\",\"Football\"]\n",
    "\n",
    "for sub in subjects:\n",
    "    for verb in verbs:\n",
    "        for obj in objects:\n",
    "            print(f'{sub}  {verb}  {obj}')"
   ]
  },
  {
   "cell_type": "markdown",
   "id": "7d8080c6",
   "metadata": {},
   "source": [
    "# Question 5\n",
    "## Please write a program to compress and decompress the string &quot;hello world!hello\n",
    "## world!hello world!hello world!&quot;."
   ]
  },
  {
   "cell_type": "code",
   "execution_count": 44,
   "id": "d81ab56b",
   "metadata": {},
   "outputs": [
    {
     "name": "stdout",
     "output_type": "stream",
     "text": [
      "b'x\\x9c\\xcbH\\xcd\\xc9\\xc9W(\\xcf/\\xcaIQ\\xcc \\x82\\r\\x00\\xbd[\\x11\\xf5'\n",
      "<class 'bytes'>\n",
      "b'hello world!hello world!hello world!hello world!'\n"
     ]
    }
   ],
   "source": [
    "import zlib\n",
    "s = 'hello world!hello world!hello world!hello world!'.encode()\n",
    "t = zlib.compress(s)\n",
    "print(t)\n",
    "print(type(t))\n",
    "print(zlib.decompress(t))"
   ]
  },
  {
   "cell_type": "markdown",
   "id": "a3ca043b",
   "metadata": {},
   "source": [
    "# Question 6\n",
    "## Please write a binary search function which searches an item in a sorted list. The\n",
    "## function should return the index of element to be searched in the list."
   ]
  },
  {
   "cell_type": "code",
   "execution_count": 2,
   "id": "a4ec5634",
   "metadata": {},
   "outputs": [
    {
     "name": "stdout",
     "output_type": "stream",
     "text": [
      "2\n"
     ]
    }
   ],
   "source": [
    "def binary_search(lst, item):\n",
    "    low = 0\n",
    "    high = len(lst) - 1\n",
    "    \n",
    "    while low <= high:\n",
    "        mid = round((low + high) / 2)\n",
    "        \n",
    "        if a[mid] == item:\n",
    "            return mid\n",
    "        elif a[mid] > item:\n",
    "            high = mid - 1\n",
    "        else:\n",
    "            low = mid + 1\n",
    "    return None\n",
    "    \n",
    "a = [1,3,5,7,]\n",
    "print(binary_search(a, 5)) "
   ]
  }
 ],
 "metadata": {
  "kernelspec": {
   "display_name": "Python 3 (ipykernel)",
   "language": "python",
   "name": "python3"
  },
  "language_info": {
   "codemirror_mode": {
    "name": "ipython",
    "version": 3
   },
   "file_extension": ".py",
   "mimetype": "text/x-python",
   "name": "python",
   "nbconvert_exporter": "python",
   "pygments_lexer": "ipython3",
   "version": "3.9.12"
  }
 },
 "nbformat": 4,
 "nbformat_minor": 5
}
