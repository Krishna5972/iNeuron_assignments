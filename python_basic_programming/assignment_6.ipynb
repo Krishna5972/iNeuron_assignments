{
 "cells": [
  {
   "cell_type": "markdown",
   "id": "9d804f63",
   "metadata": {},
   "source": [
    "# Question 1\n",
    "### Write a Python Program to Display Fibonacci Sequence Using Recursion?"
   ]
  },
  {
   "cell_type": "code",
   "execution_count": 4,
   "id": "d71e6c1d",
   "metadata": {},
   "outputs": [
    {
     "name": "stdout",
     "output_type": "stream",
     "text": [
      "Number of terms to be printed10\n",
      "0\n",
      "1\n",
      "1\n",
      "2\n",
      "3\n",
      "5\n",
      "8\n",
      "13\n",
      "21\n",
      "34\n"
     ]
    }
   ],
   "source": [
    "def fib_rec(n):\n",
    "    if n <= 1:\n",
    "        return n\n",
    "    else:\n",
    "        return(fib_rec(n-1) + fib_rec(n-2))\n",
    "\n",
    "n=int(input(\"Number of terms to be printed\"))\n",
    "\n",
    "for i in range(n):\n",
    "    print(fib_rec(i))"
   ]
  },
  {
   "cell_type": "markdown",
   "id": "991e3976",
   "metadata": {},
   "source": [
    "# Question 2\n",
    "### Write a Python Program to Find Factorial of Number Using Recursion?"
   ]
  },
  {
   "cell_type": "code",
   "execution_count": 3,
   "id": "d81348b1",
   "metadata": {},
   "outputs": [],
   "source": [
    "def rec_fact(x):\n",
    "    if x <= 1:\n",
    "        return 1\n",
    "    else:\n",
    "        return x * rec_fact(x-1)"
   ]
  },
  {
   "cell_type": "code",
   "execution_count": 4,
   "id": "afc8c93d",
   "metadata": {},
   "outputs": [
    {
     "data": {
      "text/plain": [
       "120"
      ]
     },
     "execution_count": 4,
     "metadata": {},
     "output_type": "execute_result"
    }
   ],
   "source": [
    "rec_fact(5)"
   ]
  },
  {
   "cell_type": "markdown",
   "id": "4e1001fd",
   "metadata": {},
   "source": [
    "# Question 3\n",
    "### Write a Python Program to calculate your Body Mass Index?"
   ]
  },
  {
   "cell_type": "code",
   "execution_count": 11,
   "id": "57219bc9",
   "metadata": {},
   "outputs": [
    {
     "name": "stdout",
     "output_type": "stream",
     "text": [
      "Enter the weight in kgs68\n",
      "Enter the height in meters1.65\n",
      "BMI for weight 68 and height 1.65 : 24.977043158861342\n"
     ]
    }
   ],
   "source": [
    "#bmi =weight (kg) / [height (m)]2\n",
    "weight=int(input('Enter the weight in kgs'))\n",
    "height=float(input('Enter the height in meters'))\n",
    "bmi=weight/(height ** 2)\n",
    "print(f'BMI for weight {weight} and height {height} : {bmi}')"
   ]
  },
  {
   "cell_type": "code",
   "execution_count": 6,
   "id": "9388f55a",
   "metadata": {},
   "outputs": [],
   "source": [
    "# BMI formula reference :https://www.cdc.gov/healthyweight/assessing/bmi/adult_bmi/index.html#:~:text=With%20the%20metric%20system%2C%20the,to%20obtain%20height%20in%20meters."
   ]
  },
  {
   "cell_type": "markdown",
   "id": "90daf78a",
   "metadata": {},
   "source": [
    "# Question 4\n",
    "### Write a Python Program to calculate the natural logarithm of any number?"
   ]
  },
  {
   "cell_type": "code",
   "execution_count": 14,
   "id": "242d01ac",
   "metadata": {},
   "outputs": [],
   "source": [
    "# math.log can be used to find natural logarithm of any number\n",
    "import math\n",
    "def log(x):\n",
    "    print(f'natural logarithm of {x} : {round(math.log(x),3)}')"
   ]
  },
  {
   "cell_type": "code",
   "execution_count": 15,
   "id": "3d8f0b18",
   "metadata": {},
   "outputs": [
    {
     "name": "stdout",
     "output_type": "stream",
     "text": [
      "natural logarithm of 100 : 4.605\n"
     ]
    }
   ],
   "source": [
    "log(100)"
   ]
  },
  {
   "cell_type": "markdown",
   "id": "69227af3",
   "metadata": {},
   "source": [
    "# Question 5\n",
    "### Write a Python Program for cube sum of first n natural numbers?"
   ]
  },
  {
   "cell_type": "code",
   "execution_count": 16,
   "id": "520a0002",
   "metadata": {},
   "outputs": [],
   "source": [
    "#The formula to find the sum of cubes of n natural numbers is S = [n2 (n + 1)2]/4,\n",
    "\n",
    "def cube_sum(n):\n",
    "    return ((n**2)*((n+1)**2))/4\n",
    "        "
   ]
  },
  {
   "cell_type": "code",
   "execution_count": 18,
   "id": "6274650e",
   "metadata": {},
   "outputs": [
    {
     "data": {
      "text/plain": [
       "3025.0"
      ]
     },
     "execution_count": 18,
     "metadata": {},
     "output_type": "execute_result"
    }
   ],
   "source": [
    "cube_sum(10)"
   ]
  }
 ],
 "metadata": {
  "kernelspec": {
   "display_name": "Python 3 (ipykernel)",
   "language": "python",
   "name": "python3"
  },
  "language_info": {
   "codemirror_mode": {
    "name": "ipython",
    "version": 3
   },
   "file_extension": ".py",
   "mimetype": "text/x-python",
   "name": "python",
   "nbconvert_exporter": "python",
   "pygments_lexer": "ipython3",
   "version": "3.9.12"
  }
 },
 "nbformat": 4,
 "nbformat_minor": 5
}
