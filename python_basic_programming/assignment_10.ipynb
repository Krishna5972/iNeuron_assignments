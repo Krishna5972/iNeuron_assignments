{
 "cells": [
  {
   "cell_type": "markdown",
   "id": "f265ef63",
   "metadata": {},
   "source": [
    "# Question 1\n",
    "## Write a Python program to find sum of elements in list?"
   ]
  },
  {
   "cell_type": "code",
   "execution_count": 2,
   "id": "e7012cfd",
   "metadata": {},
   "outputs": [
    {
     "data": {
      "text/plain": [
       "55"
      ]
     },
     "execution_count": 2,
     "metadata": {},
     "output_type": "execute_result"
    }
   ],
   "source": [
    "a=[1,2,3,4,5,6,7,8,9,10]\n",
    "sum(a)"
   ]
  },
  {
   "cell_type": "markdown",
   "id": "faa2ae15",
   "metadata": {},
   "source": [
    "# Question 2\n",
    "## Write a Python program to Multiply all numbers in the list?"
   ]
  },
  {
   "cell_type": "code",
   "execution_count": 3,
   "id": "7bb90b52",
   "metadata": {},
   "outputs": [
    {
     "data": {
      "text/plain": [
       "3628800"
      ]
     },
     "execution_count": 3,
     "metadata": {},
     "output_type": "execute_result"
    }
   ],
   "source": [
    "mul=1\n",
    "for i in a:\n",
    "    mul*=i\n",
    "mul"
   ]
  },
  {
   "cell_type": "markdown",
   "id": "f3e8642e",
   "metadata": {},
   "source": [
    "# Question 3\n",
    "## Write a Python program to find smallest number in a list?"
   ]
  },
  {
   "cell_type": "code",
   "execution_count": 4,
   "id": "8805406a",
   "metadata": {},
   "outputs": [
    {
     "data": {
      "text/plain": [
       "1"
      ]
     },
     "execution_count": 4,
     "metadata": {},
     "output_type": "execute_result"
    }
   ],
   "source": [
    "min(a)"
   ]
  },
  {
   "cell_type": "code",
   "execution_count": 5,
   "id": "cbf2b490",
   "metadata": {},
   "outputs": [
    {
     "data": {
      "text/plain": [
       "1"
      ]
     },
     "execution_count": 5,
     "metadata": {},
     "output_type": "execute_result"
    }
   ],
   "source": [
    "min_=a[0]\n",
    "for i in a:\n",
    "    if i < min_:\n",
    "        min_=i\n",
    "min_"
   ]
  },
  {
   "cell_type": "markdown",
   "id": "0ef9789e",
   "metadata": {},
   "source": [
    "# Question 4\n",
    "## Write a Python program to find largest number in a list?"
   ]
  },
  {
   "cell_type": "code",
   "execution_count": 6,
   "id": "f2f85d93",
   "metadata": {},
   "outputs": [
    {
     "data": {
      "text/plain": [
       "10"
      ]
     },
     "execution_count": 6,
     "metadata": {},
     "output_type": "execute_result"
    }
   ],
   "source": [
    "max(a)"
   ]
  },
  {
   "cell_type": "code",
   "execution_count": 7,
   "id": "2611198b",
   "metadata": {},
   "outputs": [
    {
     "data": {
      "text/plain": [
       "10"
      ]
     },
     "execution_count": 7,
     "metadata": {},
     "output_type": "execute_result"
    }
   ],
   "source": [
    "max_=a[0]\n",
    "for i in a:\n",
    "    if i > max_:\n",
    "        max_=i\n",
    "max_"
   ]
  },
  {
   "cell_type": "markdown",
   "id": "23377e48",
   "metadata": {},
   "source": [
    "# Question 5\n",
    "## Write a Python program to find second largest number in a list?"
   ]
  },
  {
   "cell_type": "code",
   "execution_count": 8,
   "id": "d3826f63",
   "metadata": {},
   "outputs": [
    {
     "data": {
      "text/plain": [
       "9"
      ]
     },
     "execution_count": 8,
     "metadata": {},
     "output_type": "execute_result"
    }
   ],
   "source": [
    "max_=a[0]\n",
    "max_1=a[0]\n",
    "for i in a:\n",
    "    if i > max_:\n",
    "        max_1=max_\n",
    "        max_=i\n",
    "\n",
    "max_1"
   ]
  },
  {
   "cell_type": "markdown",
   "id": "2b5ca51b",
   "metadata": {},
   "source": [
    "# Question 6\n",
    "## Write a Python program to find N largest elements from a list?"
   ]
  },
  {
   "cell_type": "code",
   "execution_count": 9,
   "id": "e98096ed",
   "metadata": {},
   "outputs": [
    {
     "name": "stdout",
     "output_type": "stream",
     "text": [
      "Enter the n to find n largest elements from a list5\n"
     ]
    },
    {
     "data": {
      "text/plain": [
       "[6, 5, 4, 3, 2, 1]"
      ]
     },
     "execution_count": 9,
     "metadata": {},
     "output_type": "execute_result"
    }
   ],
   "source": [
    "a.sort()\n",
    "n=int(input('Enter the n to find n largest elements from a list'))\n",
    "a[n::-1]"
   ]
  },
  {
   "cell_type": "markdown",
   "id": "d363b1d6",
   "metadata": {},
   "source": [
    "# Question 7\n",
    "## Write a Python program to print even numbers in a list?"
   ]
  },
  {
   "cell_type": "code",
   "execution_count": 10,
   "id": "31081c85",
   "metadata": {},
   "outputs": [
    {
     "name": "stdout",
     "output_type": "stream",
     "text": [
      "2\n",
      "4\n",
      "6\n",
      "8\n",
      "10\n"
     ]
    }
   ],
   "source": [
    "for i in a:\n",
    "    if i%2==0:\n",
    "        print(i)"
   ]
  },
  {
   "cell_type": "markdown",
   "id": "76d353cd",
   "metadata": {},
   "source": [
    "# Question 8\n",
    "## Write a Python program to print odd numbers in a List?"
   ]
  },
  {
   "cell_type": "code",
   "execution_count": 11,
   "id": "0503db59",
   "metadata": {},
   "outputs": [
    {
     "name": "stdout",
     "output_type": "stream",
     "text": [
      "1\n",
      "3\n",
      "5\n",
      "7\n",
      "9\n"
     ]
    }
   ],
   "source": [
    "for i in a:\n",
    "    if i%2!=0:\n",
    "        print(i)"
   ]
  },
  {
   "cell_type": "markdown",
   "id": "3bc04fa8",
   "metadata": {},
   "source": [
    "# Question 9\n",
    "## Write a Python program to Remove empty List from List?"
   ]
  },
  {
   "cell_type": "code",
   "execution_count": 19,
   "id": "424ea092",
   "metadata": {},
   "outputs": [
    {
     "data": {
      "text/plain": [
       "[1, 2, 3, [5, 6]]"
      ]
     },
     "execution_count": 19,
     "metadata": {},
     "output_type": "execute_result"
    }
   ],
   "source": [
    "new_list=[1,2,3,[5,6],[]]\n",
    "for idx,i in enumerate(new_list):\n",
    "    if type(i)==list:\n",
    "        if len(i)==0:\n",
    "            del new_list[idx]\n",
    "new_list"
   ]
  },
  {
   "cell_type": "markdown",
   "id": "267111b0",
   "metadata": {},
   "source": [
    "# Question 10\n",
    "## Write a Python program to Cloning or Copying a list?"
   ]
  },
  {
   "cell_type": "code",
   "execution_count": 20,
   "id": "53a14683",
   "metadata": {},
   "outputs": [],
   "source": [
    "a=[5,4,6]\n",
    "a_copy=a[::]"
   ]
  },
  {
   "cell_type": "code",
   "execution_count": 21,
   "id": "dc31b5b3",
   "metadata": {},
   "outputs": [
    {
     "data": {
      "text/plain": [
       "2978143302848"
      ]
     },
     "execution_count": 21,
     "metadata": {},
     "output_type": "execute_result"
    }
   ],
   "source": [
    "id(a)"
   ]
  },
  {
   "cell_type": "code",
   "execution_count": 22,
   "id": "15094f8c",
   "metadata": {},
   "outputs": [
    {
     "data": {
      "text/plain": [
       "2978143215424"
      ]
     },
     "execution_count": 22,
     "metadata": {},
     "output_type": "execute_result"
    }
   ],
   "source": [
    "id(a_copy)"
   ]
  },
  {
   "cell_type": "markdown",
   "id": "393cccf3",
   "metadata": {},
   "source": [
    "# Question 11\n",
    "## Write a Python program to Count occurrences of an element in a list?"
   ]
  },
  {
   "cell_type": "code",
   "execution_count": 26,
   "id": "cd801637",
   "metadata": {},
   "outputs": [],
   "source": [
    "a=[56,7,8,24,68,48,0,56,56,7,56,24,56,56]\n",
    "dict_count={}\n",
    "for i in a:\n",
    "    if i not in dict_count.keys():\n",
    "        dict_count[i]=1\n",
    "    else:\n",
    "        dict_count[i]+=1"
   ]
  },
  {
   "cell_type": "code",
   "execution_count": 27,
   "id": "422b5459",
   "metadata": {},
   "outputs": [
    {
     "data": {
      "text/plain": [
       "{56: 6, 7: 2, 8: 1, 24: 2, 68: 1, 48: 1, 0: 1}"
      ]
     },
     "execution_count": 27,
     "metadata": {},
     "output_type": "execute_result"
    }
   ],
   "source": [
    "dict_count"
   ]
  },
  {
   "cell_type": "code",
   "execution_count": 28,
   "id": "0c5a0e15",
   "metadata": {},
   "outputs": [
    {
     "data": {
      "text/plain": [
       "6"
      ]
     },
     "execution_count": 28,
     "metadata": {},
     "output_type": "execute_result"
    }
   ],
   "source": [
    "dict_count[56]"
   ]
  }
 ],
 "metadata": {
  "kernelspec": {
   "display_name": "Python 3 (ipykernel)",
   "language": "python",
   "name": "python3"
  },
  "language_info": {
   "codemirror_mode": {
    "name": "ipython",
    "version": 3
   },
   "file_extension": ".py",
   "mimetype": "text/x-python",
   "name": "python",
   "nbconvert_exporter": "python",
   "pygments_lexer": "ipython3",
   "version": "3.9.12"
  }
 },
 "nbformat": 4,
 "nbformat_minor": 5
}
