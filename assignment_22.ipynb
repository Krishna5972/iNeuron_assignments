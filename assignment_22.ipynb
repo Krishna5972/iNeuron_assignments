{
 "cells": [
  {
   "cell_type": "markdown",
   "id": "7823418d",
   "metadata": {},
   "source": [
    "# Question 1\n",
    "##  What is the result of the code, and explain?"
   ]
  },
  {
   "cell_type": "code",
   "execution_count": 2,
   "id": "64a1d601",
   "metadata": {},
   "outputs": [
    {
     "name": "stdout",
     "output_type": "stream",
     "text": [
      "iNeuron\n"
     ]
    }
   ],
   "source": [
    "X = 'iNeuron'\n",
    "def func():\n",
    "    print(X)\n",
    "\n",
    "func()\n"
   ]
  },
  {
   "cell_type": "markdown",
   "id": "aa9bd503",
   "metadata": {},
   "source": [
    "On function call, the result will be 'iNeuron' as the variable 'x' has global scope, we need not pass it expilicitly"
   ]
  },
  {
   "cell_type": "markdown",
   "id": "2e327f03",
   "metadata": {},
   "source": [
    "# Question 2\n",
    "##  What is the result of the code, and explain?"
   ]
  },
  {
   "cell_type": "code",
   "execution_count": 5,
   "id": "9eeee502",
   "metadata": {},
   "outputs": [
    {
     "name": "stdout",
     "output_type": "stream",
     "text": [
      "iNeuron\n"
     ]
    }
   ],
   "source": [
    "X = 'iNeuron'\n",
    "def func():\n",
    "    X = 'NI!'\n",
    "\n",
    "\n",
    "func()\n",
    "print(X)\n"
   ]
  },
  {
   "cell_type": "markdown",
   "id": "a2bdf106",
   "metadata": {},
   "source": [
    "Even on the function call the 'X' value is not changed because the function creates a new local variable 'X' and will changes to it, but the global variable 'X' which is assigned with 'iNeuron' will remain unchanged."
   ]
  },
  {
   "cell_type": "markdown",
   "id": "48c7da44",
   "metadata": {},
   "source": [
    "# Question 3\n",
    "##  What does this code print, and why?"
   ]
  },
  {
   "cell_type": "code",
   "execution_count": 7,
   "id": "1a2148c1",
   "metadata": {},
   "outputs": [
    {
     "name": "stdout",
     "output_type": "stream",
     "text": [
      "NI\n",
      "iNeuron\n"
     ]
    }
   ],
   "source": [
    "X = 'iNeuron'\n",
    "def func():\n",
    "    X = 'NI'\n",
    "    print(X)\n",
    "\n",
    "\n",
    "func()\n",
    "print(X)\n"
   ]
  },
  {
   "cell_type": "markdown",
   "id": "6848c4be",
   "metadata": {},
   "source": [
    "'X' value is changed for the local scope from 'iNeuron' to 'NI' and it prints 'NI' for the local 'print' statement, once the flow exits the local scope, the X value remains unchanged."
   ]
  },
  {
   "cell_type": "markdown",
   "id": "f7ccee69",
   "metadata": {},
   "source": [
    "# Question 4\n",
    "##  What output does this code produce? Why?"
   ]
  },
  {
   "cell_type": "code",
   "execution_count": 8,
   "id": "c8f951fd",
   "metadata": {},
   "outputs": [
    {
     "name": "stdout",
     "output_type": "stream",
     "text": [
      "NI\n"
     ]
    }
   ],
   "source": [
    "X = 'iNeuron'\n",
    "def func():\n",
    "    global X\n",
    "    X = 'NI'\n",
    "\n",
    "\n",
    "func()\n",
    "print(X)\n"
   ]
  },
  {
   "cell_type": "markdown",
   "id": "4ef9b743",
   "metadata": {},
   "source": [
    "Due to usage of keyword 'global' instead of creating a new local variable in the function,global X value is changed"
   ]
  },
  {
   "cell_type": "markdown",
   "id": "7666b7f6",
   "metadata": {},
   "source": [
    "# Question 5\n",
    "##  What output does this code produce? Why?"
   ]
  },
  {
   "cell_type": "code",
   "execution_count": 13,
   "id": "06398696",
   "metadata": {},
   "outputs": [
    {
     "name": "stdout",
     "output_type": "stream",
     "text": [
      "iNeuron\n"
     ]
    },
    {
     "data": {
      "text/plain": [
       "'iNeuron'"
      ]
     },
     "execution_count": 13,
     "metadata": {},
     "output_type": "execute_result"
    }
   ],
   "source": [
    "X = 'iNeuron'\n",
    "def func():\n",
    "    X = 'NI'\n",
    "def nested():\n",
    "    print(X)\n",
    "nested()\n",
    "\n",
    "func()\n",
    "X\n"
   ]
  },
  {
   "cell_type": "markdown",
   "id": "c3dc7ec8",
   "metadata": {},
   "source": [
    "func() literally dosent do anything except for create a new local variable 'X' and assigning it some value,which will clean once the flow exits the function, nested() prints the global 'X' value ,as we dont need any 'global' keyword for reading the value of global variable from local scope."
   ]
  },
  {
   "cell_type": "markdown",
   "id": "92b7c077",
   "metadata": {},
   "source": [
    "# Question 6\n",
    "##  How about this code: what is its output in Python 3, and explain?"
   ]
  },
  {
   "cell_type": "code",
   "execution_count": 18,
   "id": "faa6199c",
   "metadata": {},
   "outputs": [
    {
     "ename": "SyntaxError",
     "evalue": "no binding for nonlocal 'X' found (1434848660.py, line 4)",
     "output_type": "error",
     "traceback": [
      "\u001b[1;36m  Input \u001b[1;32mIn [18]\u001b[1;36m\u001b[0m\n\u001b[1;33m    nonlocal X\u001b[0m\n\u001b[1;37m    ^\u001b[0m\n\u001b[1;31mSyntaxError\u001b[0m\u001b[1;31m:\u001b[0m no binding for nonlocal 'X' found\n"
     ]
    }
   ],
   "source": [
    "def func():\n",
    "    X = 'NI'\n",
    "def nested():\n",
    "    nonlocal X\n",
    "    X = 'Spam'\n",
    "nested()\n",
    "print(X)\n",
    "\n",
    "func()\n"
   ]
  },
  {
   "cell_type": "markdown",
   "id": "c90969b0",
   "metadata": {},
   "source": [
    "This code returns a SyntaxError because 'nonlocal' keyword can only be used in nested functions for it to bind to a local scoped variable as this is not the case in the above code, it is returning a Syntax Error"
   ]
  },
  {
   "cell_type": "code",
   "execution_count": null,
   "id": "d2f63793",
   "metadata": {},
   "outputs": [],
   "source": []
  }
 ],
 "metadata": {
  "kernelspec": {
   "display_name": "Python 3 (ipykernel)",
   "language": "python",
   "name": "python3"
  },
  "language_info": {
   "codemirror_mode": {
    "name": "ipython",
    "version": 3
   },
   "file_extension": ".py",
   "mimetype": "text/x-python",
   "name": "python",
   "nbconvert_exporter": "python",
   "pygments_lexer": "ipython3",
   "version": "3.9.12"
  }
 },
 "nbformat": 4,
 "nbformat_minor": 5
}
