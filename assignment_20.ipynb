{
 "cells": [
  {
   "cell_type": "markdown",
   "id": "386daaec",
   "metadata": {},
   "source": [
    "# Question 1\n",
    "## Set the variable test1 to the string 'This is a test of the emergency text system,' and save test1 to a file named test.txt."
   ]
  },
  {
   "cell_type": "code",
   "execution_count": 1,
   "id": "b2ea1a96",
   "metadata": {},
   "outputs": [],
   "source": [
    "test1='This is a test of the emergency text system'\n",
    "f=open('data/test_20.txt','w+')\n",
    "f.write(test1)\n",
    "f.close()"
   ]
  },
  {
   "cell_type": "markdown",
   "id": "c50ec142",
   "metadata": {},
   "source": [
    "# Question 2\n",
    "## Read the contents of the file test.txt into the variable test2. Is there a difference between test 1 and test 2?"
   ]
  },
  {
   "cell_type": "code",
   "execution_count": 2,
   "id": "fc90e1d4",
   "metadata": {},
   "outputs": [
    {
     "name": "stdout",
     "output_type": "stream",
     "text": [
      "This is a test of the emergency text system\n"
     ]
    }
   ],
   "source": [
    "f=open('data/test_20.txt','r')\n",
    "test2=f.read()\n",
    "print(test2)\n",
    "f.close()"
   ]
  },
  {
   "cell_type": "markdown",
   "id": "ff8f966a",
   "metadata": {},
   "source": [
    "There is no difference between test 1 and test 2"
   ]
  },
  {
   "cell_type": "markdown",
   "id": "41015236",
   "metadata": {},
   "source": [
    "# Question 3\n",
    "## Create a CSV file called books.csv by using these lines:\n",
    "title,author,year <br>\n",
    "The Weirdstone of Brisingamen,Alan Garner,1960 <br>\n",
    "Perdido Street Station,China Miéville,2000 <br>\n",
    "Thud!,Terry Pratchett,2005 <br> \n",
    "The Spellman Files,Lisa Lutz,2007 <br>\n",
    "Small Gods,Terry Pratchett,1992 <br>\n"
   ]
  },
  {
   "cell_type": "code",
   "execution_count": 3,
   "id": "24b9127d",
   "metadata": {},
   "outputs": [],
   "source": [
    "import csv\n",
    "header=['title','author','year']\n",
    "data='''The Weirdstone of Brisingamen,Alan Garner,1960\n",
    "Perdido Street Station,China Miéville,2000\n",
    "Thud!,Terry Pratchett,2005\n",
    "The Spellman Files,Lisa Lutz,2007\n",
    "Small Gods,Terry Pratchett,1992'''\n",
    "with open('data/books.csv','w+',newline='',encoding='UTF8') as f:\n",
    "    writer=csv.writer(f)\n",
    "    writer.writerow(header)\n",
    "    for i in data.split('\\n'):\n",
    "        writer.writerow(i.split(','))\n",
    "        \n",
    "    \n",
    "    "
   ]
  },
  {
   "cell_type": "markdown",
   "id": "feda0047",
   "metadata": {},
   "source": [
    "# Question 4\n",
    "## Use the sqlite3 module to create a SQLite database called books.db, and a table called books with these fields: title (text), author (text), and year (integer)."
   ]
  },
  {
   "cell_type": "code",
   "execution_count": 4,
   "id": "05cc940a",
   "metadata": {},
   "outputs": [],
   "source": [
    "import sqlite3\n",
    "db = sqlite3.connect('data/test.db')\n",
    "cursor = db.cursor()\n",
    "cursor.execute('CREATE TABLE IF NOT EXISTS books(title TEXT PRIMARY KEY,author TEXT,year TEXT)')\n",
    "db.commit()\n",
    "db.close()\n"
   ]
  },
  {
   "cell_type": "code",
   "execution_count": 5,
   "id": "06a1f4a2",
   "metadata": {},
   "outputs": [
    {
     "name": "stdout",
     "output_type": "stream",
     "text": [
      "('books',)\n"
     ]
    }
   ],
   "source": [
    "con = sqlite3.connect('data/test.db')\n",
    "cursor = con.cursor()\n",
    "res=cursor.execute('SELECT name from sqlite_master where type= \"table\"')\n",
    "for i in res:\n",
    "    print(i)\n",
    "db.close()"
   ]
  },
  {
   "cell_type": "markdown",
   "id": "75545497",
   "metadata": {},
   "source": [
    "# Question 5\n",
    "## Read books.csv and insert its data into the book table."
   ]
  },
  {
   "cell_type": "code",
   "execution_count": 6,
   "id": "4d0aec0a",
   "metadata": {},
   "outputs": [],
   "source": [
    "import pandas as pd\n",
    "df=pd.read_csv('data/books.csv')\n",
    "con = sqlite3.connect('data/test.db')\n",
    "df.to_sql('books',if_exists = 'replace',index=False,con=con)\n",
    "db.close()"
   ]
  },
  {
   "cell_type": "markdown",
   "id": "808e6012",
   "metadata": {},
   "source": [
    "# Question 6\n",
    "## Select and print the title column from the book table in alphabetical order."
   ]
  },
  {
   "cell_type": "code",
   "execution_count": 7,
   "id": "76cadbe7",
   "metadata": {},
   "outputs": [
    {
     "name": "stdout",
     "output_type": "stream",
     "text": [
      "('Perdido Street Station',)\n",
      "('Small Gods',)\n",
      "('The Spellman Files',)\n",
      "('The Weirdstone of Brisingamen',)\n",
      "('Thud!',)\n"
     ]
    }
   ],
   "source": [
    "con=sqlite3.connect('data/test.db')\n",
    "cursor=con.cursor()\n",
    "query='Select title from books ORDER BY title ASC'\n",
    "res=cursor.execute(query)\n",
    "for row in res:\n",
    "    print(row)\n",
    "con.close()"
   ]
  },
  {
   "cell_type": "markdown",
   "id": "7c82ed6a",
   "metadata": {},
   "source": [
    "# Question 7\n",
    "##  From the book table, select and print all columns in the order of publication."
   ]
  },
  {
   "cell_type": "code",
   "execution_count": 8,
   "id": "0e56de99",
   "metadata": {},
   "outputs": [
    {
     "name": "stdout",
     "output_type": "stream",
     "text": [
      "('The Weirdstone of Brisingamen', 'Alan Garner', 1960)\n",
      "('Small Gods', 'Terry Pratchett', 1992)\n",
      "('Perdido Street Station', 'China Miéville', 2000)\n",
      "('Thud!', 'Terry Pratchett', 2005)\n",
      "('The Spellman Files', 'Lisa Lutz', 2007)\n"
     ]
    }
   ],
   "source": [
    "con=sqlite3.connect('data/test.db')\n",
    "cursor=con.cursor()\n",
    "query='select * from books ORDER BY year ASC'\n",
    "res=cursor.execute(query)\n",
    "for row in res:\n",
    "    print(row)\n",
    "con.close()"
   ]
  },
  {
   "cell_type": "markdown",
   "id": "2522c7e4",
   "metadata": {},
   "source": [
    "# Question 8\n",
    "## Use the sqlalchemy module to connect to the sqlite3 database books.db that you just made in exercise 6."
   ]
  },
  {
   "cell_type": "code",
   "execution_count": 31,
   "id": "f28ac9da",
   "metadata": {},
   "outputs": [
    {
     "name": "stdout",
     "output_type": "stream",
     "text": [
      "('The Weirdstone of Brisingamen', 'Alan Garner', 1960)\n",
      "('Perdido Street Station', 'China Miéville', 2000)\n",
      "('Thud!', 'Terry Pratchett', 2005)\n",
      "('The Spellman Files', 'Lisa Lutz', 2007)\n",
      "('Small Gods', 'Terry Pratchett', 1992)\n"
     ]
    }
   ],
   "source": [
    "import sqlalchemy\n",
    "engine=sqlalchemy.create_engine('sqlite:///data/test.db')\n",
    "res=engine.execute('select * from books')\n",
    "for row in res.fetchall():\n",
    "    print(row)"
   ]
  },
  {
   "cell_type": "markdown",
   "id": "c15b175f",
   "metadata": {},
   "source": [
    "# Question 9\n",
    "## Install the Redis server and the Python redis library (pip install redis) on your computer. Create a Redis hash called test with the fields count (1) and name ('Fester Bestertester'). Print all the fields for test."
   ]
  },
  {
   "cell_type": "code",
   "execution_count": 32,
   "id": "e5b4be4b",
   "metadata": {},
   "outputs": [
    {
     "name": "stdout",
     "output_type": "stream",
     "text": [
      "Collecting redis\n",
      "  Downloading redis-4.3.1-py3-none-any.whl (241 kB)\n",
      "     -------------------------------------- 241.2/241.2 KB 1.8 MB/s eta 0:00:00\n",
      "Collecting deprecated>=1.2.3\n",
      "  Downloading Deprecated-1.2.13-py2.py3-none-any.whl (9.6 kB)\n",
      "Requirement already satisfied: packaging>=20.4 in c:\\users\\krishna\\anaconda3\\lib\\site-packages (from redis) (21.3)\n",
      "Requirement already satisfied: async-timeout>=4.0.2 in c:\\users\\krishna\\anaconda3\\lib\\site-packages (from redis) (4.0.2)\n",
      "Requirement already satisfied: wrapt<2,>=1.10 in c:\\users\\krishna\\anaconda3\\lib\\site-packages (from deprecated>=1.2.3->redis) (1.12.1)\n",
      "Requirement already satisfied: pyparsing!=3.0.5,>=2.0.2 in c:\\users\\krishna\\anaconda3\\lib\\site-packages (from packaging>=20.4->redis) (3.0.4)\n",
      "Installing collected packages: deprecated, redis\n",
      "Successfully installed deprecated-1.2.13 redis-4.3.1\n",
      "Note: you may need to restart the kernel to use updated packages.\n"
     ]
    },
    {
     "name": "stderr",
     "output_type": "stream",
     "text": [
      "WARNING: You are using pip version 22.0.4; however, version 22.1 is available.\n",
      "You should consider upgrading via the 'C:\\Users\\krishna\\anaconda3\\python.exe -m pip install --upgrade pip' command.\n"
     ]
    }
   ],
   "source": [
    "pip install redis"
   ]
  },
  {
   "cell_type": "code",
   "execution_count": null,
   "id": "ebe516ff",
   "metadata": {},
   "outputs": [],
   "source": [
    "#need to install redis server locally to run this cell on port 6379\n",
    "from redis import Redis\n",
    "con=Redis()\n",
    "con.hset('test',{'count':1,'name':'Fester Bestertester'})"
   ]
  },
  {
   "cell_type": "markdown",
   "id": "be62c093",
   "metadata": {},
   "source": [
    "Reference: https://www.tutorialspoint.com/redis/redis_hashes.htm"
   ]
  },
  {
   "cell_type": "markdown",
   "id": "c7246026",
   "metadata": {},
   "source": [
    "# Question 10\n",
    "## Increment the count field of test and print it."
   ]
  },
  {
   "cell_type": "code",
   "execution_count": null,
   "id": "cf809637",
   "metadata": {},
   "outputs": [],
   "source": [
    "conn.hincrby('test1','count', 10)"
   ]
  },
  {
   "cell_type": "markdown",
   "id": "624f8c7b",
   "metadata": {},
   "source": []
  }
 ],
 "metadata": {
  "kernelspec": {
   "display_name": "Python 3 (ipykernel)",
   "language": "python",
   "name": "python3"
  },
  "language_info": {
   "codemirror_mode": {
    "name": "ipython",
    "version": 3
   },
   "file_extension": ".py",
   "mimetype": "text/x-python",
   "name": "python",
   "nbconvert_exporter": "python",
   "pygments_lexer": "ipython3",
   "version": "3.9.12"
  }
 },
 "nbformat": 4,
 "nbformat_minor": 5
}
